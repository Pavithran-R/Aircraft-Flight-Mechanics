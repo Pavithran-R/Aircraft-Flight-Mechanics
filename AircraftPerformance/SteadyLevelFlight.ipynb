{
 "cells": [
  {
   "cell_type": "markdown",
   "metadata": {},
   "source": [
    "# Forces in Steady Level Flight"
   ]
  },
  {
   "cell_type": "markdown",
   "metadata": {},
   "source": [
    "The discipline of Aircraft Flight Mechanics requires the formulation of relationships between aircraft forces, and aircraft motion. In order to define *motion*, it was necessary to define the different airspeeds in the preceding section.\n",
    "\n",
    "Aircraft have six degrees of freedom - three translational ($x, y, z$), and three rotational ($\\phi, \\theta, \\psi$), and in order to develop the expressions describing aicraft flight, *nine* coupled equations are required. This course will get to that point, and those equations will derived and utilised - but before that, some really handy relationships can be defined for flight constrained to a single direction.\n",
    "\n",
    "The simplest flight regime is best to start with, which is steady, level (meaning no change in altitude) flight.\n",
    "\n",
    "```{admonition} A word about SLUF... \n",
    ":class: dropdown \n",
    "\n",
    "Sometimes you may see this flight regime caled SLUF, standing for **S**teady **L**evel **U**naccellerated **F**light. I don't particularly like this acronym as:\n",
    "- Steady *means* unaccelerated, so it's tautologous\n",
    "- There's another, arguably better [definition for SLUF](https://en.wiktionary.org/wiki/SLUF)\n",
    "\n",
    "```\n",
    "\n",
    "\n",
    "Let's explore what this regime means, and the assumptions we make\n",
    "\n",
    "-   We assume that the aircraft is a **point mass**, whereby we assume that the aircraft dimensions are negligible when compared to the dimensions of motion.\n",
    "\n",
    "-   **Steady** flight means no acceleration, so we can infer from Newton's first law that the sum of forces acting on the aircraft is zero $\\sum\\vec{F}=0$ . This is the **equilibrium steady flight condition**.\n",
    "\n",
    "The definition of forces on the aircraft can change depending on the purpose - and it is only be convention that we define lift and drag in the directions we do.\n",
    "\n",
    "The semantics notwithstanding, it is traditional to define four mutually-orthogonal forces - see {ref}`CruiseForces`. \n",
    "- Two aerodynamic; **lift and drag**. \n",
    "- One propulsive; **thrust**. \n",
    "- One inertial; **weight**.\n",
    "\n",
    "```{figure} ../Images/CruiseForces.png\n",
    "---\n",
    "height: 300px\n",
    "name: CruiseForces\n",
    "---\n",
    "Equilibrium Forces\n",
    "```\n",
    "\n",
    "For this regime, it is further assumed that the aerodynamic incidence is small, and that the thrust offset is negligible. Therefore we assume that lift and weight are *perpendicular* to aircraft motion, and that thrust and drag are parallel to aircraft motion."
   ]
  },
  {
   "cell_type": "markdown",
   "metadata": {},
   "source": [
    "## Vertical Forces\n",
    "\n",
    "Looking at the vertical forces, $\\sum F_z =0$, therefore $L=W$:\n",
    "\n",
    "$$C_L = \\frac{L}{\\tfrac{1}{2}\\rho V^2S}$$\n",
    "    \n",
    "$$    = \\frac{W}{\\tfrac{1}{2}\\rho V^2S}$$\n",
    "    \n",
    "rearranging to find flight speed:\n",
    "\n",
    "```{math}\n",
    ":label: ACSpeedEquation\n",
    "V = \\sqrt{\\frac{\\frac{W}{S}}{\\tfrac{1}{2}\\rho C_L}}\n",
    "```\n",
    "Equation {eq}`ACSpeedEquation` is the **Aircraft Speed Equation** for steady level flight, and some basic aerodynamic behaviour may be inferred from it:\n",
    "\n",
    "-   Slower flight is possible by reducing wing loading - reducing aircraft mass, or increasing wing area. Or by increasing $C_L$ - increasing $\\alpha$\n",
    "\n",
    "-   The minimum possible flight speed occurs at $C_{L_{max}}$ - just before stall\n",
    "\n",
    "-   Flight speed may be increased by reducing $\\rho$ - by flying at increased altitude\n",
    "\n",
    "### Stall speed\n",
    "\n",
    "From {eq}`ACSpeedEquation`, the _stall speed_ may be determined if $C_{L_{max}}$ is known.\n",
    "\n",
    "## Longitudinal Forces\n",
    "\n",
    "Looking at the longitudinal forces, $\\sum F_x =0$, therefore $T=D$:\n",
    "\n",
    "$$\\begin{aligned}\n",
    "    C_D &= \\frac{D}{\\tfrac{1}{2}\\rho V^2S}\\nonumber\\\\\n",
    "    &= \\frac{T}{\\tfrac{1}{2}\\rho V^2S}\\nonumber\\end{aligned}$$\n",
    "    \n",
    "Drag estimation is complex, and can be performed via a variety of means from datasheets, CFD, wind tunnel testing or - more commonly - a combination of all. A good breakdown of drag sources is given by MacCormick{cite}`MacCormick:1995wq`, and a reproduction of the breakdown given is found in the dropdown below - but this is far beyond the complexity required for Aircraft Performance.\n",
    "\n",
    "```{admonition} Drag Breakdown (well beyond what we need, but included for reference)\n",
    ":class: dropdown\n",
    "\n",
    "The following is an extract from MacCormick{cite}`MacCormick:1995wq` [pp. 162-163]:\n",
    "\n",
    "**Induced Drag** The drag that results from the generation of a trailing vortex system downstream of a lifting surface of finite aspect ratio.\n",
    "\n",
    "**Parasite Drag** The total drag of an airplane minus the induced drag. Thus, it is the drag not directly associated with the production of lift. The parasite drag is composed of many drag components, the definitions of which follow.\n",
    "\n",
    "**Skin Friction Drag** The drag on a body resulting from viscous shearing stresses over its wetted surface.\n",
    "\n",
    "**Form Drag** (Sometimes Called Pressure Drag) The drag on a body resulting from the integrated effect of the static pressure acting normal to its surface resolved in the drag direction.\n",
    "\n",
    "**Interference Drag** The increment in drag resulting from bringing two bodies in proximity to each other. For example, the total drag of a wing-fuselage combination will usually be greater than the sum of the wing drag and fuselage drag independent of each other.\n",
    "\n",
    "**Trim Drag** The increment in drag resulting from the aerodynamic forces required to trim the airplane about its center of gravity. Usually this takes the form of added induced and form drag on the horizontal tail.\n",
    "\n",
    "**Profile Drag** Usually taken to mean the total of the skin friction drag and form drag for a two-dimensional airfoil section.\n",
    "\n",
    "**Cooling Drag** The drag resulting from the momentum lost by the air that passes through the power plant installation for purposes of cooling the engine, oil, and accessories.\n",
    "\n",
    "**Base Drag** The specific contribution to the pressure drag attributed to the blunt after-end of a body.\n",
    "\n",
    "**Wave Drag** Limited to supersonic flow, this drag is a pressure drag resulting from non-canceling static pressure components to either side of a shock wave acting on the surface of the body from which the wave is emanating.\n",
    "```\n",
    "\n",
    "\n",
    "In flight performance, we assume that the aircraft is operating in the region of linear aerodynamics, and utilise a drag model as given by Equation {eq}`DragEquation`:\n",
    "\n",
    "```{math}\n",
    ":label: DragEquation\n",
    "    \\underbrace{C_D}_{\\text{Total Drag}} = \\underbrace{C_{D0}}_{\\substack{\\text{Zero incidence} \\\\ \\text{drag}}} + \\underbrace{K\\cdot C_L^2}_{\\substack{\\text{Induced Drag +} \\\\ \\text{$\\alpha$-dependent form drag}}}\n",
    "```\n",
    "\n",
    "where\n",
    "\n",
    "$$    K=\\frac{k}{\\pi AR}$$\n",
    "\n",
    "The first term represents the drag that is independent of aerodynamic incidence, whilst the second term is proportional to $C_L^2$, which represents the induced drag and the component of form drag that varies with incidence.\n",
    "\n",
    "The parameter $k\\sim 1.1-1.4$ for most aircraft, and $AR$ is the wing aspect ratio $AR = \\frac{b^2}{S}$. $K$, $C_{D0}$ usually assumed constant, but can depend on:\n",
    "\n",
    "-   configuration changes (flap deployment)\n",
    "\n",
    "-   Reynolds Number (speed and height)\n",
    "\n",
    "-   Compressibility (shock waves)\n",
    "\n",
    "Equation {eq}`DragEquation` assumes that the minimum drag occurs at zero lift. This is the case for a symmetric aerofoil, but not for a cambered one. Since most airfcraft have a cambered wing, Equation {eq}`DragEquation` should be modified to\n",
    "\n",
    "$$C_D = C_{D, min} + K\\left(C_L - C_{L0}\\right)^2$$\n",
    "\n",
    "The second equation is more realistic for real aircraft - but adds complexity to the algebra. For simplicity, Equation {eq}`DragEquation` will be used in development of the Aircraft Performance Equations.\n",
    "\n",
    "Equation {eq}`ACSpeedEquation` and Equation {eq}`DragEquation` underpin the basics of aircraft performance.\n",
    "\n",
    "### Drag Polar\n",
    "\n",
    "The relationship between lift and drag is given through the aircraft drag polar - often plotted as $C_L$ vs $C_D$. Values for $C_L$ and $C_D$ are commonplace in the literature - a quick search yielded data for the Cessna 172S {cite}`Haberkorn:2016bj`.\n",
    "\n",
    "You will see that the drag model works well for low values of lift - that is, in the linear aerodynamic region. The behaviour at the 'bottom' of the curve is sometimes called the 'drag bucket' - and I spent many years *collecting* these data in a wind tunnel.\n",
    "\n",
    "The drag polar shows the aerodynamic efficiency of a given aircraft - that is, it represents the lift-to-drag ratio. You can find the best (highest) lift to drag ratio as the tangent of a line drawn from the origin to the curve.\n",
    "\n",
    "It would be great to be able to find the best lift to drag ratio without having to draw the drag polar. If you looka the source code for the image below, then it's obvious that I haven't drawn the tangent to find the best lift to drag ratio - rather I have drawn the tangent after having found the best lift to drag ratio.\n",
    "\n",
    "Expand the code to see the source data and coefficients used in the drag model."
   ]
  },
  {
   "cell_type": "code",
   "execution_count": null,
   "metadata": {
    "scrolled": false,
    "tags": [
     "hide-input"
    ]
   },
   "outputs": [],
   "source": [
    "# Aircraft Drag polar\n",
    "import numpy as np\n",
    "import matplotlib.pyplot as plt\n",
    "\n",
    "# Data for this graph has been taken from here: \n",
    "# https://www.researchgate.net/figure/Figure-A10-Drag-polar-for-the-Cessna-172S-This-plot-is-created-for-NACA-2412-airfoil_fig25_328578766\n",
    "\n",
    "# Discrete points:\n",
    "Cd = np.array([0.033099, 0.035185, 0.035214, 0.041961, 0.051143,\\\n",
    "0.064192, 0.080106, 0.096683, 0.104613, 0.11364, 0.121425, 0.130259, 0.138232])\n",
    "Cl = np.array([0.1454, -0.09219, 0.38303, 0.6238, 0.86305, 1.09772,\\\n",
    "1.31082, 1.45757, 1.51784, 1.55342, 1.58437, 1.60452, 1.58455])\n",
    "\n",
    "plt.plot(Cd, Cl, 'x', label='Data')\n",
    "\n",
    "# Put the drag model on top\n",
    "Clvector = np.linspace(min(Cl) - .2, max(Cl) + .2, int(1e3))\n",
    "Cd0 = 0.033\n",
    "Cl0 = 0.14\n",
    "K = 0.035\n",
    "Cdvector = Cd0 + K*(Clvector - Cl0)**2\n",
    "plt.plot(Cdvector, Clvector, '-r', label=\"Drag Model\")\n",
    "plt.legend\n",
    "plt.xlabel('$C_D$')\n",
    "plt.ylabel('$C_L$')\n",
    "\n",
    "plt.title('Drag Polar: Data vs. Drag Model');\n",
    "\n",
    "# Determine minimum drag\n",
    "Clmind = np.sqrt(Cd0/K + Cl0**2)\n",
    "Cdmind =  Cd0 + K*(Clmind - Cl0)**2\n",
    "\n",
    "# plot it\n",
    "plt.plot(Cdmind, Clmind, 'ob', label=\"$\\\\frac{L}{D}_{max}$\")\n",
    "\n",
    "# show that this is the tangent\n",
    "plt.plot([0, Cdmind*2], [0, Clmind*2], '-b', label=\"Tangent\")\n",
    "plt.gca().set_xlim(0, .14);\n",
    "plt.gca().set_ylim(-.5, 2);\n",
    "plt.gca().grid('on')\n",
    "plt.axhline(0, color='black');\n",
    "\n",
    "# Legend\n",
    "plt.legend();\n"
   ]
  },
  {
   "cell_type": "markdown",
   "metadata": {},
   "source": [
    "### Best lift to drag ratio\n",
    "\n",
    "The highest lift to drag ratio gives the position of best aerodynamic efficiency, and sets the best _glide ratio_ for an aircraft.\n",
    "\n",
    "In the following, the values of $C_L$ and $C_D$ for optimum aerodynamic efficiency - but before diving into the mathematics, some consideration of their significance might be necessary for some readers.\n",
    "\n",
    "```{admonition} Why do we want to know $C_L$?\n",
    ":class: dropdown\n",
    "\n",
    "In the aviation world, pilots tend to be excellent at intuiting flight physics - and being able to relate control movement to aircraft flight, without needed to understand the physics (often in spite of thinking they do). \n",
    "\n",
    "By contrast, aerospace engineers tend to be be excellent and understanding the mathematics of flight physics - without any consideration of the physical significance of what they are actually deriving. By way of an example ask yourself - *'what control would you change to effect an altitude change?'*, and if your answer is simply *'pull the stick/yoke back'*, then this highlights a misunderstanding of the aircraft controls and physics. In reality, it would be a combination of throttle and stick, but fundamentally you need to _gain potential energy_ which requires an increase in energy from somewhere, *i.e.,* the engine. \n",
    "\n",
    "---------------\n",
    "\n",
    "Back to the problem at hand:\n",
    "\n",
    "Consider what *\"to fly at a $C_L=X$\"* actually means - the pilot controls the *pitch* of the aircraft using fore-aft motion of the stick/yoke. A change in pitch changes the _angle of attack_ of the aircraft, which changes the aircraft lift coefficient.\n",
    "\n",
    "In reality, a pilot will not tend to consider the numerical value of $\\alpha$ they are flying at - and they are even less likely to know the $C_L$ of the aircraft under a given flight regime.\n",
    "\n",
    "For a given $C_L$, the aircraft speed determines the dimensional value of lift being produced. If $L=W$, this is steady level flight. If $L>W$, the aircraft climbs, if $L<W$, the aircraft descends. \n",
    "\n",
    "Through a combination of thottle setting, and elevator deflection (stick fore/aft), steady flight can be achieved. Again - the pilot probably isn't considering the $C_L$ value, and won't know whether they're at the best lift to drag ratio or not.\n",
    "\n",
    "So - there is a certain speed, in EAS, that will give the best lift to drag ratio. If the pilot is able to maintain this speed with no throttle adjustment, and finds that the aircraft is not climbing nor descending, then they are flying at the best lift to drag ratio - which will give the best **endurance**.\n",
    "\n",
    "These speeds are usually listed in the aircarft (though in the light aircraft I've been in, they're listed in IAS, and the following questions about EAS fell on deaf ears).\n",
    "\n",
    "So we, as aerospace engineers, wish to know the lift coefficient for optimum aerodynamic efficiency - but it will be translated into a more pilot-friendly parameter, such as a post-it note on the airspeed indicator.\n",
    "\n",
    "```\n",
    "\n",
    "The best lift to drag ratio can be determined from Equation {eq}`DragEquation`. Consider that the lift to drag ratio is equal in dimensional and coefficient form:\n",
    "\n",
    "$$\\frac{L}{D}=\\frac{C_L}{C_D}$$\n",
    "\n",
    "Into which Equation {eq}`DragEquation` may be inserted\n",
    "\n",
    "$$\\frac{L}{D}=\\frac{C_L}{C_{D0} + K\\cdot C_L^2}$$\n",
    "\n",
    "The best lift to drag ratio can then be found from minimising $\\frac{D}{L}$, so differentiate by $C_L$:\n",
    "\n",
    "$$\\left.\\frac{D}{L}\\right|_{min}=\\left.\\frac{C_{D0} + K\\cdot C_L^2}{C_L}\\right|_{min}$$\n",
    "\n",
    "A bit of elementary calculus gives the minima of the right hand side as given by\n",
    "\n",
    "$$C_{L, md}=\\sqrt{\\frac{C_{D0}}{K}}$$\n",
    "\n",
    "```{admonition} What about a real aircraft?\n",
    ":class: dropdown\n",
    "\n",
    "Remember that Equation {eq}`DragEquation` as used above is only valid for an uncambered wing - the expression for $C_{L, md}$ changes in that case. If you look at the source code for the drag polar, you can see what it changes to. Try to derive this yourself. \n",
    "\n",
    "```"
   ]
  },
  {
   "cell_type": "markdown",
   "metadata": {},
   "source": [
    "### Thrust required\n",
    "\n",
    "The drag equation can be multiplied by the numerator of the lift and drag coefficients, $\\frac{1}{2}\\rho\\,V^2S$, to yield dimensional drag - this can be considered as the **thrust required** in order to fly at a certain speed:\n",
    "\n",
    "$$ C_D\\cdot \\frac{1}{2}\\rho\\,V^2S = C_{D0}\\cdot\\frac{1}{2}\\rho\\,V^2S + K\\cdot C_L^2\\cdot\\frac{1}{2}\\rho\\,V^2S$$\n",
    "\n",
    "In steady level flight, $L=W$, so the lift coefficient can be expressed as\n",
    "\n",
    "$$C_L = \\frac{W}{\\frac{1}{2}\\rho\\,V^2S}$$\n",
    "\n",
    "and hence\n",
    "\n",
    "$$D = C_{D0}\\frac{1}{2}\\rho\\,V^2S + \\frac{K\\,W^2}{\\frac{1}{2}\\rho\\,V^2S}$$\n",
    "\n",
    "or\n",
    "\n",
    "$$D = A\\,V^2 + B\\,V^{-2}$$\n",
    "\n",
    "where $A$ and $B$ are functions of density (and therefore functions of altitude).\n",
    "\n",
    "- $A=C_{D0}\\frac{1}{2}\\rho S$ represents the **profile drag**, which gets larger with forward speed squared\n",
    "- $B=\\frac{K\\,W^2}{\\frac{1}{2}\\rho S}$ represents the **induced drag**, which gets smaller with forward speed squared\n",
    "\n",
    "The above should make sense to you *intuitively*. Profile drag is largely viscous drag, which will get larger in proportion to the dynamic pressure. The induced drag is proportional to the bound vortex maintaining lift, which will be proportional to $C_L$ which, for a steady flight, is inversely proportional to the dynamic pressure.\n",
    "\n",
    "(minimum-drag-speed)=\n",
    "#### Minimum drag speed\n",
    "\n",
    "From the drag equation in dimensional form, the minmum drag speed can be shown\n",
    "\n",
    "$$D = A\\,V^2 + B\\,V^{-2}$$\n",
    "$$\\frac{\\partial D}{\\partial V} = 2\\cdot A\\,V - 2 B\\,V^{-3}$$\n",
    "$$\\implies V_{md} = \\left[\\frac{B}{A}\\right]^{-\\frac{1}{4}}$$\n",
    "$$=\\left[\\frac{2\\,W}{\\rho\\,S}\\right]^{\\frac{1}{2}}\\left[\\frac{K}{C_{D0}}\\right]^{\\frac{1}{4}}$$\n",
    "```{admonition} Alternative method\n",
    ":class: dropdown\n",
    "\n",
    "It has already been shown that the lift at minimum drag is $C_{L, md}=\\sqrt{\\frac{C_{D0}}{K}}$. Substitute this into the aircraft speed equation to show the same answer as above\n",
    "\n",
    "```\n",
    "\n",
    "\n",
    "\n",
    "For a set of parameters, the drag equation can be plotted from the aircraft stall speed. You can zoom in on the plot, or expand the source to see how the plot was made."
   ]
  },
  {
   "cell_type": "code",
   "execution_count": null,
   "metadata": {
    "scrolled": true,
    "tags": [
     "hide-input"
    ]
   },
   "outputs": [],
   "source": [
    "import plotly.io as pio\n",
    "import plotly.express as px\n",
    "import plotly.offline as py\n",
    "import plotly.graph_objects as go\n",
    "from ambiance import Atmosphere\n",
    "import numpy as np\n",
    "\n",
    "# Define constants\n",
    "CD0=0.016 # Zero incidence drag\n",
    "K=0.045 # Induced drag factor\n",
    "S=50 # Wing area, m^2\n",
    "W=160e3 # Aircarft weight, Newtons\n",
    "Clmax = 1.5\n",
    "\n",
    "alt=0; # Altitude\n",
    "\n",
    "mosphere = Atmosphere(alt*1000)\n",
    "rho = mosphere.density\n",
    "\n",
    "# Determine stall speed\n",
    "Vstall = np.sqrt(W / (0.5 * rho * S * Clmax))\n",
    "\n",
    "\n",
    "# Determine A and B\n",
    "A = CD0 * 0.5 * rho * S\n",
    "B = K * W ** 2 / 0.5 / rho / S\n",
    "\n",
    "# Flight speed vector\n",
    "Vs = np.linspace(Vstall[0], 200, 1000)\n",
    "\n",
    "\n",
    "# Define drags\n",
    "Dind = B * Vs**-2\n",
    "Dprof = A * Vs**2\n",
    "D = Dind + Dprof\n",
    "\n",
    "# Get minimum drag\n",
    "Vmd = (B/A)**.25\n",
    "md = A * Vmd**2 + B * Vmd**-2\n",
    "\n",
    "fig = go.Figure()\n",
    "fig.add_trace(go.Scatter(x=Vs, y=Dind, name=\"Induced Drag\"))\n",
    "fig.add_trace(go.Scatter(x=Vs, y=Dprof, name=\"Profile Drag\"))\n",
    "fig.add_trace(go.Scatter(x=Vs, y=D, name=\"Total Drag\"))\n",
    "fig.add_trace(go.Scatter(x=Vmd, y=md, mode=\"markers+text\", text=\"Minimum Drag\", textposition=\"top center\", name=\"Annotation\"))\n",
    "\n",
    "\n",
    "\n",
    "fig.update_layout(\n",
    "    title=f\"Variation of Profile, Induced, and Total Drag - CD0 = {CD0}, K={K}, altitude={alt}km, S={S}m^2, W={W/1e3}\",\n",
    "    xaxis_title=\"TAS / (m/s)\",\n",
    "    yaxis_title=\"Drag / N\",\n",
    "    legend_title=\"Drag Breakdown\",\n",
    ")\n",
    "\n",
    "for trace in fig['data']: \n",
    "    if(trace['name'] == \"Annotation\"): trace['showlegend'] = False\n",
    "\n",
    "fig.update_xaxes(range=[0, 200])\n",
    "fig.update_yaxes(range=[0, 20e3])\n"
   ]
  },
  {
   "cell_type": "markdown",
   "metadata": {},
   "source": [
    "#### Variation of drag with altitude\n",
    "\n",
    "With the drag equation presented in dimensional form the effect of altitude on drag may be determined. Since $A$ and $B$ are directly and inversely proportional to density, it can be expected that they will be inversely, and directly proportional to altitude, respectively.\n",
    "\n",
    "That is - for an increase in altitude, $A$ (profile drag) will decrease whilst $B$ (induced drag) will increase.\n",
    "\n",
    "```{admonition} Think: does that make sense?\n",
    ":class: dropdown\n",
    "\n",
    "Whenever you derive a relationship between physical parameters, you should see if the answer is intuitively correct.\n",
    "\n",
    "Profile drag is fundamentally a *viscous* effect, so it makes sense that for fewer air particles in a given volume, the profile drag would decrease.\n",
    "\n",
    "Induced drag is proportional to the amount of circulation. For a reduction in density, a larger amount of circulation is required to effect the same dimensional value of lift. Hence, induced drag will increase.\n",
    "```\n",
    "\n",
    "It has been shown above that $V_{md}\\propto\\frac{1}{\\sqrt{\\rho}}$ (see {ref}`minimum-drag-speed`), so these cancel with the density terms in the $A$ and $B$ expressions - accordingly, **the minimum drag remains constant with altitude** whilst the minimum drag speed increases. See:"
   ]
  },
  {
   "cell_type": "code",
   "execution_count": null,
   "metadata": {
    "scrolled": true,
    "tags": [
     "hide-input"
    ]
   },
   "outputs": [],
   "source": [
    "fig = go.Figure()\n",
    "\n",
    "fig.update_xaxes(range=[0, 300])\n",
    "fig.update_yaxes(range=[0, 20e3])\n",
    "\n",
    "for alt in [0, 5000, 15000]:\n",
    "\n",
    "    mosphere = Atmosphere(alt)\n",
    "    rho = mosphere.density\n",
    "\n",
    "    # Determine stall speed\n",
    "    Vstall = np.sqrt(W / (0.5 * rho * S * Clmax))\n",
    "\n",
    "\n",
    "    # Determine A and B\n",
    "    A = CD0 * 0.5 * rho * S\n",
    "    B = K * W ** 2 / 0.5 / rho / S\n",
    "\n",
    "    # Flight speed vector\n",
    "    Vs = np.linspace(Vstall[0], 340, 1000)\n",
    "\n",
    "\n",
    "    # Define drags\n",
    "    Dind = B * Vs**-2\n",
    "    Dprof = A * Vs**2\n",
    "    D = Dind + Dprof\n",
    "\n",
    "    # Get minimum drag\n",
    "    Vmd = (B/A)**.25\n",
    "    md = A * Vmd**2 + B * Vmd**-2\n",
    "\n",
    "\n",
    "    fig.add_trace(go.Scatter(x=Vs, y=D, name=f\"Total Drag: {alt/1e3:1.0f}km\"))\n",
    "    fig.add_trace(go.Scatter(x=Vmd, y=md, mode=\"markers+text\",\\\n",
    "                             text=f\"{Vmd[0]:1.0f} m/s \",\\\n",
    "                             textposition=\"bottom center\", name=\"Annotation\"))\n",
    "\n",
    "\n",
    "    \n",
    "\n",
    "    fig.update_layout(\n",
    "        title=f\"Total drag variation with altitude - CD0 = {CD0}, K={K}, S={S}m^2, W={W/1e3}\",\n",
    "        xaxis_title=\"TAS / (m/s)\",\n",
    "        yaxis_title=\"Drag / N\",\n",
    "        legend_title=\"Altitude\",\n",
    "    )\n",
    "    \n",
    "\n",
    "fig.add_trace(go.Scatter(x=np.linspace(0, 300, 1000), y=md*np.ones(1000), name=\"Constant Minimum Drag\", connectgaps=True))\n",
    "    \n",
    "    \n",
    "for trace in fig['data']: \n",
    "    if(trace['name'] == \"Annotation\"): trace['showlegend'] = False\n",
    "            \n",
    "        \n",
    "fig.show()\n"
   ]
  },
  {
   "cell_type": "markdown",
   "metadata": {},
   "source": [
    "#### Variation of drag with aircraft weight\n",
    "\n",
    "By contrast to the density, the aircraft weight *only* appears in the **induced drag** term, $B=\\frac{K\\,W}{\\frac{1}{2}\\rho S}$, and hence the profile drag stays constant whilst the induced drag increases with aircraft weight.\n",
    "\n",
    "This makes sense as the wetted area of the aircraft is unchanged, hence the viscous drag would be constant. The dimensional value of lift is increased, therefore the cruise $C_L$ is also increased, and the circulation *must* be increased hence the trailing vortex system is given more energy - more drag.\n"
   ]
  },
  {
   "cell_type": "code",
   "execution_count": null,
   "metadata": {
    "scrolled": true,
    "tags": [
     "hide-input"
    ]
   },
   "outputs": [],
   "source": [
    "fig = go.Figure()\n",
    "\n",
    "fig.update_xaxes(range=[0, 300])\n",
    "fig.update_yaxes(range=[0, 20e3])\n",
    "alt = 0\n",
    "\n",
    "for W in [160e3, 200e3, 300e3]:\n",
    "\n",
    "    mosphere = Atmosphere(alt)\n",
    "    rho = mosphere.density\n",
    "\n",
    "    # Determine stall speed\n",
    "    Vstall = np.sqrt(W / (0.5 * rho * S * Clmax))\n",
    "\n",
    "\n",
    "    # Determine A and B\n",
    "    A = CD0 * 0.5 * rho * S\n",
    "    B = K * W ** 2 / 0.5 / rho / S\n",
    "\n",
    "    # Flight speed vector\n",
    "    Vs = np.linspace(Vstall[0], 340, 1000)\n",
    "\n",
    "\n",
    "    # Define drags\n",
    "    Dind = B * Vs**-2\n",
    "    Dprof = A * Vs**2\n",
    "    D = Dind + Dprof\n",
    "\n",
    "    # Get minimum drag\n",
    "    Vmd = (B/A)**.25\n",
    "    md = A * Vmd**2 + B * Vmd**-2\n",
    "\n",
    "\n",
    "    fig.add_trace(go.Scatter(x=Vs, y=D, name=f\"Total Drag: W={W/1e3:1.0f}kN\"))\n",
    "    fig.add_trace(go.Scatter(x=Vmd, y=md, mode=\"markers+text\",\\\n",
    "                             text=f\"{Vmd[0]:1.0f} m/s \",\\\n",
    "                             textposition=\"bottom center\", name=\"Annotation\"))\n",
    "\n",
    "\n",
    "    \n",
    "\n",
    "    fig.update_layout(\n",
    "        title=f\"Total drag variation with aircraft weight - CD0 = {CD0}, K={K}, S={S}m^2, Sea Level\",\n",
    "        xaxis_title=\"TAS / (m/s)\",\n",
    "        yaxis_title=\"Drag / N\",\n",
    "        legend_title=\"Altitude\",\n",
    "    )\n",
    "    \n",
    "\n",
    "# fig.add_trace(go.Scatter(x=np.linspace(0, 300, 1000), y=md*np.ones(1000), name=\"Constant Minimum Drag\", connectgaps=True))\n",
    "    \n",
    "    \n",
    "for trace in fig['data']: \n",
    "    if(trace['name'] == \"Annotation\"): trace['showlegend'] = False\n",
    "            \n",
    "        \n",
    "fig.show()"
   ]
  },
  {
   "cell_type": "markdown",
   "metadata": {},
   "source": [
    "#### Variation of aircraft drag in cruise: summary\n",
    "\n",
    "In the drag equation, the combination of $V^2$ and $V^{-2}$ terms gives a mininma in the total drag curve at the minimum drag speed, $V_{md}$ which can be determined directly from $V_{md}=\\left[\\frac{B}{A}\\right]^{\\frac{1}{4}}$.\n",
    "\n",
    "At *low speed*, the induced drag term $B=\\frac{K\\,W}{\\frac{1}{2}\\rho\\,S}$ dominates.\n",
    "\n",
    "```{admonition} Think: where in a flight regime is this important?\n",
    ":class: dropdown\n",
    "\n",
    "Take-off, landing, and air combat.\n",
    "```\n",
    "At *high speed*, the induced drag term $A=\\frac{1}{2}\\rho C_{D0}S$ dominates.\n",
    "\n",
    "```{admonition} Think: where in a flight regime is this important?\n",
    ":class: dropdown\n",
    "\n",
    "At cruise conditions.\n",
    "```\n",
    "This gives an indication of which parameters are relevant for different aircraft if drag reduction is desired.\n",
    "\n",
    "Answer the following questions:\n",
    "\n",
    "\n",
    "```{admonition} Describe the effect of *altitude* on drag curves.\n",
    ":class: dropdown\n",
    "\n",
    "An increase in altitude causes a decrease in density. This causes the induced drag to increase, and the profile drag to decrease. The minimum drag speed increases with altitude, but the minimum drag stays constant.\n",
    "\n",
    "The visual effect is that total drag curves are shifted to the right, but the minima remains at the same position.\n",
    "```\n",
    "\n",
    "```{admonition} Describe the effect of *aircraft weight* on drag curves.\n",
    ":class: dropdown\n",
    "\n",
    "An increase in aircraft weight affects *only* the induced drag, which is increased.\n",
    "\n",
    "The visual effect is that total drag curves are shifted to the right, and up - the minimum drag *and* the minimum drag speed are increased.\n",
    "```\n",
    "\n",
    "\n",
    "```{admonition} Describe the effect of *wing area* on drag curves.\n",
    ":class: dropdown\n",
    "\n",
    "This wasn't covered above, but you should be able to answer using the same logic. Think about what you expect the answer to be, then try and plot it.\n",
    "\n",
    "Discuss the answer on Slack.\n",
    "```\n"
   ]
  },
  {
   "cell_type": "markdown",
   "metadata": {},
   "source": [
    "### Removing the Altitude Dependency - EAS\n",
    "\n",
    "The drag equation as presented, in dimensional form is\n",
    "\n",
    "$$D = C_{D0}\\frac{1}{2}\\rho\\,V^2S + \\frac{K\\,W^2}{\\frac{1}{2}\\rho\\,V^2S}$$\n",
    "\n",
    "where the velocity in question is TAS. We can use the relationship\n",
    "\n",
    "$$\\frac{V_E}{V}=\\sqrt{\\frac{\\rho}{\\rho_{SL}}}$$\n",
    "\n",
    "to express the drag equation in terms of EAS:\n",
    "\n",
    "$$D = C_{D0}\\frac{1}{2}\\rho_{SL}\\,V_E^2S + \\frac{K\\,W^2}{\\frac{1}{2}\\rho_{SL}\\,V_E^2S}$$\n",
    "\n",
    "or\n",
    "\n",
    "$$D = A_E\\cdot V_E^2 + B_E\\cdot V_E^{-2}$$\n",
    "\n",
    "where $A_E$ and $B_E$ are defined as before, but with the sea-level density in place of density at whatever altitude is in question.\n",
    "\n",
    "This has the effect of *collapsing the drag curves together*, as $\\rho_{SL}$ is a constant."
   ]
  },
  {
   "cell_type": "code",
   "execution_count": null,
   "metadata": {
    "scrolled": true,
    "tags": [
     "hide-input"
    ]
   },
   "outputs": [],
   "source": [
    "fig = go.Figure()\n",
    "\n",
    "fig.update_xaxes(range=[0, 300])\n",
    "fig.update_yaxes(range=[0, 20e3])\n",
    "\n",
    "rho_sl = 1.225\n",
    "\n",
    "for alt in [0, 5000, 15000]:\n",
    "\n",
    "    mosphere = Atmosphere(alt)\n",
    "    rho = mosphere.density\n",
    "\n",
    "    # Determine stall speed\n",
    "    Vstall = np.sqrt(W / (0.5 * rho_sl * S * Clmax))\n",
    "\n",
    "\n",
    "    # Determine A and B\n",
    "    AE = CD0 * 0.5 * rho_sl * S\n",
    "    BE = K * W ** 2 / 0.5 / rho_sl / S\n",
    "\n",
    "    # Flight speed vector\n",
    "    VE = np.linspace(Vstall, 340, 1000)\n",
    "\n",
    "\n",
    "    # Define drags\n",
    "    Dind = BE * VE**-2\n",
    "    Dprof = AE * VE**2\n",
    "    D = Dind + Dprof\n",
    "\n",
    "    # Get minimum drag\n",
    "    Vmd = (BE/AE)**.25\n",
    "    md = AE * Vmd**2 + BE * Vmd**-2\n",
    "\n",
    "\n",
    "    fig.add_trace(go.Scatter(x=Vs, y=D, name=f\"Total Drag: {alt/1e3:1.0f}km\"))\n",
    "\n",
    "\n",
    "\n",
    "    \n",
    "\n",
    "    fig.update_layout(\n",
    "        title=f\"Total drag variation with altitude - CD0 = {CD0}, K={K}, S={S}m^2, W={W/1e3}\",\n",
    "        xaxis_title=\"EAS / (m/s)\",\n",
    "        yaxis_title=\"Drag / N\",\n",
    "        legend_title=\"Altitude\",\n",
    "    )\n",
    "    \n",
    "\n",
    "# fig.add_trace(go.Scatter(x=np.linspace(0, 300, 1000), y=md*np.ones(1000), name=\"Constant Minimum Drag\", connectgaps=True))\n",
    "    \n",
    "    \n",
    "for trace in fig['data']: \n",
    "    if(trace['name'] == \"Annotation\"): trace['showlegend'] = False\n",
    "            \n",
    "        \n",
    "fig.show()"
   ]
  },
  {
   "cell_type": "markdown",
   "metadata": {},
   "source": [
    "Hence the minimum drag speed in EAS is a function of the constants $K$ and $C_{Dmin}$, and $\\rho_{SL}$. $V_{E_{MD}}$ and *increases with aircraft weight* and **remains constant** with *aircraft altitude*."
   ]
  },
  {
   "cell_type": "markdown",
   "metadata": {},
   "source": [
    "### Range vs Endurance\n",
    "\n",
    "The aircraft *drag* can be considered as the force required to propel the aircraft forward. For this reason, it is useful to determine the condition of minimum drag, as this means the aircraft is flying with the greatest aerodynamic efficiency - when flying at this condition, the aircraft can go the farthest. This defines the **maximum range**. Hence, if a pilot wishes to fly the longest distance for a certain amount of fuel, they should fly at $V_{md} = \\left[\\frac{B}{A}\\right]^{-\\frac{1}{4}}$.\n",
    "\n",
    "However, they will not be able to fly for the longest period of time at this speed. For certain aircraft missions, it is desirable to seek _endurance_ as oppposed to _range_.\n",
    "\n",
    "For consideration of endurance, the problem is not one of minimising the force required, but instead to minimise the amount of energy required in a given amount of time, Hence, the problem is not one of minimising the *force required* (the drag), but minimising the amount of *work done per time* - **flying with minimum power**.\n",
    "\n",
    "### Power required\n",
    "\n",
    "Power is the rate of doing work - so the power required to overcome drag is:\n",
    "\n",
    "$$\\text{required power } = \\text{ drag} \\times \\text{flight speed}$$\n",
    "$$P_R=D\\cdot V$$\n",
    "\n",
    "$$P = T\\cdot V = D\\cdot V$$\n",
    "$$= \\left[AV^2 + \\frac{B}{V^2}\\right]\\cdot V$$\n",
    "$$= AV^3 + \\frac{B}{V}$$\n",
    "\n",
    "the minimum power required is found\n",
    "\n",
    "$$\\frac{\\text{d}P}{\\text{d}V} = 3AV^2 - \\frac{B}{V^2} (= 0 \\text{ at }P_{min}\\text{)})$$\n",
    "$$V_{MP}^4 = \\frac{B}{3A}$$\n",
    "$$V_{MP} = \\left[\\frac{B}{3A}\\right]^{\\frac{1}{4}}$$\n",
    "$$= \\left[\\frac{2W}{\\rho S}\\right]^\\frac{1}{2}\\left[\\frac{K}{3\\cdot C_{D0}}\\right]^{\\frac{1}{4}}$$\n",
    "\n",
    "It is easy to compare the minimum drag speed and the minimum power speeds, now:\n",
    "\n",
    "$$\\frac{V_{MP}}{V_{MD}} = \\frac{\\left[\\frac{B}{3A}\\right]^{\\frac{1}{4}}}{\\left[\\frac{B}{A}\\right]^{\\frac{1}{4}}}=\\left[\\frac{1}{3}\\right]^\\frac{1}{4}\\simeq 75.98\\%$$\n",
    "\n",
    "So flying at the minimum power speed, which is _slower_ than the minimum drag speed, will not get the best range but will enable a pilot to stay in the air for the longest period of time. \n",
    "    \n",
    "As was performed for Drag, the Power required can now be plotted vs TAS:"
   ]
  },
  {
   "cell_type": "code",
   "execution_count": null,
   "metadata": {
    "scrolled": true,
    "tags": [
     "hide-input"
    ]
   },
   "outputs": [],
   "source": [
    "import plotly.io as pio\n",
    "import plotly.express as px\n",
    "import plotly.offline as py\n",
    "import plotly.graph_objects as go\n",
    "from ambiance import Atmosphere\n",
    "import numpy as np\n",
    "\n",
    "# Define constants\n",
    "CD0=0.016 # Zero incidence drag\n",
    "K=0.045 # Induced drag factor\n",
    "S=50 # Wing area, m^2\n",
    "W=160e3 # Aircarft weight, Newtons\n",
    "Clmax = 1.5\n",
    "\n",
    "alt=0; # Altitude\n",
    "\n",
    "mosphere = Atmosphere(alt*1000)\n",
    "rho = mosphere.density\n",
    "\n",
    "# Determine stall speed\n",
    "Vstall = np.sqrt(W / (0.5 * rho * S * Clmax))\n",
    "\n",
    "\n",
    "# Determine A and B\n",
    "A = CD0 * 0.5 * rho * S\n",
    "B = K * W ** 2 / 0.5 / rho / S\n",
    "\n",
    "# Flight speed vector\n",
    "Vs = np.linspace(Vstall[0], 200, 1000)\n",
    "\n",
    "\n",
    "# Define drags\n",
    "Pind = B * Vs**-1\n",
    "Pprof = A * Vs**3\n",
    "P = Pind + Pprof\n",
    "\n",
    "# Get minimum drag speed and associated power\n",
    "Vmd = (B/A)**.25\n",
    "mdp = A * Vmd**3 + B * Vmd**-1\n",
    "\n",
    "# Get minimum power\n",
    "Vmp = (B/3/A)**.25\n",
    "mp = A * Vmp**3 + B * Vmp**-1\n",
    "\n",
    "fig = go.Figure()\n",
    "fig.add_trace(go.Scatter(x=Vs, y=Pind, name=\"Induced Power\"))\n",
    "fig.add_trace(go.Scatter(x=Vs, y=Pprof, name=\"Profile Power\"))\n",
    "fig.add_trace(go.Scatter(x=Vs, y=P, name=\"Total Power\"))\n",
    "\n",
    "fig.add_trace(go.Scatter(x=Vmd, y=mdp, mode=\"markers+text\", text=f\"$V_{{md}}={Vmd[0]:1.2f}$\", textposition=\"top center\", name=\"Annotation\"))\n",
    "\n",
    "fig.add_trace(go.Scatter(x=Vmp, y=mp, mode=\"markers+text\", text=f\"$V_{{mp}}={Vmp[0]:1.2f}$\", textposition=\"top center\", name=\"Annotation\"))\n",
    "\n",
    "\n",
    "\n",
    "fig.update_layout(\n",
    "    title=f\"Variation of Profile, Induced, and Total Power - CD0 = {CD0}, K={K}, altitude={alt}km, S={S}m^2, W={W/1e3}\",\n",
    "    xaxis_title=\"TAS / (m/s)\",\n",
    "    yaxis_title=\"Drag / N\",\n",
    "    legend_title=\"Drag Breakdown\",\n",
    ")\n",
    "\n",
    "for trace in fig['data']: \n",
    "    if(trace['name'] == \"Annotation\"): trace['showlegend'] = False\n",
    "\n",
    "fig.update_xaxes(range=[0, 200])\n",
    "fig.update_yaxes(range=[0, 4e6])\n"
   ]
  },
  {
   "cell_type": "markdown",
   "metadata": {},
   "source": [
    "#### Effect of altitude on minimum power\n",
    "\n",
    "Recall that an increase in altitude caused the total drag curve to shift to the right - increasing the minimum drag _speed_ but keeping the same value of dimensional minium drag.\n",
    "\n",
    "A similar plot can be made to show the variation of minimum power with altitude - it can be seen that the minimum power increases linearly, with a line that passes through the origin.\n",
    "\n",
    "If you really wish to, you can show analytically that the gradient is a constant by differentiating the expression for $V_{MP}$ with respect to $\\rho$. It will yield a constant - but this will be a bit of a laborious exercise in algebra and calculus."
   ]
  },
  {
   "cell_type": "code",
   "execution_count": null,
   "metadata": {
    "scrolled": true,
    "tags": [
     "hide-input.",
     "hide-input"
    ]
   },
   "outputs": [],
   "source": [
    "import plotly.io as pio\n",
    "import plotly.express as px\n",
    "import plotly.offline as py\n",
    "import plotly.graph_objects as go\n",
    "from ambiance import Atmosphere\n",
    "import numpy as np\n",
    "\n",
    "# Define constants\n",
    "CD0=0.016 # Zero incidence drag\n",
    "K=0.045 # Induced drag factor\n",
    "S=50 # Wing area, m^2\n",
    "W=160e3 # Aircarft weight, Newtons\n",
    "Clmax = 1.5\n",
    "\n",
    "fig = go.Figure()\n",
    "\n",
    "for alt in [0, 5, 10]: # Altitude\n",
    "\n",
    "    mosphere = Atmosphere(alt*1000)\n",
    "    rho = mosphere.density\n",
    "\n",
    "    # Determine stall speed\n",
    "    Vstall = np.sqrt(W / (0.5 * rho * S * Clmax))\n",
    "\n",
    "\n",
    "    # Determine A and B\n",
    "    A = CD0 * 0.5 * rho * S\n",
    "    B = K * W ** 2 / 0.5 / rho / S\n",
    "\n",
    "    # Flight speed vector\n",
    "    Vs = np.linspace(Vstall[0], 200, 1000)\n",
    "\n",
    "\n",
    "    # Define power\n",
    "    Pind = B * Vs**-1\n",
    "    Pprof = A * Vs**3\n",
    "    P = Pind + Pprof\n",
    "\n",
    "    # Get minimum drag speed and associated power\n",
    "    Vmd = (B/A)**.25\n",
    "    mdp = A * Vmd**3 + B * Vmd**-1\n",
    "\n",
    "    # Get minimum power\n",
    "    Vmp = (B/3/A)**.25\n",
    "    mp = A * Vmp**3 + B * Vmp**-1\n",
    "\n",
    "\n",
    "#     fig.add_trace(go.Scatter(x=Vs, y=Dind, name=\"Induced Power\"))\n",
    "#     fig.add_trace(go.Scatter(x=Vs, y=Dprof, name=\"Profile Power\"))\n",
    "    fig.add_trace(go.Scatter(x=Vs, y=P, name=f\"Total Power - {alt}km\"))\n",
    "\n",
    "\n",
    "\n",
    "    fig.add_trace(go.Scatter(x=Vmp, y=mp, mode=\"markers+text\", text=f\"$V_{{mp}}={Vmp[0]:1.2f}$\", textposition=\"top center\", name=\"Annotation\"))\n",
    "\n",
    "\n",
    "\n",
    "\n",
    "\n",
    "\n",
    "fig.add_trace(go.Scatter(x=[0, Vmp[0]], y=[0, mp[0]], name=\"Annotation\", mode='lines'))\n",
    "\n",
    "\n",
    "            \n",
    "fig.update_xaxes(range=[0, 200])\n",
    "fig.update_yaxes(range=[0, 4e6])\n",
    "\n",
    "for trace in fig['data']: \n",
    "    if(trace['name'] == \"Annotation\"): trace['showlegend'] = False\n",
    "\n",
    "\n",
    "fig.update_layout(\n",
    "    title=f\"Variation of Total Power with Altitude - CD0 = {CD0}, K={K}, S={S}m^2, W={W/1e3}\",\n",
    "    xaxis_title=\"TAS / (m/s)\",\n",
    "    yaxis_title=\"Drag / N\",\n",
    "    legend_title=\"Drag Breakdown\",\n",
    ")"
   ]
  },
  {
   "cell_type": "code",
   "execution_count": null,
   "metadata": {
    "scrolled": true
   },
   "outputs": [],
   "source": [
    "import plotly.io as pio\n",
    "import plotly.express as px\n",
    "import plotly.offline as py\n",
    "import plotly.graph_objects as go\n",
    "from ambiance import Atmosphere\n",
    "import numpy as np\n",
    "\n",
    "# Define constants\n",
    "CD0=0.016 # Zero incidence drag\n",
    "K=0.045 # Induced drag factor\n",
    "S=50 # Wing area, m^2\n",
    "W=160e3 # Aircarft weight, Newtons\n",
    "Clmax = 1.5\n",
    "\n",
    "fig = go.Figure()\n",
    "\n",
    "alt = 0\n",
    "\n",
    "for W in [160e3, 200e3, 240e3]: # Weight\n",
    "\n",
    "    mosphere = Atmosphere(alt*1000)\n",
    "    rho = mosphere.density\n",
    "\n",
    "    # Determine stall speed\n",
    "    Vstall = np.sqrt(W / (0.5 * rho * S * Clmax))\n",
    "\n",
    "\n",
    "    # Determine A and B\n",
    "    A = CD0 * 0.5 * rho * S\n",
    "    B = K * W ** 2 / 0.5 / rho / S\n",
    "\n",
    "    # Flight speed vector\n",
    "    Vs = np.linspace(Vstall[0], 200, 1000)\n",
    "\n",
    "\n",
    "    # Define power\n",
    "    Pind = B * Vs**-1\n",
    "    Pprof = A * Vs**3\n",
    "    P = Pind + Pprof\n",
    "\n",
    "    # Get minimum drag speed and associated power\n",
    "    Vmd = (B/A)**.25\n",
    "    mdp = A * Vmd**3 + B * Vmd**-1\n",
    "\n",
    "    # Get minimum power\n",
    "    Vmp = (B/3/A)**.25\n",
    "    mp = A * Vmp**3 + B * Vmp**-1\n",
    "\n",
    "\n",
    "#     fig.add_trace(go.Scatter(x=Vs, y=Dind, name=\"Induced Power\"))\n",
    "#     fig.add_trace(go.Scatter(x=Vs, y=Dprof, name=\"Profile Power\"))\n",
    "    fig.add_trace(go.Scatter(x=Vs, y=P, name=f\"Total Power - {W}kN\"))\n",
    "\n",
    "\n",
    "\n",
    "    fig.add_trace(go.Scatter(x=Vmp, y=mp, mode=\"markers+text\", text=f\"$V_{{mp}}={Vmp[0]:1.2f}$\", textposition=\"top center\", name=\"Annotation\"))\n",
    "\n",
    "\n",
    "\n",
    "\n",
    "\n",
    "\n",
    "\n",
    "\n",
    "\n",
    "            \n",
    "fig.update_xaxes(range=[0, 200])\n",
    "fig.update_yaxes(range=[0, 4e6])\n",
    "\n",
    "for trace in fig['data']: \n",
    "    if(trace['name'] == \"Annotation\"): trace['showlegend'] = False\n",
    "\n",
    "\n",
    "fig.update_layout(\n",
    "    title=f\"Variation of Total Power with Aircraft Weight - CD0 = {CD0}, K={K}, sea level, S={S}m^2\",\n",
    "    xaxis_title=\"TAS / (m/s)\",\n",
    "    yaxis_title=\"Drag / N\",\n",
    "    legend_title=\"Drag Breakdown\",\n",
    ")"
   ]
  },
  {
   "cell_type": "markdown",
   "metadata": {},
   "source": [
    "#### Variation of aircraft power in cruise: summary\n",
    "\n",
    "In the power equation, the combination of $V^3$ and $V^{-1}$ terms gives a mininma in the total drag curve that is lower than minimum drag speed. This is the mininum power speed, $V_{mp}$ which can be determined directly from $V_{mp}=\\left[\\frac{B}{3\\,A}\\right]^{\\frac{1}{4}}$.\n",
    "\n",
    "Answer the following questions:\n",
    "\n",
    "\n",
    "```{admonition} Describe the effect of *altitude* on power curves.\n",
    ":class: dropdown\n",
    "\n",
    "An increase in altitude causes a decrease in density. This causes the induced power to increase, and the profile drag to decrease - but the profile power rises with the cube of speed, whilst induced power falls with the inverse of forwar speed. The minimum power speed increases with altitude, but and the minimum power rises linearly.\n",
    "\n",
    "The visual effect is that total drag curves are shifted to the right and up.\n",
    "```\n",
    "\n",
    "```{admonition} Describe the effect of *aircraft weight* on drag curves.\n",
    ":class: dropdown\n",
    "\n",
    "Similarly to drag, an increase in aircraft weight affects *only* the induced power, which is increased.\n",
    "\n",
    "The visual effect is that total drag curves are shifted to the right, and up - the minimum power *and* the minimum power speed are increased.\n",
    "```"
   ]
  },
  {
   "cell_type": "markdown",
   "metadata": {},
   "source": [
    "### Removing the Altitude Dependency - EAS\n",
    "\n",
    "To plot power vs equivalent airspeed as performed before for drag, one has to be careful with definitions. If you take the power equation, and simply replace $V$ with $V_E$, and plot against $V_E$, then we are not representing true power vs. EAS due to the velocity term outside the brackets. What we are actually showing is a parameter that can be considered *density-scaled power*:\n",
    "\n",
    "$$\\begin{aligned}\n",
    "    P\\sqrt{\\sigma}&=\\left[A_EV_E^2 + \\frac{B_E}{V_E^2}\\right]\\cdot V_E\\\\    \n",
    "\\text{since}\\\\\n",
    "    P&=\\left[A_EV_E^2 + \\frac{B_E}{V_E^2}\\right]\\cdot V\\\\\n",
    "    &=\\left[A_EV_E^2 + \\frac{B_E}{V_E^2}\\right]\\cdot \\frac{V_E}{\\sqrt{\\sigma}}\\end{aligned}$$\n",
    "\n",
    "Similar to plotting drag vs. EAS, plotting $P\\sqrt{\\sigma}$ vs EAS collapses the curves for different altitudes onto one another, creating a single power curve vs. EAS. However, caution must be taken as the ordinate is not actual power, unlike for the drag plot, where the ordinate is dimensional true drag.\n",
    "\n",
    "It is left as an exercise for the reader to show this plot based upon those already given."
   ]
  },
  {
   "cell_type": "markdown",
   "metadata": {},
   "source": [
    "## Thrust Available vs. Thrust Required\n",
    "\n",
    "As stated previously, the aircraft total drag is analogous to the *total thrust force required* to maintain a condition. The total power is analogous to the *total propulsive power required* to maintain the condition.\n",
    "\n",
    "The aircraft powerplant creates thrust and power (more on the distinction, shortly), and this sets the range of possible flight speeds.\n",
    "\n",
    "Consider an aircraft engine capable of producing a thrust that is constant with forward speed (which isn't realistic, as we will see), this can be overlaid on the thrust OR power required curve.\n",
    "\n",
    "```{figure} ../Images/TrandTa.png\n",
    "---\n",
    "height: 300px\n",
    "name: TrandTa\n",
    "---\n",
    "Thrust Available and Thrust Required\n",
    "```\n",
    "Denoting the thrust produced by the powerplant as $T_A$, meaning *thrust available* and the total drag as $T_R$, meaning *thrust required*, the intersection between the $T_A$ and $T_R$ curves gives the possible flight speeds.\n",
    "\n",
    "$T_A$ is simply a number, whilst the $T_R$ curve is a polynomial so the intersection can be determined from:\n",
    "\n",
    "$$T_R=A\\cdot V^2 + B\\cdot V^{-2}$$\n",
    "\n",
    "Which is equal to the thrust available:\n",
    "\n",
    "$$T_R=A\\cdot V^2 + B\\cdot V^{-2}=T_A$$\n",
    "$$A\\cdot V^4 + B - T_A\\cdot V^2=0$$\n",
    "\n",
    "hence a quadratic in $V^2$ or \n",
    "\n",
    "$$a\\cdot (V^2)^2 +  b\\cdot (V^2) +  c=0$$\n",
    "with $a=A$, $b=-T_A$ and $c=B$\n",
    "\n",
    "$$V=\\sqrt{\\frac{T_A\\pm\\sqrt{T_A^2-4\\cdot A\\cdot B}}{2\\cdot A}}$$\n",
    "\n",
    "which yields the two velocities from the graph, $V_1$ and $V_2$.\n",
    "\n",
    "### Example\n",
    "\n",
    "For an aircraft with a drag equation described by:\n",
    "\n",
    "$$C_D = 0.016 + 0.045\\cdot C_L^2$$\n",
    "\n",
    "with a wing area of 50m$^2$, a weight of 160 tonnes, a $C_{L,max}=1.5$, flying at sea-level **determine the maximum and minimum flight speeds for a constant thrust of 10kN**\n",
    "\n",
    "```{admonition} Solution procedure - attempt the question before looking at the answer.\n",
    ":class: dropdown\n",
    "\n",
    "The drag equation gives you the constants $C_{D0}=0.016$ and $K=0.045$, and the remaining constants are provided in the question.\n",
    "\n",
    "This enables you to determine the profile drag factor A=0.49000001 and the induced drag factor B=37616325.974.\n",
    "\n",
    "With $T_A=10,000N$, you now have everything to solve the quadratic equation to yield $v_1=70.53m/s$ and $v_2=124.43m/s$.\n",
    "\n",
    "Look at the plot below, and see if you could reproduce is _without_ looking at the source code.\n",
    "```\n"
   ]
  },
  {
   "cell_type": "code",
   "execution_count": null,
   "metadata": {
    "scrolled": true,
    "tags": [
     "hide-input"
    ]
   },
   "outputs": [],
   "source": [
    "import plotly.io as pio\n",
    "import plotly.express as px\n",
    "import plotly.offline as py\n",
    "import plotly.graph_objects as go\n",
    "from ambiance import Atmosphere\n",
    "import numpy as np\n",
    "import cmath\n",
    "\n",
    "# Define constants\n",
    "CD0=0.016 # Zero incidence drag\n",
    "K=0.045 # Induced drag factor\n",
    "S=50 # Wing area, m^2\n",
    "W=160e3 # Aircarft weight, Newtons\n",
    "Clmax = 1.5\n",
    "\n",
    "alt=0; # Altitude\n",
    "\n",
    "mosphere = Atmosphere(alt*1000)\n",
    "rho = mosphere.density\n",
    "\n",
    "# Determine stall speed\n",
    "Vstall = np.sqrt(W / (0.5 * rho * S * Clmax))\n",
    "\n",
    "\n",
    "# Determine A and B\n",
    "A = CD0 * 0.5 * rho * S\n",
    "B = K * W ** 2 / 0.5 / rho / S\n",
    "\n",
    "# Flight speed vector\n",
    "Vs = np.linspace(Vstall[0], 200, 1000)\n",
    "\n",
    "\n",
    "# Define drags\n",
    "Dind = B * Vs**-2\n",
    "Dprof = A * Vs**2\n",
    "D = Dind + Dprof\n",
    "\n",
    "# Get minimum drag\n",
    "Vmd = (B/A)**.25\n",
    "md = A * Vmd**2 + B * Vmd**-2\n",
    "\n",
    "\n",
    "fig = go.Figure()\n",
    "# Thrust available\n",
    "TA = 10e3\n",
    "fig.add_trace(go.Scatter(x=[min(Vs), max(Vs)], y=[TA, TA], name=\"$T_A$\", mode=\"lines\"))\n",
    "\n",
    "# Get the intersection\n",
    "a = A\n",
    "b = -TA\n",
    "c = B\n",
    "flight_limit_speeds = np.sort(np.sqrt(np.roots([a, b, c])))\n",
    "\n",
    "\n",
    "\n",
    "fig.add_trace(go.Scatter(x=Vs, y=D, name=\"$T_R$\"))\n",
    "fig.add_trace(go.Scatter(x=Vmd, y=md, mode=\"markers+text\", text=\"$V_{md}$\", textposition=\"top center\", name=\"Annotation\"))\n",
    "\n",
    "fig.add_trace(go.Scatter(x=flight_limit_speeds, y=[TA, TA], mode=\"markers+text\", text=[f\"$V_{{1}}={flight_limit_speeds[0]:1.2f}$\", f\"$V_{{2}}={flight_limit_speeds[1]:1.2f}$\"], textposition=\"bottom center\", name=\"Annotation\"))\n",
    "\n",
    "\n",
    "\n",
    "fig.update_layout(\n",
    "    title=f\"Graphical Solution\",\n",
    "    xaxis_title=\"TAS / (m/s)\",\n",
    "    yaxis_title=\"Drag / N\",\n",
    "    legend_title=\"Drag Breakdown\",\n",
    ")\n",
    "\n",
    "for trace in fig['data']: \n",
    "    if(trace['name'] == \"Annotation\"): trace['showlegend'] = False\n",
    "\n",
    "fig.update_xaxes(range=[0, 200])\n",
    "fig.update_yaxes(range=[0, 20e3])\n"
   ]
  },
  {
   "cell_type": "markdown",
   "metadata": {},
   "source": [
    "### Speed stability in cruise\n",
    "\n",
    "In the figure above, for a fixed throttle setting of 10kN, _steady_ flight is possible at $V_1$ or $V_2$. At speeds $V_1$ or $V_2$ *only* $T_A=T_R$ and there is no *excess thrust*.\n",
    "\n",
    "At speeds $V_1 < v < V_2$, there is *positive excess thrust* and at speeds $v<V_1$ or $v>V_1$ there is *negative excess thrust* (sometimes called *excess drag*). With positive excess thrust, the aircarft *accelerates*. With negative excess thrust the aircraft *decellerates*.\n",
    "\n",
    "#### Flight at v1\n",
    "\n",
    "Consider flight at $V_1$ - *any* velocity perturbation (e.g., due to a gust) will move the aircraft into a condition of *excess thrust*. \n",
    "\n",
    "For the case with **no pilot input**, if the aircraft speeds up, there will be positive excess thrust leading to acceleration all the way to $V_2$. If the aircraft slows down, there will be negative excess thrust leading to decelleration all the way to $V_{stall}$.\n",
    "\n",
    "**This is speed instability, and leads to increased pilot workload (requires continual throttle adjustments)**\n",
    "\n",
    "#### Flight at v2\n",
    "\n",
    "Consider flight at $V_2$ - *any* velocity perturbation (e.g., due to a gust) will move the aircraft into a condition of *excess thrust*. \n",
    "\n",
    "For the case with **no pilot input**, if the aircraft speeds up, there will be negative excess thrust leading to decelleration back to $V_2$. If the aircraft slows down, there will be postitive excess thrust leading to acceleratiob back to $V_{2}$.\n",
    "\n",
    "**This is a stable system, with reduced pilot workload (no required throttle adjustments)**\n",
    "\n",
    "#### Stability boundary\n",
    "\n",
    "Consider that the pilot may adjust the throttle to increase or decrease the thrust. Accordingly, if in the example given above the $T_A$ line represents the _maximum_ thrust, then the throttle could be adjusted to allow cruise to be possible at all speeds $V_1\\le v\\le V_2$.\n",
    "\n",
    "Using the reasoning above, though, it can be seen that cruise at any velocity $V\\leq V_{md}$ will be subject to a speed instability.\n",
    "\n",
    "\n"
   ]
  },
  {
   "cell_type": "markdown",
   "metadata": {},
   "source": [
    "### Aircraft Propulsion - thrust or power available\n",
    "\n",
    "In the question above, it was assumed that the thrust was constant with forward speed. This is only the case for a pure turbojet or a high bypass-ratio turbofan. Before we can go further with the methogology, a broad comparison between aircraft powerplant types needs to be made.\n",
    "\n",
    "With infinite thrust/power available, our aircraft could fly anywhere on the D vs. TAS curve, but this is not the case in reality. Thrust and power are provided by the aircraft powerplant, sosome understanding of what it means to produce thrust is required.\n",
    "\n",
    "Newton's second law states that \"*force is equal to the rate of change of momentum*\". The momentum change in question is that of the fluid before and the effect of the propulsor.\n",
    "\n",
    "```{admonition} A revision of aircraft propulsion.\n",
    ":class: dropdown\n",
    "Recall that the fluid accelerates before and after the propulsor, and reaches the ultimate velocity at some downstream distance. \n",
    "\n",
    "All generalised jets, meaning any propulsor that works by accelerating a fluid provide a \\textsl{streamwise pressure discontinuity} which creates a continuous streamwise velocity variation. You may resolve the force as $F=\\Delta P\\cdot A$ or $F=\\dot{m}\\Delta V$, and these are equal to each other - they are not summative.\n",
    "```\n",
    "\n",
    "Defining a *jet efflux velocity*, $v_j$, as the velocity of the air when it is fully accelerated by the propulsor. Newton's second law is then:\n",
    "\n",
    "$$\\begin{aligned}\n",
    "    T &= \\frac{\\text{d}}{\\text{d}t}\\left({m}\\cdot\\Delta v\\right)\\\\\n",
    "    \\text{in steady flight, }\\Delta v=0\\\\\n",
    "    &=  \\dot{m}\\cdot\\Delta v \\\\\n",
    "    &= \\dot{m}\\Delta v\\\\\n",
    "    &= \\dot{m}\\left(v_j - V\\right)\\end{aligned}$$\n",
    "\n",
    "Considering *work done*; the work that the propulsor performs on the airframe is **useful work**, whilst any work done in providing the streamtube with veloocity is **waste work**.\n",
    "\n",
    "Work is force $\\times$ displacement in the direction of the force, and power is the rate of doing work, so:\\\n",
    "Useful power\n",
    "\n",
    "$$\\begin{aligned}\n",
    "    P &= T\\cdot V\\\\\n",
    "    &= \\dot{m}\\cdot\\left(v_j - V\\right)\\cdot V  \\end{aligned}$$\n",
    "\n",
    "Waste power is the rate of change of kinetic energy of the air:\n",
    "\n",
    "$$\\begin{aligned}\n",
    "    P_{waste}=\\frac{1}{2}\\dot{m}\\left(v_j-V\\right)^2    \\end{aligned}$$\n",
    "\n",
    "Which allows the definition of *propulsive efficiency* as a measure of the propulsive power to the total power required.\n",
    "\n",
    "$$\\begin{aligned}\n",
    "    \\eta&=\\frac{\\text{Useful (Propulsive) Power}}{\\text{Total Power Output}}\\\\\n",
    "    &= \\frac{T\\cdot V}{T\\cdot V + \\frac{1}{2}\\dot{m}\\left(v_j-V\\right)^2    }\\\\ \n",
    "    &= \\frac{\\dot{m}\\cdot\\left(v_j - V\\right)\\cdot V}{\\dot{m}\\cdot\\left(v_j - V\\right)\\cdot V + \\frac{1}{2}\\dot{m}\\left(v_j-V\\right)^2  }\\end{aligned}$$\n",
    "\n",
    "Noting that propulsive power is a function of the aerodynamics of the propulsor and does not include any effects such as losses in the powerplant itself.\n",
    "\n",
    "\n",
    "***Propellers and High Bypass-Ratio Turbofans*** have a high $\\dot{m}$ due to a large disc area, but a small $v_j$. This means:\n",
    "\n",
    "-   Lower fuel consumption due to small KE increase\n",
    "\n",
    "-   Rapid loss of thrust with forward speed due to small $v_j-V$\n",
    "\n",
    "These engines may be defined as **power engines** as their fuel consumption is generally linear with the power they produce. They have an associated **specific fuel consumption (SFC)** which has units of kg/s/W or lb/h/hP or equivalents.\n",
    "\n",
    "***Turbojets and Low Bypass-Ratio Turbofans*** have a small $\\dot{m}$ due to a small disc area, but a large $v_j$. This means:\n",
    "\n",
    "-   High fuel consumption due to large KE increase\n",
    "\n",
    "-   Little loss of thrust with forward speed due to small $v_j>>V$\n",
    "\n",
    "These engines are defined as **thrust engines** as their fuel consumption is generally linear with the thrust they produce. They have an associated **thrust specific fuel consumption (TSFC)** which has units of kg/s/N or lb/h/lbf or equivalents.\n",
    "\n",
    "#### Thrust and Power Model\n",
    "\n",
    "Since all aircraft propulsors accelerate a mass of air, it follows that their output is a function of air density/altitude - but also of many, many other factors. \n",
    "\n",
    "```{admonition} Validity of this model\n",
    ":class: dropdown\n",
    "\n",
    "In reality, the relationships for thrust and power for different types of engines are functions of forward speed, Mach number, density, temperature, and engine-specific factors relating to efficiency.\n",
    "\n",
    "For a detailed discussion of these effects, see Chapter 3 in \"Aircraft Performance and Design\" {cite}`Anderson:1999AP`. The summary on page 186 results in the altitude model used in \n",
    "\n",
    "```\n",
    "\n",
    "There are a myriad of different thrust and power models used for aircraft performance, but for this course, the simplest one will be used.\n",
    "\n",
    "For *thrust engines*, the altitude variation is described by:\n",
    "\n",
    "$$\\begin{aligned}\n",
    "    \\frac{T}{T_{SL}} &= k\\cdot\\sigma^n\\label{eq:thrustmodel}\\\\\n",
    "\\text{where}\\\\\n",
    "    k &: \\text{Throttle setting = 0 to 1}\\\\\n",
    "    T_{SL} &: \\text{Thrust produced at ISA SL}\\\\\n",
    "    \\sigma &: \\text{Density ratio} - \\frac{\\rho}{\\rho_{SL}}\\\\\n",
    "    n &: \\text{1 if not indicated otherwise} \\end{aligned}$$\n",
    "\n",
    "For *power engines*, the altitude variation is described by:\n",
    "\n",
    "$$\\begin{aligned}\n",
    "    \\frac{P}{P_{SL}} &= k\\cdot\\sigma^n\\\\\n",
    "\\text{where}\\\\\n",
    "    k &: \\text{Throttle setting = 0 to 1}\\\\\n",
    "    P_{SL} &: \\text{Power produced at ISA SL}\\\\\n",
    "    \\sigma &: \\text{Density ratio} - \\frac{\\rho}{\\rho_{SL}}\\\\\n",
    "    n &: \\text{1 if not indicated otherwise} \\end{aligned}$$\n",
    "\n",
    "Some sources list $n$ as an altitude dependent parameter that accounts for the change of lapse rate at the tropopause, whilst other list it as an engine-specific parameter. In this course, it will be used as a parameter that encompasses both - you will be able to assume $n=1.0$ unless otherwise directed."
   ]
  },
  {
   "cell_type": "markdown",
   "metadata": {},
   "source": [
    "### v1 and v2 with altitude\n",
    "\n",
    "With the thrust or power model now giving the variation of *available thrust* with altitude (with the change in density), the range of possible speeds can be determined for different altitudes.\n",
    "\n",
    "It can be appreciated that it is easier to perform this exercise in EAS rather than TAS, as there is a single $T_R$ curve in EAS.\n"
   ]
  },
  {
   "cell_type": "code",
   "execution_count": 25,
   "metadata": {
    "scrolled": false,
    "tags": [
     "hide-input"
    ]
   },
   "outputs": [
    {
     "data": {
      "application/papermill.record/text/plain": "93.60414386431086"
     },
     "metadata": {
      "scrapbook": {
       "mime_prefix": "application/papermill.record/",
       "name": "Vemd"
      }
     },
     "output_type": "display_data"
    },
    {
     "data": {
      "application/papermill.record/text/plain": "159.71914124998497"
     },
     "metadata": {
      "scrapbook": {
       "mime_prefix": "application/papermill.record/",
       "name": "Vmd"
      }
     },
     "output_type": "display_data"
    },
    {
     "data": {
      "application/vnd.plotly.v1+json": {
       "config": {
        "plotlyServerURL": "https://plot.ly"
       },
       "data": [
        {
         "name": "$T_R$",
         "type": "scatter",
         "x": [
          59.016889085065394,
          59.25811342031558,
          59.49933775556576,
          59.74056209081595,
          59.98178642606613,
          60.22301076131632,
          60.464235096566505,
          60.705459431816685,
          60.94668376706687,
          61.18790810231706,
          61.42913243756724,
          61.67035677281743,
          61.91158110806761,
          62.152805443317796,
          62.39402977856798,
          62.63525411381816,
          62.87647844906835,
          63.11770278431854,
          63.35892711956872,
          63.600151454818906,
          63.84137579006909,
          64.08260012531927,
          64.32382446056945,
          64.56504879581965,
          64.80627313106983,
          65.04749746632001,
          65.2887218015702,
          65.52994613682039,
          65.77117047207057,
          66.01239480732075,
          66.25361914257094,
          66.49484347782112,
          66.7360678130713,
          66.9772921483215,
          67.21851648357168,
          67.45974081882186,
          67.70096515407205,
          67.94218948932223,
          68.18341382457241,
          68.42463815982259,
          68.66586249507279,
          68.90708683032297,
          69.14831116557315,
          69.38953550082334,
          69.63075983607352,
          69.8719841713237,
          70.1132085065739,
          70.35443284182408,
          70.59565717707426,
          70.83688151232445,
          71.07810584757463,
          71.31933018282481,
          71.56055451807501,
          71.80177885332519,
          72.04300318857537,
          72.28422752382556,
          72.52545185907574,
          72.76667619432592,
          73.0079005295761,
          73.2491248648263,
          73.49034920007648,
          73.73157353532666,
          73.97279787057685,
          74.21402220582704,
          74.45524654107722,
          74.6964708763274,
          74.93769521157759,
          75.17891954682777,
          75.42014388207795,
          75.66136821732815,
          75.90259255257833,
          76.1438168878285,
          76.3850412230787,
          76.62626555832888,
          76.86748989357906,
          77.10871422882926,
          77.34993856407944,
          77.59116289932962,
          77.83238723457981,
          78.07361156982999,
          78.31483590508017,
          78.55606024033037,
          78.79728457558055,
          79.03850891083073,
          79.27973324608092,
          79.5209575813311,
          79.76218191658128,
          80.00340625183146,
          80.24463058708166,
          80.48585492233184,
          80.72707925758202,
          80.9683035928322,
          81.2095279280824,
          81.45075226333257,
          81.69197659858276,
          81.93320093383295,
          82.17442526908313,
          82.41564960433331,
          82.6568739395835,
          82.89809827483369,
          83.13932261008387,
          83.38054694533406,
          83.62177128058424,
          83.86299561583442,
          84.10421995108462,
          84.3454442863348,
          84.58666862158498,
          84.82789295683517,
          85.06911729208535,
          85.31034162733553,
          85.55156596258573,
          85.79279029783591,
          86.03401463308609,
          86.27523896833627,
          86.51646330358646,
          86.75768763883664,
          86.99891197408682,
          87.240136309337,
          87.4813606445872,
          87.72258497983738,
          87.96380931508756,
          88.20503365033775,
          88.44625798558793,
          88.68748232083811,
          88.92870665608831,
          89.16993099133849,
          89.41115532658867,
          89.65237966183886,
          89.89360399708904,
          90.13482833233923,
          90.37605266758942,
          90.6172770028396,
          90.85850133808978,
          91.09972567333998,
          91.34095000859016,
          91.58217434384034,
          91.82339867909053,
          92.06462301434071,
          92.30584734959089,
          92.54707168484109,
          92.78829602009125,
          93.02952035534145,
          93.27074469059164,
          93.51196902584181,
          93.753193361092,
          93.99441769634218,
          94.23564203159236,
          94.47686636684256,
          94.71809070209274,
          94.95931503734292,
          95.20053937259311,
          95.4417637078433,
          95.68298804309347,
          95.92421237834367,
          96.16543671359385,
          96.40666104884403,
          96.64788538409422,
          96.8891097193444,
          97.13033405459458,
          97.37155838984478,
          97.61278272509496,
          97.85400706034514,
          98.09523139559533,
          98.33645573084551,
          98.5776800660957,
          98.81890440134589,
          99.06012873659606,
          99.30135307184625,
          99.54257740709645,
          99.78380174234661,
          100.0250260775968,
          100.266250412847,
          100.50747474809717,
          100.74869908334736,
          100.98992341859754,
          101.23114775384772,
          101.47237208909792,
          101.7135964243481,
          101.95482075959828,
          102.19604509484847,
          102.43726943009865,
          102.67849376534883,
          102.91971810059903,
          103.16094243584921,
          103.40216677109939,
          103.64339110634958,
          103.88461544159976,
          104.12583977684994,
          104.36706411210014,
          104.60828844735032,
          104.8495127826005,
          105.0907371178507,
          105.33196145310086,
          105.57318578835105,
          105.81441012360125,
          106.05563445885142,
          106.29685879410161,
          106.5380831293518,
          106.77930746460197,
          107.02053179985217,
          107.26175613510235,
          107.50298047035253,
          107.74420480560272,
          107.9854291408529,
          108.22665347610308,
          108.46787781135328,
          108.70910214660346,
          108.95032648185364,
          109.19155081710383,
          109.43277515235401,
          109.67399948760419,
          109.91522382285439,
          110.15644815810457,
          110.39767249335475,
          110.63889682860494,
          110.88012116385512,
          111.1213454991053,
          111.3625698343555,
          111.60379416960568,
          111.84501850485586,
          112.08624284010605,
          112.32746717535622,
          112.56869151060641,
          112.80991584585661,
          113.05114018110677,
          113.29236451635697,
          113.53358885160715,
          113.77481318685733,
          114.01603752210752,
          114.2572618573577,
          114.49848619260788,
          114.73971052785808,
          114.98093486310826,
          115.22215919835844,
          115.46338353360863,
          115.70460786885882,
          115.945832204109,
          116.18705653935919,
          116.42828087460937,
          116.66950520985955,
          116.91072954510975,
          117.15195388035993,
          117.3931782156101,
          117.6344025508603,
          117.87562688611048,
          118.11685122136066,
          118.35807555661086,
          118.59929989186102,
          118.84052422711122,
          119.08174856236141,
          119.32297289761158,
          119.56419723286177,
          119.80542156811197,
          120.04664590336213,
          120.28787023861233,
          120.52909457386251,
          120.77031890911269,
          121.01154324436288,
          121.25276757961306,
          121.49399191486324,
          121.73521625011344,
          121.97644058536362,
          122.2176649206138,
          122.458889255864,
          122.70011359111417,
          122.94133792636435,
          123.18256226161455,
          123.42378659686472,
          123.66501093211491,
          123.9062352673651,
          124.14745960261527,
          124.38868393786547,
          124.62990827311566,
          124.87113260836583,
          125.11235694361602,
          125.35358127886622,
          125.59480561411638,
          125.83602994936658,
          126.07725428461677,
          126.31847861986694,
          126.55970295511713,
          126.80092729036733,
          127.04215162561749,
          127.28337596086769,
          127.52460029611788,
          127.76582463136805,
          128.00704896661824,
          128.24827330186844,
          128.4894976371186,
          128.7307219723688,
          128.97194630761896,
          129.21317064286916,
          129.45439497811935,
          129.69561931336952,
          129.9368436486197,
          130.1780679838699,
          130.41929231912007,
          130.66051665437027,
          130.90174098962046,
          131.14296532487063,
          131.38418966012082,
          131.62541399537102,
          131.86663833062119,
          132.10786266587138,
          132.34908700112157,
          132.59031133637174,
          132.83153567162194,
          133.07276000687213,
          133.3139843421223,
          133.5552086773725,
          133.79643301262269,
          134.03765734787285,
          134.27888168312305,
          134.52010601837324,
          134.7613303536234,
          135.0025546888736,
          135.2437790241238,
          135.48500335937396,
          135.72622769462416,
          135.96745202987432,
          136.20867636512452,
          136.4499007003747,
          136.69112503562488,
          136.93234937087507,
          137.17357370612527,
          137.41479804137543,
          137.65602237662563,
          137.89724671187582,
          138.138471047126,
          138.37969538237618,
          138.62091971762638,
          138.86214405287654,
          139.10336838812674,
          139.34459272337693,
          139.5858170586271,
          139.8270413938773,
          140.0682657291275,
          140.30949006437766,
          140.55071439962785,
          140.79193873487804,
          141.0331630701282,
          141.2743874053784,
          141.5156117406286,
          141.75683607587877,
          141.99806041112896,
          142.23928474637913,
          142.48050908162932,
          142.72173341687952,
          142.96295775212968,
          143.20418208737988,
          143.44540642263007,
          143.68663075788024,
          143.92785509313043,
          144.16907942838063,
          144.4103037636308,
          144.651528098881,
          144.89275243413118,
          145.13397676938135,
          145.37520110463154,
          145.61642543988174,
          145.8576497751319,
          146.0988741103821,
          146.3400984456323,
          146.58132278088246,
          146.82254711613265,
          147.06377145138285,
          147.30499578663301,
          147.5462201218832,
          147.7874444571334,
          148.02866879238357,
          148.26989312763376,
          148.51111746288393,
          148.75234179813413,
          148.99356613338432,
          149.2347904686345,
          149.47601480388468,
          149.71723913913488,
          149.95846347438504,
          150.19968780963524,
          150.44091214488543,
          150.6821364801356,
          150.9233608153858,
          151.164585150636,
          151.40580948588615,
          151.64703382113635,
          151.88825815638654,
          152.1294824916367,
          152.3707068268869,
          152.6119311621371,
          152.85315549738726,
          153.09437983263746,
          153.33560416788765,
          153.57682850313782,
          153.818052838388,
          154.0592771736382,
          154.30050150888837,
          154.54172584413857,
          154.78295017938876,
          155.02417451463893,
          155.26539884988912,
          155.5066231851393,
          155.74784752038948,
          155.98907185563968,
          156.23029619088985,
          156.47152052614004,
          156.71274486139023,
          156.9539691966404,
          157.1951935318906,
          157.4364178671408,
          157.67764220239096,
          157.91886653764115,
          158.16009087289135,
          158.4013152081415,
          158.6425395433917,
          158.8837638786419,
          159.12498821389207,
          159.36621254914226,
          159.60743688439246,
          159.84866121964262,
          160.08988555489282,
          160.331109890143,
          160.57233422539318,
          160.81355856064337,
          161.05478289589357,
          161.29600723114373,
          161.53723156639393,
          161.7784559016441,
          162.0196802368943,
          162.26090457214448,
          162.50212890739465,
          162.74335324264484,
          162.98457757789504,
          163.2258019131452,
          163.4670262483954,
          163.7082505836456,
          163.94947491889576,
          164.19069925414595,
          164.43192358939615,
          164.67314792464632,
          164.9143722598965,
          165.1555965951467,
          165.39682093039687,
          165.63804526564707,
          165.87926960089726,
          166.12049393614743,
          166.36171827139762,
          166.60294260664782,
          166.84416694189798,
          167.08539127714818,
          167.32661561239837,
          167.56783994764854,
          167.80906428289873,
          168.0502886181489,
          168.2915129533991,
          168.5327372886493,
          168.77396162389945,
          169.01518595914965,
          169.25641029439984,
          169.49763462965,
          169.7388589649002,
          169.9800833001504,
          170.22130763540056,
          170.46253197065076,
          170.70375630590095,
          170.94498064115112,
          171.1862049764013,
          171.4274293116515,
          171.66865364690167,
          171.90987798215187,
          172.15110231740206,
          172.39232665265223,
          172.63355098790242,
          172.87477532315262,
          173.11599965840279,
          173.35722399365298,
          173.59844832890317,
          173.83967266415334,
          174.08089699940354,
          174.32212133465373,
          174.5633456699039,
          174.8045700051541,
          175.04579434040426,
          175.28701867565445,
          175.52824301090465,
          175.7694673461548,
          176.010691681405,
          176.2519160166552,
          176.49314035190537,
          176.73436468715556,
          176.97558902240576,
          177.21681335765592,
          177.45803769290612,
          177.6992620281563,
          177.94048636340648,
          178.18171069865667,
          178.42293503390687,
          178.66415936915703,
          178.90538370440723,
          179.14660803965742,
          179.3878323749076,
          179.62905671015778,
          179.87028104540798,
          180.11150538065814,
          180.35272971590834,
          180.59395405115853,
          180.8351783864087,
          181.0764027216589,
          181.31762705690906,
          181.55885139215926,
          181.80007572740945,
          182.04130006265962,
          182.2825243979098,
          182.52374873316,
          182.76497306841017,
          183.00619740366037,
          183.24742173891056,
          183.48864607416073,
          183.72987040941092,
          183.97109474466112,
          184.21231907991128,
          184.45354341516148,
          184.69476775041167,
          184.93599208566184,
          185.17721642091203,
          185.41844075616223,
          185.6596650914124,
          185.9008894266626,
          186.14211376191278,
          186.38333809716295,
          186.62456243241314,
          186.86578676766334,
          187.1070111029135,
          187.3482354381637,
          187.5894597734139,
          187.83068410866406,
          188.07190844391425,
          188.31313277916445,
          188.55435711441461,
          188.7955814496648,
          189.036805784915,
          189.27803012016517,
          189.51925445541536,
          189.76047879066556,
          190.00170312591572,
          190.24292746116592,
          190.4841517964161,
          190.72537613166628,
          190.96660046691647,
          191.20782480216667,
          191.44904913741684,
          191.69027347266703,
          191.93149780791722,
          192.1727221431674,
          192.41394647841759,
          192.65517081366775,
          192.89639514891795,
          193.13761948416814,
          193.3788438194183,
          193.6200681546685,
          193.8612924899187,
          194.10251682516886,
          194.34374116041906,
          194.58496549566925,
          194.82618983091942,
          195.0674141661696,
          195.3086385014198,
          195.54986283666997,
          195.79108717192017,
          196.03231150717036,
          196.27353584242053,
          196.51476017767072,
          196.75598451292092,
          196.99720884817108,
          197.23843318342128,
          197.47965751867147,
          197.72088185392164,
          197.96210618917183,
          198.20333052442203,
          198.4445548596722,
          198.6857791949224,
          198.92700353017256,
          199.16822786542275,
          199.40945220067294,
          199.6506765359231,
          199.8919008711733,
          200.1331252064235,
          200.37434954167367,
          200.61557387692386,
          200.85679821217406,
          201.09802254742422,
          201.33924688267442,
          201.5804712179246,
          201.82169555317478,
          202.06291988842497,
          202.30414422367517,
          202.54536855892533,
          202.78659289417553,
          203.02781722942572,
          203.2690415646759,
          203.51026589992608,
          203.75149023517628,
          203.99271457042644,
          204.23393890567664,
          204.47516324092683,
          204.716387576177,
          204.9576119114272,
          205.1988362466774,
          205.44006058192755,
          205.68128491717775,
          205.92250925242791,
          206.1637335876781,
          206.4049579229283,
          206.64618225817847,
          206.88740659342866,
          207.12863092867886,
          207.36985526392903,
          207.61107959917922,
          207.85230393442941,
          208.09352826967958,
          208.33475260492978,
          208.57597694017997,
          208.81720127543014,
          209.05842561068033,
          209.29964994593053,
          209.5408742811807,
          209.7820986164309,
          210.02332295168108,
          210.26454728693125,
          210.50577162218144,
          210.74699595743164,
          210.9882202926818,
          211.229444627932,
          211.4706689631822,
          211.71189329843236,
          211.95311763368255,
          212.19434196893272,
          212.4355663041829,
          212.6767906394331,
          212.91801497468327,
          213.15923930993347,
          213.40046364518366,
          213.64168798043383,
          213.88291231568402,
          214.12413665093422,
          214.36536098618438,
          214.60658532143458,
          214.84780965668477,
          215.08903399193494,
          215.33025832718513,
          215.57148266243533,
          215.8127069976855,
          216.0539313329357,
          216.29515566818588,
          216.53638000343605,
          216.77760433868625,
          217.01882867393644,
          217.2600530091866,
          217.5012773444368,
          217.742501679687,
          217.98372601493716,
          218.22495035018736,
          218.46617468543752,
          218.70739902068772,
          218.9486233559379,
          219.18984769118808,
          219.43107202643827,
          219.67229636168847,
          219.91352069693863,
          220.15474503218883,
          220.39596936743902,
          220.6371937026892,
          220.87841803793938,
          221.11964237318958,
          221.36086670843974,
          221.60209104368994,
          221.84331537894013,
          222.0845397141903,
          222.3257640494405,
          222.5669883846907,
          222.80821271994085,
          223.04943705519105,
          223.29066139044124,
          223.5318857256914,
          223.7731100609416,
          224.0143343961918,
          224.25555873144197,
          224.49678306669216,
          224.73800740194235,
          224.97923173719252,
          225.22045607244272,
          225.46168040769288,
          225.70290474294308,
          225.94412907819327,
          226.18535341344344,
          226.42657774869363,
          226.66780208394383,
          226.909026419194,
          227.1502507544442,
          227.39147508969438,
          227.63269942494455,
          227.87392376019474,
          228.11514809544494,
          228.3563724306951,
          228.5975967659453,
          228.8388211011955,
          229.08004543644566,
          229.32126977169585,
          229.56249410694605,
          229.8037184421962,
          230.0449427774464,
          230.2861671126966,
          230.52739144794677,
          230.76861578319696,
          231.00984011844716,
          231.25106445369732,
          231.49228878894752,
          231.73351312419769,
          231.97473745944788,
          232.21596179469807,
          232.45718612994824,
          232.69841046519844,
          232.93963480044863,
          233.1808591356988,
          233.422083470949,
          233.66330780619919,
          233.90453214144935,
          234.14575647669955,
          234.38698081194974,
          234.6282051471999,
          234.8694294824501,
          235.1106538177003,
          235.35187815295046,
          235.59310248820066,
          235.83432682345085,
          236.07555115870102,
          236.3167754939512,
          236.5579998292014,
          236.79922416445157,
          237.04044849970177,
          237.28167283495196,
          237.52289717020213,
          237.76412150545232,
          238.0053458407025,
          238.24657017595268,
          238.48779451120288,
          238.72901884645304,
          238.97024318170324,
          239.21146751695343,
          239.4526918522036,
          239.6939161874538,
          239.935140522704,
          240.17636485795416,
          240.41758919320435,
          240.65881352845454,
          240.9000378637047,
          241.1412621989549,
          241.3824865342051,
          241.62371086945527,
          241.86493520470546,
          242.10615953995566,
          242.34738387520582,
          242.58860821045602,
          242.8298325457062,
          243.07105688095638,
          243.31228121620657,
          243.55350555145677,
          243.79472988670693,
          244.03595422195713,
          244.2771785572073,
          244.5184028924575,
          244.75962722770768,
          245.00085156295785,
          245.24207589820804,
          245.48330023345824,
          245.7245245687084,
          245.9657489039586,
          246.2069732392088,
          246.44819757445896,
          246.68942190970915,
          246.93064624495935,
          247.17187058020951,
          247.4130949154597,
          247.6543192507099,
          247.89554358596007,
          248.13676792121026,
          248.37799225646046,
          248.61921659171063,
          248.86044092696082,
          249.10166526221101,
          249.34288959746118,
          249.58411393271138,
          249.82533826796157,
          250.06656260321174,
          250.30778693846193,
          250.54901127371213,
          250.7902356089623,
          251.0314599442125,
          251.27268427946265,
          251.51390861471285,
          251.75513294996304,
          251.9963572852132,
          252.2375816204634,
          252.4788059557136,
          252.72003029096376,
          252.96125462621396,
          253.20247896146415,
          253.44370329671432,
          253.6849276319645,
          253.9261519672147,
          254.16737630246487,
          254.40860063771507,
          254.64982497296526,
          254.89104930821543,
          255.13227364346562,
          255.37349797871582,
          255.61472231396598,
          255.85594664921618,
          256.09717098446635,
          256.33839531971654,
          256.57961965496673,
          256.82084399021693,
          257.06206832546707,
          257.30329266071726,
          257.54451699596746,
          257.78574133121765,
          258.02696566646785,
          258.268190001718,
          258.5094143369682,
          258.7506386722184,
          258.99186300746857,
          259.23308734271876,
          259.47431167796896,
          259.7155360132191,
          259.9567603484693,
          260.1979846837195,
          260.4392090189697,
          260.6804333542199,
          260.92165768947007,
          261.1628820247202,
          261.4041063599704,
          261.6453306952206,
          261.8865550304708,
          262.127779365721,
          262.3690037009712,
          262.6102280362213,
          262.8514523714715,
          263.0926767067217,
          263.3339010419719,
          263.5751253772221,
          263.81634971247223,
          264.0575740477224,
          264.2987983829726,
          264.5400227182228,
          264.781247053473,
          265.0224713887232,
          265.26369572397334,
          265.50492005922354,
          265.74614439447373,
          265.9873687297239,
          266.2285930649741,
          266.4698174002243,
          266.71104173547445,
          266.95226607072465,
          267.19349040597484,
          267.43471474122504,
          267.67593907647523,
          267.9171634117254,
          268.15838774697556,
          268.39961208222576,
          268.64083641747595,
          268.88206075272615,
          269.12328508797634,
          269.36450942322654,
          269.6057337584767,
          269.84695809372687,
          270.08818242897706,
          270.32940676422726,
          270.57063109947745,
          270.8118554347276,
          271.0530797699778,
          271.294304105228,
          271.5355284404782,
          271.77675277572837,
          272.01797711097856,
          272.2592014462287,
          272.5004257814789,
          272.7416501167291,
          272.9828744519793,
          273.2240987872295,
          273.4653231224797,
          273.7065474577298,
          273.94777179298,
          274.1889961282302,
          274.4302204634804,
          274.6714447987306,
          274.9126691339808,
          275.1538934692309,
          275.3951178044811,
          275.6363421397313,
          275.8775664749815,
          276.1187908102317,
          276.3600151454819,
          276.60123948073203,
          276.8424638159822,
          277.0836881512324,
          277.3249124864826,
          277.5661368217328,
          277.80736115698295,
          278.04858549223314,
          278.28980982748334,
          278.53103416273353,
          278.7722584979837,
          279.0134828332339,
          279.25470716848406,
          279.49593150373425,
          279.73715583898445,
          279.97838017423464,
          280.21960450948484,
          280.46082884473503,
          280.70205317998517,
          280.94327751523537,
          281.18450185048556,
          281.42572618573575,
          281.66695052098595,
          281.90817485623614,
          282.1493991914863,
          282.3906235267365,
          282.63184786198667,
          282.87307219723687,
          283.11429653248706,
          283.3555208677372,
          283.5967452029874,
          283.8379695382376,
          284.0791938734878,
          284.320418208738,
          284.56164254398817,
          284.8028668792383,
          285.0440912144885,
          285.2853155497387,
          285.5265398849889,
          285.7677642202391,
          286.0089885554893,
          286.2502128907394,
          286.4914372259896,
          286.7326615612398,
          286.97388589649,
          287.2151102317402,
          287.4563345669904,
          287.69755890224053,
          287.9387832374907,
          288.1800075727409,
          288.4212319079911,
          288.6624562432413,
          288.9036805784915,
          289.14490491374164,
          289.38612924899184,
          289.62735358424203,
          289.8685779194922,
          290.1098022547424,
          290.35102658999256,
          290.59225092524275,
          290.83347526049295,
          291.07469959574314,
          291.31592393099334,
          291.55714826624353,
          291.79837260149367,
          292.03959693674386,
          292.28082127199406,
          292.52204560724425,
          292.76326994249445,
          293.00449427774464,
          293.2457186129948,
          293.486942948245,
          293.72816728349517,
          293.96939161874536,
          294.21061595399556,
          294.45184028924575,
          294.6930646244959,
          294.9342889597461,
          295.1755132949963,
          295.4167376302465,
          295.65796196549667,
          295.89918630074686,
          296.140410635997,
          296.3816349712472,
          296.6228593064974,
          296.8640836417476,
          297.1053079769978,
          297.3465323122479,
          297.5877566474981,
          297.8289809827483,
          298.0702053179985,
          298.3114296532487,
          298.5526539884989,
          298.793878323749,
          299.0351026589992,
          299.2763269942494,
          299.5175513294996,
          299.7587756647498,
          300
         ],
         "y": [
          12506.666666666666,
          12432.897758554724,
          12360.250976317275,
          12288.709151804478,
          12218.255461390341,
          12148.873417709352,
          12080.546861623454,
          12013.259954411995,
          11946.99717017762,
          11881.743288461363,
          11817.483387060302,
          11754.202835041478,
          11691.88728594601,
          11630.52267117746,
          11570.095193568783,
          11510.591321122383,
          11451.99778091794,
          11394.301553182919,
          11337.489865520796,
          11281.550187292243,
          11226.470224144632,
          11172.237912685421,
          11118.841415295114,
          11066.269115075596,
          11014.5096109299,
          10963.551712769384,
          10913.38443684471,
          10863.997001196878,
          10815.378821224818,
          10767.519505366185,
          10720.40885088801,
          10674.03683978408,
          10628.393634775883,
          10583.469575414238,
          10539.25517427867,
          10495.741113271728,
          10452.918240005572,
          10410.777564278222,
          10369.310254636886,
          10328.50763502598,
          10288.361181517408,
          10248.86251912084,
          10210.003418671731,
          10171.775793794963,
          10134.171697941958,
          10097.183321499295,
          10060.80298896683,
          10025.02315620344,
          9989.836407738509,
          9955.23545414741,
          9921.213129489244,
          9887.762388805098,
          9854.876305675278,
          9822.548069833867,
          9790.770984839113,
          9759.538465798134,
          9728.844037144525,
          9698.681330467434,
          9669.044082390776,
          9639.926132501245,
          9611.321421323883,
          9583.223988343885,
          9555.627970073547,
          9528.52759816307,
          9501.917197554172,
          9475.79118467537,
          9450.144065677843,
          9424.970434710875,
          9400.264972235835,
          9376.022443377726,
          9352.237696313357,
          9328.905660695193,
          9306.021346109985,
          9283.579840571343,
          9261.576309045333,
          9240.005992008326,
          9218.864204036301,
          9198.146332424763,
          9177.84783583859,
          9157.964242991002,
          9138.491151351,
          9119.424225878529,
          9100.759197786712,
          9082.491863330473,
          9064.618082620942,
          9047.133778464984,
          9030.034935229254,
          9013.317597728204,
          8996.977870135448,
          8981.01191491793,
          8965.415951792362,
          8950.186256703366,
          8935.319160822872,
          8920.8110495702,
          8906.658361652371,
          8892.857588124172,
          8879.405271467514,
          8866.298004689606,
          8853.532430439538,
          8841.105240142839,
          8829.013173153562,
          8817.253015923543,
          8805.821601188403,
          8794.715807169898,
          8783.932556794283,
          8773.468816926295,
          8763.3215976184,
          8753.487951374971,
          8743.964972431044,
          8734.749796045335,
          8725.839597807184,
          8717.23159295714,
          8708.923035720825,
          8700.911218655863,
          8693.193472011493,
          8685.76716310067,
          8678.6296956843,
          8671.7785093674,
          8665.211079006884,
          8658.92491413075,
          8652.917558368381,
          8647.186588891744,
          8641.72961586725,
          8636.544281918033,
          8631.628261596416,
          8626.979260866361,
          8622.595016595686,
          8618.473296057822,
          8614.611896442919,
          8611.008644378106,
          8607.661395456686,
          8604.568033776113,
          8601.726471484535,
          8599.134648335717,
          8596.790531252214,
          8594.692113896546,
          8592.837416250286,
          8591.224484200833,
          8589.851389135747,
          8588.716227544468,
          8587.817120627285,
          8587.152213911377,
          8586.719676873814,
          8586.517702571335,
          8586.544507276813,
          8586.79833012222,
          8587.277432747986,
          8587.980098958622,
          8588.904634384482,
          8590.049366149502,
          8591.41264254487,
          8592.992832708413,
          8594.788326309676,
          8596.797533240515,
          8599.018883311115,
          8601.45082595135,
          8604.091829917314,
          8606.940383003004,
          8609.994991756976,
          8613.254181203913,
          8616.71649457103,
          8620.380493019164,
          8624.244755378491,
          8628.307877888803,
          8632.568473944186,
          8637.02517384209,
          8641.676624536662,
          8646.521489396255,
          8651.55844796506,
          8656.786195728766,
          8662.203443884162,
          8667.808919112624,
          8673.601363357397,
          8679.57953360461,
          8685.742201667941,
          8692.088153976878,
          8698.616191368492,
          8705.325128882672,
          8712.213795560732,
          8719.281034247364,
          8726.52570139582,
          8733.946666876334,
          8741.542813787648,
          8749.313038271635,
          8757.256249330952,
          8765.371368649645,
          8773.657330416678,
          8782.113081152309,
          8790.7375795373,
          8799.529796244833,
          8808.488713775178,
          8817.61332629298,
          8826.902639467175,
          8836.355670313449,
          8845.97144703921,
          8855.749008891033,
          8865.687406004517,
          8875.785699256525,
          8886.04296011975,
          8896.458270519593,
          8907.030722693258,
          8917.759419051092,
          8928.643472040076,
          8939.682004009444,
          8950.874147078426,
          8962.219043006005,
          8973.715843062728,
          8985.363707904486,
          8997.161807448252,
          9009.109320749732,
          9021.205435882881,
          9033.449349821303,
          9045.840268321428,
          9058.377405807512,
          9071.059985258351,
          9083.887238095753,
          9096.85840407468,
          9109.972731175061,
          9123.22947549525,
          9136.627901147076,
          9150.167280152476,
          9163.846892341682,
          9177.666025252944,
          9191.62397403373,
          9205.720041343417,
          9219.953537257432,
          9234.323779172799,
          9248.830091715114,
          9263.471806646867,
          9278.248262777142,
          9293.15880587263,
          9308.20278856996,
          9323.379570289313,
          9338.6885171493,
          9354.129001883082,
          9369.700403755724,
          9385.402108482725,
          9401.233508149773,
          9417.194001133616,
          9433.282992024107,
          9449.499891547373,
          9465.844116490067,
          9482.315089624733,
          9498.912239636247,
          9515.635001049264,
          9532.482814156763,
          9549.455124949567,
          9566.551385046876,
          9583.771051627806,
          9601.113587363861,
          9618.578460352388,
          9636.165144050972,
          9653.873117212728,
          9671.70186382253,
          9689.650873034127,
          9707.719639108123,
          9725.907661350848,
          9744.214444054065,
          9762.639496435522,
          9781.182332580323,
          9799.842471383123,
          9818.619436491103,
          9837.512756247765,
          9856.52196363746,
          9875.646596230708,
          9894.886196130266,
          9914.240309917917,
          9933.708488602002,
          9953.290287565667,
          9972.985266515805,
          9992.792989432697,
          10012.713024520346,
          10032.744944157466,
          10052.888324849133,
          10073.142747179121,
          10093.507795762825,
          10113.983059200862,
          10134.56813003328,
          10155.262604694366,
          10176.066083468073,
          10196.978170444047,
          10217.998473474212,
          10239.126604129959,
          10260.362177659892,
          10281.704812948134,
          10303.154132473164,
          10324.70976226725,
          10346.37133187635,
          10368.138474320573,
          10390.010826055175,
          10411.988026932027,
          10434.069720161613,
          10456.255552275503,
          10478.54517308934,
          10500.93823566629,
          10523.434396280962,
          10546.033314383803,
          10568.73465256596,
          10591.538076524579,
          10614.443255028551,
          10637.44985988472,
          10660.557565904504,
          10683.766050870929,
          10707.074995506133,
          10730.48408343923,
          10753.993001174611,
          10777.601438060661,
          10801.309086258827,
          10825.11564071312,
          10849.020799119999,
          10873.02426189859,
          10897.12573216135,
          10921.324915685043,
          10945.621520882098,
          10970.01525877233,
          10994.505842955023,
          11019.092989581333,
          11043.776417327055,
          11068.55584736574,
          11093.431003342106,
          11118.40161134583,
          11143.467399885609,
          11168.628099863585,
          11193.883444550074,
          11219.233169558589,
          11244.677012821185,
          11270.214714564107,
          11295.846017283726,
          11321.570665722777,
          11347.388406846885,
          11373.298989821378,
          11399.302165988367,
          11425.397688844141,
          11451.585314016791,
          11477.864799244124,
          11504.235904351855,
          11530.698391232056,
          11557.252023821833,
          11583.896568082317,
          11610.631791977848,
          11637.457465455454,
          11664.373360424548,
          11691.379250736874,
          11718.474912166686,
          11745.660122391191,
          11772.93466097118,
          11800.298309331918,
          11827.750850744256,
          11855.29207030595,
          11882.921754923236,
          11910.639693292569,
          11938.445675882629,
          11966.3394949165,
          11994.320944354076,
          12022.389819874672,
          12050.545918859838,
          12078.789040376345,
          12107.118985159424,
          12135.535555596158,
          12164.03855570907,
          12192.627791139905,
          12221.303069133628,
          12250.064198522552,
          12278.910989710681,
          12307.843254658255,
          12336.860806866413,
          12365.963461362086,
          12395.151034683038,
          12424.423344863082,
          12453.780211417454,
          12483.221455328385,
          12512.746899030788,
          12542.356366398173,
          12572.049682728635,
          12601.826674731092,
          12631.687170511615,
          12661.630999559935,
          12691.657992736093,
          12721.767982257265,
          12751.960801684696,
          12782.236285910803,
          12812.594271146441,
          12843.034594908253,
          12873.55709600623,
          12904.161614531364,
          12934.847991843442,
          12965.616070559001,
          12996.465694539393,
          13027.396708878983,
          13058.408959893484,
          13089.502295108443,
          13120.676563247785,
          13151.931614222574,
          13183.267299119821,
          13214.68347019146,
          13246.179980843417,
          13277.75668562483,
          13309.41344021735,
          13341.150101424579,
          13372.966527161627,
          13404.862576444766,
          13436.838109381217,
          13468.89298715902,
          13501.027072037032,
          13533.240227335054,
          13565.532317424002,
          13597.903207716237,
          13630.352764656007,
          13662.88085570993,
          13695.487349357634,
          13728.172115082492,
          13760.935023362419,
          13793.775945660807,
          13826.694754417547,
          13859.691323040117,
          13892.765525894805,
          13925.917238298018,
          13959.146336507645,
          13992.452697714558,
          14025.836200034182,
          14059.296722498148,
          14092.834145046045,
          14126.448348517253,
          14160.139214642875,
          14193.90662603771,
          14227.750466192381,
          14261.670619465474,
          14295.66697107581,
          14329.739407094765,
          14363.887814438682,
          14398.11208086138,
          14432.412094946696,
          14466.78774610115,
          14501.238924546664,
          14535.765521313344,
          14570.367428232366,
          14605.044537928921,
          14639.796743815219,
          14674.623940083577,
          14709.526021699596,
          14744.502884395366,
          14779.554424662778,
          14814.680539746889,
          14849.881127639346,
          14885.156087071891,
          14920.50531750994,
          14955.928719146184,
          14991.426192894316,
          15026.99764038277,
          15062.64296394855,
          15098.362066631109,
          15134.154852166314,
          15170.021224980417,
          15205.961090184162,
          15241.974353566882,
          15278.060921590682,
          15314.22070138472,
          15350.453600739453,
          15386.759528101033,
          15423.138392565717,
          15459.590103874309,
          15496.114572406706,
          15532.711709176483,
          15569.381425825495,
          15606.123634618583,
          15642.938248438311,
          15679.825180779744,
          15716.784345745285,
          15753.815658039592,
          15790.91903296448,
          15828.09438641393,
          15865.341634869143,
          15902.660695393603,
          15940.051485628202,
          15977.51392378648,
          16015.047928649781,
          16052.653419562575,
          16090.330316427779,
          16128.078539702092,
          16165.898010391433,
          16203.788650046405,
          16241.750380757754,
          16279.783125151967,
          16317.886806386801,
          16356.061348146955,
          16394.306674639723,
          16432.6227105907,
          16471.00938123954,
          16509.466612335757,
          16547.99433013455,
          16586.592461392665,
          16625.260933364338,
          16663.999673797207,
          16702.80861092833,
          16741.68767348021,
          16780.63679065684,
          16819.655892139832,
          16858.744908084525,
          16897.903769116194,
          16937.13240632623,
          16976.43075126841,
          17015.79873595517,
          17055.236292853908,
          17094.743354883372,
          17134.31985541,
          17173.965728244373,
          17213.68090763766,
          17253.465328278075,
          17293.31892528746,
          17333.24163421775,
          17373.23339104763,
          17413.294132179108,
          17453.42379443417,
          17493.62231505146,
          17533.889631682992,
          17574.22568239087,
          17614.630405644057,
          17655.103740315204,
          17695.645625677436,
          17736.256001401223,
          17776.93480755128,
          17817.681984583443,
          17858.49747334164,
          17899.38121505487,
          17940.333151334147,
          17981.35322416959,
          18022.441375927418,
          18063.597549347054,
          18104.82168753823,
          18146.113733978123,
          18187.47363250848,
          18228.901327332824,
          18270.396763013658,
          18311.959884469707,
          18353.590636973146,
          18395.288966146913,
          18437.05481796199,
          18478.888138734746,
          18520.7888751243,
          18562.756974129876,
          18604.792383088217,
          18646.895049671017,
          18689.06492188234,
          18731.30194805612,
          18773.606076853644,
          18815.97725726106,
          18858.415438586908,
          18900.9205704597,
          18943.49260282548,
          18986.13148594543,
          19028.837170393497,
          19071.609607054026,
          19114.448747119433,
          19157.354542087898,
          19200.326943761036,
          19243.365904241662,
          19286.471375931502,
          19329.64331152897,
          19372.88166402698,
          19416.186386710688,
          19459.557433155358,
          19502.994757224216,
          19546.49831306626,
          19590.068055114156,
          19633.70393808218,
          19677.40591696407,
          19721.173947030988,
          19765.007983829462,
          19808.907983179375,
          19852.87390117192,
          19896.905694167624,
          19941.003318794355,
          19985.166731945377,
          20029.395890777385,
          20073.690752708582,
          20118.05127541676,
          20162.47741683744,
          20206.96913516192,
          20251.52638883547,
          20296.149136555476,
          20340.837337269582,
          20385.59095017389,
          20430.409934711155,
          20475.294250568975,
          20520.24385767809,
          20565.258716210526,
          20610.338786577926,
          20655.4840294298,
          20700.694405651804,
          20745.969876364044,
          20791.310402919426,
          20836.715946901917,
          20882.186470124936,
          20927.721934629728,
          20973.322302683686,
          21018.987536778768,
          21064.717599629887,
          21110.512454173324,
          21156.372063565144,
          21202.296391179654,
          21248.285400607838,
          21294.339055655804,
          21340.457320343317,
          21386.640158902213,
          21432.887535774957,
          21479.199415613144,
          21525.575763276003,
          21572.016543828948,
          21618.52172254216,
          21665.091264889077,
          21711.725136545047,
          21758.42330338585,
          21805.185731486337,
          21852.012387119008,
          21898.903236752667,
          21945.858247050997,
          21992.877384871274,
          22039.960617262965,
          22087.1079114664,
          22134.319234911476,
          22181.59455521631,
          22228.933840185942,
          22276.33705781107,
          22323.80417626672,
          22371.33516391101,
          22418.929989283875,
          22466.588621105817,
          22514.31102827664,
          22562.097179874272,
          22609.94704515349,
          22657.86059354472,
          22705.837794652856,
          22753.87861825605,
          22801.983034304514,
          22850.15101291938,
          22898.382524391505,
          22946.67753918034,
          22995.036027912738,
          23043.457961381893,
          23091.94331054613,
          23140.492046527837,
          23189.104140612337,
          23237.7795642468,
          23286.518289039126,
          23335.320286756858,
          23384.185529326165,
          23433.11398883068,
          23482.10563751051,
          23531.160447761187,
          23580.278392132575,
          23629.459443327858,
          23678.703574202562,
          23728.010757763444,
          23777.380967167563,
          23826.814175721232,
          23876.310356879047,
          23925.869484242874,
          23975.4915315609,
          24025.176472726635,
          24074.924281777956,
          24124.73493289618,
          24174.608400405035,
          24224.54465876983,
          24274.543682596417,
          24324.60544663031,
          24374.729925755782,
          24424.91709499491,
          24475.16692950669,
          24525.479404586145,
          24575.854495663418,
          24626.29217830288,
          24676.79242820228,
          24727.35522119184,
          24777.980533233404,
          24828.668340419594,
          24879.418618972915,
          24930.23134524496,
          24981.106495715532,
          25032.04404699183,
          25083.043975807603,
          25134.106259022366,
          25185.230873620538,
          25236.41779671067,
          25287.667005524632,
          25338.978477416804,
          25390.3521898633,
          25441.78812046119,
          25493.286246927706,
          25544.846547099445,
          25596.46899893169,
          25648.15358049754,
          25699.900269987236,
          25751.709045707357,
          25803.57988608012,
          25855.51276964261,
          25907.507675046058,
          25959.564581055107,
          26011.683466547118,
          26063.8643105114,
          26116.107092048544,
          26168.41179036972,
          26220.778384795914,
          26273.206854757318,
          26325.697179792573,
          26378.249339548118,
          26430.86331377748,
          26483.53908234065,
          26536.276625203347,
          26589.075922436394,
          26641.93695421506,
          26694.859700818386,
          26747.84414262852,
          26800.89026013012,
          26853.998033909662,
          26907.167444654817,
          26960.398473153848,
          27013.691100294945,
          27067.045307065622,
          27120.461074552084,
          27173.93838393861,
          27227.477216506988,
          27281.077553635852,
          27334.73937680009,
          27388.462667570304,
          27442.24740761214,
          27496.09357868574,
          27550.001162645185,
          27603.970141437836,
          27658.00049710384,
          27712.09221177553,
          27766.245267676823,
          27820.45964712271,
          27874.73533251868,
          27929.072306360136,
          27983.470551231883,
          28037.930049807568,
          28092.45078484912,
          28147.032739206228,
          28201.675895815813,
          28256.38023770148,
          28311.14574797298,
          28365.972409825725,
          28420.86020654022,
          28475.80912148159,
          28530.81913809904,
          28585.890239925327,
          28641.02241057632,
          28696.215633750428,
          28751.469893228143,
          28806.785172871525,
          28862.16145662372,
          28917.598728508452,
          28973.096972629584,
          29028.65617317059,
          29084.276314394083,
          29139.957380641372,
          29195.69935633195,
          29251.50222596306,
          29307.365974109212,
          29363.29058542171,
          29419.27604462822,
          29475.322336532317,
          29531.429446012986,
          29587.597358024217,
          29643.826057594575,
          29700.11552982669,
          29756.465759896866,
          29812.87673305467,
          29869.348434622407,
          29925.880849994795,
          29982.473964638466,
          30039.127764091558,
          30095.842233963318,
          30152.617359933643,
          30209.453127752695,
          30266.349523240486,
          30323.306532286446,
          30380.324140849025,
          30437.402334955306,
          30494.541100700582,
          30551.740424247957,
          30609.00029182797,
          30666.320689738182,
          30723.701604342776,
          30781.143022072203,
          30838.644929422764,
          30896.20731295624,
          30953.83015929952,
          31011.51345514419,
          31069.257187246196,
          31127.061342425462,
          31184.925907565503,
          31242.85086961306,
          31300.836215577758,
          31358.881932531713,
          31416.988007609187,
          31475.154428006237,
          31533.38118098034,
          31591.66825385006,
          31650.015633994677,
          31708.423308853842,
          31766.891265927265,
          31825.419492774312,
          31884.007977013698,
          31942.65670632318,
          32001.365668439135,
          32060.134851156294,
          32118.964242327405,
          32177.85382986286,
          32236.803601730404,
          32295.813545954814,
          32354.883650617543,
          32414.0139038564,
          32473.20429386528,
          32532.45480889379,
          32591.76543724696,
          32651.136167284923,
          32710.566987422608,
          32770.05788612942,
          32829.60885192897,
          32889.219873398695,
          32948.89093916962,
          33008.62203792608,
          33068.41315840532,
          33128.264289397266,
          33188.17541974424,
          33248.14653834063,
          33308.177634132655,
          33368.268696117964,
          33428.41971334549,
          33488.63067491504,
          33548.9015699771,
          33609.232387732474,
          33669.62311743212,
          33730.073748376766,
          33790.58426991662,
          33851.15467145119,
          33911.78494242898,
          33972.47507234714,
          34033.225050751316,
          34094.03486723529,
          34154.90451144077,
          34215.83397305707,
          34276.82324182093,
          34337.87230751614,
          34398.981159973424,
          34460.149789070056,
          34521.37818472964,
          34582.66633692192,
          34644.01423566241,
          34705.42187101229,
          34766.88923307799,
          34828.4163120111,
          34890.003098008,
          34951.649581309684,
          35013.35575220148,
          35075.12160101291,
          35136.947118117234,
          35198.83229393144,
          35260.777118915896,
          35322.78158357411,
          35384.845678452504,
          35446.96939414024,
          35509.1527212689,
          35571.39565051233,
          35633.69817258635,
          35696.06027824857,
          35758.481958298136,
          35820.96320357558,
          35883.504004962466,
          35946.10435338127,
          36008.76423979515,
          36071.48365520768,
          36134.26259066267,
          36197.101037243985,
          36259.99898607524,
          36322.95642831963,
          36385.97335517977,
          36449.049757897374,
          36512.18562775319,
          36575.38095606667,
          36638.6357341958,
          36701.949953536896,
          36765.32360552444,
          36828.7566816308,
          36892.24917336614,
          36955.80107227806,
          37019.41236995156,
          37083.08305800874,
          37146.81312810864,
          37210.60257194701,
          37274.451381256236,
          37338.35954780496,
          37402.327063398014,
          37466.35391987621,
          37530.440109116156,
          37594.58562303,
          37658.79045356536,
          37723.05459270503,
          37787.37803246688,
          37851.76076490356,
          37916.20278210247,
          37980.70407618544,
          38045.26463930864,
          38109.884463662376,
          38174.563541470874,
          38239.30186499214,
          38304.09942651778,
          38368.95621837285,
          38433.87223291563,
          38498.84746253748,
          38563.88189966266,
          38628.97553674816,
          38694.12836628355,
          38759.3403807908,
          38824.611572824106,
          38889.9419349697,
          38955.331459845744,
          39020.7801401021,
          39086.28796842021,
          39151.85493751298,
          39217.48104012445,
          39283.16626902983,
          39348.910617035224,
          39414.7140769775,
          39480.576641724125,
          39546.498304173045,
          39612.47905725248,
          39678.5188939208,
          39744.61780716635,
          39810.7757900073,
          39876.99283549153,
          39943.26893669644,
          40009.604086728796,
          40075.99827872458,
          40142.451505848905,
          40208.96376129575,
          40275.535038287955,
          40342.165330076954,
          40408.85462994267,
          40475.602931193396,
          40542.41022716564,
          40609.27651122395,
          40676.20177676081,
          40743.18601719651,
          40810.229225978925,
          40877.3313965835,
          40944.492522512985,
          41011.71259729738,
          41078.99161449381,
          41146.329567686305,
          41213.726450485745,
          41281.18225652966,
          41348.69697948217,
          41416.270613033776,
          41483.903150901315,
          41551.594586827734,
          41619.34491458203,
          41687.15412795906,
          41755.02222077947,
          41822.94918688958,
          41890.93502016116,
          41958.97971449138,
          42027.083263802684,
          42095.24566204263,
          42163.46690318378,
          42231.7469812236,
          42300.08589018431,
          42368.48362411275,
          42436.94017708029,
          42505.45554318269,
          42574.02971653996,
          42642.66269129634,
          42711.35446162003,
          42780.105021703166,
          42848.9143657617,
          42917.782488035264,
          42986.70938278702,
          43055.69504430364,
          43124.739466895095,
          43193.842644894576,
          43263.0045726584,
          43332.22524456587,
          43401.504655019155,
          43470.84279844322,
          43540.23966928571,
          43609.69526201675,
          43679.209571128966,
          43748.78259113728,
          43818.41431657886,
          43888.104742013,
          43957.85386202094,
          44027.661671205875,
          44097.52816419277,
          44167.45333562829,
          44237.43718018069,
          44307.47969253969,
          44377.58086741638,
          44447.74069954312,
          44517.959183673476
         ]
        },
        {
         "mode": "lines",
         "name": "Annotation",
         "showlegend": false,
         "type": "scatter",
         "x": [
          0,
          250
         ],
         "y": [
          25000.000369883423,
          25000.000369883423
         ]
        },
        {
         "mode": "text",
         "name": "Annotation",
         "showlegend": false,
         "text": "h=0.0km",
         "textposition": "middle right",
         "type": "scatter",
         "x": [
          250
         ],
         "y": [
          25000.000369883423
         ]
        },
        {
         "mode": "markers+text",
         "name": "Annotation",
         "showlegend": false,
         "text": [
          "v1=39.39",
          "v2=222.42"
         ],
         "textposition": "bottom center",
         "type": "scatter",
         "x": [
          39.393588355953085,
          222.41527401365929
         ],
         "y": [
          25000.000369883423,
          25000.000369883423
         ]
        },
        {
         "mode": "lines",
         "name": "Annotation",
         "showlegend": false,
         "type": "scatter",
         "x": [
          0,
          250
         ],
         "y": [
          20541.913338992574,
          20541.913338992574
         ]
        },
        {
         "mode": "text",
         "name": "Annotation",
         "showlegend": false,
         "text": "h=2.0km",
         "textposition": "middle right",
         "type": "scatter",
         "x": [
          250
         ],
         "y": [
          20541.913338992574
         ]
        },
        {
         "mode": "markers+text",
         "name": "Annotation",
         "showlegend": false,
         "text": [
          "v1=43.81",
          "v2=200.01"
         ],
         "textposition": "bottom center",
         "type": "scatter",
         "x": [
          43.80691194367951,
          200.00806630321617
         ],
         "y": [
          20541.913338992574,
          20541.913338992574
         ]
        },
        {
         "mode": "lines",
         "name": "Annotation",
         "showlegend": false,
         "type": "scatter",
         "x": [
          0,
          250
         ],
         "y": [
          16721.359161608078,
          16721.359161608078
         ]
        },
        {
         "mode": "text",
         "name": "Annotation",
         "showlegend": false,
         "text": "h=4.0km",
         "textposition": "middle right",
         "type": "scatter",
         "x": [
          250
         ],
         "y": [
          16721.359161608078
         ]
        },
        {
         "mode": "markers+text",
         "name": "Annotation",
         "showlegend": false,
         "text": [
          "v1=49.21",
          "v2=178.06"
         ],
         "textposition": "bottom center",
         "type": "scatter",
         "x": [
          49.2078537384258,
          178.0556371173058
         ],
         "y": [
          16721.359161608078,
          16721.359161608078
         ]
        },
        {
         "mode": "lines",
         "name": "Annotation",
         "showlegend": false,
         "type": "scatter",
         "x": [
          0,
          250
         ],
         "y": [
          13471.659601484218,
          13471.659601484218
         ]
        },
        {
         "mode": "text",
         "name": "Annotation",
         "showlegend": false,
         "text": "h=6.0km",
         "textposition": "middle right",
         "type": "scatter",
         "x": [
          250
         ],
         "y": [
          13471.659601484218
         ]
        },
        {
         "mode": "markers+text",
         "name": "Annotation",
         "showlegend": false,
         "text": [
          "v1=56.16",
          "v2=156.01"
         ],
         "textposition": "bottom center",
         "type": "scatter",
         "x": [
          56.16142172765143,
          156.00986369361635
         ],
         "y": [
          13471.659601484218,
          13471.659601484218
         ]
        },
        {
         "mode": "lines",
         "name": "Annotation",
         "showlegend": false,
         "type": "scatter",
         "x": [
          0,
          250
         ],
         "y": [
          10730.326669737937,
          10730.326669737937
         ]
        },
        {
         "mode": "text",
         "name": "Annotation",
         "showlegend": false,
         "text": "h=8.0km",
         "textposition": "middle right",
         "type": "scatter",
         "x": [
          250
         ],
         "y": [
          10730.326669737937
         ]
        },
        {
         "mode": "markers+text",
         "name": "Annotation",
         "showlegend": false,
         "text": [
          "v1=66.20",
          "v2=132.35"
         ],
         "textposition": "bottom center",
         "type": "scatter",
         "x": [
          66.20251871310116,
          132.34746832731454
         ],
         "y": [
          10730.326669737937,
          10730.326669737937
         ]
        },
        {
         "mode": "lines",
         "name": "Annotation",
         "showlegend": false,
         "type": "scatter",
         "x": [
          0,
          250
         ],
         "y": [
          8586.69190171847,
          8586.69190171847
         ]
        },
        {
         "mode": "text",
         "name": "Annotation",
         "showlegend": false,
         "text": "h=9.85924379390416km",
         "textposition": "middle right",
         "type": "scatter",
         "x": [
          250
         ],
         "y": [
          8586.69190171847
         ]
        },
        {
         "mode": "markers+text",
         "name": "Annotation",
         "showlegend": false,
         "text": [
          "v1=v2=93.29"
         ],
         "textposition": "bottom center",
         "type": "scatter",
         "x": [
          93.29260364077146
         ],
         "y": [
          8586.69190171847
         ]
        },
        {
         "mode": "lines",
         "name": "Annotation",
         "showlegend": false,
         "type": "scatter",
         "x": [
          59.016889085065394,
          59.016889085065394
         ],
         "y": [
          0,
          30000
         ]
        },
        {
         "mode": "text",
         "name": "Annotation",
         "showlegend": false,
         "text": "Stall Speed",
         "textposition": "middle right",
         "type": "scatter",
         "x": [
          59.016889085065394
         ],
         "y": [
          27000
         ]
        }
       ],
       "layout": {
        "legend": {
         "title": {
          "text": "Drag Breakdown"
         }
        },
        "template": {
         "data": {
          "bar": [
           {
            "error_x": {
             "color": "#2a3f5f"
            },
            "error_y": {
             "color": "#2a3f5f"
            },
            "marker": {
             "line": {
              "color": "#E5ECF6",
              "width": 0.5
             }
            },
            "type": "bar"
           }
          ],
          "barpolar": [
           {
            "marker": {
             "line": {
              "color": "#E5ECF6",
              "width": 0.5
             }
            },
            "type": "barpolar"
           }
          ],
          "carpet": [
           {
            "aaxis": {
             "endlinecolor": "#2a3f5f",
             "gridcolor": "white",
             "linecolor": "white",
             "minorgridcolor": "white",
             "startlinecolor": "#2a3f5f"
            },
            "baxis": {
             "endlinecolor": "#2a3f5f",
             "gridcolor": "white",
             "linecolor": "white",
             "minorgridcolor": "white",
             "startlinecolor": "#2a3f5f"
            },
            "type": "carpet"
           }
          ],
          "choropleth": [
           {
            "colorbar": {
             "outlinewidth": 0,
             "ticks": ""
            },
            "type": "choropleth"
           }
          ],
          "contour": [
           {
            "colorbar": {
             "outlinewidth": 0,
             "ticks": ""
            },
            "colorscale": [
             [
              0,
              "#0d0887"
             ],
             [
              0.1111111111111111,
              "#46039f"
             ],
             [
              0.2222222222222222,
              "#7201a8"
             ],
             [
              0.3333333333333333,
              "#9c179e"
             ],
             [
              0.4444444444444444,
              "#bd3786"
             ],
             [
              0.5555555555555556,
              "#d8576b"
             ],
             [
              0.6666666666666666,
              "#ed7953"
             ],
             [
              0.7777777777777778,
              "#fb9f3a"
             ],
             [
              0.8888888888888888,
              "#fdca26"
             ],
             [
              1,
              "#f0f921"
             ]
            ],
            "type": "contour"
           }
          ],
          "contourcarpet": [
           {
            "colorbar": {
             "outlinewidth": 0,
             "ticks": ""
            },
            "type": "contourcarpet"
           }
          ],
          "heatmap": [
           {
            "colorbar": {
             "outlinewidth": 0,
             "ticks": ""
            },
            "colorscale": [
             [
              0,
              "#0d0887"
             ],
             [
              0.1111111111111111,
              "#46039f"
             ],
             [
              0.2222222222222222,
              "#7201a8"
             ],
             [
              0.3333333333333333,
              "#9c179e"
             ],
             [
              0.4444444444444444,
              "#bd3786"
             ],
             [
              0.5555555555555556,
              "#d8576b"
             ],
             [
              0.6666666666666666,
              "#ed7953"
             ],
             [
              0.7777777777777778,
              "#fb9f3a"
             ],
             [
              0.8888888888888888,
              "#fdca26"
             ],
             [
              1,
              "#f0f921"
             ]
            ],
            "type": "heatmap"
           }
          ],
          "heatmapgl": [
           {
            "colorbar": {
             "outlinewidth": 0,
             "ticks": ""
            },
            "colorscale": [
             [
              0,
              "#0d0887"
             ],
             [
              0.1111111111111111,
              "#46039f"
             ],
             [
              0.2222222222222222,
              "#7201a8"
             ],
             [
              0.3333333333333333,
              "#9c179e"
             ],
             [
              0.4444444444444444,
              "#bd3786"
             ],
             [
              0.5555555555555556,
              "#d8576b"
             ],
             [
              0.6666666666666666,
              "#ed7953"
             ],
             [
              0.7777777777777778,
              "#fb9f3a"
             ],
             [
              0.8888888888888888,
              "#fdca26"
             ],
             [
              1,
              "#f0f921"
             ]
            ],
            "type": "heatmapgl"
           }
          ],
          "histogram": [
           {
            "marker": {
             "colorbar": {
              "outlinewidth": 0,
              "ticks": ""
             }
            },
            "type": "histogram"
           }
          ],
          "histogram2d": [
           {
            "colorbar": {
             "outlinewidth": 0,
             "ticks": ""
            },
            "colorscale": [
             [
              0,
              "#0d0887"
             ],
             [
              0.1111111111111111,
              "#46039f"
             ],
             [
              0.2222222222222222,
              "#7201a8"
             ],
             [
              0.3333333333333333,
              "#9c179e"
             ],
             [
              0.4444444444444444,
              "#bd3786"
             ],
             [
              0.5555555555555556,
              "#d8576b"
             ],
             [
              0.6666666666666666,
              "#ed7953"
             ],
             [
              0.7777777777777778,
              "#fb9f3a"
             ],
             [
              0.8888888888888888,
              "#fdca26"
             ],
             [
              1,
              "#f0f921"
             ]
            ],
            "type": "histogram2d"
           }
          ],
          "histogram2dcontour": [
           {
            "colorbar": {
             "outlinewidth": 0,
             "ticks": ""
            },
            "colorscale": [
             [
              0,
              "#0d0887"
             ],
             [
              0.1111111111111111,
              "#46039f"
             ],
             [
              0.2222222222222222,
              "#7201a8"
             ],
             [
              0.3333333333333333,
              "#9c179e"
             ],
             [
              0.4444444444444444,
              "#bd3786"
             ],
             [
              0.5555555555555556,
              "#d8576b"
             ],
             [
              0.6666666666666666,
              "#ed7953"
             ],
             [
              0.7777777777777778,
              "#fb9f3a"
             ],
             [
              0.8888888888888888,
              "#fdca26"
             ],
             [
              1,
              "#f0f921"
             ]
            ],
            "type": "histogram2dcontour"
           }
          ],
          "mesh3d": [
           {
            "colorbar": {
             "outlinewidth": 0,
             "ticks": ""
            },
            "type": "mesh3d"
           }
          ],
          "parcoords": [
           {
            "line": {
             "colorbar": {
              "outlinewidth": 0,
              "ticks": ""
             }
            },
            "type": "parcoords"
           }
          ],
          "pie": [
           {
            "automargin": true,
            "type": "pie"
           }
          ],
          "scatter": [
           {
            "marker": {
             "colorbar": {
              "outlinewidth": 0,
              "ticks": ""
             }
            },
            "type": "scatter"
           }
          ],
          "scatter3d": [
           {
            "line": {
             "colorbar": {
              "outlinewidth": 0,
              "ticks": ""
             }
            },
            "marker": {
             "colorbar": {
              "outlinewidth": 0,
              "ticks": ""
             }
            },
            "type": "scatter3d"
           }
          ],
          "scattercarpet": [
           {
            "marker": {
             "colorbar": {
              "outlinewidth": 0,
              "ticks": ""
             }
            },
            "type": "scattercarpet"
           }
          ],
          "scattergeo": [
           {
            "marker": {
             "colorbar": {
              "outlinewidth": 0,
              "ticks": ""
             }
            },
            "type": "scattergeo"
           }
          ],
          "scattergl": [
           {
            "marker": {
             "colorbar": {
              "outlinewidth": 0,
              "ticks": ""
             }
            },
            "type": "scattergl"
           }
          ],
          "scattermapbox": [
           {
            "marker": {
             "colorbar": {
              "outlinewidth": 0,
              "ticks": ""
             }
            },
            "type": "scattermapbox"
           }
          ],
          "scatterpolar": [
           {
            "marker": {
             "colorbar": {
              "outlinewidth": 0,
              "ticks": ""
             }
            },
            "type": "scatterpolar"
           }
          ],
          "scatterpolargl": [
           {
            "marker": {
             "colorbar": {
              "outlinewidth": 0,
              "ticks": ""
             }
            },
            "type": "scatterpolargl"
           }
          ],
          "scatterternary": [
           {
            "marker": {
             "colorbar": {
              "outlinewidth": 0,
              "ticks": ""
             }
            },
            "type": "scatterternary"
           }
          ],
          "surface": [
           {
            "colorbar": {
             "outlinewidth": 0,
             "ticks": ""
            },
            "colorscale": [
             [
              0,
              "#0d0887"
             ],
             [
              0.1111111111111111,
              "#46039f"
             ],
             [
              0.2222222222222222,
              "#7201a8"
             ],
             [
              0.3333333333333333,
              "#9c179e"
             ],
             [
              0.4444444444444444,
              "#bd3786"
             ],
             [
              0.5555555555555556,
              "#d8576b"
             ],
             [
              0.6666666666666666,
              "#ed7953"
             ],
             [
              0.7777777777777778,
              "#fb9f3a"
             ],
             [
              0.8888888888888888,
              "#fdca26"
             ],
             [
              1,
              "#f0f921"
             ]
            ],
            "type": "surface"
           }
          ],
          "table": [
           {
            "cells": {
             "fill": {
              "color": "#EBF0F8"
             },
             "line": {
              "color": "white"
             }
            },
            "header": {
             "fill": {
              "color": "#C8D4E3"
             },
             "line": {
              "color": "white"
             }
            },
            "type": "table"
           }
          ]
         },
         "layout": {
          "annotationdefaults": {
           "arrowcolor": "#2a3f5f",
           "arrowhead": 0,
           "arrowwidth": 1
          },
          "coloraxis": {
           "colorbar": {
            "outlinewidth": 0,
            "ticks": ""
           }
          },
          "colorscale": {
           "diverging": [
            [
             0,
             "#8e0152"
            ],
            [
             0.1,
             "#c51b7d"
            ],
            [
             0.2,
             "#de77ae"
            ],
            [
             0.3,
             "#f1b6da"
            ],
            [
             0.4,
             "#fde0ef"
            ],
            [
             0.5,
             "#f7f7f7"
            ],
            [
             0.6,
             "#e6f5d0"
            ],
            [
             0.7,
             "#b8e186"
            ],
            [
             0.8,
             "#7fbc41"
            ],
            [
             0.9,
             "#4d9221"
            ],
            [
             1,
             "#276419"
            ]
           ],
           "sequential": [
            [
             0,
             "#0d0887"
            ],
            [
             0.1111111111111111,
             "#46039f"
            ],
            [
             0.2222222222222222,
             "#7201a8"
            ],
            [
             0.3333333333333333,
             "#9c179e"
            ],
            [
             0.4444444444444444,
             "#bd3786"
            ],
            [
             0.5555555555555556,
             "#d8576b"
            ],
            [
             0.6666666666666666,
             "#ed7953"
            ],
            [
             0.7777777777777778,
             "#fb9f3a"
            ],
            [
             0.8888888888888888,
             "#fdca26"
            ],
            [
             1,
             "#f0f921"
            ]
           ],
           "sequentialminus": [
            [
             0,
             "#0d0887"
            ],
            [
             0.1111111111111111,
             "#46039f"
            ],
            [
             0.2222222222222222,
             "#7201a8"
            ],
            [
             0.3333333333333333,
             "#9c179e"
            ],
            [
             0.4444444444444444,
             "#bd3786"
            ],
            [
             0.5555555555555556,
             "#d8576b"
            ],
            [
             0.6666666666666666,
             "#ed7953"
            ],
            [
             0.7777777777777778,
             "#fb9f3a"
            ],
            [
             0.8888888888888888,
             "#fdca26"
            ],
            [
             1,
             "#f0f921"
            ]
           ]
          },
          "colorway": [
           "#636efa",
           "#EF553B",
           "#00cc96",
           "#ab63fa",
           "#FFA15A",
           "#19d3f3",
           "#FF6692",
           "#B6E880",
           "#FF97FF",
           "#FECB52"
          ],
          "font": {
           "color": "#2a3f5f"
          },
          "geo": {
           "bgcolor": "white",
           "lakecolor": "white",
           "landcolor": "#E5ECF6",
           "showlakes": true,
           "showland": true,
           "subunitcolor": "white"
          },
          "hoverlabel": {
           "align": "left"
          },
          "hovermode": "closest",
          "mapbox": {
           "style": "light"
          },
          "paper_bgcolor": "white",
          "plot_bgcolor": "#E5ECF6",
          "polar": {
           "angularaxis": {
            "gridcolor": "white",
            "linecolor": "white",
            "ticks": ""
           },
           "bgcolor": "#E5ECF6",
           "radialaxis": {
            "gridcolor": "white",
            "linecolor": "white",
            "ticks": ""
           }
          },
          "scene": {
           "xaxis": {
            "backgroundcolor": "#E5ECF6",
            "gridcolor": "white",
            "gridwidth": 2,
            "linecolor": "white",
            "showbackground": true,
            "ticks": "",
            "zerolinecolor": "white"
           },
           "yaxis": {
            "backgroundcolor": "#E5ECF6",
            "gridcolor": "white",
            "gridwidth": 2,
            "linecolor": "white",
            "showbackground": true,
            "ticks": "",
            "zerolinecolor": "white"
           },
           "zaxis": {
            "backgroundcolor": "#E5ECF6",
            "gridcolor": "white",
            "gridwidth": 2,
            "linecolor": "white",
            "showbackground": true,
            "ticks": "",
            "zerolinecolor": "white"
           }
          },
          "shapedefaults": {
           "line": {
            "color": "#2a3f5f"
           }
          },
          "ternary": {
           "aaxis": {
            "gridcolor": "white",
            "linecolor": "white",
            "ticks": ""
           },
           "baxis": {
            "gridcolor": "white",
            "linecolor": "white",
            "ticks": ""
           },
           "bgcolor": "#E5ECF6",
           "caxis": {
            "gridcolor": "white",
            "linecolor": "white",
            "ticks": ""
           }
          },
          "title": {
           "x": 0.05
          },
          "xaxis": {
           "automargin": true,
           "gridcolor": "white",
           "linecolor": "white",
           "ticks": "",
           "title": {
            "standoff": 15
           },
           "zerolinecolor": "white",
           "zerolinewidth": 2
          },
          "yaxis": {
           "automargin": true,
           "gridcolor": "white",
           "linecolor": "white",
           "ticks": "",
           "title": {
            "standoff": 15
           },
           "zerolinecolor": "white",
           "zerolinewidth": 2
          }
         }
        },
        "title": {
         "text": "$T_R \\text{ and } T_A \\text{ for different altitudes}$"
        },
        "xaxis": {
         "range": [
          0,
          260
         ],
         "title": {
          "text": "EAS / (m/s)"
         }
        },
        "yaxis": {
         "range": [
          0,
          30000
         ],
         "title": {
          "text": "Drag / N"
         }
        }
       }
      },
      "text/html": [
       "<div>\n",
       "        \n",
       "        \n",
       "            <div id=\"f38be154-2e19-4934-87e3-8b593a4e98c7\" class=\"plotly-graph-div\" style=\"height:525px; width:100%;\"></div>\n",
       "            <script type=\"text/javascript\">\n",
       "                require([\"plotly\"], function(Plotly) {\n",
       "                    window.PLOTLYENV=window.PLOTLYENV || {};\n",
       "                    \n",
       "                if (document.getElementById(\"f38be154-2e19-4934-87e3-8b593a4e98c7\")) {\n",
       "                    Plotly.newPlot(\n",
       "                        'f38be154-2e19-4934-87e3-8b593a4e98c7',\n",
       "                        [{\"name\": \"$T_R$\", \"type\": \"scatter\", \"x\": [59.016889085065394, 59.25811342031558, 59.49933775556576, 59.74056209081595, 59.98178642606613, 60.22301076131632, 60.464235096566505, 60.705459431816685, 60.94668376706687, 61.18790810231706, 61.42913243756724, 61.67035677281743, 61.91158110806761, 62.152805443317796, 62.39402977856798, 62.63525411381816, 62.87647844906835, 63.11770278431854, 63.35892711956872, 63.600151454818906, 63.84137579006909, 64.08260012531927, 64.32382446056945, 64.56504879581965, 64.80627313106983, 65.04749746632001, 65.2887218015702, 65.52994613682039, 65.77117047207057, 66.01239480732075, 66.25361914257094, 66.49484347782112, 66.7360678130713, 66.9772921483215, 67.21851648357168, 67.45974081882186, 67.70096515407205, 67.94218948932223, 68.18341382457241, 68.42463815982259, 68.66586249507279, 68.90708683032297, 69.14831116557315, 69.38953550082334, 69.63075983607352, 69.8719841713237, 70.1132085065739, 70.35443284182408, 70.59565717707426, 70.83688151232445, 71.07810584757463, 71.31933018282481, 71.56055451807501, 71.80177885332519, 72.04300318857537, 72.28422752382556, 72.52545185907574, 72.76667619432592, 73.0079005295761, 73.2491248648263, 73.49034920007648, 73.73157353532666, 73.97279787057685, 74.21402220582704, 74.45524654107722, 74.6964708763274, 74.93769521157759, 75.17891954682777, 75.42014388207795, 75.66136821732815, 75.90259255257833, 76.1438168878285, 76.3850412230787, 76.62626555832888, 76.86748989357906, 77.10871422882926, 77.34993856407944, 77.59116289932962, 77.83238723457981, 78.07361156982999, 78.31483590508017, 78.55606024033037, 78.79728457558055, 79.03850891083073, 79.27973324608092, 79.5209575813311, 79.76218191658128, 80.00340625183146, 80.24463058708166, 80.48585492233184, 80.72707925758202, 80.9683035928322, 81.2095279280824, 81.45075226333257, 81.69197659858276, 81.93320093383295, 82.17442526908313, 82.41564960433331, 82.6568739395835, 82.89809827483369, 83.13932261008387, 83.38054694533406, 83.62177128058424, 83.86299561583442, 84.10421995108462, 84.3454442863348, 84.58666862158498, 84.82789295683517, 85.06911729208535, 85.31034162733553, 85.55156596258573, 85.79279029783591, 86.03401463308609, 86.27523896833627, 86.51646330358646, 86.75768763883664, 86.99891197408682, 87.240136309337, 87.4813606445872, 87.72258497983738, 87.96380931508756, 88.20503365033775, 88.44625798558793, 88.68748232083811, 88.92870665608831, 89.16993099133849, 89.41115532658867, 89.65237966183886, 89.89360399708904, 90.13482833233923, 90.37605266758942, 90.6172770028396, 90.85850133808978, 91.09972567333998, 91.34095000859016, 91.58217434384034, 91.82339867909053, 92.06462301434071, 92.30584734959089, 92.54707168484109, 92.78829602009125, 93.02952035534145, 93.27074469059164, 93.51196902584181, 93.753193361092, 93.99441769634218, 94.23564203159236, 94.47686636684256, 94.71809070209274, 94.95931503734292, 95.20053937259311, 95.4417637078433, 95.68298804309347, 95.92421237834367, 96.16543671359385, 96.40666104884403, 96.64788538409422, 96.8891097193444, 97.13033405459458, 97.37155838984478, 97.61278272509496, 97.85400706034514, 98.09523139559533, 98.33645573084551, 98.5776800660957, 98.81890440134589, 99.06012873659606, 99.30135307184625, 99.54257740709645, 99.78380174234661, 100.0250260775968, 100.266250412847, 100.50747474809717, 100.74869908334736, 100.98992341859754, 101.23114775384772, 101.47237208909792, 101.7135964243481, 101.95482075959828, 102.19604509484847, 102.43726943009865, 102.67849376534883, 102.91971810059903, 103.16094243584921, 103.40216677109939, 103.64339110634958, 103.88461544159976, 104.12583977684994, 104.36706411210014, 104.60828844735032, 104.8495127826005, 105.0907371178507, 105.33196145310086, 105.57318578835105, 105.81441012360125, 106.05563445885142, 106.29685879410161, 106.5380831293518, 106.77930746460197, 107.02053179985217, 107.26175613510235, 107.50298047035253, 107.74420480560272, 107.9854291408529, 108.22665347610308, 108.46787781135328, 108.70910214660346, 108.95032648185364, 109.19155081710383, 109.43277515235401, 109.67399948760419, 109.91522382285439, 110.15644815810457, 110.39767249335475, 110.63889682860494, 110.88012116385512, 111.1213454991053, 111.3625698343555, 111.60379416960568, 111.84501850485586, 112.08624284010605, 112.32746717535622, 112.56869151060641, 112.80991584585661, 113.05114018110677, 113.29236451635697, 113.53358885160715, 113.77481318685733, 114.01603752210752, 114.2572618573577, 114.49848619260788, 114.73971052785808, 114.98093486310826, 115.22215919835844, 115.46338353360863, 115.70460786885882, 115.945832204109, 116.18705653935919, 116.42828087460937, 116.66950520985955, 116.91072954510975, 117.15195388035993, 117.3931782156101, 117.6344025508603, 117.87562688611048, 118.11685122136066, 118.35807555661086, 118.59929989186102, 118.84052422711122, 119.08174856236141, 119.32297289761158, 119.56419723286177, 119.80542156811197, 120.04664590336213, 120.28787023861233, 120.52909457386251, 120.77031890911269, 121.01154324436288, 121.25276757961306, 121.49399191486324, 121.73521625011344, 121.97644058536362, 122.2176649206138, 122.458889255864, 122.70011359111417, 122.94133792636435, 123.18256226161455, 123.42378659686472, 123.66501093211491, 123.9062352673651, 124.14745960261527, 124.38868393786547, 124.62990827311566, 124.87113260836583, 125.11235694361602, 125.35358127886622, 125.59480561411638, 125.83602994936658, 126.07725428461677, 126.31847861986694, 126.55970295511713, 126.80092729036733, 127.04215162561749, 127.28337596086769, 127.52460029611788, 127.76582463136805, 128.00704896661824, 128.24827330186844, 128.4894976371186, 128.7307219723688, 128.97194630761896, 129.21317064286916, 129.45439497811935, 129.69561931336952, 129.9368436486197, 130.1780679838699, 130.41929231912007, 130.66051665437027, 130.90174098962046, 131.14296532487063, 131.38418966012082, 131.62541399537102, 131.86663833062119, 132.10786266587138, 132.34908700112157, 132.59031133637174, 132.83153567162194, 133.07276000687213, 133.3139843421223, 133.5552086773725, 133.79643301262269, 134.03765734787285, 134.27888168312305, 134.52010601837324, 134.7613303536234, 135.0025546888736, 135.2437790241238, 135.48500335937396, 135.72622769462416, 135.96745202987432, 136.20867636512452, 136.4499007003747, 136.69112503562488, 136.93234937087507, 137.17357370612527, 137.41479804137543, 137.65602237662563, 137.89724671187582, 138.138471047126, 138.37969538237618, 138.62091971762638, 138.86214405287654, 139.10336838812674, 139.34459272337693, 139.5858170586271, 139.8270413938773, 140.0682657291275, 140.30949006437766, 140.55071439962785, 140.79193873487804, 141.0331630701282, 141.2743874053784, 141.5156117406286, 141.75683607587877, 141.99806041112896, 142.23928474637913, 142.48050908162932, 142.72173341687952, 142.96295775212968, 143.20418208737988, 143.44540642263007, 143.68663075788024, 143.92785509313043, 144.16907942838063, 144.4103037636308, 144.651528098881, 144.89275243413118, 145.13397676938135, 145.37520110463154, 145.61642543988174, 145.8576497751319, 146.0988741103821, 146.3400984456323, 146.58132278088246, 146.82254711613265, 147.06377145138285, 147.30499578663301, 147.5462201218832, 147.7874444571334, 148.02866879238357, 148.26989312763376, 148.51111746288393, 148.75234179813413, 148.99356613338432, 149.2347904686345, 149.47601480388468, 149.71723913913488, 149.95846347438504, 150.19968780963524, 150.44091214488543, 150.6821364801356, 150.9233608153858, 151.164585150636, 151.40580948588615, 151.64703382113635, 151.88825815638654, 152.1294824916367, 152.3707068268869, 152.6119311621371, 152.85315549738726, 153.09437983263746, 153.33560416788765, 153.57682850313782, 153.818052838388, 154.0592771736382, 154.30050150888837, 154.54172584413857, 154.78295017938876, 155.02417451463893, 155.26539884988912, 155.5066231851393, 155.74784752038948, 155.98907185563968, 156.23029619088985, 156.47152052614004, 156.71274486139023, 156.9539691966404, 157.1951935318906, 157.4364178671408, 157.67764220239096, 157.91886653764115, 158.16009087289135, 158.4013152081415, 158.6425395433917, 158.8837638786419, 159.12498821389207, 159.36621254914226, 159.60743688439246, 159.84866121964262, 160.08988555489282, 160.331109890143, 160.57233422539318, 160.81355856064337, 161.05478289589357, 161.29600723114373, 161.53723156639393, 161.7784559016441, 162.0196802368943, 162.26090457214448, 162.50212890739465, 162.74335324264484, 162.98457757789504, 163.2258019131452, 163.4670262483954, 163.7082505836456, 163.94947491889576, 164.19069925414595, 164.43192358939615, 164.67314792464632, 164.9143722598965, 165.1555965951467, 165.39682093039687, 165.63804526564707, 165.87926960089726, 166.12049393614743, 166.36171827139762, 166.60294260664782, 166.84416694189798, 167.08539127714818, 167.32661561239837, 167.56783994764854, 167.80906428289873, 168.0502886181489, 168.2915129533991, 168.5327372886493, 168.77396162389945, 169.01518595914965, 169.25641029439984, 169.49763462965, 169.7388589649002, 169.9800833001504, 170.22130763540056, 170.46253197065076, 170.70375630590095, 170.94498064115112, 171.1862049764013, 171.4274293116515, 171.66865364690167, 171.90987798215187, 172.15110231740206, 172.39232665265223, 172.63355098790242, 172.87477532315262, 173.11599965840279, 173.35722399365298, 173.59844832890317, 173.83967266415334, 174.08089699940354, 174.32212133465373, 174.5633456699039, 174.8045700051541, 175.04579434040426, 175.28701867565445, 175.52824301090465, 175.7694673461548, 176.010691681405, 176.2519160166552, 176.49314035190537, 176.73436468715556, 176.97558902240576, 177.21681335765592, 177.45803769290612, 177.6992620281563, 177.94048636340648, 178.18171069865667, 178.42293503390687, 178.66415936915703, 178.90538370440723, 179.14660803965742, 179.3878323749076, 179.62905671015778, 179.87028104540798, 180.11150538065814, 180.35272971590834, 180.59395405115853, 180.8351783864087, 181.0764027216589, 181.31762705690906, 181.55885139215926, 181.80007572740945, 182.04130006265962, 182.2825243979098, 182.52374873316, 182.76497306841017, 183.00619740366037, 183.24742173891056, 183.48864607416073, 183.72987040941092, 183.97109474466112, 184.21231907991128, 184.45354341516148, 184.69476775041167, 184.93599208566184, 185.17721642091203, 185.41844075616223, 185.6596650914124, 185.9008894266626, 186.14211376191278, 186.38333809716295, 186.62456243241314, 186.86578676766334, 187.1070111029135, 187.3482354381637, 187.5894597734139, 187.83068410866406, 188.07190844391425, 188.31313277916445, 188.55435711441461, 188.7955814496648, 189.036805784915, 189.27803012016517, 189.51925445541536, 189.76047879066556, 190.00170312591572, 190.24292746116592, 190.4841517964161, 190.72537613166628, 190.96660046691647, 191.20782480216667, 191.44904913741684, 191.69027347266703, 191.93149780791722, 192.1727221431674, 192.41394647841759, 192.65517081366775, 192.89639514891795, 193.13761948416814, 193.3788438194183, 193.6200681546685, 193.8612924899187, 194.10251682516886, 194.34374116041906, 194.58496549566925, 194.82618983091942, 195.0674141661696, 195.3086385014198, 195.54986283666997, 195.79108717192017, 196.03231150717036, 196.27353584242053, 196.51476017767072, 196.75598451292092, 196.99720884817108, 197.23843318342128, 197.47965751867147, 197.72088185392164, 197.96210618917183, 198.20333052442203, 198.4445548596722, 198.6857791949224, 198.92700353017256, 199.16822786542275, 199.40945220067294, 199.6506765359231, 199.8919008711733, 200.1331252064235, 200.37434954167367, 200.61557387692386, 200.85679821217406, 201.09802254742422, 201.33924688267442, 201.5804712179246, 201.82169555317478, 202.06291988842497, 202.30414422367517, 202.54536855892533, 202.78659289417553, 203.02781722942572, 203.2690415646759, 203.51026589992608, 203.75149023517628, 203.99271457042644, 204.23393890567664, 204.47516324092683, 204.716387576177, 204.9576119114272, 205.1988362466774, 205.44006058192755, 205.68128491717775, 205.92250925242791, 206.1637335876781, 206.4049579229283, 206.64618225817847, 206.88740659342866, 207.12863092867886, 207.36985526392903, 207.61107959917922, 207.85230393442941, 208.09352826967958, 208.33475260492978, 208.57597694017997, 208.81720127543014, 209.05842561068033, 209.29964994593053, 209.5408742811807, 209.7820986164309, 210.02332295168108, 210.26454728693125, 210.50577162218144, 210.74699595743164, 210.9882202926818, 211.229444627932, 211.4706689631822, 211.71189329843236, 211.95311763368255, 212.19434196893272, 212.4355663041829, 212.6767906394331, 212.91801497468327, 213.15923930993347, 213.40046364518366, 213.64168798043383, 213.88291231568402, 214.12413665093422, 214.36536098618438, 214.60658532143458, 214.84780965668477, 215.08903399193494, 215.33025832718513, 215.57148266243533, 215.8127069976855, 216.0539313329357, 216.29515566818588, 216.53638000343605, 216.77760433868625, 217.01882867393644, 217.2600530091866, 217.5012773444368, 217.742501679687, 217.98372601493716, 218.22495035018736, 218.46617468543752, 218.70739902068772, 218.9486233559379, 219.18984769118808, 219.43107202643827, 219.67229636168847, 219.91352069693863, 220.15474503218883, 220.39596936743902, 220.6371937026892, 220.87841803793938, 221.11964237318958, 221.36086670843974, 221.60209104368994, 221.84331537894013, 222.0845397141903, 222.3257640494405, 222.5669883846907, 222.80821271994085, 223.04943705519105, 223.29066139044124, 223.5318857256914, 223.7731100609416, 224.0143343961918, 224.25555873144197, 224.49678306669216, 224.73800740194235, 224.97923173719252, 225.22045607244272, 225.46168040769288, 225.70290474294308, 225.94412907819327, 226.18535341344344, 226.42657774869363, 226.66780208394383, 226.909026419194, 227.1502507544442, 227.39147508969438, 227.63269942494455, 227.87392376019474, 228.11514809544494, 228.3563724306951, 228.5975967659453, 228.8388211011955, 229.08004543644566, 229.32126977169585, 229.56249410694605, 229.8037184421962, 230.0449427774464, 230.2861671126966, 230.52739144794677, 230.76861578319696, 231.00984011844716, 231.25106445369732, 231.49228878894752, 231.73351312419769, 231.97473745944788, 232.21596179469807, 232.45718612994824, 232.69841046519844, 232.93963480044863, 233.1808591356988, 233.422083470949, 233.66330780619919, 233.90453214144935, 234.14575647669955, 234.38698081194974, 234.6282051471999, 234.8694294824501, 235.1106538177003, 235.35187815295046, 235.59310248820066, 235.83432682345085, 236.07555115870102, 236.3167754939512, 236.5579998292014, 236.79922416445157, 237.04044849970177, 237.28167283495196, 237.52289717020213, 237.76412150545232, 238.0053458407025, 238.24657017595268, 238.48779451120288, 238.72901884645304, 238.97024318170324, 239.21146751695343, 239.4526918522036, 239.6939161874538, 239.935140522704, 240.17636485795416, 240.41758919320435, 240.65881352845454, 240.9000378637047, 241.1412621989549, 241.3824865342051, 241.62371086945527, 241.86493520470546, 242.10615953995566, 242.34738387520582, 242.58860821045602, 242.8298325457062, 243.07105688095638, 243.31228121620657, 243.55350555145677, 243.79472988670693, 244.03595422195713, 244.2771785572073, 244.5184028924575, 244.75962722770768, 245.00085156295785, 245.24207589820804, 245.48330023345824, 245.7245245687084, 245.9657489039586, 246.2069732392088, 246.44819757445896, 246.68942190970915, 246.93064624495935, 247.17187058020951, 247.4130949154597, 247.6543192507099, 247.89554358596007, 248.13676792121026, 248.37799225646046, 248.61921659171063, 248.86044092696082, 249.10166526221101, 249.34288959746118, 249.58411393271138, 249.82533826796157, 250.06656260321174, 250.30778693846193, 250.54901127371213, 250.7902356089623, 251.0314599442125, 251.27268427946265, 251.51390861471285, 251.75513294996304, 251.9963572852132, 252.2375816204634, 252.4788059557136, 252.72003029096376, 252.96125462621396, 253.20247896146415, 253.44370329671432, 253.6849276319645, 253.9261519672147, 254.16737630246487, 254.40860063771507, 254.64982497296526, 254.89104930821543, 255.13227364346562, 255.37349797871582, 255.61472231396598, 255.85594664921618, 256.09717098446635, 256.33839531971654, 256.57961965496673, 256.82084399021693, 257.06206832546707, 257.30329266071726, 257.54451699596746, 257.78574133121765, 258.02696566646785, 258.268190001718, 258.5094143369682, 258.7506386722184, 258.99186300746857, 259.23308734271876, 259.47431167796896, 259.7155360132191, 259.9567603484693, 260.1979846837195, 260.4392090189697, 260.6804333542199, 260.92165768947007, 261.1628820247202, 261.4041063599704, 261.6453306952206, 261.8865550304708, 262.127779365721, 262.3690037009712, 262.6102280362213, 262.8514523714715, 263.0926767067217, 263.3339010419719, 263.5751253772221, 263.81634971247223, 264.0575740477224, 264.2987983829726, 264.5400227182228, 264.781247053473, 265.0224713887232, 265.26369572397334, 265.50492005922354, 265.74614439447373, 265.9873687297239, 266.2285930649741, 266.4698174002243, 266.71104173547445, 266.95226607072465, 267.19349040597484, 267.43471474122504, 267.67593907647523, 267.9171634117254, 268.15838774697556, 268.39961208222576, 268.64083641747595, 268.88206075272615, 269.12328508797634, 269.36450942322654, 269.6057337584767, 269.84695809372687, 270.08818242897706, 270.32940676422726, 270.57063109947745, 270.8118554347276, 271.0530797699778, 271.294304105228, 271.5355284404782, 271.77675277572837, 272.01797711097856, 272.2592014462287, 272.5004257814789, 272.7416501167291, 272.9828744519793, 273.2240987872295, 273.4653231224797, 273.7065474577298, 273.94777179298, 274.1889961282302, 274.4302204634804, 274.6714447987306, 274.9126691339808, 275.1538934692309, 275.3951178044811, 275.6363421397313, 275.8775664749815, 276.1187908102317, 276.3600151454819, 276.60123948073203, 276.8424638159822, 277.0836881512324, 277.3249124864826, 277.5661368217328, 277.80736115698295, 278.04858549223314, 278.28980982748334, 278.53103416273353, 278.7722584979837, 279.0134828332339, 279.25470716848406, 279.49593150373425, 279.73715583898445, 279.97838017423464, 280.21960450948484, 280.46082884473503, 280.70205317998517, 280.94327751523537, 281.18450185048556, 281.42572618573575, 281.66695052098595, 281.90817485623614, 282.1493991914863, 282.3906235267365, 282.63184786198667, 282.87307219723687, 283.11429653248706, 283.3555208677372, 283.5967452029874, 283.8379695382376, 284.0791938734878, 284.320418208738, 284.56164254398817, 284.8028668792383, 285.0440912144885, 285.2853155497387, 285.5265398849889, 285.7677642202391, 286.0089885554893, 286.2502128907394, 286.4914372259896, 286.7326615612398, 286.97388589649, 287.2151102317402, 287.4563345669904, 287.69755890224053, 287.9387832374907, 288.1800075727409, 288.4212319079911, 288.6624562432413, 288.9036805784915, 289.14490491374164, 289.38612924899184, 289.62735358424203, 289.8685779194922, 290.1098022547424, 290.35102658999256, 290.59225092524275, 290.83347526049295, 291.07469959574314, 291.31592393099334, 291.55714826624353, 291.79837260149367, 292.03959693674386, 292.28082127199406, 292.52204560724425, 292.76326994249445, 293.00449427774464, 293.2457186129948, 293.486942948245, 293.72816728349517, 293.96939161874536, 294.21061595399556, 294.45184028924575, 294.6930646244959, 294.9342889597461, 295.1755132949963, 295.4167376302465, 295.65796196549667, 295.89918630074686, 296.140410635997, 296.3816349712472, 296.6228593064974, 296.8640836417476, 297.1053079769978, 297.3465323122479, 297.5877566474981, 297.8289809827483, 298.0702053179985, 298.3114296532487, 298.5526539884989, 298.793878323749, 299.0351026589992, 299.2763269942494, 299.5175513294996, 299.7587756647498, 300.0], \"y\": [12506.666666666666, 12432.897758554724, 12360.250976317275, 12288.709151804478, 12218.255461390341, 12148.873417709352, 12080.546861623454, 12013.259954411995, 11946.99717017762, 11881.743288461363, 11817.483387060302, 11754.202835041478, 11691.88728594601, 11630.52267117746, 11570.095193568783, 11510.591321122383, 11451.99778091794, 11394.301553182919, 11337.489865520796, 11281.550187292243, 11226.470224144632, 11172.237912685421, 11118.841415295114, 11066.269115075596, 11014.5096109299, 10963.551712769384, 10913.38443684471, 10863.997001196878, 10815.378821224818, 10767.519505366185, 10720.40885088801, 10674.03683978408, 10628.393634775883, 10583.469575414238, 10539.25517427867, 10495.741113271728, 10452.918240005572, 10410.777564278222, 10369.310254636886, 10328.50763502598, 10288.361181517408, 10248.86251912084, 10210.003418671731, 10171.775793794963, 10134.171697941958, 10097.183321499295, 10060.80298896683, 10025.02315620344, 9989.836407738509, 9955.23545414741, 9921.213129489244, 9887.762388805098, 9854.876305675278, 9822.548069833867, 9790.770984839113, 9759.538465798134, 9728.844037144525, 9698.681330467434, 9669.044082390776, 9639.926132501245, 9611.321421323883, 9583.223988343885, 9555.627970073547, 9528.52759816307, 9501.917197554172, 9475.79118467537, 9450.144065677843, 9424.970434710875, 9400.264972235835, 9376.022443377726, 9352.237696313357, 9328.905660695193, 9306.021346109985, 9283.579840571343, 9261.576309045333, 9240.005992008326, 9218.864204036301, 9198.146332424763, 9177.84783583859, 9157.964242991002, 9138.491151351, 9119.424225878529, 9100.759197786712, 9082.491863330473, 9064.618082620942, 9047.133778464984, 9030.034935229254, 9013.317597728204, 8996.977870135448, 8981.01191491793, 8965.415951792362, 8950.186256703366, 8935.319160822872, 8920.8110495702, 8906.658361652371, 8892.857588124172, 8879.405271467514, 8866.298004689606, 8853.532430439538, 8841.105240142839, 8829.013173153562, 8817.253015923543, 8805.821601188403, 8794.715807169898, 8783.932556794283, 8773.468816926295, 8763.3215976184, 8753.487951374971, 8743.964972431044, 8734.749796045335, 8725.839597807184, 8717.23159295714, 8708.923035720825, 8700.911218655863, 8693.193472011493, 8685.76716310067, 8678.6296956843, 8671.7785093674, 8665.211079006884, 8658.92491413075, 8652.917558368381, 8647.186588891744, 8641.72961586725, 8636.544281918033, 8631.628261596416, 8626.979260866361, 8622.595016595686, 8618.473296057822, 8614.611896442919, 8611.008644378106, 8607.661395456686, 8604.568033776113, 8601.726471484535, 8599.134648335717, 8596.790531252214, 8594.692113896546, 8592.837416250286, 8591.224484200833, 8589.851389135747, 8588.716227544468, 8587.817120627285, 8587.152213911377, 8586.719676873814, 8586.517702571335, 8586.544507276813, 8586.79833012222, 8587.277432747986, 8587.980098958622, 8588.904634384482, 8590.049366149502, 8591.41264254487, 8592.992832708413, 8594.788326309676, 8596.797533240515, 8599.018883311115, 8601.45082595135, 8604.091829917314, 8606.940383003004, 8609.994991756976, 8613.254181203913, 8616.71649457103, 8620.380493019164, 8624.244755378491, 8628.307877888803, 8632.568473944186, 8637.02517384209, 8641.676624536662, 8646.521489396255, 8651.55844796506, 8656.786195728766, 8662.203443884162, 8667.808919112624, 8673.601363357397, 8679.57953360461, 8685.742201667941, 8692.088153976878, 8698.616191368492, 8705.325128882672, 8712.213795560732, 8719.281034247364, 8726.52570139582, 8733.946666876334, 8741.542813787648, 8749.313038271635, 8757.256249330952, 8765.371368649645, 8773.657330416678, 8782.113081152309, 8790.7375795373, 8799.529796244833, 8808.488713775178, 8817.61332629298, 8826.902639467175, 8836.355670313449, 8845.97144703921, 8855.749008891033, 8865.687406004517, 8875.785699256525, 8886.04296011975, 8896.458270519593, 8907.030722693258, 8917.759419051092, 8928.643472040076, 8939.682004009444, 8950.874147078426, 8962.219043006005, 8973.715843062728, 8985.363707904486, 8997.161807448252, 9009.109320749732, 9021.205435882881, 9033.449349821303, 9045.840268321428, 9058.377405807512, 9071.059985258351, 9083.887238095753, 9096.85840407468, 9109.972731175061, 9123.22947549525, 9136.627901147076, 9150.167280152476, 9163.846892341682, 9177.666025252944, 9191.62397403373, 9205.720041343417, 9219.953537257432, 9234.323779172799, 9248.830091715114, 9263.471806646867, 9278.248262777142, 9293.15880587263, 9308.20278856996, 9323.379570289313, 9338.6885171493, 9354.129001883082, 9369.700403755724, 9385.402108482725, 9401.233508149773, 9417.194001133616, 9433.282992024107, 9449.499891547373, 9465.844116490067, 9482.315089624733, 9498.912239636247, 9515.635001049264, 9532.482814156763, 9549.455124949567, 9566.551385046876, 9583.771051627806, 9601.113587363861, 9618.578460352388, 9636.165144050972, 9653.873117212728, 9671.70186382253, 9689.650873034127, 9707.719639108123, 9725.907661350848, 9744.214444054065, 9762.639496435522, 9781.182332580323, 9799.842471383123, 9818.619436491103, 9837.512756247765, 9856.52196363746, 9875.646596230708, 9894.886196130266, 9914.240309917917, 9933.708488602002, 9953.290287565667, 9972.985266515805, 9992.792989432697, 10012.713024520346, 10032.744944157466, 10052.888324849133, 10073.142747179121, 10093.507795762825, 10113.983059200862, 10134.56813003328, 10155.262604694366, 10176.066083468073, 10196.978170444047, 10217.998473474212, 10239.126604129959, 10260.362177659892, 10281.704812948134, 10303.154132473164, 10324.70976226725, 10346.37133187635, 10368.138474320573, 10390.010826055175, 10411.988026932027, 10434.069720161613, 10456.255552275503, 10478.54517308934, 10500.93823566629, 10523.434396280962, 10546.033314383803, 10568.73465256596, 10591.538076524579, 10614.443255028551, 10637.44985988472, 10660.557565904504, 10683.766050870929, 10707.074995506133, 10730.48408343923, 10753.993001174611, 10777.601438060661, 10801.309086258827, 10825.11564071312, 10849.020799119999, 10873.02426189859, 10897.12573216135, 10921.324915685043, 10945.621520882098, 10970.01525877233, 10994.505842955023, 11019.092989581333, 11043.776417327055, 11068.55584736574, 11093.431003342106, 11118.40161134583, 11143.467399885609, 11168.628099863585, 11193.883444550074, 11219.233169558589, 11244.677012821185, 11270.214714564107, 11295.846017283726, 11321.570665722777, 11347.388406846885, 11373.298989821378, 11399.302165988367, 11425.397688844141, 11451.585314016791, 11477.864799244124, 11504.235904351855, 11530.698391232056, 11557.252023821833, 11583.896568082317, 11610.631791977848, 11637.457465455454, 11664.373360424548, 11691.379250736874, 11718.474912166686, 11745.660122391191, 11772.93466097118, 11800.298309331918, 11827.750850744256, 11855.29207030595, 11882.921754923236, 11910.639693292569, 11938.445675882629, 11966.3394949165, 11994.320944354076, 12022.389819874672, 12050.545918859838, 12078.789040376345, 12107.118985159424, 12135.535555596158, 12164.03855570907, 12192.627791139905, 12221.303069133628, 12250.064198522552, 12278.910989710681, 12307.843254658255, 12336.860806866413, 12365.963461362086, 12395.151034683038, 12424.423344863082, 12453.780211417454, 12483.221455328385, 12512.746899030788, 12542.356366398173, 12572.049682728635, 12601.826674731092, 12631.687170511615, 12661.630999559935, 12691.657992736093, 12721.767982257265, 12751.960801684696, 12782.236285910803, 12812.594271146441, 12843.034594908253, 12873.55709600623, 12904.161614531364, 12934.847991843442, 12965.616070559001, 12996.465694539393, 13027.396708878983, 13058.408959893484, 13089.502295108443, 13120.676563247785, 13151.931614222574, 13183.267299119821, 13214.68347019146, 13246.179980843417, 13277.75668562483, 13309.41344021735, 13341.150101424579, 13372.966527161627, 13404.862576444766, 13436.838109381217, 13468.89298715902, 13501.027072037032, 13533.240227335054, 13565.532317424002, 13597.903207716237, 13630.352764656007, 13662.88085570993, 13695.487349357634, 13728.172115082492, 13760.935023362419, 13793.775945660807, 13826.694754417547, 13859.691323040117, 13892.765525894805, 13925.917238298018, 13959.146336507645, 13992.452697714558, 14025.836200034182, 14059.296722498148, 14092.834145046045, 14126.448348517253, 14160.139214642875, 14193.90662603771, 14227.750466192381, 14261.670619465474, 14295.66697107581, 14329.739407094765, 14363.887814438682, 14398.11208086138, 14432.412094946696, 14466.78774610115, 14501.238924546664, 14535.765521313344, 14570.367428232366, 14605.044537928921, 14639.796743815219, 14674.623940083577, 14709.526021699596, 14744.502884395366, 14779.554424662778, 14814.680539746889, 14849.881127639346, 14885.156087071891, 14920.50531750994, 14955.928719146184, 14991.426192894316, 15026.99764038277, 15062.64296394855, 15098.362066631109, 15134.154852166314, 15170.021224980417, 15205.961090184162, 15241.974353566882, 15278.060921590682, 15314.22070138472, 15350.453600739453, 15386.759528101033, 15423.138392565717, 15459.590103874309, 15496.114572406706, 15532.711709176483, 15569.381425825495, 15606.123634618583, 15642.938248438311, 15679.825180779744, 15716.784345745285, 15753.815658039592, 15790.91903296448, 15828.09438641393, 15865.341634869143, 15902.660695393603, 15940.051485628202, 15977.51392378648, 16015.047928649781, 16052.653419562575, 16090.330316427779, 16128.078539702092, 16165.898010391433, 16203.788650046405, 16241.750380757754, 16279.783125151967, 16317.886806386801, 16356.061348146955, 16394.306674639723, 16432.6227105907, 16471.00938123954, 16509.466612335757, 16547.99433013455, 16586.592461392665, 16625.260933364338, 16663.999673797207, 16702.80861092833, 16741.68767348021, 16780.63679065684, 16819.655892139832, 16858.744908084525, 16897.903769116194, 16937.13240632623, 16976.43075126841, 17015.79873595517, 17055.236292853908, 17094.743354883372, 17134.31985541, 17173.965728244373, 17213.68090763766, 17253.465328278075, 17293.31892528746, 17333.24163421775, 17373.23339104763, 17413.294132179108, 17453.42379443417, 17493.62231505146, 17533.889631682992, 17574.22568239087, 17614.630405644057, 17655.103740315204, 17695.645625677436, 17736.256001401223, 17776.93480755128, 17817.681984583443, 17858.49747334164, 17899.38121505487, 17940.333151334147, 17981.35322416959, 18022.441375927418, 18063.597549347054, 18104.82168753823, 18146.113733978123, 18187.47363250848, 18228.901327332824, 18270.396763013658, 18311.959884469707, 18353.590636973146, 18395.288966146913, 18437.05481796199, 18478.888138734746, 18520.7888751243, 18562.756974129876, 18604.792383088217, 18646.895049671017, 18689.06492188234, 18731.30194805612, 18773.606076853644, 18815.97725726106, 18858.415438586908, 18900.9205704597, 18943.49260282548, 18986.13148594543, 19028.837170393497, 19071.609607054026, 19114.448747119433, 19157.354542087898, 19200.326943761036, 19243.365904241662, 19286.471375931502, 19329.64331152897, 19372.88166402698, 19416.186386710688, 19459.557433155358, 19502.994757224216, 19546.49831306626, 19590.068055114156, 19633.70393808218, 19677.40591696407, 19721.173947030988, 19765.007983829462, 19808.907983179375, 19852.87390117192, 19896.905694167624, 19941.003318794355, 19985.166731945377, 20029.395890777385, 20073.690752708582, 20118.05127541676, 20162.47741683744, 20206.96913516192, 20251.52638883547, 20296.149136555476, 20340.837337269582, 20385.59095017389, 20430.409934711155, 20475.294250568975, 20520.24385767809, 20565.258716210526, 20610.338786577926, 20655.4840294298, 20700.694405651804, 20745.969876364044, 20791.310402919426, 20836.715946901917, 20882.186470124936, 20927.721934629728, 20973.322302683686, 21018.987536778768, 21064.717599629887, 21110.512454173324, 21156.372063565144, 21202.296391179654, 21248.285400607838, 21294.339055655804, 21340.457320343317, 21386.640158902213, 21432.887535774957, 21479.199415613144, 21525.575763276003, 21572.016543828948, 21618.52172254216, 21665.091264889077, 21711.725136545047, 21758.42330338585, 21805.185731486337, 21852.012387119008, 21898.903236752667, 21945.858247050997, 21992.877384871274, 22039.960617262965, 22087.1079114664, 22134.319234911476, 22181.59455521631, 22228.933840185942, 22276.33705781107, 22323.80417626672, 22371.33516391101, 22418.929989283875, 22466.588621105817, 22514.31102827664, 22562.097179874272, 22609.94704515349, 22657.86059354472, 22705.837794652856, 22753.87861825605, 22801.983034304514, 22850.15101291938, 22898.382524391505, 22946.67753918034, 22995.036027912738, 23043.457961381893, 23091.94331054613, 23140.492046527837, 23189.104140612337, 23237.7795642468, 23286.518289039126, 23335.320286756858, 23384.185529326165, 23433.11398883068, 23482.10563751051, 23531.160447761187, 23580.278392132575, 23629.459443327858, 23678.703574202562, 23728.010757763444, 23777.380967167563, 23826.814175721232, 23876.310356879047, 23925.869484242874, 23975.4915315609, 24025.176472726635, 24074.924281777956, 24124.73493289618, 24174.608400405035, 24224.54465876983, 24274.543682596417, 24324.60544663031, 24374.729925755782, 24424.91709499491, 24475.16692950669, 24525.479404586145, 24575.854495663418, 24626.29217830288, 24676.79242820228, 24727.35522119184, 24777.980533233404, 24828.668340419594, 24879.418618972915, 24930.23134524496, 24981.106495715532, 25032.04404699183, 25083.043975807603, 25134.106259022366, 25185.230873620538, 25236.41779671067, 25287.667005524632, 25338.978477416804, 25390.3521898633, 25441.78812046119, 25493.286246927706, 25544.846547099445, 25596.46899893169, 25648.15358049754, 25699.900269987236, 25751.709045707357, 25803.57988608012, 25855.51276964261, 25907.507675046058, 25959.564581055107, 26011.683466547118, 26063.8643105114, 26116.107092048544, 26168.41179036972, 26220.778384795914, 26273.206854757318, 26325.697179792573, 26378.249339548118, 26430.86331377748, 26483.53908234065, 26536.276625203347, 26589.075922436394, 26641.93695421506, 26694.859700818386, 26747.84414262852, 26800.89026013012, 26853.998033909662, 26907.167444654817, 26960.398473153848, 27013.691100294945, 27067.045307065622, 27120.461074552084, 27173.93838393861, 27227.477216506988, 27281.077553635852, 27334.73937680009, 27388.462667570304, 27442.24740761214, 27496.09357868574, 27550.001162645185, 27603.970141437836, 27658.00049710384, 27712.09221177553, 27766.245267676823, 27820.45964712271, 27874.73533251868, 27929.072306360136, 27983.470551231883, 28037.930049807568, 28092.45078484912, 28147.032739206228, 28201.675895815813, 28256.38023770148, 28311.14574797298, 28365.972409825725, 28420.86020654022, 28475.80912148159, 28530.81913809904, 28585.890239925327, 28641.02241057632, 28696.215633750428, 28751.469893228143, 28806.785172871525, 28862.16145662372, 28917.598728508452, 28973.096972629584, 29028.65617317059, 29084.276314394083, 29139.957380641372, 29195.69935633195, 29251.50222596306, 29307.365974109212, 29363.29058542171, 29419.27604462822, 29475.322336532317, 29531.429446012986, 29587.597358024217, 29643.826057594575, 29700.11552982669, 29756.465759896866, 29812.87673305467, 29869.348434622407, 29925.880849994795, 29982.473964638466, 30039.127764091558, 30095.842233963318, 30152.617359933643, 30209.453127752695, 30266.349523240486, 30323.306532286446, 30380.324140849025, 30437.402334955306, 30494.541100700582, 30551.740424247957, 30609.00029182797, 30666.320689738182, 30723.701604342776, 30781.143022072203, 30838.644929422764, 30896.20731295624, 30953.83015929952, 31011.51345514419, 31069.257187246196, 31127.061342425462, 31184.925907565503, 31242.85086961306, 31300.836215577758, 31358.881932531713, 31416.988007609187, 31475.154428006237, 31533.38118098034, 31591.66825385006, 31650.015633994677, 31708.423308853842, 31766.891265927265, 31825.419492774312, 31884.007977013698, 31942.65670632318, 32001.365668439135, 32060.134851156294, 32118.964242327405, 32177.85382986286, 32236.803601730404, 32295.813545954814, 32354.883650617543, 32414.0139038564, 32473.20429386528, 32532.45480889379, 32591.76543724696, 32651.136167284923, 32710.566987422608, 32770.05788612942, 32829.60885192897, 32889.219873398695, 32948.89093916962, 33008.62203792608, 33068.41315840532, 33128.264289397266, 33188.17541974424, 33248.14653834063, 33308.177634132655, 33368.268696117964, 33428.41971334549, 33488.63067491504, 33548.9015699771, 33609.232387732474, 33669.62311743212, 33730.073748376766, 33790.58426991662, 33851.15467145119, 33911.78494242898, 33972.47507234714, 34033.225050751316, 34094.03486723529, 34154.90451144077, 34215.83397305707, 34276.82324182093, 34337.87230751614, 34398.981159973424, 34460.149789070056, 34521.37818472964, 34582.66633692192, 34644.01423566241, 34705.42187101229, 34766.88923307799, 34828.4163120111, 34890.003098008, 34951.649581309684, 35013.35575220148, 35075.12160101291, 35136.947118117234, 35198.83229393144, 35260.777118915896, 35322.78158357411, 35384.845678452504, 35446.96939414024, 35509.1527212689, 35571.39565051233, 35633.69817258635, 35696.06027824857, 35758.481958298136, 35820.96320357558, 35883.504004962466, 35946.10435338127, 36008.76423979515, 36071.48365520768, 36134.26259066267, 36197.101037243985, 36259.99898607524, 36322.95642831963, 36385.97335517977, 36449.049757897374, 36512.18562775319, 36575.38095606667, 36638.6357341958, 36701.949953536896, 36765.32360552444, 36828.7566816308, 36892.24917336614, 36955.80107227806, 37019.41236995156, 37083.08305800874, 37146.81312810864, 37210.60257194701, 37274.451381256236, 37338.35954780496, 37402.327063398014, 37466.35391987621, 37530.440109116156, 37594.58562303, 37658.79045356536, 37723.05459270503, 37787.37803246688, 37851.76076490356, 37916.20278210247, 37980.70407618544, 38045.26463930864, 38109.884463662376, 38174.563541470874, 38239.30186499214, 38304.09942651778, 38368.95621837285, 38433.87223291563, 38498.84746253748, 38563.88189966266, 38628.97553674816, 38694.12836628355, 38759.3403807908, 38824.611572824106, 38889.9419349697, 38955.331459845744, 39020.7801401021, 39086.28796842021, 39151.85493751298, 39217.48104012445, 39283.16626902983, 39348.910617035224, 39414.7140769775, 39480.576641724125, 39546.498304173045, 39612.47905725248, 39678.5188939208, 39744.61780716635, 39810.7757900073, 39876.99283549153, 39943.26893669644, 40009.604086728796, 40075.99827872458, 40142.451505848905, 40208.96376129575, 40275.535038287955, 40342.165330076954, 40408.85462994267, 40475.602931193396, 40542.41022716564, 40609.27651122395, 40676.20177676081, 40743.18601719651, 40810.229225978925, 40877.3313965835, 40944.492522512985, 41011.71259729738, 41078.99161449381, 41146.329567686305, 41213.726450485745, 41281.18225652966, 41348.69697948217, 41416.270613033776, 41483.903150901315, 41551.594586827734, 41619.34491458203, 41687.15412795906, 41755.02222077947, 41822.94918688958, 41890.93502016116, 41958.97971449138, 42027.083263802684, 42095.24566204263, 42163.46690318378, 42231.7469812236, 42300.08589018431, 42368.48362411275, 42436.94017708029, 42505.45554318269, 42574.02971653996, 42642.66269129634, 42711.35446162003, 42780.105021703166, 42848.9143657617, 42917.782488035264, 42986.70938278702, 43055.69504430364, 43124.739466895095, 43193.842644894576, 43263.0045726584, 43332.22524456587, 43401.504655019155, 43470.84279844322, 43540.23966928571, 43609.69526201675, 43679.209571128966, 43748.78259113728, 43818.41431657886, 43888.104742013, 43957.85386202094, 44027.661671205875, 44097.52816419277, 44167.45333562829, 44237.43718018069, 44307.47969253969, 44377.58086741638, 44447.74069954312, 44517.959183673476]}, {\"mode\": \"lines\", \"name\": \"Annotation\", \"showlegend\": false, \"type\": \"scatter\", \"x\": [0, 250], \"y\": [25000.000369883423, 25000.000369883423]}, {\"mode\": \"text\", \"name\": \"Annotation\", \"showlegend\": false, \"text\": \"h=0.0km\", \"textposition\": \"middle right\", \"type\": \"scatter\", \"x\": [250], \"y\": [25000.000369883423]}, {\"mode\": \"markers+text\", \"name\": \"Annotation\", \"showlegend\": false, \"text\": [\"v1=39.39\", \"v2=222.42\"], \"textposition\": \"bottom center\", \"type\": \"scatter\", \"x\": [39.393588355953085, 222.41527401365929], \"y\": [25000.000369883423, 25000.000369883423]}, {\"mode\": \"lines\", \"name\": \"Annotation\", \"showlegend\": false, \"type\": \"scatter\", \"x\": [0, 250], \"y\": [20541.913338992574, 20541.913338992574]}, {\"mode\": \"text\", \"name\": \"Annotation\", \"showlegend\": false, \"text\": \"h=2.0km\", \"textposition\": \"middle right\", \"type\": \"scatter\", \"x\": [250], \"y\": [20541.913338992574]}, {\"mode\": \"markers+text\", \"name\": \"Annotation\", \"showlegend\": false, \"text\": [\"v1=43.81\", \"v2=200.01\"], \"textposition\": \"bottom center\", \"type\": \"scatter\", \"x\": [43.80691194367951, 200.00806630321617], \"y\": [20541.913338992574, 20541.913338992574]}, {\"mode\": \"lines\", \"name\": \"Annotation\", \"showlegend\": false, \"type\": \"scatter\", \"x\": [0, 250], \"y\": [16721.359161608078, 16721.359161608078]}, {\"mode\": \"text\", \"name\": \"Annotation\", \"showlegend\": false, \"text\": \"h=4.0km\", \"textposition\": \"middle right\", \"type\": \"scatter\", \"x\": [250], \"y\": [16721.359161608078]}, {\"mode\": \"markers+text\", \"name\": \"Annotation\", \"showlegend\": false, \"text\": [\"v1=49.21\", \"v2=178.06\"], \"textposition\": \"bottom center\", \"type\": \"scatter\", \"x\": [49.2078537384258, 178.0556371173058], \"y\": [16721.359161608078, 16721.359161608078]}, {\"mode\": \"lines\", \"name\": \"Annotation\", \"showlegend\": false, \"type\": \"scatter\", \"x\": [0, 250], \"y\": [13471.659601484218, 13471.659601484218]}, {\"mode\": \"text\", \"name\": \"Annotation\", \"showlegend\": false, \"text\": \"h=6.0km\", \"textposition\": \"middle right\", \"type\": \"scatter\", \"x\": [250], \"y\": [13471.659601484218]}, {\"mode\": \"markers+text\", \"name\": \"Annotation\", \"showlegend\": false, \"text\": [\"v1=56.16\", \"v2=156.01\"], \"textposition\": \"bottom center\", \"type\": \"scatter\", \"x\": [56.16142172765143, 156.00986369361635], \"y\": [13471.659601484218, 13471.659601484218]}, {\"mode\": \"lines\", \"name\": \"Annotation\", \"showlegend\": false, \"type\": \"scatter\", \"x\": [0, 250], \"y\": [10730.326669737937, 10730.326669737937]}, {\"mode\": \"text\", \"name\": \"Annotation\", \"showlegend\": false, \"text\": \"h=8.0km\", \"textposition\": \"middle right\", \"type\": \"scatter\", \"x\": [250], \"y\": [10730.326669737937]}, {\"mode\": \"markers+text\", \"name\": \"Annotation\", \"showlegend\": false, \"text\": [\"v1=66.20\", \"v2=132.35\"], \"textposition\": \"bottom center\", \"type\": \"scatter\", \"x\": [66.20251871310116, 132.34746832731454], \"y\": [10730.326669737937, 10730.326669737937]}, {\"mode\": \"lines\", \"name\": \"Annotation\", \"showlegend\": false, \"type\": \"scatter\", \"x\": [0, 250], \"y\": [8586.69190171847, 8586.69190171847]}, {\"mode\": \"text\", \"name\": \"Annotation\", \"showlegend\": false, \"text\": \"h=9.85924379390416km\", \"textposition\": \"middle right\", \"type\": \"scatter\", \"x\": [250], \"y\": [8586.69190171847]}, {\"mode\": \"markers+text\", \"name\": \"Annotation\", \"showlegend\": false, \"text\": [\"v1=v2=93.29\"], \"textposition\": \"bottom center\", \"type\": \"scatter\", \"x\": [93.29260364077146], \"y\": [8586.69190171847]}, {\"mode\": \"lines\", \"name\": \"Annotation\", \"showlegend\": false, \"type\": \"scatter\", \"x\": [59.016889085065394, 59.016889085065394], \"y\": [0, 30000.0]}, {\"mode\": \"text\", \"name\": \"Annotation\", \"showlegend\": false, \"text\": \"Stall Speed\", \"textposition\": \"middle right\", \"type\": \"scatter\", \"x\": [59.016889085065394], \"y\": [27000.0]}],\n",
       "                        {\"legend\": {\"title\": {\"text\": \"Drag Breakdown\"}}, \"template\": {\"data\": {\"bar\": [{\"error_x\": {\"color\": \"#2a3f5f\"}, \"error_y\": {\"color\": \"#2a3f5f\"}, \"marker\": {\"line\": {\"color\": \"#E5ECF6\", \"width\": 0.5}}, \"type\": \"bar\"}], \"barpolar\": [{\"marker\": {\"line\": {\"color\": \"#E5ECF6\", \"width\": 0.5}}, \"type\": \"barpolar\"}], \"carpet\": [{\"aaxis\": {\"endlinecolor\": \"#2a3f5f\", \"gridcolor\": \"white\", \"linecolor\": \"white\", \"minorgridcolor\": \"white\", \"startlinecolor\": \"#2a3f5f\"}, \"baxis\": {\"endlinecolor\": \"#2a3f5f\", \"gridcolor\": \"white\", \"linecolor\": \"white\", \"minorgridcolor\": \"white\", \"startlinecolor\": \"#2a3f5f\"}, \"type\": \"carpet\"}], \"choropleth\": [{\"colorbar\": {\"outlinewidth\": 0, \"ticks\": \"\"}, \"type\": \"choropleth\"}], \"contour\": [{\"colorbar\": {\"outlinewidth\": 0, \"ticks\": \"\"}, \"colorscale\": [[0.0, \"#0d0887\"], [0.1111111111111111, \"#46039f\"], [0.2222222222222222, \"#7201a8\"], [0.3333333333333333, \"#9c179e\"], [0.4444444444444444, \"#bd3786\"], [0.5555555555555556, \"#d8576b\"], [0.6666666666666666, \"#ed7953\"], [0.7777777777777778, \"#fb9f3a\"], [0.8888888888888888, \"#fdca26\"], [1.0, \"#f0f921\"]], \"type\": \"contour\"}], \"contourcarpet\": [{\"colorbar\": {\"outlinewidth\": 0, \"ticks\": \"\"}, \"type\": \"contourcarpet\"}], \"heatmap\": [{\"colorbar\": {\"outlinewidth\": 0, \"ticks\": \"\"}, \"colorscale\": [[0.0, \"#0d0887\"], [0.1111111111111111, \"#46039f\"], [0.2222222222222222, \"#7201a8\"], [0.3333333333333333, \"#9c179e\"], [0.4444444444444444, \"#bd3786\"], [0.5555555555555556, \"#d8576b\"], [0.6666666666666666, \"#ed7953\"], [0.7777777777777778, \"#fb9f3a\"], [0.8888888888888888, \"#fdca26\"], [1.0, \"#f0f921\"]], \"type\": \"heatmap\"}], \"heatmapgl\": [{\"colorbar\": {\"outlinewidth\": 0, \"ticks\": \"\"}, \"colorscale\": [[0.0, \"#0d0887\"], [0.1111111111111111, \"#46039f\"], [0.2222222222222222, \"#7201a8\"], [0.3333333333333333, \"#9c179e\"], [0.4444444444444444, \"#bd3786\"], [0.5555555555555556, \"#d8576b\"], [0.6666666666666666, \"#ed7953\"], [0.7777777777777778, \"#fb9f3a\"], [0.8888888888888888, \"#fdca26\"], [1.0, \"#f0f921\"]], \"type\": \"heatmapgl\"}], \"histogram\": [{\"marker\": {\"colorbar\": {\"outlinewidth\": 0, \"ticks\": \"\"}}, \"type\": \"histogram\"}], \"histogram2d\": [{\"colorbar\": {\"outlinewidth\": 0, \"ticks\": \"\"}, \"colorscale\": [[0.0, \"#0d0887\"], [0.1111111111111111, \"#46039f\"], [0.2222222222222222, \"#7201a8\"], [0.3333333333333333, \"#9c179e\"], [0.4444444444444444, \"#bd3786\"], [0.5555555555555556, \"#d8576b\"], [0.6666666666666666, \"#ed7953\"], [0.7777777777777778, \"#fb9f3a\"], [0.8888888888888888, \"#fdca26\"], [1.0, \"#f0f921\"]], \"type\": \"histogram2d\"}], \"histogram2dcontour\": [{\"colorbar\": {\"outlinewidth\": 0, \"ticks\": \"\"}, \"colorscale\": [[0.0, \"#0d0887\"], [0.1111111111111111, \"#46039f\"], [0.2222222222222222, \"#7201a8\"], [0.3333333333333333, \"#9c179e\"], [0.4444444444444444, \"#bd3786\"], [0.5555555555555556, \"#d8576b\"], [0.6666666666666666, \"#ed7953\"], [0.7777777777777778, \"#fb9f3a\"], [0.8888888888888888, \"#fdca26\"], [1.0, \"#f0f921\"]], \"type\": \"histogram2dcontour\"}], \"mesh3d\": [{\"colorbar\": {\"outlinewidth\": 0, \"ticks\": \"\"}, \"type\": \"mesh3d\"}], \"parcoords\": [{\"line\": {\"colorbar\": {\"outlinewidth\": 0, \"ticks\": \"\"}}, \"type\": \"parcoords\"}], \"pie\": [{\"automargin\": true, \"type\": \"pie\"}], \"scatter\": [{\"marker\": {\"colorbar\": {\"outlinewidth\": 0, \"ticks\": \"\"}}, \"type\": \"scatter\"}], \"scatter3d\": [{\"line\": {\"colorbar\": {\"outlinewidth\": 0, \"ticks\": \"\"}}, \"marker\": {\"colorbar\": {\"outlinewidth\": 0, \"ticks\": \"\"}}, \"type\": \"scatter3d\"}], \"scattercarpet\": [{\"marker\": {\"colorbar\": {\"outlinewidth\": 0, \"ticks\": \"\"}}, \"type\": \"scattercarpet\"}], \"scattergeo\": [{\"marker\": {\"colorbar\": {\"outlinewidth\": 0, \"ticks\": \"\"}}, \"type\": \"scattergeo\"}], \"scattergl\": [{\"marker\": {\"colorbar\": {\"outlinewidth\": 0, \"ticks\": \"\"}}, \"type\": \"scattergl\"}], \"scattermapbox\": [{\"marker\": {\"colorbar\": {\"outlinewidth\": 0, \"ticks\": \"\"}}, \"type\": \"scattermapbox\"}], \"scatterpolar\": [{\"marker\": {\"colorbar\": {\"outlinewidth\": 0, \"ticks\": \"\"}}, \"type\": \"scatterpolar\"}], \"scatterpolargl\": [{\"marker\": {\"colorbar\": {\"outlinewidth\": 0, \"ticks\": \"\"}}, \"type\": \"scatterpolargl\"}], \"scatterternary\": [{\"marker\": {\"colorbar\": {\"outlinewidth\": 0, \"ticks\": \"\"}}, \"type\": \"scatterternary\"}], \"surface\": [{\"colorbar\": {\"outlinewidth\": 0, \"ticks\": \"\"}, \"colorscale\": [[0.0, \"#0d0887\"], [0.1111111111111111, \"#46039f\"], [0.2222222222222222, \"#7201a8\"], [0.3333333333333333, \"#9c179e\"], [0.4444444444444444, \"#bd3786\"], [0.5555555555555556, \"#d8576b\"], [0.6666666666666666, \"#ed7953\"], [0.7777777777777778, \"#fb9f3a\"], [0.8888888888888888, \"#fdca26\"], [1.0, \"#f0f921\"]], \"type\": \"surface\"}], \"table\": [{\"cells\": {\"fill\": {\"color\": \"#EBF0F8\"}, \"line\": {\"color\": \"white\"}}, \"header\": {\"fill\": {\"color\": \"#C8D4E3\"}, \"line\": {\"color\": \"white\"}}, \"type\": \"table\"}]}, \"layout\": {\"annotationdefaults\": {\"arrowcolor\": \"#2a3f5f\", \"arrowhead\": 0, \"arrowwidth\": 1}, \"coloraxis\": {\"colorbar\": {\"outlinewidth\": 0, \"ticks\": \"\"}}, \"colorscale\": {\"diverging\": [[0, \"#8e0152\"], [0.1, \"#c51b7d\"], [0.2, \"#de77ae\"], [0.3, \"#f1b6da\"], [0.4, \"#fde0ef\"], [0.5, \"#f7f7f7\"], [0.6, \"#e6f5d0\"], [0.7, \"#b8e186\"], [0.8, \"#7fbc41\"], [0.9, \"#4d9221\"], [1, \"#276419\"]], \"sequential\": [[0.0, \"#0d0887\"], [0.1111111111111111, \"#46039f\"], [0.2222222222222222, \"#7201a8\"], [0.3333333333333333, \"#9c179e\"], [0.4444444444444444, \"#bd3786\"], [0.5555555555555556, \"#d8576b\"], [0.6666666666666666, \"#ed7953\"], [0.7777777777777778, \"#fb9f3a\"], [0.8888888888888888, \"#fdca26\"], [1.0, \"#f0f921\"]], \"sequentialminus\": [[0.0, \"#0d0887\"], [0.1111111111111111, \"#46039f\"], [0.2222222222222222, \"#7201a8\"], [0.3333333333333333, \"#9c179e\"], [0.4444444444444444, \"#bd3786\"], [0.5555555555555556, \"#d8576b\"], [0.6666666666666666, \"#ed7953\"], [0.7777777777777778, \"#fb9f3a\"], [0.8888888888888888, \"#fdca26\"], [1.0, \"#f0f921\"]]}, \"colorway\": [\"#636efa\", \"#EF553B\", \"#00cc96\", \"#ab63fa\", \"#FFA15A\", \"#19d3f3\", \"#FF6692\", \"#B6E880\", \"#FF97FF\", \"#FECB52\"], \"font\": {\"color\": \"#2a3f5f\"}, \"geo\": {\"bgcolor\": \"white\", \"lakecolor\": \"white\", \"landcolor\": \"#E5ECF6\", \"showlakes\": true, \"showland\": true, \"subunitcolor\": \"white\"}, \"hoverlabel\": {\"align\": \"left\"}, \"hovermode\": \"closest\", \"mapbox\": {\"style\": \"light\"}, \"paper_bgcolor\": \"white\", \"plot_bgcolor\": \"#E5ECF6\", \"polar\": {\"angularaxis\": {\"gridcolor\": \"white\", \"linecolor\": \"white\", \"ticks\": \"\"}, \"bgcolor\": \"#E5ECF6\", \"radialaxis\": {\"gridcolor\": \"white\", \"linecolor\": \"white\", \"ticks\": \"\"}}, \"scene\": {\"xaxis\": {\"backgroundcolor\": \"#E5ECF6\", \"gridcolor\": \"white\", \"gridwidth\": 2, \"linecolor\": \"white\", \"showbackground\": true, \"ticks\": \"\", \"zerolinecolor\": \"white\"}, \"yaxis\": {\"backgroundcolor\": \"#E5ECF6\", \"gridcolor\": \"white\", \"gridwidth\": 2, \"linecolor\": \"white\", \"showbackground\": true, \"ticks\": \"\", \"zerolinecolor\": \"white\"}, \"zaxis\": {\"backgroundcolor\": \"#E5ECF6\", \"gridcolor\": \"white\", \"gridwidth\": 2, \"linecolor\": \"white\", \"showbackground\": true, \"ticks\": \"\", \"zerolinecolor\": \"white\"}}, \"shapedefaults\": {\"line\": {\"color\": \"#2a3f5f\"}}, \"ternary\": {\"aaxis\": {\"gridcolor\": \"white\", \"linecolor\": \"white\", \"ticks\": \"\"}, \"baxis\": {\"gridcolor\": \"white\", \"linecolor\": \"white\", \"ticks\": \"\"}, \"bgcolor\": \"#E5ECF6\", \"caxis\": {\"gridcolor\": \"white\", \"linecolor\": \"white\", \"ticks\": \"\"}}, \"title\": {\"x\": 0.05}, \"xaxis\": {\"automargin\": true, \"gridcolor\": \"white\", \"linecolor\": \"white\", \"ticks\": \"\", \"title\": {\"standoff\": 15}, \"zerolinecolor\": \"white\", \"zerolinewidth\": 2}, \"yaxis\": {\"automargin\": true, \"gridcolor\": \"white\", \"linecolor\": \"white\", \"ticks\": \"\", \"title\": {\"standoff\": 15}, \"zerolinecolor\": \"white\", \"zerolinewidth\": 2}}}, \"title\": {\"text\": \"$T_R \\\\text{ and } T_A \\\\text{ for different altitudes}$\"}, \"xaxis\": {\"range\": [0, 260], \"title\": {\"text\": \"EAS / (m/s)\"}}, \"yaxis\": {\"range\": [0, 30000.0], \"title\": {\"text\": \"Drag / N\"}}},\n",
       "                        {\"responsive\": true}\n",
       "                    ).then(function(){\n",
       "                            \n",
       "var gd = document.getElementById('f38be154-2e19-4934-87e3-8b593a4e98c7');\n",
       "var x = new MutationObserver(function (mutations, observer) {{\n",
       "        var display = window.getComputedStyle(gd).display;\n",
       "        if (!display || display === 'none') {{\n",
       "            console.log([gd, 'removed!']);\n",
       "            Plotly.purge(gd);\n",
       "            observer.disconnect();\n",
       "        }}\n",
       "}});\n",
       "\n",
       "// Listen for the removal of the full notebook cells\n",
       "var notebookContainer = gd.closest('#notebook-container');\n",
       "if (notebookContainer) {{\n",
       "    x.observe(notebookContainer, {childList: true});\n",
       "}}\n",
       "\n",
       "// Listen for the clearing of the current output cell\n",
       "var outputEl = gd.closest('.output');\n",
       "if (outputEl) {{\n",
       "    x.observe(outputEl, {childList: true});\n",
       "}}\n",
       "\n",
       "                        })\n",
       "                };\n",
       "                });\n",
       "            </script>\n",
       "        </div>"
      ]
     },
     "metadata": {},
     "output_type": "display_data"
    }
   ],
   "source": [
    "import plotly.io as pio\n",
    "import plotly.express as px\n",
    "import plotly.offline as py\n",
    "import plotly.graph_objects as go\n",
    "from ambiance import Atmosphere\n",
    "import numpy as np\n",
    "import cmath\n",
    "from myst_nb import glue\n",
    "\n",
    "\n",
    "# Define constants\n",
    "CD0=0.016 # Zero incidence drag\n",
    "K=0.045 # Induced drag factor\n",
    "S=50 # Wing area, m^2\n",
    "W=160e3 # Aircarft weight, Newtons\n",
    "Clmax = 1.5\n",
    "\n",
    "rho_sl = 1.225\n",
    "\n",
    "TSL = 25e3\n",
    "\n",
    "fig = go.Figure()\n",
    "\n",
    "\n",
    "# Determine A and B - EAS\n",
    "AE = CD0 * 0.5 * rho_sl * S\n",
    "BE = K * W ** 2 / 0.5 / rho_sl / S\n",
    "\n",
    "# Find mimimum drag as this sets the ceiling\n",
    "Vemd = (BE/AE)**.25\n",
    "Dmin = AE * Vemd**2 + BE * Vemd**-2\n",
    "sig_dmin = Dmin/TSL\n",
    "rho_dmin = sig_dmin * rho_sl\n",
    "\n",
    "# Need to find the altitude for this - this isn't an efficient way to calculate it. But it'll work\n",
    "ceiling_found = False\n",
    "alt = 0\n",
    "iteration = 0\n",
    "dH = 1\n",
    "while not ceiling_found:\n",
    "    mosphere = Atmosphere(alt*1000)\n",
    "    rho = mosphere.density\n",
    "    drho = rho - rho_dmin\n",
    "    dH = drho\n",
    "    \n",
    "    alt = alt + drho\n",
    "    \n",
    "    if abs(drho) < 1e-5:\n",
    "        ceiling_found = True\n",
    "    \n",
    "ceiling = alt\n",
    "altvec = np.arange(0, ceiling, 2)\n",
    "altvec = np.concatenate((altvec, ceiling))\n",
    "\n",
    "# Get minimum drag\n",
    "Vemd = (BE/AE)**.25\n",
    "md = AE * Vemd**2 + BE * Vemd**-2\n",
    "\n",
    "# Turn this into TAS\n",
    "Vmd = Vemd * sig_dmin**-.5\n",
    "\n",
    "# Save these values for later\n",
    "glue(\"Vemd\", Vemd, display=False);\n",
    "glue(\"Vmd\", Vmd, display=False);\n",
    "\n",
    "\n",
    "\n",
    "\n",
    "# Flight speed vector\n",
    "# Determine stall speed\n",
    "Vstall = np.sqrt(W / (0.5 * rho_sl * S * Clmax))\n",
    "Vs = np.linspace(Vstall, 300, 1000)\n",
    "\n",
    "# Define drags\n",
    "Dind = BE * Vs**-2\n",
    "Dprof = AE * Vs**2\n",
    "D = Dind + Dprof\n",
    "\n",
    "fig.add_trace(go.Scatter(x=Vs, y=D, name=\"$T_R$\"))   \n",
    "\n",
    "\n",
    "\n",
    "for alt in altvec:\n",
    "\n",
    "    mosphere = Atmosphere(alt*1000)\n",
    "    rho = mosphere.density\n",
    "\n",
    "    # Thrust available at this altitude\n",
    "    sigma = rho/rho_sl\n",
    "    TA = TSL * sigma[0]\n",
    "\n",
    "    # Plot available thrust\n",
    "    fig.add_trace(go.Scatter(x=[0, 250], y=[TA, TA], name=\"Annotation\", mode=\"lines\"))\n",
    "    fig.add_trace(go.Scatter(x=[250], y=[TA], mode=\"text\", text=f\"h={alt}km\", textposition=\"middle right\", name=\"Annotation\"))\n",
    "    \n",
    "    # Get the intersection\n",
    "    a = AE\n",
    "    b = -TA\n",
    "    c = BE\n",
    "    flight_limit_speeds = np.sort(np.sqrt(np.roots([a, b, c])))\n",
    "    \n",
    "    # Is this in the envelope (this code is redundant now, but might be handy for later)\n",
    "    in_envelope = not (isinstance(flight_limit_speeds[0], complex))\n",
    "    \n",
    "    # Add v1 and v2 annotations        \n",
    "    if in_envelope and not (alt == ceiling):\n",
    "        fig.add_trace(go.Scatter(x=flight_limit_speeds, y=[TA, TA], mode=\"markers+text\", text=[f\"v1={flight_limit_speeds[0]:1.2f}\", f\"v2={flight_limit_speeds[1]:1.2f}\"], textposition=\"bottom center\", name=\"Annotation\"))\n",
    "    elif in_envelope:\n",
    "        fig.add_trace(go.Scatter(x=[flight_limit_speeds[0]], y=[TA], mode=\"markers+text\", text=[f\"v1=v2={flight_limit_speeds[0]:1.2f}\"], textposition=\"bottom center\", name=\"Annotation\"))\n",
    "\n",
    "\n",
    "# Add the stall speed\n",
    "fig.add_trace(go.Scatter(x=[Vstall, Vstall], y=[0, 30e3], mode=\"lines\", name=\"Annotation\"))        \n",
    "fig.add_trace(go.Scatter(x=[Vstall], y=[27e3], mode=\"text\", text=\"Stall Speed\", textposition=\"middle right\", name=\"Annotation\"))\n",
    "\n",
    "fig.update_layout(\n",
    "    title=f\"$T_R \\\\text{{ and }} T_A \\\\text{{ for different altitudes}}$\",\n",
    "    xaxis_title=\"EAS / (m/s)\",\n",
    "    yaxis_title=\"Drag / N\",\n",
    "    legend_title=\"Drag Breakdown\",\n",
    ")\n",
    "\n",
    "for trace in fig['data']: \n",
    "    if(trace['name'] == \"Annotation\"): trace['showlegend'] = False\n",
    "\n",
    "fig.update_xaxes(range=[0, 260])\n",
    "fig.update_yaxes(range=[0, 30e3])\n",
    "\n",
    "fig.show()\n"
   ]
  },
  {
   "cell_type": "markdown",
   "metadata": {},
   "source": [
    "Look at the graph above, observe the following:\n",
    "- There is a single $T_R$ curve since the graph has been plotted in EAS\n",
    "- At sea-level the $T_A$ curve is highest as the air density is lowest, hence there is the greatest available thrust\n",
    "- As altitude increases, the *available thrust* decreases, and hence the minimum flight speed $v_1$ increases whilst the maximum flight speed $v_2$ increases\n",
    "- For many altitudes, the minimum flight speed is lower than the stall speed hence the value has no physical significance - since flight would not be *possible at these speeds*\n",
    "- Altitudes have been plotted in 2km intervals, which is an arbitrary interval.\n",
    "- As $v_1$ and $v_2$ get closer together, they finally meet at the *minimum drag speed* - the physical significance here is that at this altitude the engine can only produce sufficient thrust (*i.e.,* at maximium throttle) to enable cruise at a single speed (that which requires the minimum thrust, $V_{md}$) - {glue:text}`Vemd:1.3f`m/s EAS or {glue:text}`Vmd:1.3f`m/s TAS\n",
    "\n",
    "#### Plotting flight speeds\n",
    "\n",
    "From the above, it is possible to plot the maximum and minimum flight speeds with altitude\n"
   ]
  },
  {
   "cell_type": "code",
   "execution_count": 40,
   "metadata": {
    "tags": [
     "hide-input"
    ]
   },
   "outputs": [
    {
     "data": {
      "application/vnd.plotly.v1+json": {
       "config": {
        "plotlyServerURL": "https://plot.ly"
       },
       "data": [
        {
         "mode": "lines",
         "name": "EAS",
         "type": "scatter",
         "x": [
          39.393588355953085,
          39.59580346522217,
          39.799780176686156,
          40.005545261496984,
          40.213126179505316,
          40.42255110534176,
          40.63384895578609,
          40.84704941850259,
          41.062182982225075,
          41.27928096848105,
          41.498375564951466,
          41.7194998605693,
          41.94268788246818,
          42.16797463490047,
          42.395396140253986,
          42.62498948230562,
          42.85679285186206,
          43.090845594948824,
          43.32718826372279,
          43.56586267029652,
          43.80691194367951,
          44.050380590057586,
          44.296314556651126,
          44.54476129941302,
          44.795769854850256,
          45.04939091627786,
          45.305676914841456,
          45.56468210567556,
          45.826462659597816,
          46.09107676077696,
          46.35858471085395,
          46.62904904004102,
          46.90253462577469,
          47.179108819556106,
          47.458841582674324,
          47.74180563158056,
          48.02807659375924,
          48.3177331750312,
          48.6108573393246,
          48.90753450206031,
          49.2078537384258,
          49.5119080079543,
          49.81979439698718,
          50.13161438078147,
          50.44747410723157,
          50.76748470441222,
          51.09176261442003,
          51.42042995629972,
          51.753614921196956,
          52.09145220328713,
          52.434083470499935,
          52.781657879602385,
          53.134332640834465,
          53.49227363802217,
          53.855656110947805,
          54.224665407756795,
          54.59949781635151,
          54.980361485105355,
          55.367477444862836,
          55.761080746127625,
          56.16142172765143,
          56.56876743539544,
          56.98340321415718,
          57.405634498159394,
          57.83578883175855,
          58.27421815735403,
          58.72130141484132,
          59.17744750590566,
          59.6430986875544,
          60.11873447314355,
          60.60487613656686,
          61.10209193731165,
          61.61100321218922,
          62.13229151568429,
          62.66670703773466,
          63.21507858911971,
          63.778325525790926,
          64.35747209198685,
          64.95366480876525,
          65.56819373571905,
          66.20251871310116,
          66.85830208581179,
          67.5374499762209,
          68.24216499911982,
          68.9750145444857,
          69.7390206342166,
          70.53778030304099,
          71.37563019901373,
          72.25787700587873,
          73.19112898018314,
          74.18378868858797,
          75.24681438094049,
          76.39495386424986,
          77.64886733169058,
          79.03907402380175,
          80.6141026921851,
          82.46008925120894,
          84.76104980320143,
          88.10834820745774,
          93.29260364077146,
          93.91672444160922,
          99.44274211043472,
          103.36983518861126,
          106.25425982596965,
          108.68738168588439,
          110.85321857303265,
          112.83790800377463,
          114.68998023272302,
          116.43995590582625,
          118.10849652544722,
          119.71035111294549,
          121.25647903906405,
          122.7552838992891,
          124.21337488830609,
          125.63605953869337,
          127.02767525941859,
          128.39181975958132,
          129.73151565028738,
          131.04933082693344,
          132.34746832731454,
          133.62783461575737,
          134.8920922994362,
          136.14170140255598,
          137.3779520916945,
          138.6019909192778,
          139.81484208664,
          141.01742483389407,
          142.2105677843786,
          143.39502087031326,
          144.5714653195055,
          145.7405220744405,
          146.9027589339334,
          148.05869664615423,
          149.20881413496988,
          150.35355300541084,
          151.4933214459659,
          152.62849762337407,
          153.75943264816803,
          154.88645317536702,
          156.00986369361635,
          157.1299485471158,
          158.24697372741772,
          159.3611884662532,
          160.4728266556809,
          161.58210811785375,
          162.68923974337235,
          163.79441651444003,
          164.89782242672018,
          165.99963132186113,
          167.1000076410235,
          168.199107108358,
          169.2970773522145,
          170.3940584708621,
          171.49018354864333,
          172.58557912775848,
          173.68036564024166,
          174.77465780414832,
          175.86856498750353,
          176.9621915431535,
          178.0556371173058,
          179.14899693423516,
          180.2423620593633,
          181.3358196426802,
          182.42945314426981,
          183.5233425435177,
          184.61756453341724,
          185.71219270124908,
          186.80729769677956,
          187.90294738901449,
          188.99920701244392,
          190.09613930362227,
          191.19380462885368,
          192.292261103677,
          193.3915647047841,
          194.49176937494826,
          195.59292712148638,
          196.69508810873478,
          197.79830074497747,
          198.9026117642256,
          200.00806630321617,
          201.11470797396626,
          202.2225789321915,
          203.33171994187245,
          204.44217043623038,
          205.553968575353,
          206.66715130069105,
          207.7817543866317,
          208.8978124893365,
          210.01535919301986,
          211.134427053828,
          212.25504764147078,
          213.3772515787426,
          214.50106857906306,
          215.6265274821564,
          216.75365628798124,
          217.88248218901307,
          219.01303160097822,
          220.14533019212598,
          221.27940291112466,
          222.41527401365929
         ],
         "y": [
          0,
          0.1,
          0.2,
          0.30000000000000004,
          0.4,
          0.5,
          0.6000000000000001,
          0.7000000000000001,
          0.8,
          0.9,
          1,
          1.1,
          1.2000000000000002,
          1.3,
          1.4000000000000001,
          1.5,
          1.6,
          1.7000000000000002,
          1.8,
          1.9000000000000001,
          2,
          2.1,
          2.2,
          2.3000000000000003,
          2.4000000000000004,
          2.5,
          2.6,
          2.7,
          2.8000000000000003,
          2.9000000000000004,
          3,
          3.1,
          3.2,
          3.3000000000000003,
          3.4000000000000004,
          3.5,
          3.6,
          3.7,
          3.8000000000000003,
          3.9000000000000004,
          4,
          4.1000000000000005,
          4.2,
          4.3,
          4.4,
          4.5,
          4.6000000000000005,
          4.7,
          4.800000000000001,
          4.9,
          5,
          5.1000000000000005,
          5.2,
          5.300000000000001,
          5.4,
          5.5,
          5.6000000000000005,
          5.7,
          5.800000000000001,
          5.9,
          6,
          6.1000000000000005,
          6.2,
          6.300000000000001,
          6.4,
          6.5,
          6.6000000000000005,
          6.7,
          6.800000000000001,
          6.9,
          7,
          7.1000000000000005,
          7.2,
          7.300000000000001,
          7.4,
          7.5,
          7.6000000000000005,
          7.7,
          7.800000000000001,
          7.9,
          8,
          8.1,
          8.200000000000001,
          8.3,
          8.4,
          8.5,
          8.6,
          8.700000000000001,
          8.8,
          8.9,
          9,
          9.1,
          9.200000000000001,
          9.3,
          9.4,
          9.5,
          9.600000000000001,
          9.700000000000001,
          9.8,
          9.85924379390416,
          9.85924379390416,
          9.8,
          9.700000000000001,
          9.600000000000001,
          9.5,
          9.4,
          9.3,
          9.200000000000001,
          9.1,
          9,
          8.9,
          8.8,
          8.700000000000001,
          8.6,
          8.5,
          8.4,
          8.3,
          8.200000000000001,
          8.1,
          8,
          7.9,
          7.800000000000001,
          7.7,
          7.6000000000000005,
          7.5,
          7.4,
          7.300000000000001,
          7.2,
          7.1000000000000005,
          7,
          6.9,
          6.800000000000001,
          6.7,
          6.6000000000000005,
          6.5,
          6.4,
          6.300000000000001,
          6.2,
          6.1000000000000005,
          6,
          5.9,
          5.800000000000001,
          5.7,
          5.6000000000000005,
          5.5,
          5.4,
          5.300000000000001,
          5.2,
          5.1000000000000005,
          5,
          4.9,
          4.800000000000001,
          4.7,
          4.6000000000000005,
          4.5,
          4.4,
          4.3,
          4.2,
          4.1000000000000005,
          4,
          3.9000000000000004,
          3.8000000000000003,
          3.7,
          3.6,
          3.5,
          3.4000000000000004,
          3.3000000000000003,
          3.2,
          3.1,
          3,
          2.9000000000000004,
          2.8000000000000003,
          2.7,
          2.6,
          2.5,
          2.4000000000000004,
          2.3000000000000003,
          2.2,
          2.1,
          2,
          1.9000000000000001,
          1.8,
          1.7000000000000002,
          1.6,
          1.5,
          1.4000000000000001,
          1.3,
          1.2000000000000002,
          1.1,
          1,
          0.9,
          0.8,
          0.7000000000000001,
          0.6000000000000001,
          0.5,
          0.4,
          0.30000000000000004,
          0.2,
          0.1,
          0
         ]
        },
        {
         "mode": "lines",
         "name": "TAS",
         "type": "scatter",
         "x": [
          39.39358806453238,
          39.78653827196527,
          40.18456970701099,
          40.58776870031462,
          40.99622358320464,
          41.41002475237272,
          41.82926473739761,
          42.25403827127405,
          42.68444236411901,
          43.12057638023877,
          43.5625421187542,
          44.01044389799565,
          44.464388643893294,
          44.924485982606505,
          45.39084833765338,
          45.863591031820654,
          46.3428323941568,
          46.82869387237285,
          47.321300151002795,
          47.82077927570056,
          48.327262784083885,
          48.84088584356583,
          49.361787396652886,
          49.89011031422745,
          50.42600155737672,
          50.969612348378014,
          51.52109835150325,
          52.08061986436457,
          52.648342020586355,
          53.224435004660776,
          53.809074279923564,
          54.40244083067259,
          55.00472141955001,
          55.616108861416585,
          56.236802315066,
          56.867007594262596,
          57.506937499733915,
          58.156812173917636,
          58.816859480451335,
          59.4873154106023,
          60.16842451907358,
          60.86044039188934,
          61.563626149364396,
          62.278254987506116,
          63.00461076158244,
          63.74298861603341,
          64.49369566540464,
          65.25705173155477,
          66.03339014304704,
          66.82305860338869,
          67.62642013564985,
          68.44385411199455,
          69.27575737781736,
          70.12254548152197,
          70.98465402254594,
          71.86254013206573,
          72.75668410295722,
          73.66759118811171,
          74.59579358918141,
          75.54185266135259,
          76.50636136394291,
          77.48994699162351,
          78.49327422708238,
          79.5170485631857,
          80.5620201514707,
          81.62898814448384,
          82.71880561254899,
          83.83238513164507,
          84.97070515899345,
          86.13481733778772,
          87.3258549036526,
          88.54504240478504,
          89.79370699786081,
          91.07329164615241,
          92.38537062965042,
          93.73166788595377,
          95.11407884458387,
          96.5346966094841,
          97.99584360395376,
          99.50011014728989,
          101.0504019249495,
          102.64999900782695,
          104.30263006999056,
          106.01256690409616,
          107.78474649285253,
          109.62493118461776,
          111.53992266386888,
          113.5378536838948,
          115.62859529971333,
          117.82434114729463,
          120.14047336518036,
          122.5968968502989,
          125.22019547706482,
          128.04733137888965,
          131.13250312732532,
          134.5612687752558,
          138.4844065356004,
          143.2217417618027,
          149.79344285547077,
          159.1857829607576,
          160.25072438661823,
          169.06310254094507,
          174.66522507351257,
          178.44460571770685,
          181.42125870156084,
          183.91485743905332,
          186.07603040158108,
          187.9901880629704,
          189.71138354337748,
          191.27643561833668,
          192.7117868644034,
          194.03720290779395,
          195.26792861122843,
          196.41602229808916,
          197.49122164297106,
          198.50152792040873,
          199.45361320785798,
          200.35311208900146,
          201.2048355953664,
          202.01293135359296,
          202.7810056290837,
          203.5122178141026,
          204.2093546186858,
          204.87488906357356,
          205.51102792449498,
          206.11975028339089,
          206.70283914837785,
          207.26190761171628,
          207.79842066002362,
          208.31371349148262,
          208.80900700269433,
          209.28542096392837,
          209.7439852925581,
          210.1856497511156,
          210.61129233204244,
          211.0217265410823,
          211.41770775189403,
          211.79993877330875,
          212.16907474582783,
          212.5257274640298,
          212.87046920546726,
          213.20383613355912,
          213.5263313313057,
          213.8384275138774,
          214.14056946088604,
          214.43317620313502,
          214.71664299363752,
          214.99134308849528,
          215.2576293597077,
          215.51583575900372,
          215.7662786492676,
          216.00925801798738,
          216.24505858532464,
          216.4739508178374,
          216.69619185754402,
          216.91202637485728,
          217.12168735291385,
          217.32539680996007,
          217.52336646569856,
          217.71579835684375,
          217.90288540656093,
          218.08481195196092,
          218.26175423338134,
          218.43388084879822,
          218.60135317636843,
          218.7643257678031,
          218.92294671500372,
          219.07735799215538,
          219.22769577526114,
          219.37409074091448,
          219.51666834593667,
          219.655549089361,
          219.7908487581065,
          219.92267865756824,
          220.05114582824007,
          220.1763532493913,
          220.2984000307299,
          220.41738159290642,
          220.5333898376413,
          220.64651330819484,
          220.75683734083987,
          220.86444420794402,
          220.96941325322126,
          221.07182101966862,
          221.1717413706624,
          221.2692456046557,
          221.36440256388084,
          221.4572787374353,
          221.547938359098,
          221.63644350019936,
          221.72285415784566,
          221.80722833877508,
          221.88962213910548,
          221.97008982021433,
          222.0486838809751,
          222.1254551265595,
          222.2004527340011,
          222.27372431470093,
          222.3453159740469,
          222.41527236830484
         ],
         "y": [
          0,
          0.1,
          0.2,
          0.30000000000000004,
          0.4,
          0.5,
          0.6000000000000001,
          0.7000000000000001,
          0.8,
          0.9,
          1,
          1.1,
          1.2000000000000002,
          1.3,
          1.4000000000000001,
          1.5,
          1.6,
          1.7000000000000002,
          1.8,
          1.9000000000000001,
          2,
          2.1,
          2.2,
          2.3000000000000003,
          2.4000000000000004,
          2.5,
          2.6,
          2.7,
          2.8000000000000003,
          2.9000000000000004,
          3,
          3.1,
          3.2,
          3.3000000000000003,
          3.4000000000000004,
          3.5,
          3.6,
          3.7,
          3.8000000000000003,
          3.9000000000000004,
          4,
          4.1000000000000005,
          4.2,
          4.3,
          4.4,
          4.5,
          4.6000000000000005,
          4.7,
          4.800000000000001,
          4.9,
          5,
          5.1000000000000005,
          5.2,
          5.300000000000001,
          5.4,
          5.5,
          5.6000000000000005,
          5.7,
          5.800000000000001,
          5.9,
          6,
          6.1000000000000005,
          6.2,
          6.300000000000001,
          6.4,
          6.5,
          6.6000000000000005,
          6.7,
          6.800000000000001,
          6.9,
          7,
          7.1000000000000005,
          7.2,
          7.300000000000001,
          7.4,
          7.5,
          7.6000000000000005,
          7.7,
          7.800000000000001,
          7.9,
          8,
          8.1,
          8.200000000000001,
          8.3,
          8.4,
          8.5,
          8.6,
          8.700000000000001,
          8.8,
          8.9,
          9,
          9.1,
          9.200000000000001,
          9.3,
          9.4,
          9.5,
          9.600000000000001,
          9.700000000000001,
          9.8,
          9.85924379390416,
          9.85924379390416,
          9.8,
          9.700000000000001,
          9.600000000000001,
          9.5,
          9.4,
          9.3,
          9.200000000000001,
          9.1,
          9,
          8.9,
          8.8,
          8.700000000000001,
          8.6,
          8.5,
          8.4,
          8.3,
          8.200000000000001,
          8.1,
          8,
          7.9,
          7.800000000000001,
          7.7,
          7.6000000000000005,
          7.5,
          7.4,
          7.300000000000001,
          7.2,
          7.1000000000000005,
          7,
          6.9,
          6.800000000000001,
          6.7,
          6.6000000000000005,
          6.5,
          6.4,
          6.300000000000001,
          6.2,
          6.1000000000000005,
          6,
          5.9,
          5.800000000000001,
          5.7,
          5.6000000000000005,
          5.5,
          5.4,
          5.300000000000001,
          5.2,
          5.1000000000000005,
          5,
          4.9,
          4.800000000000001,
          4.7,
          4.6000000000000005,
          4.5,
          4.4,
          4.3,
          4.2,
          4.1000000000000005,
          4,
          3.9000000000000004,
          3.8000000000000003,
          3.7,
          3.6,
          3.5,
          3.4000000000000004,
          3.3000000000000003,
          3.2,
          3.1,
          3,
          2.9000000000000004,
          2.8000000000000003,
          2.7,
          2.6,
          2.5,
          2.4000000000000004,
          2.3000000000000003,
          2.2,
          2.1,
          2,
          1.9000000000000001,
          1.8,
          1.7000000000000002,
          1.6,
          1.5,
          1.4000000000000001,
          1.3,
          1.2000000000000002,
          1.1,
          1,
          0.9,
          0.8,
          0.7000000000000001,
          0.6000000000000001,
          0.5,
          0.4,
          0.30000000000000004,
          0.2,
          0.1,
          0
         ]
        }
       ],
       "layout": {
        "template": {
         "data": {
          "bar": [
           {
            "error_x": {
             "color": "#2a3f5f"
            },
            "error_y": {
             "color": "#2a3f5f"
            },
            "marker": {
             "line": {
              "color": "#E5ECF6",
              "width": 0.5
             }
            },
            "type": "bar"
           }
          ],
          "barpolar": [
           {
            "marker": {
             "line": {
              "color": "#E5ECF6",
              "width": 0.5
             }
            },
            "type": "barpolar"
           }
          ],
          "carpet": [
           {
            "aaxis": {
             "endlinecolor": "#2a3f5f",
             "gridcolor": "white",
             "linecolor": "white",
             "minorgridcolor": "white",
             "startlinecolor": "#2a3f5f"
            },
            "baxis": {
             "endlinecolor": "#2a3f5f",
             "gridcolor": "white",
             "linecolor": "white",
             "minorgridcolor": "white",
             "startlinecolor": "#2a3f5f"
            },
            "type": "carpet"
           }
          ],
          "choropleth": [
           {
            "colorbar": {
             "outlinewidth": 0,
             "ticks": ""
            },
            "type": "choropleth"
           }
          ],
          "contour": [
           {
            "colorbar": {
             "outlinewidth": 0,
             "ticks": ""
            },
            "colorscale": [
             [
              0,
              "#0d0887"
             ],
             [
              0.1111111111111111,
              "#46039f"
             ],
             [
              0.2222222222222222,
              "#7201a8"
             ],
             [
              0.3333333333333333,
              "#9c179e"
             ],
             [
              0.4444444444444444,
              "#bd3786"
             ],
             [
              0.5555555555555556,
              "#d8576b"
             ],
             [
              0.6666666666666666,
              "#ed7953"
             ],
             [
              0.7777777777777778,
              "#fb9f3a"
             ],
             [
              0.8888888888888888,
              "#fdca26"
             ],
             [
              1,
              "#f0f921"
             ]
            ],
            "type": "contour"
           }
          ],
          "contourcarpet": [
           {
            "colorbar": {
             "outlinewidth": 0,
             "ticks": ""
            },
            "type": "contourcarpet"
           }
          ],
          "heatmap": [
           {
            "colorbar": {
             "outlinewidth": 0,
             "ticks": ""
            },
            "colorscale": [
             [
              0,
              "#0d0887"
             ],
             [
              0.1111111111111111,
              "#46039f"
             ],
             [
              0.2222222222222222,
              "#7201a8"
             ],
             [
              0.3333333333333333,
              "#9c179e"
             ],
             [
              0.4444444444444444,
              "#bd3786"
             ],
             [
              0.5555555555555556,
              "#d8576b"
             ],
             [
              0.6666666666666666,
              "#ed7953"
             ],
             [
              0.7777777777777778,
              "#fb9f3a"
             ],
             [
              0.8888888888888888,
              "#fdca26"
             ],
             [
              1,
              "#f0f921"
             ]
            ],
            "type": "heatmap"
           }
          ],
          "heatmapgl": [
           {
            "colorbar": {
             "outlinewidth": 0,
             "ticks": ""
            },
            "colorscale": [
             [
              0,
              "#0d0887"
             ],
             [
              0.1111111111111111,
              "#46039f"
             ],
             [
              0.2222222222222222,
              "#7201a8"
             ],
             [
              0.3333333333333333,
              "#9c179e"
             ],
             [
              0.4444444444444444,
              "#bd3786"
             ],
             [
              0.5555555555555556,
              "#d8576b"
             ],
             [
              0.6666666666666666,
              "#ed7953"
             ],
             [
              0.7777777777777778,
              "#fb9f3a"
             ],
             [
              0.8888888888888888,
              "#fdca26"
             ],
             [
              1,
              "#f0f921"
             ]
            ],
            "type": "heatmapgl"
           }
          ],
          "histogram": [
           {
            "marker": {
             "colorbar": {
              "outlinewidth": 0,
              "ticks": ""
             }
            },
            "type": "histogram"
           }
          ],
          "histogram2d": [
           {
            "colorbar": {
             "outlinewidth": 0,
             "ticks": ""
            },
            "colorscale": [
             [
              0,
              "#0d0887"
             ],
             [
              0.1111111111111111,
              "#46039f"
             ],
             [
              0.2222222222222222,
              "#7201a8"
             ],
             [
              0.3333333333333333,
              "#9c179e"
             ],
             [
              0.4444444444444444,
              "#bd3786"
             ],
             [
              0.5555555555555556,
              "#d8576b"
             ],
             [
              0.6666666666666666,
              "#ed7953"
             ],
             [
              0.7777777777777778,
              "#fb9f3a"
             ],
             [
              0.8888888888888888,
              "#fdca26"
             ],
             [
              1,
              "#f0f921"
             ]
            ],
            "type": "histogram2d"
           }
          ],
          "histogram2dcontour": [
           {
            "colorbar": {
             "outlinewidth": 0,
             "ticks": ""
            },
            "colorscale": [
             [
              0,
              "#0d0887"
             ],
             [
              0.1111111111111111,
              "#46039f"
             ],
             [
              0.2222222222222222,
              "#7201a8"
             ],
             [
              0.3333333333333333,
              "#9c179e"
             ],
             [
              0.4444444444444444,
              "#bd3786"
             ],
             [
              0.5555555555555556,
              "#d8576b"
             ],
             [
              0.6666666666666666,
              "#ed7953"
             ],
             [
              0.7777777777777778,
              "#fb9f3a"
             ],
             [
              0.8888888888888888,
              "#fdca26"
             ],
             [
              1,
              "#f0f921"
             ]
            ],
            "type": "histogram2dcontour"
           }
          ],
          "mesh3d": [
           {
            "colorbar": {
             "outlinewidth": 0,
             "ticks": ""
            },
            "type": "mesh3d"
           }
          ],
          "parcoords": [
           {
            "line": {
             "colorbar": {
              "outlinewidth": 0,
              "ticks": ""
             }
            },
            "type": "parcoords"
           }
          ],
          "pie": [
           {
            "automargin": true,
            "type": "pie"
           }
          ],
          "scatter": [
           {
            "marker": {
             "colorbar": {
              "outlinewidth": 0,
              "ticks": ""
             }
            },
            "type": "scatter"
           }
          ],
          "scatter3d": [
           {
            "line": {
             "colorbar": {
              "outlinewidth": 0,
              "ticks": ""
             }
            },
            "marker": {
             "colorbar": {
              "outlinewidth": 0,
              "ticks": ""
             }
            },
            "type": "scatter3d"
           }
          ],
          "scattercarpet": [
           {
            "marker": {
             "colorbar": {
              "outlinewidth": 0,
              "ticks": ""
             }
            },
            "type": "scattercarpet"
           }
          ],
          "scattergeo": [
           {
            "marker": {
             "colorbar": {
              "outlinewidth": 0,
              "ticks": ""
             }
            },
            "type": "scattergeo"
           }
          ],
          "scattergl": [
           {
            "marker": {
             "colorbar": {
              "outlinewidth": 0,
              "ticks": ""
             }
            },
            "type": "scattergl"
           }
          ],
          "scattermapbox": [
           {
            "marker": {
             "colorbar": {
              "outlinewidth": 0,
              "ticks": ""
             }
            },
            "type": "scattermapbox"
           }
          ],
          "scatterpolar": [
           {
            "marker": {
             "colorbar": {
              "outlinewidth": 0,
              "ticks": ""
             }
            },
            "type": "scatterpolar"
           }
          ],
          "scatterpolargl": [
           {
            "marker": {
             "colorbar": {
              "outlinewidth": 0,
              "ticks": ""
             }
            },
            "type": "scatterpolargl"
           }
          ],
          "scatterternary": [
           {
            "marker": {
             "colorbar": {
              "outlinewidth": 0,
              "ticks": ""
             }
            },
            "type": "scatterternary"
           }
          ],
          "surface": [
           {
            "colorbar": {
             "outlinewidth": 0,
             "ticks": ""
            },
            "colorscale": [
             [
              0,
              "#0d0887"
             ],
             [
              0.1111111111111111,
              "#46039f"
             ],
             [
              0.2222222222222222,
              "#7201a8"
             ],
             [
              0.3333333333333333,
              "#9c179e"
             ],
             [
              0.4444444444444444,
              "#bd3786"
             ],
             [
              0.5555555555555556,
              "#d8576b"
             ],
             [
              0.6666666666666666,
              "#ed7953"
             ],
             [
              0.7777777777777778,
              "#fb9f3a"
             ],
             [
              0.8888888888888888,
              "#fdca26"
             ],
             [
              1,
              "#f0f921"
             ]
            ],
            "type": "surface"
           }
          ],
          "table": [
           {
            "cells": {
             "fill": {
              "color": "#EBF0F8"
             },
             "line": {
              "color": "white"
             }
            },
            "header": {
             "fill": {
              "color": "#C8D4E3"
             },
             "line": {
              "color": "white"
             }
            },
            "type": "table"
           }
          ]
         },
         "layout": {
          "annotationdefaults": {
           "arrowcolor": "#2a3f5f",
           "arrowhead": 0,
           "arrowwidth": 1
          },
          "coloraxis": {
           "colorbar": {
            "outlinewidth": 0,
            "ticks": ""
           }
          },
          "colorscale": {
           "diverging": [
            [
             0,
             "#8e0152"
            ],
            [
             0.1,
             "#c51b7d"
            ],
            [
             0.2,
             "#de77ae"
            ],
            [
             0.3,
             "#f1b6da"
            ],
            [
             0.4,
             "#fde0ef"
            ],
            [
             0.5,
             "#f7f7f7"
            ],
            [
             0.6,
             "#e6f5d0"
            ],
            [
             0.7,
             "#b8e186"
            ],
            [
             0.8,
             "#7fbc41"
            ],
            [
             0.9,
             "#4d9221"
            ],
            [
             1,
             "#276419"
            ]
           ],
           "sequential": [
            [
             0,
             "#0d0887"
            ],
            [
             0.1111111111111111,
             "#46039f"
            ],
            [
             0.2222222222222222,
             "#7201a8"
            ],
            [
             0.3333333333333333,
             "#9c179e"
            ],
            [
             0.4444444444444444,
             "#bd3786"
            ],
            [
             0.5555555555555556,
             "#d8576b"
            ],
            [
             0.6666666666666666,
             "#ed7953"
            ],
            [
             0.7777777777777778,
             "#fb9f3a"
            ],
            [
             0.8888888888888888,
             "#fdca26"
            ],
            [
             1,
             "#f0f921"
            ]
           ],
           "sequentialminus": [
            [
             0,
             "#0d0887"
            ],
            [
             0.1111111111111111,
             "#46039f"
            ],
            [
             0.2222222222222222,
             "#7201a8"
            ],
            [
             0.3333333333333333,
             "#9c179e"
            ],
            [
             0.4444444444444444,
             "#bd3786"
            ],
            [
             0.5555555555555556,
             "#d8576b"
            ],
            [
             0.6666666666666666,
             "#ed7953"
            ],
            [
             0.7777777777777778,
             "#fb9f3a"
            ],
            [
             0.8888888888888888,
             "#fdca26"
            ],
            [
             1,
             "#f0f921"
            ]
           ]
          },
          "colorway": [
           "#636efa",
           "#EF553B",
           "#00cc96",
           "#ab63fa",
           "#FFA15A",
           "#19d3f3",
           "#FF6692",
           "#B6E880",
           "#FF97FF",
           "#FECB52"
          ],
          "font": {
           "color": "#2a3f5f"
          },
          "geo": {
           "bgcolor": "white",
           "lakecolor": "white",
           "landcolor": "#E5ECF6",
           "showlakes": true,
           "showland": true,
           "subunitcolor": "white"
          },
          "hoverlabel": {
           "align": "left"
          },
          "hovermode": "closest",
          "mapbox": {
           "style": "light"
          },
          "paper_bgcolor": "white",
          "plot_bgcolor": "#E5ECF6",
          "polar": {
           "angularaxis": {
            "gridcolor": "white",
            "linecolor": "white",
            "ticks": ""
           },
           "bgcolor": "#E5ECF6",
           "radialaxis": {
            "gridcolor": "white",
            "linecolor": "white",
            "ticks": ""
           }
          },
          "scene": {
           "xaxis": {
            "backgroundcolor": "#E5ECF6",
            "gridcolor": "white",
            "gridwidth": 2,
            "linecolor": "white",
            "showbackground": true,
            "ticks": "",
            "zerolinecolor": "white"
           },
           "yaxis": {
            "backgroundcolor": "#E5ECF6",
            "gridcolor": "white",
            "gridwidth": 2,
            "linecolor": "white",
            "showbackground": true,
            "ticks": "",
            "zerolinecolor": "white"
           },
           "zaxis": {
            "backgroundcolor": "#E5ECF6",
            "gridcolor": "white",
            "gridwidth": 2,
            "linecolor": "white",
            "showbackground": true,
            "ticks": "",
            "zerolinecolor": "white"
           }
          },
          "shapedefaults": {
           "line": {
            "color": "#2a3f5f"
           }
          },
          "ternary": {
           "aaxis": {
            "gridcolor": "white",
            "linecolor": "white",
            "ticks": ""
           },
           "baxis": {
            "gridcolor": "white",
            "linecolor": "white",
            "ticks": ""
           },
           "bgcolor": "#E5ECF6",
           "caxis": {
            "gridcolor": "white",
            "linecolor": "white",
            "ticks": ""
           }
          },
          "title": {
           "x": 0.05
          },
          "xaxis": {
           "automargin": true,
           "gridcolor": "white",
           "linecolor": "white",
           "ticks": "",
           "title": {
            "standoff": 15
           },
           "zerolinecolor": "white",
           "zerolinewidth": 2
          },
          "yaxis": {
           "automargin": true,
           "gridcolor": "white",
           "linecolor": "white",
           "ticks": "",
           "title": {
            "standoff": 15
           },
           "zerolinecolor": "white",
           "zerolinewidth": 2
          }
         }
        },
        "title": {
         "text": "Possible airspeeds for different altitudes in EAS and TAS"
        },
        "xaxis": {
         "title": {
          "text": "Airspeed / (m/s)"
         }
        },
        "yaxis": {
         "title": {
          "text": "Altitude / km"
         }
        }
       }
      },
      "text/html": [
       "<div>\n",
       "        \n",
       "        \n",
       "            <div id=\"f1087b47-ff18-45d2-8301-7876515c0805\" class=\"plotly-graph-div\" style=\"height:525px; width:100%;\"></div>\n",
       "            <script type=\"text/javascript\">\n",
       "                require([\"plotly\"], function(Plotly) {\n",
       "                    window.PLOTLYENV=window.PLOTLYENV || {};\n",
       "                    \n",
       "                if (document.getElementById(\"f1087b47-ff18-45d2-8301-7876515c0805\")) {\n",
       "                    Plotly.newPlot(\n",
       "                        'f1087b47-ff18-45d2-8301-7876515c0805',\n",
       "                        [{\"mode\": \"lines\", \"name\": \"EAS\", \"type\": \"scatter\", \"x\": [39.393588355953085, 39.59580346522217, 39.799780176686156, 40.005545261496984, 40.213126179505316, 40.42255110534176, 40.63384895578609, 40.84704941850259, 41.062182982225075, 41.27928096848105, 41.498375564951466, 41.7194998605693, 41.94268788246818, 42.16797463490047, 42.395396140253986, 42.62498948230562, 42.85679285186206, 43.090845594948824, 43.32718826372279, 43.56586267029652, 43.80691194367951, 44.050380590057586, 44.296314556651126, 44.54476129941302, 44.795769854850256, 45.04939091627786, 45.305676914841456, 45.56468210567556, 45.826462659597816, 46.09107676077696, 46.35858471085395, 46.62904904004102, 46.90253462577469, 47.179108819556106, 47.458841582674324, 47.74180563158056, 48.02807659375924, 48.3177331750312, 48.6108573393246, 48.90753450206031, 49.2078537384258, 49.5119080079543, 49.81979439698718, 50.13161438078147, 50.44747410723157, 50.76748470441222, 51.09176261442003, 51.42042995629972, 51.753614921196956, 52.09145220328713, 52.434083470499935, 52.781657879602385, 53.134332640834465, 53.49227363802217, 53.855656110947805, 54.224665407756795, 54.59949781635151, 54.980361485105355, 55.367477444862836, 55.761080746127625, 56.16142172765143, 56.56876743539544, 56.98340321415718, 57.405634498159394, 57.83578883175855, 58.27421815735403, 58.72130141484132, 59.17744750590566, 59.6430986875544, 60.11873447314355, 60.60487613656686, 61.10209193731165, 61.61100321218922, 62.13229151568429, 62.66670703773466, 63.21507858911971, 63.778325525790926, 64.35747209198685, 64.95366480876525, 65.56819373571905, 66.20251871310116, 66.85830208581179, 67.5374499762209, 68.24216499911982, 68.9750145444857, 69.7390206342166, 70.53778030304099, 71.37563019901373, 72.25787700587873, 73.19112898018314, 74.18378868858797, 75.24681438094049, 76.39495386424986, 77.64886733169058, 79.03907402380175, 80.6141026921851, 82.46008925120894, 84.76104980320143, 88.10834820745774, 93.29260364077146, 93.91672444160922, 99.44274211043472, 103.36983518861126, 106.25425982596965, 108.68738168588439, 110.85321857303265, 112.83790800377463, 114.68998023272302, 116.43995590582625, 118.10849652544722, 119.71035111294549, 121.25647903906405, 122.7552838992891, 124.21337488830609, 125.63605953869337, 127.02767525941859, 128.39181975958132, 129.73151565028738, 131.04933082693344, 132.34746832731454, 133.62783461575737, 134.8920922994362, 136.14170140255598, 137.3779520916945, 138.6019909192778, 139.81484208664, 141.01742483389407, 142.2105677843786, 143.39502087031326, 144.5714653195055, 145.7405220744405, 146.9027589339334, 148.05869664615423, 149.20881413496988, 150.35355300541084, 151.4933214459659, 152.62849762337407, 153.75943264816803, 154.88645317536702, 156.00986369361635, 157.1299485471158, 158.24697372741772, 159.3611884662532, 160.4728266556809, 161.58210811785375, 162.68923974337235, 163.79441651444003, 164.89782242672018, 165.99963132186113, 167.1000076410235, 168.199107108358, 169.2970773522145, 170.3940584708621, 171.49018354864333, 172.58557912775848, 173.68036564024166, 174.77465780414832, 175.86856498750353, 176.9621915431535, 178.0556371173058, 179.14899693423516, 180.2423620593633, 181.3358196426802, 182.42945314426981, 183.5233425435177, 184.61756453341724, 185.71219270124908, 186.80729769677956, 187.90294738901449, 188.99920701244392, 190.09613930362227, 191.19380462885368, 192.292261103677, 193.3915647047841, 194.49176937494826, 195.59292712148638, 196.69508810873478, 197.79830074497747, 198.9026117642256, 200.00806630321617, 201.11470797396626, 202.2225789321915, 203.33171994187245, 204.44217043623038, 205.553968575353, 206.66715130069105, 207.7817543866317, 208.8978124893365, 210.01535919301986, 211.134427053828, 212.25504764147078, 213.3772515787426, 214.50106857906306, 215.6265274821564, 216.75365628798124, 217.88248218901307, 219.01303160097822, 220.14533019212598, 221.27940291112466, 222.41527401365929], \"y\": [0.0, 0.1, 0.2, 0.30000000000000004, 0.4, 0.5, 0.6000000000000001, 0.7000000000000001, 0.8, 0.9, 1.0, 1.1, 1.2000000000000002, 1.3, 1.4000000000000001, 1.5, 1.6, 1.7000000000000002, 1.8, 1.9000000000000001, 2.0, 2.1, 2.2, 2.3000000000000003, 2.4000000000000004, 2.5, 2.6, 2.7, 2.8000000000000003, 2.9000000000000004, 3.0, 3.1, 3.2, 3.3000000000000003, 3.4000000000000004, 3.5, 3.6, 3.7, 3.8000000000000003, 3.9000000000000004, 4.0, 4.1000000000000005, 4.2, 4.3, 4.4, 4.5, 4.6000000000000005, 4.7, 4.800000000000001, 4.9, 5.0, 5.1000000000000005, 5.2, 5.300000000000001, 5.4, 5.5, 5.6000000000000005, 5.7, 5.800000000000001, 5.9, 6.0, 6.1000000000000005, 6.2, 6.300000000000001, 6.4, 6.5, 6.6000000000000005, 6.7, 6.800000000000001, 6.9, 7.0, 7.1000000000000005, 7.2, 7.300000000000001, 7.4, 7.5, 7.6000000000000005, 7.7, 7.800000000000001, 7.9, 8.0, 8.1, 8.200000000000001, 8.3, 8.4, 8.5, 8.6, 8.700000000000001, 8.8, 8.9, 9.0, 9.1, 9.200000000000001, 9.3, 9.4, 9.5, 9.600000000000001, 9.700000000000001, 9.8, 9.85924379390416, 9.85924379390416, 9.8, 9.700000000000001, 9.600000000000001, 9.5, 9.4, 9.3, 9.200000000000001, 9.1, 9.0, 8.9, 8.8, 8.700000000000001, 8.6, 8.5, 8.4, 8.3, 8.200000000000001, 8.1, 8.0, 7.9, 7.800000000000001, 7.7, 7.6000000000000005, 7.5, 7.4, 7.300000000000001, 7.2, 7.1000000000000005, 7.0, 6.9, 6.800000000000001, 6.7, 6.6000000000000005, 6.5, 6.4, 6.300000000000001, 6.2, 6.1000000000000005, 6.0, 5.9, 5.800000000000001, 5.7, 5.6000000000000005, 5.5, 5.4, 5.300000000000001, 5.2, 5.1000000000000005, 5.0, 4.9, 4.800000000000001, 4.7, 4.6000000000000005, 4.5, 4.4, 4.3, 4.2, 4.1000000000000005, 4.0, 3.9000000000000004, 3.8000000000000003, 3.7, 3.6, 3.5, 3.4000000000000004, 3.3000000000000003, 3.2, 3.1, 3.0, 2.9000000000000004, 2.8000000000000003, 2.7, 2.6, 2.5, 2.4000000000000004, 2.3000000000000003, 2.2, 2.1, 2.0, 1.9000000000000001, 1.8, 1.7000000000000002, 1.6, 1.5, 1.4000000000000001, 1.3, 1.2000000000000002, 1.1, 1.0, 0.9, 0.8, 0.7000000000000001, 0.6000000000000001, 0.5, 0.4, 0.30000000000000004, 0.2, 0.1, 0.0]}, {\"mode\": \"lines\", \"name\": \"TAS\", \"type\": \"scatter\", \"x\": [39.39358806453238, 39.78653827196527, 40.18456970701099, 40.58776870031462, 40.99622358320464, 41.41002475237272, 41.82926473739761, 42.25403827127405, 42.68444236411901, 43.12057638023877, 43.5625421187542, 44.01044389799565, 44.464388643893294, 44.924485982606505, 45.39084833765338, 45.863591031820654, 46.3428323941568, 46.82869387237285, 47.321300151002795, 47.82077927570056, 48.327262784083885, 48.84088584356583, 49.361787396652886, 49.89011031422745, 50.42600155737672, 50.969612348378014, 51.52109835150325, 52.08061986436457, 52.648342020586355, 53.224435004660776, 53.809074279923564, 54.40244083067259, 55.00472141955001, 55.616108861416585, 56.236802315066, 56.867007594262596, 57.506937499733915, 58.156812173917636, 58.816859480451335, 59.4873154106023, 60.16842451907358, 60.86044039188934, 61.563626149364396, 62.278254987506116, 63.00461076158244, 63.74298861603341, 64.49369566540464, 65.25705173155477, 66.03339014304704, 66.82305860338869, 67.62642013564985, 68.44385411199455, 69.27575737781736, 70.12254548152197, 70.98465402254594, 71.86254013206573, 72.75668410295722, 73.66759118811171, 74.59579358918141, 75.54185266135259, 76.50636136394291, 77.48994699162351, 78.49327422708238, 79.5170485631857, 80.5620201514707, 81.62898814448384, 82.71880561254899, 83.83238513164507, 84.97070515899345, 86.13481733778772, 87.3258549036526, 88.54504240478504, 89.79370699786081, 91.07329164615241, 92.38537062965042, 93.73166788595377, 95.11407884458387, 96.5346966094841, 97.99584360395376, 99.50011014728989, 101.0504019249495, 102.64999900782695, 104.30263006999056, 106.01256690409616, 107.78474649285253, 109.62493118461776, 111.53992266386888, 113.5378536838948, 115.62859529971333, 117.82434114729463, 120.14047336518036, 122.5968968502989, 125.22019547706482, 128.04733137888965, 131.13250312732532, 134.5612687752558, 138.4844065356004, 143.2217417618027, 149.79344285547077, 159.1857829607576, 160.25072438661823, 169.06310254094507, 174.66522507351257, 178.44460571770685, 181.42125870156084, 183.91485743905332, 186.07603040158108, 187.9901880629704, 189.71138354337748, 191.27643561833668, 192.7117868644034, 194.03720290779395, 195.26792861122843, 196.41602229808916, 197.49122164297106, 198.50152792040873, 199.45361320785798, 200.35311208900146, 201.2048355953664, 202.01293135359296, 202.7810056290837, 203.5122178141026, 204.2093546186858, 204.87488906357356, 205.51102792449498, 206.11975028339089, 206.70283914837785, 207.26190761171628, 207.79842066002362, 208.31371349148262, 208.80900700269433, 209.28542096392837, 209.7439852925581, 210.1856497511156, 210.61129233204244, 211.0217265410823, 211.41770775189403, 211.79993877330875, 212.16907474582783, 212.5257274640298, 212.87046920546726, 213.20383613355912, 213.5263313313057, 213.8384275138774, 214.14056946088604, 214.43317620313502, 214.71664299363752, 214.99134308849528, 215.2576293597077, 215.51583575900372, 215.7662786492676, 216.00925801798738, 216.24505858532464, 216.4739508178374, 216.69619185754402, 216.91202637485728, 217.12168735291385, 217.32539680996007, 217.52336646569856, 217.71579835684375, 217.90288540656093, 218.08481195196092, 218.26175423338134, 218.43388084879822, 218.60135317636843, 218.7643257678031, 218.92294671500372, 219.07735799215538, 219.22769577526114, 219.37409074091448, 219.51666834593667, 219.655549089361, 219.7908487581065, 219.92267865756824, 220.05114582824007, 220.1763532493913, 220.2984000307299, 220.41738159290642, 220.5333898376413, 220.64651330819484, 220.75683734083987, 220.86444420794402, 220.96941325322126, 221.07182101966862, 221.1717413706624, 221.2692456046557, 221.36440256388084, 221.4572787374353, 221.547938359098, 221.63644350019936, 221.72285415784566, 221.80722833877508, 221.88962213910548, 221.97008982021433, 222.0486838809751, 222.1254551265595, 222.2004527340011, 222.27372431470093, 222.3453159740469, 222.41527236830484], \"y\": [0.0, 0.1, 0.2, 0.30000000000000004, 0.4, 0.5, 0.6000000000000001, 0.7000000000000001, 0.8, 0.9, 1.0, 1.1, 1.2000000000000002, 1.3, 1.4000000000000001, 1.5, 1.6, 1.7000000000000002, 1.8, 1.9000000000000001, 2.0, 2.1, 2.2, 2.3000000000000003, 2.4000000000000004, 2.5, 2.6, 2.7, 2.8000000000000003, 2.9000000000000004, 3.0, 3.1, 3.2, 3.3000000000000003, 3.4000000000000004, 3.5, 3.6, 3.7, 3.8000000000000003, 3.9000000000000004, 4.0, 4.1000000000000005, 4.2, 4.3, 4.4, 4.5, 4.6000000000000005, 4.7, 4.800000000000001, 4.9, 5.0, 5.1000000000000005, 5.2, 5.300000000000001, 5.4, 5.5, 5.6000000000000005, 5.7, 5.800000000000001, 5.9, 6.0, 6.1000000000000005, 6.2, 6.300000000000001, 6.4, 6.5, 6.6000000000000005, 6.7, 6.800000000000001, 6.9, 7.0, 7.1000000000000005, 7.2, 7.300000000000001, 7.4, 7.5, 7.6000000000000005, 7.7, 7.800000000000001, 7.9, 8.0, 8.1, 8.200000000000001, 8.3, 8.4, 8.5, 8.6, 8.700000000000001, 8.8, 8.9, 9.0, 9.1, 9.200000000000001, 9.3, 9.4, 9.5, 9.600000000000001, 9.700000000000001, 9.8, 9.85924379390416, 9.85924379390416, 9.8, 9.700000000000001, 9.600000000000001, 9.5, 9.4, 9.3, 9.200000000000001, 9.1, 9.0, 8.9, 8.8, 8.700000000000001, 8.6, 8.5, 8.4, 8.3, 8.200000000000001, 8.1, 8.0, 7.9, 7.800000000000001, 7.7, 7.6000000000000005, 7.5, 7.4, 7.300000000000001, 7.2, 7.1000000000000005, 7.0, 6.9, 6.800000000000001, 6.7, 6.6000000000000005, 6.5, 6.4, 6.300000000000001, 6.2, 6.1000000000000005, 6.0, 5.9, 5.800000000000001, 5.7, 5.6000000000000005, 5.5, 5.4, 5.300000000000001, 5.2, 5.1000000000000005, 5.0, 4.9, 4.800000000000001, 4.7, 4.6000000000000005, 4.5, 4.4, 4.3, 4.2, 4.1000000000000005, 4.0, 3.9000000000000004, 3.8000000000000003, 3.7, 3.6, 3.5, 3.4000000000000004, 3.3000000000000003, 3.2, 3.1, 3.0, 2.9000000000000004, 2.8000000000000003, 2.7, 2.6, 2.5, 2.4000000000000004, 2.3000000000000003, 2.2, 2.1, 2.0, 1.9000000000000001, 1.8, 1.7000000000000002, 1.6, 1.5, 1.4000000000000001, 1.3, 1.2000000000000002, 1.1, 1.0, 0.9, 0.8, 0.7000000000000001, 0.6000000000000001, 0.5, 0.4, 0.30000000000000004, 0.2, 0.1, 0.0]}],\n",
       "                        {\"template\": {\"data\": {\"bar\": [{\"error_x\": {\"color\": \"#2a3f5f\"}, \"error_y\": {\"color\": \"#2a3f5f\"}, \"marker\": {\"line\": {\"color\": \"#E5ECF6\", \"width\": 0.5}}, \"type\": \"bar\"}], \"barpolar\": [{\"marker\": {\"line\": {\"color\": \"#E5ECF6\", \"width\": 0.5}}, \"type\": \"barpolar\"}], \"carpet\": [{\"aaxis\": {\"endlinecolor\": \"#2a3f5f\", \"gridcolor\": \"white\", \"linecolor\": \"white\", \"minorgridcolor\": \"white\", \"startlinecolor\": \"#2a3f5f\"}, \"baxis\": {\"endlinecolor\": \"#2a3f5f\", \"gridcolor\": \"white\", \"linecolor\": \"white\", \"minorgridcolor\": \"white\", \"startlinecolor\": \"#2a3f5f\"}, \"type\": \"carpet\"}], \"choropleth\": [{\"colorbar\": {\"outlinewidth\": 0, \"ticks\": \"\"}, \"type\": \"choropleth\"}], \"contour\": [{\"colorbar\": {\"outlinewidth\": 0, \"ticks\": \"\"}, \"colorscale\": [[0.0, \"#0d0887\"], [0.1111111111111111, \"#46039f\"], [0.2222222222222222, \"#7201a8\"], [0.3333333333333333, \"#9c179e\"], [0.4444444444444444, \"#bd3786\"], [0.5555555555555556, \"#d8576b\"], [0.6666666666666666, \"#ed7953\"], [0.7777777777777778, \"#fb9f3a\"], [0.8888888888888888, \"#fdca26\"], [1.0, \"#f0f921\"]], \"type\": \"contour\"}], \"contourcarpet\": [{\"colorbar\": {\"outlinewidth\": 0, \"ticks\": \"\"}, \"type\": \"contourcarpet\"}], \"heatmap\": [{\"colorbar\": {\"outlinewidth\": 0, \"ticks\": \"\"}, \"colorscale\": [[0.0, \"#0d0887\"], [0.1111111111111111, \"#46039f\"], [0.2222222222222222, \"#7201a8\"], [0.3333333333333333, \"#9c179e\"], [0.4444444444444444, \"#bd3786\"], [0.5555555555555556, \"#d8576b\"], [0.6666666666666666, \"#ed7953\"], [0.7777777777777778, \"#fb9f3a\"], [0.8888888888888888, \"#fdca26\"], [1.0, \"#f0f921\"]], \"type\": \"heatmap\"}], \"heatmapgl\": [{\"colorbar\": {\"outlinewidth\": 0, \"ticks\": \"\"}, \"colorscale\": [[0.0, \"#0d0887\"], [0.1111111111111111, \"#46039f\"], [0.2222222222222222, \"#7201a8\"], [0.3333333333333333, \"#9c179e\"], [0.4444444444444444, \"#bd3786\"], [0.5555555555555556, \"#d8576b\"], [0.6666666666666666, \"#ed7953\"], [0.7777777777777778, \"#fb9f3a\"], [0.8888888888888888, \"#fdca26\"], [1.0, \"#f0f921\"]], \"type\": \"heatmapgl\"}], \"histogram\": [{\"marker\": {\"colorbar\": {\"outlinewidth\": 0, \"ticks\": \"\"}}, \"type\": \"histogram\"}], \"histogram2d\": [{\"colorbar\": {\"outlinewidth\": 0, \"ticks\": \"\"}, \"colorscale\": [[0.0, \"#0d0887\"], [0.1111111111111111, \"#46039f\"], [0.2222222222222222, \"#7201a8\"], [0.3333333333333333, \"#9c179e\"], [0.4444444444444444, \"#bd3786\"], [0.5555555555555556, \"#d8576b\"], [0.6666666666666666, \"#ed7953\"], [0.7777777777777778, \"#fb9f3a\"], [0.8888888888888888, \"#fdca26\"], [1.0, \"#f0f921\"]], \"type\": \"histogram2d\"}], \"histogram2dcontour\": [{\"colorbar\": {\"outlinewidth\": 0, \"ticks\": \"\"}, \"colorscale\": [[0.0, \"#0d0887\"], [0.1111111111111111, \"#46039f\"], [0.2222222222222222, \"#7201a8\"], [0.3333333333333333, \"#9c179e\"], [0.4444444444444444, \"#bd3786\"], [0.5555555555555556, \"#d8576b\"], [0.6666666666666666, \"#ed7953\"], [0.7777777777777778, \"#fb9f3a\"], [0.8888888888888888, \"#fdca26\"], [1.0, \"#f0f921\"]], \"type\": \"histogram2dcontour\"}], \"mesh3d\": [{\"colorbar\": {\"outlinewidth\": 0, \"ticks\": \"\"}, \"type\": \"mesh3d\"}], \"parcoords\": [{\"line\": {\"colorbar\": {\"outlinewidth\": 0, \"ticks\": \"\"}}, \"type\": \"parcoords\"}], \"pie\": [{\"automargin\": true, \"type\": \"pie\"}], \"scatter\": [{\"marker\": {\"colorbar\": {\"outlinewidth\": 0, \"ticks\": \"\"}}, \"type\": \"scatter\"}], \"scatter3d\": [{\"line\": {\"colorbar\": {\"outlinewidth\": 0, \"ticks\": \"\"}}, \"marker\": {\"colorbar\": {\"outlinewidth\": 0, \"ticks\": \"\"}}, \"type\": \"scatter3d\"}], \"scattercarpet\": [{\"marker\": {\"colorbar\": {\"outlinewidth\": 0, \"ticks\": \"\"}}, \"type\": \"scattercarpet\"}], \"scattergeo\": [{\"marker\": {\"colorbar\": {\"outlinewidth\": 0, \"ticks\": \"\"}}, \"type\": \"scattergeo\"}], \"scattergl\": [{\"marker\": {\"colorbar\": {\"outlinewidth\": 0, \"ticks\": \"\"}}, \"type\": \"scattergl\"}], \"scattermapbox\": [{\"marker\": {\"colorbar\": {\"outlinewidth\": 0, \"ticks\": \"\"}}, \"type\": \"scattermapbox\"}], \"scatterpolar\": [{\"marker\": {\"colorbar\": {\"outlinewidth\": 0, \"ticks\": \"\"}}, \"type\": \"scatterpolar\"}], \"scatterpolargl\": [{\"marker\": {\"colorbar\": {\"outlinewidth\": 0, \"ticks\": \"\"}}, \"type\": \"scatterpolargl\"}], \"scatterternary\": [{\"marker\": {\"colorbar\": {\"outlinewidth\": 0, \"ticks\": \"\"}}, \"type\": \"scatterternary\"}], \"surface\": [{\"colorbar\": {\"outlinewidth\": 0, \"ticks\": \"\"}, \"colorscale\": [[0.0, \"#0d0887\"], [0.1111111111111111, \"#46039f\"], [0.2222222222222222, \"#7201a8\"], [0.3333333333333333, \"#9c179e\"], [0.4444444444444444, \"#bd3786\"], [0.5555555555555556, \"#d8576b\"], [0.6666666666666666, \"#ed7953\"], [0.7777777777777778, \"#fb9f3a\"], [0.8888888888888888, \"#fdca26\"], [1.0, \"#f0f921\"]], \"type\": \"surface\"}], \"table\": [{\"cells\": {\"fill\": {\"color\": \"#EBF0F8\"}, \"line\": {\"color\": \"white\"}}, \"header\": {\"fill\": {\"color\": \"#C8D4E3\"}, \"line\": {\"color\": \"white\"}}, \"type\": \"table\"}]}, \"layout\": {\"annotationdefaults\": {\"arrowcolor\": \"#2a3f5f\", \"arrowhead\": 0, \"arrowwidth\": 1}, \"coloraxis\": {\"colorbar\": {\"outlinewidth\": 0, \"ticks\": \"\"}}, \"colorscale\": {\"diverging\": [[0, \"#8e0152\"], [0.1, \"#c51b7d\"], [0.2, \"#de77ae\"], [0.3, \"#f1b6da\"], [0.4, \"#fde0ef\"], [0.5, \"#f7f7f7\"], [0.6, \"#e6f5d0\"], [0.7, \"#b8e186\"], [0.8, \"#7fbc41\"], [0.9, \"#4d9221\"], [1, \"#276419\"]], \"sequential\": [[0.0, \"#0d0887\"], [0.1111111111111111, \"#46039f\"], [0.2222222222222222, \"#7201a8\"], [0.3333333333333333, \"#9c179e\"], [0.4444444444444444, \"#bd3786\"], [0.5555555555555556, \"#d8576b\"], [0.6666666666666666, \"#ed7953\"], [0.7777777777777778, \"#fb9f3a\"], [0.8888888888888888, \"#fdca26\"], [1.0, \"#f0f921\"]], \"sequentialminus\": [[0.0, \"#0d0887\"], [0.1111111111111111, \"#46039f\"], [0.2222222222222222, \"#7201a8\"], [0.3333333333333333, \"#9c179e\"], [0.4444444444444444, \"#bd3786\"], [0.5555555555555556, \"#d8576b\"], [0.6666666666666666, \"#ed7953\"], [0.7777777777777778, \"#fb9f3a\"], [0.8888888888888888, \"#fdca26\"], [1.0, \"#f0f921\"]]}, \"colorway\": [\"#636efa\", \"#EF553B\", \"#00cc96\", \"#ab63fa\", \"#FFA15A\", \"#19d3f3\", \"#FF6692\", \"#B6E880\", \"#FF97FF\", \"#FECB52\"], \"font\": {\"color\": \"#2a3f5f\"}, \"geo\": {\"bgcolor\": \"white\", \"lakecolor\": \"white\", \"landcolor\": \"#E5ECF6\", \"showlakes\": true, \"showland\": true, \"subunitcolor\": \"white\"}, \"hoverlabel\": {\"align\": \"left\"}, \"hovermode\": \"closest\", \"mapbox\": {\"style\": \"light\"}, \"paper_bgcolor\": \"white\", \"plot_bgcolor\": \"#E5ECF6\", \"polar\": {\"angularaxis\": {\"gridcolor\": \"white\", \"linecolor\": \"white\", \"ticks\": \"\"}, \"bgcolor\": \"#E5ECF6\", \"radialaxis\": {\"gridcolor\": \"white\", \"linecolor\": \"white\", \"ticks\": \"\"}}, \"scene\": {\"xaxis\": {\"backgroundcolor\": \"#E5ECF6\", \"gridcolor\": \"white\", \"gridwidth\": 2, \"linecolor\": \"white\", \"showbackground\": true, \"ticks\": \"\", \"zerolinecolor\": \"white\"}, \"yaxis\": {\"backgroundcolor\": \"#E5ECF6\", \"gridcolor\": \"white\", \"gridwidth\": 2, \"linecolor\": \"white\", \"showbackground\": true, \"ticks\": \"\", \"zerolinecolor\": \"white\"}, \"zaxis\": {\"backgroundcolor\": \"#E5ECF6\", \"gridcolor\": \"white\", \"gridwidth\": 2, \"linecolor\": \"white\", \"showbackground\": true, \"ticks\": \"\", \"zerolinecolor\": \"white\"}}, \"shapedefaults\": {\"line\": {\"color\": \"#2a3f5f\"}}, \"ternary\": {\"aaxis\": {\"gridcolor\": \"white\", \"linecolor\": \"white\", \"ticks\": \"\"}, \"baxis\": {\"gridcolor\": \"white\", \"linecolor\": \"white\", \"ticks\": \"\"}, \"bgcolor\": \"#E5ECF6\", \"caxis\": {\"gridcolor\": \"white\", \"linecolor\": \"white\", \"ticks\": \"\"}}, \"title\": {\"x\": 0.05}, \"xaxis\": {\"automargin\": true, \"gridcolor\": \"white\", \"linecolor\": \"white\", \"ticks\": \"\", \"title\": {\"standoff\": 15}, \"zerolinecolor\": \"white\", \"zerolinewidth\": 2}, \"yaxis\": {\"automargin\": true, \"gridcolor\": \"white\", \"linecolor\": \"white\", \"ticks\": \"\", \"title\": {\"standoff\": 15}, \"zerolinecolor\": \"white\", \"zerolinewidth\": 2}}}, \"title\": {\"text\": \"Possible airspeeds for different altitudes in EAS and TAS\"}, \"xaxis\": {\"title\": {\"text\": \"Airspeed / (m/s)\"}}, \"yaxis\": {\"title\": {\"text\": \"Altitude / km\"}}},\n",
       "                        {\"responsive\": true}\n",
       "                    ).then(function(){\n",
       "                            \n",
       "var gd = document.getElementById('f1087b47-ff18-45d2-8301-7876515c0805');\n",
       "var x = new MutationObserver(function (mutations, observer) {{\n",
       "        var display = window.getComputedStyle(gd).display;\n",
       "        if (!display || display === 'none') {{\n",
       "            console.log([gd, 'removed!']);\n",
       "            Plotly.purge(gd);\n",
       "            observer.disconnect();\n",
       "        }}\n",
       "}});\n",
       "\n",
       "// Listen for the removal of the full notebook cells\n",
       "var notebookContainer = gd.closest('#notebook-container');\n",
       "if (notebookContainer) {{\n",
       "    x.observe(notebookContainer, {childList: true});\n",
       "}}\n",
       "\n",
       "// Listen for the clearing of the current output cell\n",
       "var outputEl = gd.closest('.output');\n",
       "if (outputEl) {{\n",
       "    x.observe(outputEl, {childList: true});\n",
       "}}\n",
       "\n",
       "                        })\n",
       "                };\n",
       "                });\n",
       "            </script>\n",
       "        </div>"
      ]
     },
     "metadata": {},
     "output_type": "display_data"
    }
   ],
   "source": [
    "# Make a vector for the altitude in 100m intervals\n",
    "alt_vector = np.arange(0, ceiling, 0.1)\n",
    "alt_vector = np.concatenate((alt_vector, ceiling))\n",
    "\n",
    "# AE and BE are already available from before - we'll introduce two new arrays to store V1 and V2\n",
    "#EAS\n",
    "VE1 = np.zeros(alt_vector.shape)\n",
    "VE2 = np.zeros(alt_vector.shape)\n",
    "\n",
    "#TAS\n",
    "V1 = np.zeros(alt_vector.shape)\n",
    "V2 = np.zeros(alt_vector.shape)\n",
    "\n",
    "# iterate over the altitudes\n",
    "for i, altitude in enumerate(alt_vector):\n",
    "    mosphere = Atmosphere(altitude*1000)\n",
    "    rho = mosphere.density\n",
    "\n",
    "    # Thrust available at this altitude\n",
    "    sigma = rho/rho_sl\n",
    "    TA = TSL * sigma[0]\n",
    "    \n",
    "    # Get the intersection\n",
    "    a = AE\n",
    "    b = -TA\n",
    "    c = BE\n",
    "    flight_limit_speeds = np.sort(np.sqrt(np.roots([a, b, c])))\n",
    "    \n",
    "    # Store these in the array\n",
    "    VE1[i] = flight_limit_speeds[0]\n",
    "    VE2[i] = flight_limit_speeds[1]\n",
    "    \n",
    "    # And for EAS\n",
    "    V1[i] = VE1[i] * sigma ** -.5\n",
    "    V2[i] = VE2[i] * sigma ** -.5\n",
    "    \n",
    "    \n",
    "# Sort these into an array for plotting\n",
    "VEs = np.concatenate((VE1, np.flip(VE2)))\n",
    "Vs = np.concatenate((V1, np.flip(V2)))\n",
    "alt_vector = np.concatenate((alt_vector, np.flip(alt_vector)))\n",
    "\n",
    "# \n",
    "\n",
    "\n",
    "\n",
    "fig = go.Figure()\n",
    "\n",
    "fig.add_trace(go.Scatter(x=VEs, y=alt_vector, mode=\"lines\", name=\"EAS\"))\n",
    "fig.add_trace(go.Scatter(x=Vs, y=alt_vector, mode=\"lines\", name=\"TAS\"))\n",
    "\n",
    "fig.update_layout(\n",
    "    title=f\"Possible airspeeds for different altitudes in EAS and TAS\",\n",
    "    xaxis_title=\"Airspeed / (m/s)\",\n",
    "    yaxis_title=\"Altitude / km\",\n",
    ")\n",
    "\n",
    "    "
   ]
  },
  {
   "cell_type": "markdown",
   "metadata": {},
   "source": [
    "Now - the plot above show the *possible flight speeds* from the solution of the quadratic, but it was shown in the previous plot that for lower altitudes, $v_1$ was below the stall speed.\n",
    "\n",
    "If this is taken into consideration, then the plot is modified to:"
   ]
  },
  {
   "cell_type": "code",
   "execution_count": 45,
   "metadata": {
    "tags": [
     "remove-input"
    ]
   },
   "outputs": [
    {
     "data": {
      "application/vnd.plotly.v1+json": {
       "config": {
        "plotlyServerURL": "https://plot.ly"
       },
       "data": [
        {
         "mode": "lines",
         "name": "EAS",
         "type": "scatter",
         "x": [
          59.016889085065394,
          59.016889085065394,
          59.016889085065394,
          59.016889085065394,
          59.016889085065394,
          59.016889085065394,
          59.016889085065394,
          59.016889085065394,
          59.016889085065394,
          59.016889085065394,
          59.016889085065394,
          59.016889085065394,
          59.016889085065394,
          59.016889085065394,
          59.016889085065394,
          59.016889085065394,
          59.016889085065394,
          59.016889085065394,
          59.016889085065394,
          59.016889085065394,
          59.016889085065394,
          59.016889085065394,
          59.016889085065394,
          59.016889085065394,
          59.016889085065394,
          59.016889085065394,
          59.016889085065394,
          59.016889085065394,
          59.016889085065394,
          59.016889085065394,
          59.016889085065394,
          59.016889085065394,
          59.016889085065394,
          59.016889085065394,
          59.016889085065394,
          59.016889085065394,
          59.016889085065394,
          59.016889085065394,
          59.016889085065394,
          59.016889085065394,
          59.016889085065394,
          59.016889085065394,
          59.016889085065394,
          59.016889085065394,
          59.016889085065394,
          59.016889085065394,
          59.016889085065394,
          59.016889085065394,
          59.016889085065394,
          59.016889085065394,
          59.016889085065394,
          59.016889085065394,
          59.016889085065394,
          59.016889085065394,
          59.016889085065394,
          59.016889085065394,
          59.016889085065394,
          59.016889085065394,
          59.016889085065394,
          59.016889085065394,
          59.016889085065394,
          59.016889085065394,
          59.016889085065394,
          59.016889085065394,
          59.016889085065394,
          59.016889085065394,
          59.016889085065394,
          59.17744750590566,
          59.6430986875544,
          60.11873447314355,
          60.60487613656686,
          61.10209193731165,
          61.61100321218922,
          62.13229151568429,
          62.66670703773466,
          63.21507858911971,
          63.778325525790926,
          64.35747209198685,
          64.95366480876525,
          65.56819373571905,
          66.20251871310116,
          66.85830208581179,
          67.5374499762209,
          68.24216499911982,
          68.9750145444857,
          69.7390206342166,
          70.53778030304099,
          71.37563019901373,
          72.25787700587873,
          73.19112898018314,
          74.18378868858797,
          75.24681438094049,
          76.39495386424986,
          77.64886733169058,
          79.03907402380175,
          80.6141026921851,
          82.46008925120894,
          84.76104980320143,
          88.10834820745774,
          93.29260364077146,
          93.91672444160922,
          99.44274211043472,
          103.36983518861126,
          106.25425982596965,
          108.68738168588439,
          110.85321857303265,
          112.83790800377463,
          114.68998023272302,
          116.43995590582625,
          118.10849652544722,
          119.71035111294549,
          121.25647903906405,
          122.7552838992891,
          124.21337488830609,
          125.63605953869337,
          127.02767525941859,
          128.39181975958132,
          129.73151565028738,
          131.04933082693344,
          132.34746832731454,
          133.62783461575737,
          134.8920922994362,
          136.14170140255598,
          137.3779520916945,
          138.6019909192778,
          139.81484208664,
          141.01742483389407,
          142.2105677843786,
          143.39502087031326,
          144.5714653195055,
          145.7405220744405,
          146.9027589339334,
          148.05869664615423,
          149.20881413496988,
          150.35355300541084,
          151.4933214459659,
          152.62849762337407,
          153.75943264816803,
          154.88645317536702,
          156.00986369361635,
          157.1299485471158,
          158.24697372741772,
          159.3611884662532,
          160.4728266556809,
          161.58210811785375,
          162.68923974337235,
          163.79441651444003,
          164.89782242672018,
          165.99963132186113,
          167.1000076410235,
          168.199107108358,
          169.2970773522145,
          170.3940584708621,
          171.49018354864333,
          172.58557912775848,
          173.68036564024166,
          174.77465780414832,
          175.86856498750353,
          176.9621915431535,
          178.0556371173058,
          179.14899693423516,
          180.2423620593633,
          181.3358196426802,
          182.42945314426981,
          183.5233425435177,
          184.61756453341724,
          185.71219270124908,
          186.80729769677956,
          187.90294738901449,
          188.99920701244392,
          190.09613930362227,
          191.19380462885368,
          192.292261103677,
          193.3915647047841,
          194.49176937494826,
          195.59292712148638,
          196.69508810873478,
          197.79830074497747,
          198.9026117642256,
          200.00806630321617,
          201.11470797396626,
          202.2225789321915,
          203.33171994187245,
          204.44217043623038,
          205.553968575353,
          206.66715130069105,
          207.7817543866317,
          208.8978124893365,
          210.01535919301986,
          211.134427053828,
          212.25504764147078,
          213.3772515787426,
          214.50106857906306,
          215.6265274821564,
          216.75365628798124,
          217.88248218901307,
          219.01303160097822,
          220.14533019212598,
          221.27940291112466,
          222.41527401365929
         ],
         "y": [
          0,
          0.1,
          0.2,
          0.30000000000000004,
          0.4,
          0.5,
          0.6000000000000001,
          0.7000000000000001,
          0.8,
          0.9,
          1,
          1.1,
          1.2000000000000002,
          1.3,
          1.4000000000000001,
          1.5,
          1.6,
          1.7000000000000002,
          1.8,
          1.9000000000000001,
          2,
          2.1,
          2.2,
          2.3000000000000003,
          2.4000000000000004,
          2.5,
          2.6,
          2.7,
          2.8000000000000003,
          2.9000000000000004,
          3,
          3.1,
          3.2,
          3.3000000000000003,
          3.4000000000000004,
          3.5,
          3.6,
          3.7,
          3.8000000000000003,
          3.9000000000000004,
          4,
          4.1000000000000005,
          4.2,
          4.3,
          4.4,
          4.5,
          4.6000000000000005,
          4.7,
          4.800000000000001,
          4.9,
          5,
          5.1000000000000005,
          5.2,
          5.300000000000001,
          5.4,
          5.5,
          5.6000000000000005,
          5.7,
          5.800000000000001,
          5.9,
          6,
          6.1000000000000005,
          6.2,
          6.300000000000001,
          6.4,
          6.5,
          6.6000000000000005,
          6.7,
          6.800000000000001,
          6.9,
          7,
          7.1000000000000005,
          7.2,
          7.300000000000001,
          7.4,
          7.5,
          7.6000000000000005,
          7.7,
          7.800000000000001,
          7.9,
          8,
          8.1,
          8.200000000000001,
          8.3,
          8.4,
          8.5,
          8.6,
          8.700000000000001,
          8.8,
          8.9,
          9,
          9.1,
          9.200000000000001,
          9.3,
          9.4,
          9.5,
          9.600000000000001,
          9.700000000000001,
          9.8,
          9.85924379390416,
          9.85924379390416,
          9.8,
          9.700000000000001,
          9.600000000000001,
          9.5,
          9.4,
          9.3,
          9.200000000000001,
          9.1,
          9,
          8.9,
          8.8,
          8.700000000000001,
          8.6,
          8.5,
          8.4,
          8.3,
          8.200000000000001,
          8.1,
          8,
          7.9,
          7.800000000000001,
          7.7,
          7.6000000000000005,
          7.5,
          7.4,
          7.300000000000001,
          7.2,
          7.1000000000000005,
          7,
          6.9,
          6.800000000000001,
          6.7,
          6.6000000000000005,
          6.5,
          6.4,
          6.300000000000001,
          6.2,
          6.1000000000000005,
          6,
          5.9,
          5.800000000000001,
          5.7,
          5.6000000000000005,
          5.5,
          5.4,
          5.300000000000001,
          5.2,
          5.1000000000000005,
          5,
          4.9,
          4.800000000000001,
          4.7,
          4.6000000000000005,
          4.5,
          4.4,
          4.3,
          4.2,
          4.1000000000000005,
          4,
          3.9000000000000004,
          3.8000000000000003,
          3.7,
          3.6,
          3.5,
          3.4000000000000004,
          3.3000000000000003,
          3.2,
          3.1,
          3,
          2.9000000000000004,
          2.8000000000000003,
          2.7,
          2.6,
          2.5,
          2.4000000000000004,
          2.3000000000000003,
          2.2,
          2.1,
          2,
          1.9000000000000001,
          1.8,
          1.7000000000000002,
          1.6,
          1.5,
          1.4000000000000001,
          1.3,
          1.2000000000000002,
          1.1,
          1,
          0.9,
          0.8,
          0.7000000000000001,
          0.6000000000000001,
          0.5,
          0.4,
          0.30000000000000004,
          0.2,
          0.1,
          0
         ]
        },
        {
         "mode": "lines",
         "name": "TAS",
         "type": "scatter",
         "x": [
          59.01688864847802,
          59.30117615463088,
          59.58747216194323,
          59.87579541634583,
          60.16616488149626,
          60.45859974180694,
          60.753119405522334,
          61.04974350784588,
          61.34849191411823,
          61.64938472304703,
          61.95244226998969,
          62.25768513029003,
          62.56513412266963,
          62.87481031267513,
          63.186735016182496,
          63.50092980295911,
          63.81741650028522,
          64.13621719663523,
          64.45735424542085,
          64.78085026879613,
          65.10672816152689,
          65.4350110949245,
          65.7657225208463,
          66.0988861757631,
          66.43452608489577,
          66.77266656642163,
          67.11333223575241,
          67.45654800988514,
          67.8023391118271,
          68.15073107509643,
          68.50174974830023,
          68.85542129979095,
          69.21177222240334,
          69.57082933827293,
          69.93261980373808,
          70.29717111432717,
          70.66451110983246,
          71.03466797947235,
          71.40767026714411,
          71.78354687676847,
          72.16232707772825,
          72.54404051040267,
          72.9287171917994,
          73.31638752128642,
          73.70708228642533,
          74.10083266890867,
          74.49767025060298,
          74.89762701969994,
          75.30073537697773,
          75.70702814217485,
          76.11653856047896,
          76.52930030913248,
          76.94534750415826,
          77.364714707207,
          77.78743693252923,
          78.2135496540749,
          78.64308881272227,
          79.07609082363965,
          79.51259258378262,
          79.95263147952893,
          80.39624539445518,
          80.84347271725689,
          81.29435234981621,
          81.74892371541954,
          82.2072267671288,
          82.66930199630947,
          83.13519044131833,
          83.83238513164507,
          84.97070515899345,
          86.13481733778772,
          87.3258549036526,
          88.54504240478504,
          89.79370699786081,
          91.07329164615241,
          92.38537062965042,
          93.73166788595377,
          95.11407884458387,
          96.5346966094841,
          97.99584360395376,
          99.50011014728989,
          101.0504019249495,
          102.64999900782695,
          104.30263006999056,
          106.01256690409616,
          107.78474649285253,
          109.62493118461776,
          111.53992266386888,
          113.5378536838948,
          115.62859529971333,
          117.82434114729463,
          120.14047336518036,
          122.5968968502989,
          125.22019547706482,
          128.04733137888965,
          131.13250312732532,
          134.5612687752558,
          138.4844065356004,
          143.2217417618027,
          149.79344285547077,
          159.1857829607576,
          160.25072438661823,
          169.06310254094507,
          174.66522507351257,
          178.44460571770685,
          181.42125870156084,
          183.91485743905332,
          186.07603040158108,
          187.9901880629704,
          189.71138354337748,
          191.27643561833668,
          192.7117868644034,
          194.03720290779395,
          195.26792861122843,
          196.41602229808916,
          197.49122164297106,
          198.50152792040873,
          199.45361320785798,
          200.35311208900146,
          201.2048355953664,
          202.01293135359296,
          202.7810056290837,
          203.5122178141026,
          204.2093546186858,
          204.87488906357356,
          205.51102792449498,
          206.11975028339089,
          206.70283914837785,
          207.26190761171628,
          207.79842066002362,
          208.31371349148262,
          208.80900700269433,
          209.28542096392837,
          209.7439852925581,
          210.1856497511156,
          210.61129233204244,
          211.0217265410823,
          211.41770775189403,
          211.79993877330875,
          212.16907474582783,
          212.5257274640298,
          212.87046920546726,
          213.20383613355912,
          213.5263313313057,
          213.8384275138774,
          214.14056946088604,
          214.43317620313502,
          214.71664299363752,
          214.99134308849528,
          215.2576293597077,
          215.51583575900372,
          215.7662786492676,
          216.00925801798738,
          216.24505858532464,
          216.4739508178374,
          216.69619185754402,
          216.91202637485728,
          217.12168735291385,
          217.32539680996007,
          217.52336646569856,
          217.71579835684375,
          217.90288540656093,
          218.08481195196092,
          218.26175423338134,
          218.43388084879822,
          218.60135317636843,
          218.7643257678031,
          218.92294671500372,
          219.07735799215538,
          219.22769577526114,
          219.37409074091448,
          219.51666834593667,
          219.655549089361,
          219.7908487581065,
          219.92267865756824,
          220.05114582824007,
          220.1763532493913,
          220.2984000307299,
          220.41738159290642,
          220.5333898376413,
          220.64651330819484,
          220.75683734083987,
          220.86444420794402,
          220.96941325322126,
          221.07182101966862,
          221.1717413706624,
          221.2692456046557,
          221.36440256388084,
          221.4572787374353,
          221.547938359098,
          221.63644350019936,
          221.72285415784566,
          221.80722833877508,
          221.88962213910548,
          221.97008982021433,
          222.0486838809751,
          222.1254551265595,
          222.2004527340011,
          222.27372431470093,
          222.3453159740469,
          222.41527236830484
         ],
         "y": [
          0,
          0.1,
          0.2,
          0.30000000000000004,
          0.4,
          0.5,
          0.6000000000000001,
          0.7000000000000001,
          0.8,
          0.9,
          1,
          1.1,
          1.2000000000000002,
          1.3,
          1.4000000000000001,
          1.5,
          1.6,
          1.7000000000000002,
          1.8,
          1.9000000000000001,
          2,
          2.1,
          2.2,
          2.3000000000000003,
          2.4000000000000004,
          2.5,
          2.6,
          2.7,
          2.8000000000000003,
          2.9000000000000004,
          3,
          3.1,
          3.2,
          3.3000000000000003,
          3.4000000000000004,
          3.5,
          3.6,
          3.7,
          3.8000000000000003,
          3.9000000000000004,
          4,
          4.1000000000000005,
          4.2,
          4.3,
          4.4,
          4.5,
          4.6000000000000005,
          4.7,
          4.800000000000001,
          4.9,
          5,
          5.1000000000000005,
          5.2,
          5.300000000000001,
          5.4,
          5.5,
          5.6000000000000005,
          5.7,
          5.800000000000001,
          5.9,
          6,
          6.1000000000000005,
          6.2,
          6.300000000000001,
          6.4,
          6.5,
          6.6000000000000005,
          6.7,
          6.800000000000001,
          6.9,
          7,
          7.1000000000000005,
          7.2,
          7.300000000000001,
          7.4,
          7.5,
          7.6000000000000005,
          7.7,
          7.800000000000001,
          7.9,
          8,
          8.1,
          8.200000000000001,
          8.3,
          8.4,
          8.5,
          8.6,
          8.700000000000001,
          8.8,
          8.9,
          9,
          9.1,
          9.200000000000001,
          9.3,
          9.4,
          9.5,
          9.600000000000001,
          9.700000000000001,
          9.8,
          9.85924379390416,
          9.85924379390416,
          9.8,
          9.700000000000001,
          9.600000000000001,
          9.5,
          9.4,
          9.3,
          9.200000000000001,
          9.1,
          9,
          8.9,
          8.8,
          8.700000000000001,
          8.6,
          8.5,
          8.4,
          8.3,
          8.200000000000001,
          8.1,
          8,
          7.9,
          7.800000000000001,
          7.7,
          7.6000000000000005,
          7.5,
          7.4,
          7.300000000000001,
          7.2,
          7.1000000000000005,
          7,
          6.9,
          6.800000000000001,
          6.7,
          6.6000000000000005,
          6.5,
          6.4,
          6.300000000000001,
          6.2,
          6.1000000000000005,
          6,
          5.9,
          5.800000000000001,
          5.7,
          5.6000000000000005,
          5.5,
          5.4,
          5.300000000000001,
          5.2,
          5.1000000000000005,
          5,
          4.9,
          4.800000000000001,
          4.7,
          4.6000000000000005,
          4.5,
          4.4,
          4.3,
          4.2,
          4.1000000000000005,
          4,
          3.9000000000000004,
          3.8000000000000003,
          3.7,
          3.6,
          3.5,
          3.4000000000000004,
          3.3000000000000003,
          3.2,
          3.1,
          3,
          2.9000000000000004,
          2.8000000000000003,
          2.7,
          2.6,
          2.5,
          2.4000000000000004,
          2.3000000000000003,
          2.2,
          2.1,
          2,
          1.9000000000000001,
          1.8,
          1.7000000000000002,
          1.6,
          1.5,
          1.4000000000000001,
          1.3,
          1.2000000000000002,
          1.1,
          1,
          0.9,
          0.8,
          0.7000000000000001,
          0.6000000000000001,
          0.5,
          0.4,
          0.30000000000000004,
          0.2,
          0.1,
          0
         ]
        }
       ],
       "layout": {
        "template": {
         "data": {
          "bar": [
           {
            "error_x": {
             "color": "#2a3f5f"
            },
            "error_y": {
             "color": "#2a3f5f"
            },
            "marker": {
             "line": {
              "color": "#E5ECF6",
              "width": 0.5
             }
            },
            "type": "bar"
           }
          ],
          "barpolar": [
           {
            "marker": {
             "line": {
              "color": "#E5ECF6",
              "width": 0.5
             }
            },
            "type": "barpolar"
           }
          ],
          "carpet": [
           {
            "aaxis": {
             "endlinecolor": "#2a3f5f",
             "gridcolor": "white",
             "linecolor": "white",
             "minorgridcolor": "white",
             "startlinecolor": "#2a3f5f"
            },
            "baxis": {
             "endlinecolor": "#2a3f5f",
             "gridcolor": "white",
             "linecolor": "white",
             "minorgridcolor": "white",
             "startlinecolor": "#2a3f5f"
            },
            "type": "carpet"
           }
          ],
          "choropleth": [
           {
            "colorbar": {
             "outlinewidth": 0,
             "ticks": ""
            },
            "type": "choropleth"
           }
          ],
          "contour": [
           {
            "colorbar": {
             "outlinewidth": 0,
             "ticks": ""
            },
            "colorscale": [
             [
              0,
              "#0d0887"
             ],
             [
              0.1111111111111111,
              "#46039f"
             ],
             [
              0.2222222222222222,
              "#7201a8"
             ],
             [
              0.3333333333333333,
              "#9c179e"
             ],
             [
              0.4444444444444444,
              "#bd3786"
             ],
             [
              0.5555555555555556,
              "#d8576b"
             ],
             [
              0.6666666666666666,
              "#ed7953"
             ],
             [
              0.7777777777777778,
              "#fb9f3a"
             ],
             [
              0.8888888888888888,
              "#fdca26"
             ],
             [
              1,
              "#f0f921"
             ]
            ],
            "type": "contour"
           }
          ],
          "contourcarpet": [
           {
            "colorbar": {
             "outlinewidth": 0,
             "ticks": ""
            },
            "type": "contourcarpet"
           }
          ],
          "heatmap": [
           {
            "colorbar": {
             "outlinewidth": 0,
             "ticks": ""
            },
            "colorscale": [
             [
              0,
              "#0d0887"
             ],
             [
              0.1111111111111111,
              "#46039f"
             ],
             [
              0.2222222222222222,
              "#7201a8"
             ],
             [
              0.3333333333333333,
              "#9c179e"
             ],
             [
              0.4444444444444444,
              "#bd3786"
             ],
             [
              0.5555555555555556,
              "#d8576b"
             ],
             [
              0.6666666666666666,
              "#ed7953"
             ],
             [
              0.7777777777777778,
              "#fb9f3a"
             ],
             [
              0.8888888888888888,
              "#fdca26"
             ],
             [
              1,
              "#f0f921"
             ]
            ],
            "type": "heatmap"
           }
          ],
          "heatmapgl": [
           {
            "colorbar": {
             "outlinewidth": 0,
             "ticks": ""
            },
            "colorscale": [
             [
              0,
              "#0d0887"
             ],
             [
              0.1111111111111111,
              "#46039f"
             ],
             [
              0.2222222222222222,
              "#7201a8"
             ],
             [
              0.3333333333333333,
              "#9c179e"
             ],
             [
              0.4444444444444444,
              "#bd3786"
             ],
             [
              0.5555555555555556,
              "#d8576b"
             ],
             [
              0.6666666666666666,
              "#ed7953"
             ],
             [
              0.7777777777777778,
              "#fb9f3a"
             ],
             [
              0.8888888888888888,
              "#fdca26"
             ],
             [
              1,
              "#f0f921"
             ]
            ],
            "type": "heatmapgl"
           }
          ],
          "histogram": [
           {
            "marker": {
             "colorbar": {
              "outlinewidth": 0,
              "ticks": ""
             }
            },
            "type": "histogram"
           }
          ],
          "histogram2d": [
           {
            "colorbar": {
             "outlinewidth": 0,
             "ticks": ""
            },
            "colorscale": [
             [
              0,
              "#0d0887"
             ],
             [
              0.1111111111111111,
              "#46039f"
             ],
             [
              0.2222222222222222,
              "#7201a8"
             ],
             [
              0.3333333333333333,
              "#9c179e"
             ],
             [
              0.4444444444444444,
              "#bd3786"
             ],
             [
              0.5555555555555556,
              "#d8576b"
             ],
             [
              0.6666666666666666,
              "#ed7953"
             ],
             [
              0.7777777777777778,
              "#fb9f3a"
             ],
             [
              0.8888888888888888,
              "#fdca26"
             ],
             [
              1,
              "#f0f921"
             ]
            ],
            "type": "histogram2d"
           }
          ],
          "histogram2dcontour": [
           {
            "colorbar": {
             "outlinewidth": 0,
             "ticks": ""
            },
            "colorscale": [
             [
              0,
              "#0d0887"
             ],
             [
              0.1111111111111111,
              "#46039f"
             ],
             [
              0.2222222222222222,
              "#7201a8"
             ],
             [
              0.3333333333333333,
              "#9c179e"
             ],
             [
              0.4444444444444444,
              "#bd3786"
             ],
             [
              0.5555555555555556,
              "#d8576b"
             ],
             [
              0.6666666666666666,
              "#ed7953"
             ],
             [
              0.7777777777777778,
              "#fb9f3a"
             ],
             [
              0.8888888888888888,
              "#fdca26"
             ],
             [
              1,
              "#f0f921"
             ]
            ],
            "type": "histogram2dcontour"
           }
          ],
          "mesh3d": [
           {
            "colorbar": {
             "outlinewidth": 0,
             "ticks": ""
            },
            "type": "mesh3d"
           }
          ],
          "parcoords": [
           {
            "line": {
             "colorbar": {
              "outlinewidth": 0,
              "ticks": ""
             }
            },
            "type": "parcoords"
           }
          ],
          "pie": [
           {
            "automargin": true,
            "type": "pie"
           }
          ],
          "scatter": [
           {
            "marker": {
             "colorbar": {
              "outlinewidth": 0,
              "ticks": ""
             }
            },
            "type": "scatter"
           }
          ],
          "scatter3d": [
           {
            "line": {
             "colorbar": {
              "outlinewidth": 0,
              "ticks": ""
             }
            },
            "marker": {
             "colorbar": {
              "outlinewidth": 0,
              "ticks": ""
             }
            },
            "type": "scatter3d"
           }
          ],
          "scattercarpet": [
           {
            "marker": {
             "colorbar": {
              "outlinewidth": 0,
              "ticks": ""
             }
            },
            "type": "scattercarpet"
           }
          ],
          "scattergeo": [
           {
            "marker": {
             "colorbar": {
              "outlinewidth": 0,
              "ticks": ""
             }
            },
            "type": "scattergeo"
           }
          ],
          "scattergl": [
           {
            "marker": {
             "colorbar": {
              "outlinewidth": 0,
              "ticks": ""
             }
            },
            "type": "scattergl"
           }
          ],
          "scattermapbox": [
           {
            "marker": {
             "colorbar": {
              "outlinewidth": 0,
              "ticks": ""
             }
            },
            "type": "scattermapbox"
           }
          ],
          "scatterpolar": [
           {
            "marker": {
             "colorbar": {
              "outlinewidth": 0,
              "ticks": ""
             }
            },
            "type": "scatterpolar"
           }
          ],
          "scatterpolargl": [
           {
            "marker": {
             "colorbar": {
              "outlinewidth": 0,
              "ticks": ""
             }
            },
            "type": "scatterpolargl"
           }
          ],
          "scatterternary": [
           {
            "marker": {
             "colorbar": {
              "outlinewidth": 0,
              "ticks": ""
             }
            },
            "type": "scatterternary"
           }
          ],
          "surface": [
           {
            "colorbar": {
             "outlinewidth": 0,
             "ticks": ""
            },
            "colorscale": [
             [
              0,
              "#0d0887"
             ],
             [
              0.1111111111111111,
              "#46039f"
             ],
             [
              0.2222222222222222,
              "#7201a8"
             ],
             [
              0.3333333333333333,
              "#9c179e"
             ],
             [
              0.4444444444444444,
              "#bd3786"
             ],
             [
              0.5555555555555556,
              "#d8576b"
             ],
             [
              0.6666666666666666,
              "#ed7953"
             ],
             [
              0.7777777777777778,
              "#fb9f3a"
             ],
             [
              0.8888888888888888,
              "#fdca26"
             ],
             [
              1,
              "#f0f921"
             ]
            ],
            "type": "surface"
           }
          ],
          "table": [
           {
            "cells": {
             "fill": {
              "color": "#EBF0F8"
             },
             "line": {
              "color": "white"
             }
            },
            "header": {
             "fill": {
              "color": "#C8D4E3"
             },
             "line": {
              "color": "white"
             }
            },
            "type": "table"
           }
          ]
         },
         "layout": {
          "annotationdefaults": {
           "arrowcolor": "#2a3f5f",
           "arrowhead": 0,
           "arrowwidth": 1
          },
          "coloraxis": {
           "colorbar": {
            "outlinewidth": 0,
            "ticks": ""
           }
          },
          "colorscale": {
           "diverging": [
            [
             0,
             "#8e0152"
            ],
            [
             0.1,
             "#c51b7d"
            ],
            [
             0.2,
             "#de77ae"
            ],
            [
             0.3,
             "#f1b6da"
            ],
            [
             0.4,
             "#fde0ef"
            ],
            [
             0.5,
             "#f7f7f7"
            ],
            [
             0.6,
             "#e6f5d0"
            ],
            [
             0.7,
             "#b8e186"
            ],
            [
             0.8,
             "#7fbc41"
            ],
            [
             0.9,
             "#4d9221"
            ],
            [
             1,
             "#276419"
            ]
           ],
           "sequential": [
            [
             0,
             "#0d0887"
            ],
            [
             0.1111111111111111,
             "#46039f"
            ],
            [
             0.2222222222222222,
             "#7201a8"
            ],
            [
             0.3333333333333333,
             "#9c179e"
            ],
            [
             0.4444444444444444,
             "#bd3786"
            ],
            [
             0.5555555555555556,
             "#d8576b"
            ],
            [
             0.6666666666666666,
             "#ed7953"
            ],
            [
             0.7777777777777778,
             "#fb9f3a"
            ],
            [
             0.8888888888888888,
             "#fdca26"
            ],
            [
             1,
             "#f0f921"
            ]
           ],
           "sequentialminus": [
            [
             0,
             "#0d0887"
            ],
            [
             0.1111111111111111,
             "#46039f"
            ],
            [
             0.2222222222222222,
             "#7201a8"
            ],
            [
             0.3333333333333333,
             "#9c179e"
            ],
            [
             0.4444444444444444,
             "#bd3786"
            ],
            [
             0.5555555555555556,
             "#d8576b"
            ],
            [
             0.6666666666666666,
             "#ed7953"
            ],
            [
             0.7777777777777778,
             "#fb9f3a"
            ],
            [
             0.8888888888888888,
             "#fdca26"
            ],
            [
             1,
             "#f0f921"
            ]
           ]
          },
          "colorway": [
           "#636efa",
           "#EF553B",
           "#00cc96",
           "#ab63fa",
           "#FFA15A",
           "#19d3f3",
           "#FF6692",
           "#B6E880",
           "#FF97FF",
           "#FECB52"
          ],
          "font": {
           "color": "#2a3f5f"
          },
          "geo": {
           "bgcolor": "white",
           "lakecolor": "white",
           "landcolor": "#E5ECF6",
           "showlakes": true,
           "showland": true,
           "subunitcolor": "white"
          },
          "hoverlabel": {
           "align": "left"
          },
          "hovermode": "closest",
          "mapbox": {
           "style": "light"
          },
          "paper_bgcolor": "white",
          "plot_bgcolor": "#E5ECF6",
          "polar": {
           "angularaxis": {
            "gridcolor": "white",
            "linecolor": "white",
            "ticks": ""
           },
           "bgcolor": "#E5ECF6",
           "radialaxis": {
            "gridcolor": "white",
            "linecolor": "white",
            "ticks": ""
           }
          },
          "scene": {
           "xaxis": {
            "backgroundcolor": "#E5ECF6",
            "gridcolor": "white",
            "gridwidth": 2,
            "linecolor": "white",
            "showbackground": true,
            "ticks": "",
            "zerolinecolor": "white"
           },
           "yaxis": {
            "backgroundcolor": "#E5ECF6",
            "gridcolor": "white",
            "gridwidth": 2,
            "linecolor": "white",
            "showbackground": true,
            "ticks": "",
            "zerolinecolor": "white"
           },
           "zaxis": {
            "backgroundcolor": "#E5ECF6",
            "gridcolor": "white",
            "gridwidth": 2,
            "linecolor": "white",
            "showbackground": true,
            "ticks": "",
            "zerolinecolor": "white"
           }
          },
          "shapedefaults": {
           "line": {
            "color": "#2a3f5f"
           }
          },
          "ternary": {
           "aaxis": {
            "gridcolor": "white",
            "linecolor": "white",
            "ticks": ""
           },
           "baxis": {
            "gridcolor": "white",
            "linecolor": "white",
            "ticks": ""
           },
           "bgcolor": "#E5ECF6",
           "caxis": {
            "gridcolor": "white",
            "linecolor": "white",
            "ticks": ""
           }
          },
          "title": {
           "x": 0.05
          },
          "xaxis": {
           "automargin": true,
           "gridcolor": "white",
           "linecolor": "white",
           "ticks": "",
           "title": {
            "standoff": 15
           },
           "zerolinecolor": "white",
           "zerolinewidth": 2
          },
          "yaxis": {
           "automargin": true,
           "gridcolor": "white",
           "linecolor": "white",
           "ticks": "",
           "title": {
            "standoff": 15
           },
           "zerolinecolor": "white",
           "zerolinewidth": 2
          }
         }
        },
        "title": {
         "text": "Possible airspeeds for different altitudes in EAS and TAS"
        },
        "xaxis": {
         "range": [
          0,
          222.41527236830484
         ],
         "title": {
          "text": "Airspeed / (m/s)"
         }
        },
        "yaxis": {
         "title": {
          "text": "Altitude / km"
         }
        }
       }
      },
      "text/html": [
       "<div>\n",
       "        \n",
       "        \n",
       "            <div id=\"6d0bda4b-d7e0-40b9-8dfb-f24764462ea0\" class=\"plotly-graph-div\" style=\"height:525px; width:100%;\"></div>\n",
       "            <script type=\"text/javascript\">\n",
       "                require([\"plotly\"], function(Plotly) {\n",
       "                    window.PLOTLYENV=window.PLOTLYENV || {};\n",
       "                    \n",
       "                if (document.getElementById(\"6d0bda4b-d7e0-40b9-8dfb-f24764462ea0\")) {\n",
       "                    Plotly.newPlot(\n",
       "                        '6d0bda4b-d7e0-40b9-8dfb-f24764462ea0',\n",
       "                        [{\"mode\": \"lines\", \"name\": \"EAS\", \"type\": \"scatter\", \"x\": [59.016889085065394, 59.016889085065394, 59.016889085065394, 59.016889085065394, 59.016889085065394, 59.016889085065394, 59.016889085065394, 59.016889085065394, 59.016889085065394, 59.016889085065394, 59.016889085065394, 59.016889085065394, 59.016889085065394, 59.016889085065394, 59.016889085065394, 59.016889085065394, 59.016889085065394, 59.016889085065394, 59.016889085065394, 59.016889085065394, 59.016889085065394, 59.016889085065394, 59.016889085065394, 59.016889085065394, 59.016889085065394, 59.016889085065394, 59.016889085065394, 59.016889085065394, 59.016889085065394, 59.016889085065394, 59.016889085065394, 59.016889085065394, 59.016889085065394, 59.016889085065394, 59.016889085065394, 59.016889085065394, 59.016889085065394, 59.016889085065394, 59.016889085065394, 59.016889085065394, 59.016889085065394, 59.016889085065394, 59.016889085065394, 59.016889085065394, 59.016889085065394, 59.016889085065394, 59.016889085065394, 59.016889085065394, 59.016889085065394, 59.016889085065394, 59.016889085065394, 59.016889085065394, 59.016889085065394, 59.016889085065394, 59.016889085065394, 59.016889085065394, 59.016889085065394, 59.016889085065394, 59.016889085065394, 59.016889085065394, 59.016889085065394, 59.016889085065394, 59.016889085065394, 59.016889085065394, 59.016889085065394, 59.016889085065394, 59.016889085065394, 59.17744750590566, 59.6430986875544, 60.11873447314355, 60.60487613656686, 61.10209193731165, 61.61100321218922, 62.13229151568429, 62.66670703773466, 63.21507858911971, 63.778325525790926, 64.35747209198685, 64.95366480876525, 65.56819373571905, 66.20251871310116, 66.85830208581179, 67.5374499762209, 68.24216499911982, 68.9750145444857, 69.7390206342166, 70.53778030304099, 71.37563019901373, 72.25787700587873, 73.19112898018314, 74.18378868858797, 75.24681438094049, 76.39495386424986, 77.64886733169058, 79.03907402380175, 80.6141026921851, 82.46008925120894, 84.76104980320143, 88.10834820745774, 93.29260364077146, 93.91672444160922, 99.44274211043472, 103.36983518861126, 106.25425982596965, 108.68738168588439, 110.85321857303265, 112.83790800377463, 114.68998023272302, 116.43995590582625, 118.10849652544722, 119.71035111294549, 121.25647903906405, 122.7552838992891, 124.21337488830609, 125.63605953869337, 127.02767525941859, 128.39181975958132, 129.73151565028738, 131.04933082693344, 132.34746832731454, 133.62783461575737, 134.8920922994362, 136.14170140255598, 137.3779520916945, 138.6019909192778, 139.81484208664, 141.01742483389407, 142.2105677843786, 143.39502087031326, 144.5714653195055, 145.7405220744405, 146.9027589339334, 148.05869664615423, 149.20881413496988, 150.35355300541084, 151.4933214459659, 152.62849762337407, 153.75943264816803, 154.88645317536702, 156.00986369361635, 157.1299485471158, 158.24697372741772, 159.3611884662532, 160.4728266556809, 161.58210811785375, 162.68923974337235, 163.79441651444003, 164.89782242672018, 165.99963132186113, 167.1000076410235, 168.199107108358, 169.2970773522145, 170.3940584708621, 171.49018354864333, 172.58557912775848, 173.68036564024166, 174.77465780414832, 175.86856498750353, 176.9621915431535, 178.0556371173058, 179.14899693423516, 180.2423620593633, 181.3358196426802, 182.42945314426981, 183.5233425435177, 184.61756453341724, 185.71219270124908, 186.80729769677956, 187.90294738901449, 188.99920701244392, 190.09613930362227, 191.19380462885368, 192.292261103677, 193.3915647047841, 194.49176937494826, 195.59292712148638, 196.69508810873478, 197.79830074497747, 198.9026117642256, 200.00806630321617, 201.11470797396626, 202.2225789321915, 203.33171994187245, 204.44217043623038, 205.553968575353, 206.66715130069105, 207.7817543866317, 208.8978124893365, 210.01535919301986, 211.134427053828, 212.25504764147078, 213.3772515787426, 214.50106857906306, 215.6265274821564, 216.75365628798124, 217.88248218901307, 219.01303160097822, 220.14533019212598, 221.27940291112466, 222.41527401365929], \"y\": [0.0, 0.1, 0.2, 0.30000000000000004, 0.4, 0.5, 0.6000000000000001, 0.7000000000000001, 0.8, 0.9, 1.0, 1.1, 1.2000000000000002, 1.3, 1.4000000000000001, 1.5, 1.6, 1.7000000000000002, 1.8, 1.9000000000000001, 2.0, 2.1, 2.2, 2.3000000000000003, 2.4000000000000004, 2.5, 2.6, 2.7, 2.8000000000000003, 2.9000000000000004, 3.0, 3.1, 3.2, 3.3000000000000003, 3.4000000000000004, 3.5, 3.6, 3.7, 3.8000000000000003, 3.9000000000000004, 4.0, 4.1000000000000005, 4.2, 4.3, 4.4, 4.5, 4.6000000000000005, 4.7, 4.800000000000001, 4.9, 5.0, 5.1000000000000005, 5.2, 5.300000000000001, 5.4, 5.5, 5.6000000000000005, 5.7, 5.800000000000001, 5.9, 6.0, 6.1000000000000005, 6.2, 6.300000000000001, 6.4, 6.5, 6.6000000000000005, 6.7, 6.800000000000001, 6.9, 7.0, 7.1000000000000005, 7.2, 7.300000000000001, 7.4, 7.5, 7.6000000000000005, 7.7, 7.800000000000001, 7.9, 8.0, 8.1, 8.200000000000001, 8.3, 8.4, 8.5, 8.6, 8.700000000000001, 8.8, 8.9, 9.0, 9.1, 9.200000000000001, 9.3, 9.4, 9.5, 9.600000000000001, 9.700000000000001, 9.8, 9.85924379390416, 9.85924379390416, 9.8, 9.700000000000001, 9.600000000000001, 9.5, 9.4, 9.3, 9.200000000000001, 9.1, 9.0, 8.9, 8.8, 8.700000000000001, 8.6, 8.5, 8.4, 8.3, 8.200000000000001, 8.1, 8.0, 7.9, 7.800000000000001, 7.7, 7.6000000000000005, 7.5, 7.4, 7.300000000000001, 7.2, 7.1000000000000005, 7.0, 6.9, 6.800000000000001, 6.7, 6.6000000000000005, 6.5, 6.4, 6.300000000000001, 6.2, 6.1000000000000005, 6.0, 5.9, 5.800000000000001, 5.7, 5.6000000000000005, 5.5, 5.4, 5.300000000000001, 5.2, 5.1000000000000005, 5.0, 4.9, 4.800000000000001, 4.7, 4.6000000000000005, 4.5, 4.4, 4.3, 4.2, 4.1000000000000005, 4.0, 3.9000000000000004, 3.8000000000000003, 3.7, 3.6, 3.5, 3.4000000000000004, 3.3000000000000003, 3.2, 3.1, 3.0, 2.9000000000000004, 2.8000000000000003, 2.7, 2.6, 2.5, 2.4000000000000004, 2.3000000000000003, 2.2, 2.1, 2.0, 1.9000000000000001, 1.8, 1.7000000000000002, 1.6, 1.5, 1.4000000000000001, 1.3, 1.2000000000000002, 1.1, 1.0, 0.9, 0.8, 0.7000000000000001, 0.6000000000000001, 0.5, 0.4, 0.30000000000000004, 0.2, 0.1, 0.0]}, {\"mode\": \"lines\", \"name\": \"TAS\", \"type\": \"scatter\", \"x\": [59.01688864847802, 59.30117615463088, 59.58747216194323, 59.87579541634583, 60.16616488149626, 60.45859974180694, 60.753119405522334, 61.04974350784588, 61.34849191411823, 61.64938472304703, 61.95244226998969, 62.25768513029003, 62.56513412266963, 62.87481031267513, 63.186735016182496, 63.50092980295911, 63.81741650028522, 64.13621719663523, 64.45735424542085, 64.78085026879613, 65.10672816152689, 65.4350110949245, 65.7657225208463, 66.0988861757631, 66.43452608489577, 66.77266656642163, 67.11333223575241, 67.45654800988514, 67.8023391118271, 68.15073107509643, 68.50174974830023, 68.85542129979095, 69.21177222240334, 69.57082933827293, 69.93261980373808, 70.29717111432717, 70.66451110983246, 71.03466797947235, 71.40767026714411, 71.78354687676847, 72.16232707772825, 72.54404051040267, 72.9287171917994, 73.31638752128642, 73.70708228642533, 74.10083266890867, 74.49767025060298, 74.89762701969994, 75.30073537697773, 75.70702814217485, 76.11653856047896, 76.52930030913248, 76.94534750415826, 77.364714707207, 77.78743693252923, 78.2135496540749, 78.64308881272227, 79.07609082363965, 79.51259258378262, 79.95263147952893, 80.39624539445518, 80.84347271725689, 81.29435234981621, 81.74892371541954, 82.2072267671288, 82.66930199630947, 83.13519044131833, 83.83238513164507, 84.97070515899345, 86.13481733778772, 87.3258549036526, 88.54504240478504, 89.79370699786081, 91.07329164615241, 92.38537062965042, 93.73166788595377, 95.11407884458387, 96.5346966094841, 97.99584360395376, 99.50011014728989, 101.0504019249495, 102.64999900782695, 104.30263006999056, 106.01256690409616, 107.78474649285253, 109.62493118461776, 111.53992266386888, 113.5378536838948, 115.62859529971333, 117.82434114729463, 120.14047336518036, 122.5968968502989, 125.22019547706482, 128.04733137888965, 131.13250312732532, 134.5612687752558, 138.4844065356004, 143.2217417618027, 149.79344285547077, 159.1857829607576, 160.25072438661823, 169.06310254094507, 174.66522507351257, 178.44460571770685, 181.42125870156084, 183.91485743905332, 186.07603040158108, 187.9901880629704, 189.71138354337748, 191.27643561833668, 192.7117868644034, 194.03720290779395, 195.26792861122843, 196.41602229808916, 197.49122164297106, 198.50152792040873, 199.45361320785798, 200.35311208900146, 201.2048355953664, 202.01293135359296, 202.7810056290837, 203.5122178141026, 204.2093546186858, 204.87488906357356, 205.51102792449498, 206.11975028339089, 206.70283914837785, 207.26190761171628, 207.79842066002362, 208.31371349148262, 208.80900700269433, 209.28542096392837, 209.7439852925581, 210.1856497511156, 210.61129233204244, 211.0217265410823, 211.41770775189403, 211.79993877330875, 212.16907474582783, 212.5257274640298, 212.87046920546726, 213.20383613355912, 213.5263313313057, 213.8384275138774, 214.14056946088604, 214.43317620313502, 214.71664299363752, 214.99134308849528, 215.2576293597077, 215.51583575900372, 215.7662786492676, 216.00925801798738, 216.24505858532464, 216.4739508178374, 216.69619185754402, 216.91202637485728, 217.12168735291385, 217.32539680996007, 217.52336646569856, 217.71579835684375, 217.90288540656093, 218.08481195196092, 218.26175423338134, 218.43388084879822, 218.60135317636843, 218.7643257678031, 218.92294671500372, 219.07735799215538, 219.22769577526114, 219.37409074091448, 219.51666834593667, 219.655549089361, 219.7908487581065, 219.92267865756824, 220.05114582824007, 220.1763532493913, 220.2984000307299, 220.41738159290642, 220.5333898376413, 220.64651330819484, 220.75683734083987, 220.86444420794402, 220.96941325322126, 221.07182101966862, 221.1717413706624, 221.2692456046557, 221.36440256388084, 221.4572787374353, 221.547938359098, 221.63644350019936, 221.72285415784566, 221.80722833877508, 221.88962213910548, 221.97008982021433, 222.0486838809751, 222.1254551265595, 222.2004527340011, 222.27372431470093, 222.3453159740469, 222.41527236830484], \"y\": [0.0, 0.1, 0.2, 0.30000000000000004, 0.4, 0.5, 0.6000000000000001, 0.7000000000000001, 0.8, 0.9, 1.0, 1.1, 1.2000000000000002, 1.3, 1.4000000000000001, 1.5, 1.6, 1.7000000000000002, 1.8, 1.9000000000000001, 2.0, 2.1, 2.2, 2.3000000000000003, 2.4000000000000004, 2.5, 2.6, 2.7, 2.8000000000000003, 2.9000000000000004, 3.0, 3.1, 3.2, 3.3000000000000003, 3.4000000000000004, 3.5, 3.6, 3.7, 3.8000000000000003, 3.9000000000000004, 4.0, 4.1000000000000005, 4.2, 4.3, 4.4, 4.5, 4.6000000000000005, 4.7, 4.800000000000001, 4.9, 5.0, 5.1000000000000005, 5.2, 5.300000000000001, 5.4, 5.5, 5.6000000000000005, 5.7, 5.800000000000001, 5.9, 6.0, 6.1000000000000005, 6.2, 6.300000000000001, 6.4, 6.5, 6.6000000000000005, 6.7, 6.800000000000001, 6.9, 7.0, 7.1000000000000005, 7.2, 7.300000000000001, 7.4, 7.5, 7.6000000000000005, 7.7, 7.800000000000001, 7.9, 8.0, 8.1, 8.200000000000001, 8.3, 8.4, 8.5, 8.6, 8.700000000000001, 8.8, 8.9, 9.0, 9.1, 9.200000000000001, 9.3, 9.4, 9.5, 9.600000000000001, 9.700000000000001, 9.8, 9.85924379390416, 9.85924379390416, 9.8, 9.700000000000001, 9.600000000000001, 9.5, 9.4, 9.3, 9.200000000000001, 9.1, 9.0, 8.9, 8.8, 8.700000000000001, 8.6, 8.5, 8.4, 8.3, 8.200000000000001, 8.1, 8.0, 7.9, 7.800000000000001, 7.7, 7.6000000000000005, 7.5, 7.4, 7.300000000000001, 7.2, 7.1000000000000005, 7.0, 6.9, 6.800000000000001, 6.7, 6.6000000000000005, 6.5, 6.4, 6.300000000000001, 6.2, 6.1000000000000005, 6.0, 5.9, 5.800000000000001, 5.7, 5.6000000000000005, 5.5, 5.4, 5.300000000000001, 5.2, 5.1000000000000005, 5.0, 4.9, 4.800000000000001, 4.7, 4.6000000000000005, 4.5, 4.4, 4.3, 4.2, 4.1000000000000005, 4.0, 3.9000000000000004, 3.8000000000000003, 3.7, 3.6, 3.5, 3.4000000000000004, 3.3000000000000003, 3.2, 3.1, 3.0, 2.9000000000000004, 2.8000000000000003, 2.7, 2.6, 2.5, 2.4000000000000004, 2.3000000000000003, 2.2, 2.1, 2.0, 1.9000000000000001, 1.8, 1.7000000000000002, 1.6, 1.5, 1.4000000000000001, 1.3, 1.2000000000000002, 1.1, 1.0, 0.9, 0.8, 0.7000000000000001, 0.6000000000000001, 0.5, 0.4, 0.30000000000000004, 0.2, 0.1, 0.0]}],\n",
       "                        {\"template\": {\"data\": {\"bar\": [{\"error_x\": {\"color\": \"#2a3f5f\"}, \"error_y\": {\"color\": \"#2a3f5f\"}, \"marker\": {\"line\": {\"color\": \"#E5ECF6\", \"width\": 0.5}}, \"type\": \"bar\"}], \"barpolar\": [{\"marker\": {\"line\": {\"color\": \"#E5ECF6\", \"width\": 0.5}}, \"type\": \"barpolar\"}], \"carpet\": [{\"aaxis\": {\"endlinecolor\": \"#2a3f5f\", \"gridcolor\": \"white\", \"linecolor\": \"white\", \"minorgridcolor\": \"white\", \"startlinecolor\": \"#2a3f5f\"}, \"baxis\": {\"endlinecolor\": \"#2a3f5f\", \"gridcolor\": \"white\", \"linecolor\": \"white\", \"minorgridcolor\": \"white\", \"startlinecolor\": \"#2a3f5f\"}, \"type\": \"carpet\"}], \"choropleth\": [{\"colorbar\": {\"outlinewidth\": 0, \"ticks\": \"\"}, \"type\": \"choropleth\"}], \"contour\": [{\"colorbar\": {\"outlinewidth\": 0, \"ticks\": \"\"}, \"colorscale\": [[0.0, \"#0d0887\"], [0.1111111111111111, \"#46039f\"], [0.2222222222222222, \"#7201a8\"], [0.3333333333333333, \"#9c179e\"], [0.4444444444444444, \"#bd3786\"], [0.5555555555555556, \"#d8576b\"], [0.6666666666666666, \"#ed7953\"], [0.7777777777777778, \"#fb9f3a\"], [0.8888888888888888, \"#fdca26\"], [1.0, \"#f0f921\"]], \"type\": \"contour\"}], \"contourcarpet\": [{\"colorbar\": {\"outlinewidth\": 0, \"ticks\": \"\"}, \"type\": \"contourcarpet\"}], \"heatmap\": [{\"colorbar\": {\"outlinewidth\": 0, \"ticks\": \"\"}, \"colorscale\": [[0.0, \"#0d0887\"], [0.1111111111111111, \"#46039f\"], [0.2222222222222222, \"#7201a8\"], [0.3333333333333333, \"#9c179e\"], [0.4444444444444444, \"#bd3786\"], [0.5555555555555556, \"#d8576b\"], [0.6666666666666666, \"#ed7953\"], [0.7777777777777778, \"#fb9f3a\"], [0.8888888888888888, \"#fdca26\"], [1.0, \"#f0f921\"]], \"type\": \"heatmap\"}], \"heatmapgl\": [{\"colorbar\": {\"outlinewidth\": 0, \"ticks\": \"\"}, \"colorscale\": [[0.0, \"#0d0887\"], [0.1111111111111111, \"#46039f\"], [0.2222222222222222, \"#7201a8\"], [0.3333333333333333, \"#9c179e\"], [0.4444444444444444, \"#bd3786\"], [0.5555555555555556, \"#d8576b\"], [0.6666666666666666, \"#ed7953\"], [0.7777777777777778, \"#fb9f3a\"], [0.8888888888888888, \"#fdca26\"], [1.0, \"#f0f921\"]], \"type\": \"heatmapgl\"}], \"histogram\": [{\"marker\": {\"colorbar\": {\"outlinewidth\": 0, \"ticks\": \"\"}}, \"type\": \"histogram\"}], \"histogram2d\": [{\"colorbar\": {\"outlinewidth\": 0, \"ticks\": \"\"}, \"colorscale\": [[0.0, \"#0d0887\"], [0.1111111111111111, \"#46039f\"], [0.2222222222222222, \"#7201a8\"], [0.3333333333333333, \"#9c179e\"], [0.4444444444444444, \"#bd3786\"], [0.5555555555555556, \"#d8576b\"], [0.6666666666666666, \"#ed7953\"], [0.7777777777777778, \"#fb9f3a\"], [0.8888888888888888, \"#fdca26\"], [1.0, \"#f0f921\"]], \"type\": \"histogram2d\"}], \"histogram2dcontour\": [{\"colorbar\": {\"outlinewidth\": 0, \"ticks\": \"\"}, \"colorscale\": [[0.0, \"#0d0887\"], [0.1111111111111111, \"#46039f\"], [0.2222222222222222, \"#7201a8\"], [0.3333333333333333, \"#9c179e\"], [0.4444444444444444, \"#bd3786\"], [0.5555555555555556, \"#d8576b\"], [0.6666666666666666, \"#ed7953\"], [0.7777777777777778, \"#fb9f3a\"], [0.8888888888888888, \"#fdca26\"], [1.0, \"#f0f921\"]], \"type\": \"histogram2dcontour\"}], \"mesh3d\": [{\"colorbar\": {\"outlinewidth\": 0, \"ticks\": \"\"}, \"type\": \"mesh3d\"}], \"parcoords\": [{\"line\": {\"colorbar\": {\"outlinewidth\": 0, \"ticks\": \"\"}}, \"type\": \"parcoords\"}], \"pie\": [{\"automargin\": true, \"type\": \"pie\"}], \"scatter\": [{\"marker\": {\"colorbar\": {\"outlinewidth\": 0, \"ticks\": \"\"}}, \"type\": \"scatter\"}], \"scatter3d\": [{\"line\": {\"colorbar\": {\"outlinewidth\": 0, \"ticks\": \"\"}}, \"marker\": {\"colorbar\": {\"outlinewidth\": 0, \"ticks\": \"\"}}, \"type\": \"scatter3d\"}], \"scattercarpet\": [{\"marker\": {\"colorbar\": {\"outlinewidth\": 0, \"ticks\": \"\"}}, \"type\": \"scattercarpet\"}], \"scattergeo\": [{\"marker\": {\"colorbar\": {\"outlinewidth\": 0, \"ticks\": \"\"}}, \"type\": \"scattergeo\"}], \"scattergl\": [{\"marker\": {\"colorbar\": {\"outlinewidth\": 0, \"ticks\": \"\"}}, \"type\": \"scattergl\"}], \"scattermapbox\": [{\"marker\": {\"colorbar\": {\"outlinewidth\": 0, \"ticks\": \"\"}}, \"type\": \"scattermapbox\"}], \"scatterpolar\": [{\"marker\": {\"colorbar\": {\"outlinewidth\": 0, \"ticks\": \"\"}}, \"type\": \"scatterpolar\"}], \"scatterpolargl\": [{\"marker\": {\"colorbar\": {\"outlinewidth\": 0, \"ticks\": \"\"}}, \"type\": \"scatterpolargl\"}], \"scatterternary\": [{\"marker\": {\"colorbar\": {\"outlinewidth\": 0, \"ticks\": \"\"}}, \"type\": \"scatterternary\"}], \"surface\": [{\"colorbar\": {\"outlinewidth\": 0, \"ticks\": \"\"}, \"colorscale\": [[0.0, \"#0d0887\"], [0.1111111111111111, \"#46039f\"], [0.2222222222222222, \"#7201a8\"], [0.3333333333333333, \"#9c179e\"], [0.4444444444444444, \"#bd3786\"], [0.5555555555555556, \"#d8576b\"], [0.6666666666666666, \"#ed7953\"], [0.7777777777777778, \"#fb9f3a\"], [0.8888888888888888, \"#fdca26\"], [1.0, \"#f0f921\"]], \"type\": \"surface\"}], \"table\": [{\"cells\": {\"fill\": {\"color\": \"#EBF0F8\"}, \"line\": {\"color\": \"white\"}}, \"header\": {\"fill\": {\"color\": \"#C8D4E3\"}, \"line\": {\"color\": \"white\"}}, \"type\": \"table\"}]}, \"layout\": {\"annotationdefaults\": {\"arrowcolor\": \"#2a3f5f\", \"arrowhead\": 0, \"arrowwidth\": 1}, \"coloraxis\": {\"colorbar\": {\"outlinewidth\": 0, \"ticks\": \"\"}}, \"colorscale\": {\"diverging\": [[0, \"#8e0152\"], [0.1, \"#c51b7d\"], [0.2, \"#de77ae\"], [0.3, \"#f1b6da\"], [0.4, \"#fde0ef\"], [0.5, \"#f7f7f7\"], [0.6, \"#e6f5d0\"], [0.7, \"#b8e186\"], [0.8, \"#7fbc41\"], [0.9, \"#4d9221\"], [1, \"#276419\"]], \"sequential\": [[0.0, \"#0d0887\"], [0.1111111111111111, \"#46039f\"], [0.2222222222222222, \"#7201a8\"], [0.3333333333333333, \"#9c179e\"], [0.4444444444444444, \"#bd3786\"], [0.5555555555555556, \"#d8576b\"], [0.6666666666666666, \"#ed7953\"], [0.7777777777777778, \"#fb9f3a\"], [0.8888888888888888, \"#fdca26\"], [1.0, \"#f0f921\"]], \"sequentialminus\": [[0.0, \"#0d0887\"], [0.1111111111111111, \"#46039f\"], [0.2222222222222222, \"#7201a8\"], [0.3333333333333333, \"#9c179e\"], [0.4444444444444444, \"#bd3786\"], [0.5555555555555556, \"#d8576b\"], [0.6666666666666666, \"#ed7953\"], [0.7777777777777778, \"#fb9f3a\"], [0.8888888888888888, \"#fdca26\"], [1.0, \"#f0f921\"]]}, \"colorway\": [\"#636efa\", \"#EF553B\", \"#00cc96\", \"#ab63fa\", \"#FFA15A\", \"#19d3f3\", \"#FF6692\", \"#B6E880\", \"#FF97FF\", \"#FECB52\"], \"font\": {\"color\": \"#2a3f5f\"}, \"geo\": {\"bgcolor\": \"white\", \"lakecolor\": \"white\", \"landcolor\": \"#E5ECF6\", \"showlakes\": true, \"showland\": true, \"subunitcolor\": \"white\"}, \"hoverlabel\": {\"align\": \"left\"}, \"hovermode\": \"closest\", \"mapbox\": {\"style\": \"light\"}, \"paper_bgcolor\": \"white\", \"plot_bgcolor\": \"#E5ECF6\", \"polar\": {\"angularaxis\": {\"gridcolor\": \"white\", \"linecolor\": \"white\", \"ticks\": \"\"}, \"bgcolor\": \"#E5ECF6\", \"radialaxis\": {\"gridcolor\": \"white\", \"linecolor\": \"white\", \"ticks\": \"\"}}, \"scene\": {\"xaxis\": {\"backgroundcolor\": \"#E5ECF6\", \"gridcolor\": \"white\", \"gridwidth\": 2, \"linecolor\": \"white\", \"showbackground\": true, \"ticks\": \"\", \"zerolinecolor\": \"white\"}, \"yaxis\": {\"backgroundcolor\": \"#E5ECF6\", \"gridcolor\": \"white\", \"gridwidth\": 2, \"linecolor\": \"white\", \"showbackground\": true, \"ticks\": \"\", \"zerolinecolor\": \"white\"}, \"zaxis\": {\"backgroundcolor\": \"#E5ECF6\", \"gridcolor\": \"white\", \"gridwidth\": 2, \"linecolor\": \"white\", \"showbackground\": true, \"ticks\": \"\", \"zerolinecolor\": \"white\"}}, \"shapedefaults\": {\"line\": {\"color\": \"#2a3f5f\"}}, \"ternary\": {\"aaxis\": {\"gridcolor\": \"white\", \"linecolor\": \"white\", \"ticks\": \"\"}, \"baxis\": {\"gridcolor\": \"white\", \"linecolor\": \"white\", \"ticks\": \"\"}, \"bgcolor\": \"#E5ECF6\", \"caxis\": {\"gridcolor\": \"white\", \"linecolor\": \"white\", \"ticks\": \"\"}}, \"title\": {\"x\": 0.05}, \"xaxis\": {\"automargin\": true, \"gridcolor\": \"white\", \"linecolor\": \"white\", \"ticks\": \"\", \"title\": {\"standoff\": 15}, \"zerolinecolor\": \"white\", \"zerolinewidth\": 2}, \"yaxis\": {\"automargin\": true, \"gridcolor\": \"white\", \"linecolor\": \"white\", \"ticks\": \"\", \"title\": {\"standoff\": 15}, \"zerolinecolor\": \"white\", \"zerolinewidth\": 2}}}, \"title\": {\"text\": \"Possible airspeeds for different altitudes in EAS and TAS\"}, \"xaxis\": {\"range\": [0, 222.41527236830484], \"title\": {\"text\": \"Airspeed / (m/s)\"}}, \"yaxis\": {\"title\": {\"text\": \"Altitude / km\"}}},\n",
       "                        {\"responsive\": true}\n",
       "                    ).then(function(){\n",
       "                            \n",
       "var gd = document.getElementById('6d0bda4b-d7e0-40b9-8dfb-f24764462ea0');\n",
       "var x = new MutationObserver(function (mutations, observer) {{\n",
       "        var display = window.getComputedStyle(gd).display;\n",
       "        if (!display || display === 'none') {{\n",
       "            console.log([gd, 'removed!']);\n",
       "            Plotly.purge(gd);\n",
       "            observer.disconnect();\n",
       "        }}\n",
       "}});\n",
       "\n",
       "// Listen for the removal of the full notebook cells\n",
       "var notebookContainer = gd.closest('#notebook-container');\n",
       "if (notebookContainer) {{\n",
       "    x.observe(notebookContainer, {childList: true});\n",
       "}}\n",
       "\n",
       "// Listen for the clearing of the current output cell\n",
       "var outputEl = gd.closest('.output');\n",
       "if (outputEl) {{\n",
       "    x.observe(outputEl, {childList: true});\n",
       "}}\n",
       "\n",
       "                        })\n",
       "                };\n",
       "                });\n",
       "            </script>\n",
       "        </div>"
      ]
     },
     "metadata": {},
     "output_type": "display_data"
    }
   ],
   "source": [
    "# Make a vector for the altitude in 100m intervals\n",
    "alt_vector = np.arange(0, ceiling, 0.1)\n",
    "alt_vector = np.concatenate((alt_vector, ceiling))\n",
    "\n",
    "# AE and BE are already available from before - we'll introduce two new arrays to store V1 and V2\n",
    "#EAS\n",
    "VE1 = np.zeros(alt_vector.shape)\n",
    "VE2 = np.zeros(alt_vector.shape)\n",
    "\n",
    "#TAS\n",
    "V1 = np.zeros(alt_vector.shape)\n",
    "V2 = np.zeros(alt_vector.shape)\n",
    "\n",
    "# Stall speed    \n",
    "Vstall = np.sqrt(W / (0.5 * rho_sl * S * Clmax))\n",
    "\n",
    "# iterate over the altitudes\n",
    "for i, altitude in enumerate(alt_vector):\n",
    "    mosphere = Atmosphere(altitude*1000)\n",
    "    rho = mosphere.density\n",
    "\n",
    "    # Thrust available at this altitude\n",
    "    sigma = rho/rho_sl\n",
    "    TA = TSL * sigma[0]\n",
    "    \n",
    "\n",
    "\n",
    "    \n",
    "    # Get the intersection\n",
    "    a = AE\n",
    "    b = -TA\n",
    "    c = BE\n",
    "    flight_limit_speeds = np.sort(np.sqrt(np.roots([a, b, c])))\n",
    "    \n",
    "    # Store these in the array\n",
    "    VE1[i] = max([flight_limit_speeds[0], Vstall])\n",
    "    VE2[i] = flight_limit_speeds[1]\n",
    "    \n",
    "    # And for EAS\n",
    "    V1[i] = VE1[i] * sigma ** -.5\n",
    "    V2[i] = VE2[i] * sigma ** -.5\n",
    "    \n",
    "    \n",
    "# Sort these into an array for plotting\n",
    "VEs = np.concatenate((VE1, np.flip(VE2)))\n",
    "Vs = np.concatenate((V1, np.flip(V2)))\n",
    "alt_vector = np.concatenate((alt_vector, np.flip(alt_vector)))\n",
    "\n",
    "\n",
    "fig = go.Figure()\n",
    "\n",
    "fig.add_trace(go.Scatter(x=VEs, y=alt_vector, mode=\"lines\", name=\"EAS\"))\n",
    "fig.add_trace(go.Scatter(x=Vs, y=alt_vector, mode=\"lines\", name=\"TAS\"))\n",
    "\n",
    "fig.update_layout(\n",
    "    title=f\"Possible airspeeds for different altitudes in EAS and TAS\",\n",
    "    xaxis_title=\"Airspeed / (m/s)\",\n",
    "    yaxis_title=\"Altitude / km\",\n",
    ")\n",
    "\n",
    "fig.update_xaxes(range=[0, max(Vs)])\n"
   ]
  },
  {
   "cell_type": "markdown",
   "metadata": {},
   "source": [
    "The source code for the plot above is not included on the website - though you *could* download it if you look at the source ```.ipynb``` file.\n",
    "\n",
    "You are advised to try and reproduce the plot above based on the source code from the previous plot. This will be a good test of your ability to understand the equations and the logic flow of these codes."
   ]
  },
  {
   "cell_type": "markdown",
   "metadata": {},
   "source": [
    "### Aircraft Absolute Ceiling\n",
    "\n",
    "This introduces the concept of **aircraft absolute ceiling**, which is defined as the altitude at which the only possible flightspeed is $V_{md}$.\n",
    "\n",
    "A consideration of this concept should ring alarm bells in your aircraft performance engineer's brain.\n",
    "\n",
    "```{admonition} What alarm bells?\n",
    ":class: dropdown\n",
    "\n",
    "Think back to the concept of speed stability - where the idea of velocity perturbations were introduced. \n",
    "\n",
    "If an aircraft is flying at the absolute ceiling, then any velocity perturbation will push the aircraft to a speed where there is negative excess thrust and thus the aircraft will begin to sink.\n",
    "\n",
    "As a consequence, sustained cruise at the absolute ceiling is not feasible.\n",
    "```\n",
    "\n",
    "For the above reasons, the aircraft absolute ceiling is rarely used or listed by a manufacturer. In reality, the *aircraft service* ceiling is defined, where a small rate of climb is still possible - the rate is usually dictated by the manufacturer.\n",
    "\n",
    "To explore this concept, a model for climbing/sinking/gliding flight will be required."
   ]
  },
  {
   "cell_type": "code",
   "execution_count": null,
   "metadata": {},
   "outputs": [],
   "source": []
  }
 ],
 "metadata": {
  "celltoolbar": "Tags",
  "kernelspec": {
   "display_name": "Python 3",
   "language": "python",
   "name": "python3"
  },
  "language_info": {
   "codemirror_mode": {
    "name": "ipython",
    "version": 3
   },
   "file_extension": ".py",
   "mimetype": "text/x-python",
   "name": "python",
   "nbconvert_exporter": "python",
   "pygments_lexer": "ipython3",
   "version": "3.8.3"
  }
 },
 "nbformat": 4,
 "nbformat_minor": 4
}
