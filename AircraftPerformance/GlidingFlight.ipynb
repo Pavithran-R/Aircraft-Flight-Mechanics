{
 "cells": [
  {
   "cell_type": "markdown",
   "metadata": {},
   "source": [
    "## Gliding Flight\n",
    "\n",
    "The parameters \n",
    "\n",
    "If you've never experienced flight in a glider, I'd thoroughly reccommend it (I'm a recent convert to gliding from powered flight).\n",
    "\n"
   ]
  }
 ],
 "metadata": {
  "kernelspec": {
   "display_name": "Python 3",
   "language": "python",
   "name": "python3"
  },
  "language_info": {
   "codemirror_mode": {
    "name": "ipython",
    "version": 3
   },
   "file_extension": ".py",
   "mimetype": "text/x-python",
   "name": "python",
   "nbconvert_exporter": "python",
   "pygments_lexer": "ipython3",
   "version": "3.8.3"
  }
 },
 "nbformat": 4,
 "nbformat_minor": 4
}
