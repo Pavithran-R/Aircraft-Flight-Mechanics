{
 "cells": [
  {
   "cell_type": "code",
   "execution_count": 1,
   "metadata": {
    "execution": {
     "iopub.execute_input": "2022-07-08T23:06:25.417288Z",
     "iopub.status.busy": "2022-07-08T23:06:25.416567Z",
     "iopub.status.idle": "2022-07-08T23:06:25.419256Z",
     "shell.execute_reply": "2022-07-08T23:06:25.419766Z"
    }
   },
   "outputs": [
    {
     "name": "stdout",
     "output_type": "stream",
     "text": [
      "[0, 1, 2, 3, 4]\n"
     ]
    }
   ],
   "source": [
    "a = list(range(5))\n",
    "print(a)"
   ]
  },
  {
   "cell_type": "code",
   "execution_count": 2,
   "metadata": {
    "execution": {
     "iopub.execute_input": "2022-07-08T23:06:25.425891Z",
     "iopub.status.busy": "2022-07-08T23:06:25.425248Z",
     "iopub.status.idle": "2022-07-08T23:06:25.597146Z",
     "shell.execute_reply": "2022-07-08T23:06:25.597858Z"
    }
   },
   "outputs": [
    {
     "name": "stdout",
     "output_type": "stream",
     "text": [
      "[[6 5 3 3 6]\n",
      " [2 6 5 8 7]\n",
      " [0 3 8 5 1]\n",
      " [5 4 0 2 6]\n",
      " [1 2 7 3 5]]\n",
      "[[8 3]\n",
      " [0 4]]\n",
      "[[ 8 99]\n",
      " [ 0 99]]\n"
     ]
    }
   ],
   "source": [
    "import numpy as np\n",
    "\n",
    "B = np.random.randint(9, size=(5, 5))\n",
    "print(B)\n",
    "\n",
    "B = np.array([[7, 2, 1, 5, 0], [3, 8, 4 ,0, 3], [8, 6 ,8 ,3 ,5], [3, 7 ,0 ,4, 8], [0, 1 ,6 ,0, 7]])\n",
    "\n",
    "C = B[2:4, 2:4]\n",
    "\n",
    "print(C)\n",
    "\n",
    "B[:, 3] = 99\n",
    "\n",
    "print(C)"
   ]
  },
  {
   "cell_type": "code",
   "execution_count": null,
   "metadata": {},
   "outputs": [],
   "source": []
  },
  {
   "cell_type": "code",
   "execution_count": null,
   "metadata": {},
   "outputs": [],
   "source": []
  }
 ],
 "metadata": {
  "kernelspec": {
   "display_name": "Python 3",
   "language": "python",
   "name": "python3"
  },
  "language_info": {
   "codemirror_mode": {
    "name": "ipython",
    "version": 3
   },
   "file_extension": ".py",
   "mimetype": "text/x-python",
   "name": "python",
   "nbconvert_exporter": "python",
   "pygments_lexer": "ipython3",
   "version": "3.8.3"
  }
 },
 "nbformat": 4,
 "nbformat_minor": 4
}