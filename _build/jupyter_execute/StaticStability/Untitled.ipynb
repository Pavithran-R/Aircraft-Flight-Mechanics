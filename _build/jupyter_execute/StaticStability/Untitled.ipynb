{
 "cells": [
  {
   "cell_type": "code",
   "execution_count": 1,
   "metadata": {
    "execution": {
     "iopub.execute_input": "2020-11-08T17:58:02.516245Z",
     "iopub.status.busy": "2020-11-08T17:58:02.515619Z",
     "iopub.status.idle": "2020-11-08T17:58:02.518097Z",
     "shell.execute_reply": "2020-11-08T17:58:02.518622Z"
    }
   },
   "outputs": [
    {
     "name": "stdout",
     "output_type": "stream",
     "text": [
      "[0, 1, 2, 3, 4]\n"
     ]
    }
   ],
   "source": [
    "a = list(range(5))\n",
    "print(a)"
   ]
  },
  {
   "cell_type": "code",
   "execution_count": 2,
   "metadata": {
    "execution": {
     "iopub.execute_input": "2020-11-08T17:58:02.523777Z",
     "iopub.status.busy": "2020-11-08T17:58:02.523112Z",
     "iopub.status.idle": "2020-11-08T17:58:02.666013Z",
     "shell.execute_reply": "2020-11-08T17:58:02.666382Z"
    }
   },
   "outputs": [
    {
     "name": "stdout",
     "output_type": "stream",
     "text": [
      "[[2 0 7 0 8]\n",
      " [3 1 3 0 4]\n",
      " [3 6 6 0 0]\n",
      " [3 4 2 1 2]\n",
      " [0 7 8 3 6]]\n",
      "[[8 3]\n",
      " [0 4]]\n",
      "[[ 8 99]\n",
      " [ 0 99]]\n"
     ]
    }
   ],
   "source": [
    "import numpy as np\n",
    "\n",
    "B = np.random.randint(9, size=(5, 5))\n",
    "print(B)\n",
    "\n",
    "B = np.array([[7, 2, 1, 5, 0], [3, 8, 4 ,0, 3], [8, 6 ,8 ,3 ,5], [3, 7 ,0 ,4, 8], [0, 1 ,6 ,0, 7]])\n",
    "\n",
    "C = B[2:4, 2:4]\n",
    "\n",
    "print(C)\n",
    "\n",
    "B[:, 3] = 99\n",
    "\n",
    "print(C)"
   ]
  },
  {
   "cell_type": "code",
   "execution_count": null,
   "metadata": {},
   "outputs": [],
   "source": []
  },
  {
   "cell_type": "code",
   "execution_count": null,
   "metadata": {},
   "outputs": [],
   "source": []
  }
 ],
 "metadata": {
  "kernelspec": {
   "display_name": "Python 3",
   "language": "python",
   "name": "python3"
  },
  "language_info": {
   "codemirror_mode": {
    "name": "ipython",
    "version": 3
   },
   "file_extension": ".py",
   "mimetype": "text/x-python",
   "name": "python",
   "nbconvert_exporter": "python",
   "pygments_lexer": "ipython3",
   "version": "3.8.5"
  }
 },
 "nbformat": 4,
 "nbformat_minor": 4
}