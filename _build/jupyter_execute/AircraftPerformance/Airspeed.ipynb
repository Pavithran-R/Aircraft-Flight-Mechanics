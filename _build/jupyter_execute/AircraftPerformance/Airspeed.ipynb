{
 "cells": [
  {
   "cell_type": "markdown",
   "metadata": {},
   "source": [
    "# Defining Aircraft 'Speed'\n"
   ]
  },
  {
   "cell_type": "markdown",
   "metadata": {},
   "source": [
    "Measuring translations and velocities for a ground-based vehicle (your car) is relatively simple as the vehicle is moving with respect to an inertially-fixed reference frame (the Earth), that it is *always* connected to. To determine how long it will take to get somewhere, distance/time/velocity calculations are simple, and the engine performance is chiefly a function of the vehicle speed.\n",
    "\n",
    "By comparison, an aircraft is moving with respect to the inertially-fixed reference frame, but it is not connected to it - thus is it difficult to make measurements between the two. Furthermore, aerodynamic performance (how much lift and drag is being produced) is a function of the aircraft's orientation and translation with respect to the incident wind, and not to the Earth. Similarly, the powerplant performance will be a function of the incident wind and not the groundspeed.\n",
    "\n",
    "This gives us our first set of 'speeds', and the relationship between them:\n",
    "\n",
    "$$\\begin{aligned}\n",
    "    V_{gnd} &= V + V_{wind}\\label{eq:Vgnd1}\n",
    "\\end{aligned}$$\n",
    "\n",
    "where\n",
    "\n",
    "$$\\begin{aligned}\n",
    "&V_{gnd} : \\text{Ground Speed}\\nonumber\\\\\n",
    "    &V : \\text{True Airspeed (TAS)}\\nonumber\\\\\n",
    "    &V_{wind} : \\text{Wind Speed}\\nonumber\\end{aligned}$$\n",
    "\n",
    "where we can simply add the two together via vector addition. In the two figures below, the two situations will require the exact same amount of thrust, and the same configuration of control surfaces - but the there is a groundspeed difference of 100kn.\n",
    "\n",
    "```{figure} ../Images/HeadWind.png\n",
    "---\n",
    "height: 300px\n",
    "name: HeadWind\n",
    "---\n",
    "Aircraft With Headwind\n",
    "```\n",
    "\n",
    "```{figure} ../Images/TailWind.png\n",
    "---\n",
    "height: 300px\n",
    "name: TailWind\n",
    "---\n",
    "Aircraft With Tailwind\n",
    "```\n",
    "\n",
    "\n",
    "This is why LHR-ORD takes typically 8h50m, but ORD-LHR takes 7h30m, yet in each case, the aircraft is flying at typical cruise velocity, requiring the same amount of total thrust.\n",
    "\n"
   ]
  },
  {
   "cell_type": "markdown",
   "metadata": {},
   "source": [
    "## Airspeed Measurement\n",
    "\n",
    "Clearly aerospace engineers require a means of determining the true airspeed, in order to determine aircraft powerplane/aerodynamic performance, and in order to calculate groundspeed and thus facilitate speed/time calculations.\n",
    "\n",
    "Equation {eq}`TASequation` may be developed from the isentropic flow equations, and allows us to determine **true airspeed** as a function of density and pressure:\n",
    "\n",
    "```{math}\n",
    ":label: TASequation\n",
    "V =\\sqrt{7\\cdot\\frac{p}{\\rho}\\cdot\\left\\{\\left(\\frac{\\Delta p}{p}+1\\right)^\\frac{\\gamma-1}{\\gamma}-1\\right\\}}\n",
    "```\n",
    "\n",
    "where \n",
    "\n",
    "$$\\rho = \\text{ Local air density}\n",
    "\n",
    "p = \\text{ Local static pressure}\n",
    "\n",
    "\\gamma = \\text{ Specific heat ratio = 1.4 for diatomic gases}\n",
    "\n",
    "\\Delta p = \\text{ Dynamic pressure/pressure difference} : p_o-p\n",
    "\n",
    "p_o = \\text{ Stagnation/total pressure} p_o = \\tfrac{1}{2}\\rho V^2 + p$$\n",
    "\n",
    "Equation {eq}`TASequation` is often simply given in textbooks with no derivation or explanation. You are encouraged to *understand* the derivation, but I won't test you on it.\n",
    "\n",
    "```{admonition} Click to show the derivation...\n",
    ":class: dropdown\n",
    "This is presented {cite}`Yechout:2014vg`, and other textbooks with no derivation given. It is easily derived from the isentropic flow equations.\n",
    "\n",
    "The following should be standard from your compressible flow classes, but I want to ensure you understand the legacy of the equations you're using - so you understand limitations and their development. This is adapted from my own undergraduate notes.\n",
    "\n",
    "We have the isentropic relationship showing that the ratio of total to static temperature is a function of the Mach number and the ratio of specific heats:\n",
    "\n",
    "$$\\frac{T_{0}}{T}=1+\\frac{\\gamma-1}{2} M^{2}$$ - (x)\n",
    "\n",
    "and we have the isentropic relations\n",
    "\n",
    "$$\\frac{p_{2}}{p_{1}}=\\left(\\frac{\\rho_{2}}{\\rho_{1}}\\right)^{\\gamma}=\\left(\\frac{T_{2}}{T_{1}}\\right)^{\\frac{\\gamma}{\\gamma-1}}$$\n",
    "\n",
    "since from total to stagnation we have an isentropic compression of the flow, we can state\n",
    "\n",
    "$$\n",
    "\\frac{p_{0}}{p}=\\left(\\frac{\\rho_{0}}{\\rho}\\right)^{\\gamma}=\\left(\\frac{T_{0}}{T}\\right)^{\\frac{\\gamma}{\\gamma-1}}$$\n",
    "\n",
    "the equations above can be combined to give\n",
    "\n",
    "$$\\frac{p_{0}}{p}=\\left(1+\\frac{\\gamma-1}{2} M^{2}\\right)^{\\frac{\\gamma}{\\gamma-1}}\\label{eq:ISEN1}$$\n",
    "\n",
    "the fraction may be expressed as:\n",
    "\n",
    "$$\\frac{p_{0}}{p} = \\frac{p+\\Delta p}{p}=\\frac{\\frac{p}{p}+\\frac{\\Delta p}{p}}{\\frac{p}{p}}=\\frac{\\Delta p}{p} + 1$$\n",
    "\n",
    "where $\\Delta p$ is the \\textsl{impact pressure}, and is the difference between total and static in a pitot-static - for incompressible flow, this would be the same as the dynamic pressure, but for compressible flow it is not -  hence\n",
    "\n",
    "$$\\frac{\\Delta p}{p} + 1=\\left(1+\\frac{\\gamma-1}{2} M^{2}\\right)^{\\frac{\\gamma}{\\gamma-1}}$$\n",
    "\n",
    "$$\\frac{2}{\\gamma-1}\\left[\\left(\\frac{\\Delta p}{p}+1\\right)^{\\frac{\\gamma-1}{\\gamma}}-1\\right]=M^2=\\left(\\frac{V}{\\sqrt{\\gamma\\,R\\,T}}\\right)^2=\\frac{V^2}{{\\gamma\\,R\\,T}}$$\n",
    "    \n",
    "$$V^2=\\frac{\\gamma\\,R\\,T\\cdot 2}{\\gamma-1}    \\left[\\left(\\frac{\\Delta p}{p}+1\\right)^{\\frac{\\gamma-1}{\\gamma}}-1\\right]$$\n",
    "    \n",
    "from the equation of state, we can express $R\\,T$ as $\\frac{p}{\\rho}$\n",
    "\n",
    "$$    V^2=\\frac{\\gamma}{\\gamma-1}\\cdot\\left(\\frac{p}{\\rho}\\right)^2\\cdot 2    \\left[\\left(\\frac{\\Delta p}{p}+1\\right)^{\\frac{\\gamma-1}{\\gamma}}-1\\right]$$\n",
    "\n",
    "the *heat capacity ratio*, $\\gamma$, is **exactly** 1.4 for diatomic gases - see footnote - so we can write\n",
    "\n",
    "$$V = \\sqrt{7\\cdot\\frac{p}{\\rho}\\left[\\left(\\frac{\\Delta p}{p}+1\\right)^{\\frac{\\gamma-1}{\\gamma}}-1\\right]}$$\n",
    "\n",
    "QED\n",
    "    \n",
    "    \n",
    "Footnote - Wikipedia isn't a valid source in most places, but I don't want to repeat a bit of derivation for an bit of a tangent - https://en.wikipedia.org/wiki/Heat_capacity_ratio\\#Relation_with_degrees_of_freedom\n",
    "```\n",
    "\n"
   ]
  },
  {
   "cell_type": "markdown",
   "metadata": {},
   "source": [
    "Equation {eq}`TASequation` allows us to determine the velocity with respect to a volume of air, via measurement of three quantities - density $\\rho$, static pressure $p$, and impact pressure $\\Delta p$. 'Impact pressure' is a term that is probably new to you, and refers to the difference between total and static pressure - and, for an incompressible fluid, is the same as dynamic pressure, but not for a compressible fluid.\n",
    "\n",
    "We have the relationship $V(p, \\rho, \\Delta p)$, but the first two quantities are relatively difficult to measure, as they are *absolute* quantities. Hence, transducers for measurement of absolute pressure and density would require regular calibration, and would add complexity to a measurement system. The reasons for this are complex, and will be elaborated upon in an instrumentation/measurement course - suffice to say that, in general, all transducers are relative transducers, and thus measurement of any absolute quantity require a datum against which they can be compared, calibrated for changes in non-measured quantities, such as temperature.\n",
    "\n",
    "By contrast, $\\Delta p$ is a *relative* quantity. Whilst a transducer for measurement will still require calibration, measurement of $\\Delta p$ is relatively easy - for this purpose, we use a pitot-static device. Originally these were analogue devices, measuring the pressure difference between two sides of a pressure chamber via a mechanical diaphragm, calibrated to provide an accurate reading of $\\Delta p$:\n",
    "\n",
    "\n",
    "```{figure} ../Images/PitotStatic.png\n",
    "---\n",
    "height: 300px\n",
    "name: PitotStatic\n",
    "---\n",
    "Aircraft Pitot-Static Measurement Device\n",
    "```\n",
    "\n",
    "\n",
    "### Calibrated Airspeed \n",
    "\n",
    "To avoid having to measure $p$ and $\\rho$, rather than using the pitot-static to measure $\\Delta p$, aircraft Engineers calibrated their devices to provide the correct value of true airspeed at sea-level ISA density and pressure. This provides us with **calibrated airspeed**, $V_c$/CAS, which is only the same as true airspeed at sea-level ISA conditions. $V_c$ can be calculated via Equation {eq}`CASequation`:\n",
    "\n",
    "```{math}\n",
    ":label: CASequation\n",
    "    V_c=\\sqrt{7\\cdot\\frac{p_{SL}}{\\rho_{SL}}\\cdot\\left\\{\\left(\\frac{\\Delta p}{p_{SL}}+1\\right)^\\frac{\\gamma-1}{\\gamma}-1\\right\\}}\n",
    "```\n",
    "\n",
    "### Indicated Airspeed\n",
    "\n",
    "In reality, such a pitot-static device will measure the **calibrated airspeed** at a point on the aircraft surface, where the flow has already been disturbed by the aircraft. The device is NOT measuring the freestream velicity - thus there is a *position error*, based on where the pitot-static is on the aircraft. During flight testing, these inaccuracies can be quantified, and a difference between what is *indicated* by the device, **indicated airspeed**/IAS, and calibrated airspeed is determined - $\\Delta V_p$, the position error.\n",
    "\n",
    "```{math}\n",
    ":label: IASequation\n",
    "V_c = V_I + \\Delta V_p\n",
    "```\n",
    "\n",
    "At this stage - we have three airspeeds; Indicated (what is shown on the measurement device, for ISA SL conditions), Calibrated (what _should_ be shown on the measurement device, for ISA SL conditions), and True Airspeed. We don't have a means to convert Calibrated to True yet, so we adopt a two-step approach.\n",
    "\n",
    "### Equivalent Airspeed\n",
    "\n",
    "The first correction is for the actual pressure at a given altitude. This gives Equivalent Airspeed, EAS.\n",
    "\n",
    "```{math}\n",
    ":label: EASequation\n",
    "    V_e=\\sqrt{7\\cdot\\frac{p}{\\rho_{SL}}\\cdot\\left\\{\\left(\\frac{\\Delta p}{p}+1\\right)^\\frac{\\gamma-1}{\\gamma}-1\\right\\}}\n",
    "```\n",
    "\n",
    "where we can see that the sea-level pressure has been replaced with the actual pressure. In practice, this correction is applied as a multiplier between CAS and EAS:\n",
    "\n",
    "$$V_e = f\\cdot V_c$$\n",
    "\n",
    "where\n",
    "\n",
    "$$  f = \\frac{V_e}{V_c} $$\n",
    "$$    = \\frac{\\sqrt{7\\cdot\\frac{p}{\\rho_{SL}}\\cdot\\left\\{\\left(\\frac{\\Delta p}{p}+1\\right)^\\frac{\\gamma-1}{\\gamma}-1\\right\\}}}{\\sqrt{7\\cdot\\frac{p_{SL}}{\\rho_{SL}}\\cdot\\left\\{\\left(\\frac{\\Delta p}{p_{SL}}+1\\right)^\\frac{\\gamma-1}{\\gamma}-1\\right\\}}}$$\n",
    "$$= f(\\Delta p, p)$$\n",
    "    \n",
    "Since $f$ is only dependent on the $\\Delta p$ the aircraft speed, and the $p$ the aircraft altitude, it can be calculated and tabulated - see the table below for the pressure correction factor:\n",
    "\n",
    "\n",
    "| h, ft | <td colspan=9> Calibrated Airspeed, kn     |       |       |       |       |       |       |       |       |\n",
    "|:------|:------|:------|:------|:------|:------|:------|:------|:------|:------|\n",
    "|       | 100   | 125   | 150   | 175   | 200   | 225   | 250   | 275   | 300   |\n",
    "| 5000  | 0.999 | 0.999 | 0.999 | 0.998 | 0.998 | 0.997 | 0.997 | 0.996 | 0.995 |\n",
    "| 10000 | 0.999 | 0.998 | 0.997 | 0.996 | 0.995 | 0.994 | 0.992 | 0.991 | 0.989 |\n",
    "| 15000 | 0.998 | 0.997 | 0.995 | 0.994 | 0.992 | 0.990 | 0.987 | 0.985 | 0.982 |\n",
    "| 20000 | 0.997 | 0.995 | 0.993 | 0.990 | 0.987 | 0.984 | 0.981 | 0.977 | 0.973 |\n",
    "| 25000 | 0.995 | 0.993 | 0.990 | 0.986 | 0.982 | 0.978 | 0.973 | 0.968 | 0.963 |\n",
    "| 30000 | 0.993 | 0.990 | 0.986 | 0.981 | 0.975 | 0.970 | 0.963 | 0.957 | 0.950 |\n",
    "| 35000 | 0.991 | 0.986 | 0.981 | 0.974 | 0.967 | 0.959 | 0.951 | 0.943 | 0.934 |\n",
    "| 40000 | 0.988 | 0.982 | 0.974 | 0.966 | 0.957 | 0.947 | 0.937 | 0.926 | 0.916 |\n",
    "| 45000 | 0.984 | 0.976 | 0.966 | 0.956 | 0.944 | 0.932 | 0.920 | 0.907 | 0.895 |\n",
    "| 50000 | 0.979 | 0.969 | 0.957 | 0.944 | 0.930 | 0.915 | 0.901 | 0.886 | 0.871 |\n",
    "\n",
    "Intermediate values are found via linear interpolation - you should be comfortable with doing this by hand, or by writing code. An example code is provided below that provides two-dimensional interpolation for any values - you can use this function to find out the pressure correction factor - use the syntax ```f_correction(VC, h)``` (both of these have default values, so you don't need to provide either).\n"
   ]
  },
  {
   "cell_type": "code",
   "execution_count": 1,
   "metadata": {
    "execution": {
     "iopub.execute_input": "2020-08-22T13:42:19.824419Z",
     "iopub.status.busy": "2020-08-22T13:42:19.823338Z",
     "iopub.status.idle": "2020-08-22T13:42:23.822335Z",
     "shell.execute_reply": "2020-08-22T13:42:23.822729Z"
    },
    "tags": [
     "hide-input",
     "thebe-init"
    ]
   },
   "outputs": [],
   "source": [
    "import numpy as np\n",
    "import scipy.interpolate\n",
    "from scipy.interpolate import interp2d\n",
    "presscorr = np.array([[5000,0.999,0.999,0.999,0.998,0.998,0.997,0.997,0.996,0.995],\n",
    "    [10000,0.999,0.998,0.997,0.996,0.995,0.994,0.992,0.991,0.989],\n",
    "    [15000,0.998,0.997,0.995,0.994,0.992,0.99,0.987,0.985,0.982],\n",
    "    [20000,0.997,0.995,0.993,0.99,0.987,0.984,0.981,0.977,0.973],\n",
    "    [25000,0.995,0.993,0.99,0.986,0.982,0.978,0.973,0.968,0.963],\n",
    "    [30000,0.993,0.99,0.986,0.981,0.975,0.97,0.963,0.957,0.95],\n",
    "    [35000,0.991,0.986,0.981,0.974,0.967,0.959,0.951,0.943,0.934],\n",
    "    [40000,0.988,0.982,0.974,0.966,0.957,0.947,0.937,0.926,0.916],\n",
    "    [45000,0.984,0.976,0.966,0.956,0.944,0.932,0.92,0.907,0.895],\n",
    "    [50000,0.979,0.969,0.957,0.944,0.93,0.915,0.901,0.886,0.871]])\n",
    "\n",
    "h = presscorr[:, 0]\n",
    "VC = np.array([100, 125, 150, 175, 200, 225, 250, 275, 300])\n",
    "table = presscorr[:, 1:]\n",
    "\n",
    "\n",
    "\n",
    "f_corr = interp2d(VC, h, table, kind='linear')\n",
    "\n",
    "def f_correction(VC=125, h=45000, ):\n",
    "    f = f_corr(VC, h)[0]\n",
    "    return f\n"
   ]
  },
  {
   "cell_type": "code",
   "execution_count": 2,
   "metadata": {
    "execution": {
     "iopub.execute_input": "2020-08-22T13:42:23.826260Z",
     "iopub.status.busy": "2020-08-22T13:42:23.825673Z",
     "iopub.status.idle": "2020-08-22T13:42:23.827632Z",
     "shell.execute_reply": "2020-08-22T13:42:23.828204Z"
    }
   },
   "outputs": [
    {
     "name": "stdout",
     "output_type": "stream",
     "text": [
      "For a CAS of 182, at an altitude of 39500 feet, the pressure correction factor is 0.964336\n"
     ]
    }
   ],
   "source": [
    "VC = 182\n",
    "h = 39500\n",
    "f = f_correction(VC, h)\n",
    "print(f\"For a CAS of {VC}, at an altitude of {h} feet, the pressure correction factor is {f}\")"
   ]
  },
  {
   "cell_type": "markdown",
   "metadata": {},
   "source": [
    "### True Airspeed\n",
    "\n",
    "Finally, **True Airspeed** may be calculated from **Equivalent Airspeed**, by accounting for the actual density at the correct altitude:\n",
    "\n",
    "$$V = V_e\\cdot\\sqrt{\\frac{\\rho_{SL}}{\\rho}}$$\n",
    "\n",
    "$$V = V_e\\cdot\\sqrt{\\frac{1}{\\sigma}}$$\n",
    "    \n",
    "$$\\sigma = \\frac{\\rho}{\\rho_{SL}}$$\n",
    "\n",
    "Where we may get the density at different altitudes from standard tables of the atmospheric properties. These are available in the original PDF notes. What we'll use more regularly is either ```atmosisa``` in MATLAB or ```ambiance``` in Python.\n",
    "\n",
    "If you can't get the following to work - then you might need to install ambiance. Try ```pip install ambiance``` in your terminal window. See here for more instructions: https://pypi.org/project/ambiance/\n"
   ]
  },
  {
   "cell_type": "code",
   "execution_count": 3,
   "metadata": {
    "execution": {
     "iopub.execute_input": "2020-08-22T13:42:23.832139Z",
     "iopub.status.busy": "2020-08-22T13:42:23.831559Z",
     "iopub.status.idle": "2020-08-22T13:42:23.839827Z",
     "shell.execute_reply": "2020-08-22T13:42:23.840199Z"
    }
   },
   "outputs": [
    {
     "name": "stdout",
     "output_type": "stream",
     "text": [
      "At sea level, the pressure is 101325.000Pa, the density is 1.225kg/m^3, the tempertaure is 15.0C,  and the viscosity is 1.461e-05kg/s\n",
      "\n",
      "At an altitude of 12000m, the pressure is 19399.392Pa,the density is 0.312kg/m^3,the tempertaure is -56.5C,and the viscosity is 4.557e-05kg/s\n"
     ]
    }
   ],
   "source": [
    "from ambiance import Atmosphere\n",
    "\n",
    "sealevel = Atmosphere(0)\n",
    "\n",
    "h = 12000\n",
    "\n",
    "altmospere = Atmosphere(h)\n",
    "\n",
    "print(f\"At sea level, the pressure is {sealevel.pressure[0]:6.3f}Pa,\\\n",
    " the density is {sealevel.density[0]:1.3f}kg/m^3,\\\n",
    " the tempertaure is {sealevel.temperature[0]-273.15:1.1f}C, \\\n",
    " and the viscosity is {sealevel.kinematic_viscosity[0]:1.3e}kg/s\")\n",
    "\n",
    "print(\"\")\n",
    "\n",
    "print(f\"At an altitude of {h}m, the pressure is {altmospere.pressure[0]:6.3f}Pa,\\\n",
    "the density is {altmospere.density[0]:1.3f}kg/m^3,\\\n",
    "the tempertaure is {altmospere.temperature[0]-273.15:1.1f}C,\\\n",
    "and the viscosity is {altmospere.kinematic_viscosity[0]:1.3e}kg/s\")"
   ]
  },
  {
   "cell_type": "markdown",
   "metadata": {},
   "source": [
    "Using ```ambiance``` to define the density, we can create a function, ```sigma_density``` (it's a good idea to make function handles descriptive, and there tend to be lots of sigma functions that mean important things in programming languages). This function will return the density ratio for a given altitude provided in metres or feet - bearing in mind than the units for ```ambiance``` are metres."
   ]
  },
  {
   "cell_type": "code",
   "execution_count": 4,
   "metadata": {
    "execution": {
     "iopub.execute_input": "2020-08-22T13:42:23.847313Z",
     "iopub.status.busy": "2020-08-22T13:42:23.846490Z",
     "iopub.status.idle": "2020-08-22T13:42:23.849182Z",
     "shell.execute_reply": "2020-08-22T13:42:23.849559Z"
    }
   },
   "outputs": [
    {
     "name": "stdout",
     "output_type": "stream",
     "text": [
      "At 39500ft, the density ratio is 0.253064\n",
      "[216.65]\n"
     ]
    }
   ],
   "source": [
    "from ambiance import Atmosphere\n",
    "\n",
    "def sigma_density(h=10000, alt_units='m'):\n",
    "    if alt_units == 'm':\n",
    "        factor = 1\n",
    "    elif alt_units == 'km':\n",
    "        factor = 1000\n",
    "    elif alt_units == 'ft':\n",
    "        factor = 0.3048\n",
    "    elif alt_units == 'miles':\n",
    "        factor = 1609.34\n",
    "    \n",
    "    sea_level = Atmosphere(0)\n",
    "    atmospheric_properties = Atmosphere(h*factor)\n",
    "    \n",
    "    sigma = atmospheric_properties.density / sea_level.density\n",
    "    return sigma\n",
    "    \n",
    "h_in = 39500\n",
    "\n",
    "h_unit = 'ft'\n",
    "\n",
    "print(f\"At {h_in}{h_unit}, the density ratio is {sigma_density(h_in, h_unit)[0]:1.6f}\")\n",
    "\n",
    "atm = Atmosphere(39000*.3048)\n",
    "print(atm.temperature)"
   ]
  },
  {
   "cell_type": "markdown",
   "metadata": {},
   "source": [
    "```{admonition} A word about atmospheres\n",
    ":class: dropdown\n",
    "\n",
    "The ambiance module for Python implments the ICAO (International Civial Aviation Organisation) atmopshere, which is an extension of ISA (International Standard Atmosphere).\n",
    "\n",
    "Printed in the old notes is the US Standard Atmosphere, which is another extension of the ISA model.\n",
    "\n",
    "Both are equal in the ranges used in this course - but in the printed tables, the values have been truncated. This can lead to differences when interpolating from the table, and when using the routines. See the code dropdown below to understand this further.\n",
    "```"
   ]
  },
  {
   "cell_type": "code",
   "execution_count": 5,
   "metadata": {
    "execution": {
     "iopub.execute_input": "2020-08-22T13:42:23.858493Z",
     "iopub.status.busy": "2020-08-22T13:42:23.857967Z",
     "iopub.status.idle": "2020-08-22T13:42:23.861478Z",
     "shell.execute_reply": "2020-08-22T13:42:23.861803Z"
    },
    "tags": [
     "hide-input",
     "hide-output"
    ]
   },
   "outputs": [
    {
     "name": "stdout",
     "output_type": "stream",
     "text": [
      "The density at 35,000ft from the table is 7.3800e-04slugs/ft**3 and from ICAO it is 7.3821e-04slugs/ft**3\n",
      "The density at 40,000ft from the table is 5.8700e-04slugs/ft**3 and from ICAO it is 5.8728e-04slugs/ft**3\n",
      "\n",
      "The density at 39,500ft from ICAO is 6.0151e-04slugs/ft**3 and interpolated between 35000 and 40000 ICAO it is 6.0237e-04slugs/ft**3\n",
      "\n",
      "Sigma from the table is 0.2533, \n",
      " from ambiance (at 39000) is is 0.2531, \n",
      " and from ambiance (interpolated between 35000 and 40000) is is 0.2534\n"
     ]
    }
   ],
   "source": [
    "# Get four different atmospheres\n",
    "atmo_sl = Atmosphere(0*.3048)\n",
    "atmo_35kft = Atmosphere(35000*.3048)\n",
    "atmo_40kft = Atmosphere(40000*.3048)\n",
    "atmo_395kft = Atmosphere(39500*.3048)\n",
    "\n",
    "\n",
    "# Conversions\n",
    "kg_to_slugs = 1/14.59390\n",
    "m_to_feet = 3.28084\n",
    "\n",
    "# Convert the densities\n",
    "dens_imperial_sl = atmo_sl.density * kg_to_slugs / m_to_feet**3\n",
    "dens_imperial_35kft = atmo_35kft.density * kg_to_slugs / m_to_feet**3\n",
    "dens_imperial_40kft = atmo_40kft.density * kg_to_slugs / m_to_feet**3\n",
    "dens_imperial_395kft = atmo_395kft.density * kg_to_slugs / m_to_feet**3\n",
    "\n",
    "print(f\"The density at 35,000ft from the table is {7.38*1e-4:1.4e}slugs/ft**3 and from ICAO it is {dens_imperial_35kft[0]:1.4e}slugs/ft**3\")\n",
    "print(f\"The density at 40,000ft from the table is {5.87*1e-4:1.4e}slugs/ft**3 and from ICAO it is {dens_imperial_40kft[0]:1.4e}slugs/ft**3\")\n",
    "print(\"\")\n",
    "\n",
    "# Interpolate the densities\n",
    "dens_interpolated_39500_ambiance = dens_imperial_35kft + 4500/5000 * (dens_imperial_40kft - dens_imperial_35kft)\n",
    "dens_interpolated_39500_table = 7.38e-4 + 4500/5000 * (5.87e-4 - 7.38e-4)\n",
    "\n",
    "print(f\"The density at 39,500ft from ICAO is {dens_imperial_395kft[0]:1.4e}slugs/ft**3 and interpolated between 35000 and 40000 ICAO it is {dens_interpolated_39500_ambiance[0]:1.4e}slugs/ft**3\")\n",
    "\n",
    "print(\"\")\n",
    "# Get sigmas\n",
    "sigma_ambiance_direct = (atmo_395kft.density/atmo_sl.density)[0]\n",
    "sigma_table = dens_interpolated_39500_table/(23.77*1e-4)\n",
    "sigma_ambiance = dens_interpolated_39500_ambiance/dens_imperial_sl\n",
    "\n",
    "\n",
    "print(f\"Sigma from the table is {sigma_table:1.4f}, \\n from ambiance (at 39000) is is {sigma_ambiance_direct:1.4f}, \\n and from ambiance (interpolated between 35000 and 40000) is is {sigma_ambiance[0]:1.4f}\")\n"
   ]
  },
  {
   "cell_type": "markdown",
   "metadata": {},
   "source": [
    "The inputs can also be ```numpy``` arrays "
   ]
  },
  {
   "cell_type": "code",
   "execution_count": 6,
   "metadata": {
    "execution": {
     "iopub.execute_input": "2020-08-22T13:42:23.867175Z",
     "iopub.status.busy": "2020-08-22T13:42:23.866659Z",
     "iopub.status.idle": "2020-08-22T13:42:23.868568Z",
     "shell.execute_reply": "2020-08-22T13:42:23.868885Z"
    }
   },
   "outputs": [
    {
     "name": "stdout",
     "output_type": "stream",
     "text": [
      "At an altitude of 1 mile, the density ratio is 0.8544179176392871\n",
      "At an altitude of 2 miles, the density ratio is 0.7256946830480345\n",
      "At an altitude of 3 miles, the density ratio is 0.6124148561281167\n",
      "At an altitude of 4 miles, the density ratio is 0.5132337621724308\n",
      "At an altitude of 5 miles, the density ratio is 0.42687647082233393\n",
      "At an altitude of 6 miles, the density ratio is 0.3521367607463307\n",
      "At an altitude of 7 miles, the density ratio is 0.28579654351527745\n",
      "At an altitude of 8 miles, the density ratio is 0.22195323343439954\n",
      "At an altitude of 9 miles, the density ratio is 0.17239372263976577\n"
     ]
    }
   ],
   "source": [
    "alts = np.arange(1, 10)\n",
    "sigmas = sigma_density(alts, 'miles')\n",
    "\n",
    "for alt, sigma in zip(alts, sigmas):\n",
    "    if alt == 1:\n",
    "        print(f\"At an altitude of {alt} mile, the density ratio is {sigma}\")\n",
    "    else:\n",
    "        print(f\"At an altitude of {alt} miles, the density ratio is {sigma}\")\n",
    "         \n",
    "# Note that the syntax to write mile/miles for single vs. any other quatity is completely unnecessary but nice"
   ]
  },
  {
   "cell_type": "markdown",
   "metadata": {},
   "source": [
    "#### Approximate density correction\n",
    "\n",
    "For altitudes below about 16km, the approximation can be used\n",
    "\n",
    "$$\\sigma=\\frac{20-H}{20+H}$$\n",
    "\n",
    "where $H$ is the altitude in $km$.\n",
    "\n",
    "The error in this approximation is easily shown using the functions created above:"
   ]
  },
  {
   "cell_type": "code",
   "execution_count": 7,
   "metadata": {
    "execution": {
     "iopub.execute_input": "2020-08-22T13:42:23.872930Z",
     "iopub.status.busy": "2020-08-22T13:42:23.872472Z",
     "iopub.status.idle": "2020-08-22T13:42:24.601623Z",
     "shell.execute_reply": "2020-08-22T13:42:24.601997Z"
    },
    "tags": [
     "hide-input"
    ]
   },
   "outputs": [
    {
     "data": {
      "image/png": "[encoded data removed]",
      "text/plain": [
       "<Figure size 432x288 with 1 Axes>"
      ]
     },
     "metadata": {
      "filenames": {
       "image/png": "/Users/harrysmith/Dropbox/aircraft-flight-mechanics/_build/jupyter_execute/AircraftPerformance/Airspeed_15_0.png"
      },
      "needs_background": "light"
     },
     "output_type": "display_data"
    }
   ],
   "source": [
    "def sigma_approx(H):\n",
    "    sigma = (20 - H ) / (20 + H)\n",
    "    return sigma\n",
    "\n",
    "Hs = np.linspace(0, 30e3, int(30e3))\n",
    "\n",
    "sigma_exact = sigma_density(Hs)\n",
    "sigma_approximation = sigma_approx(Hs/1e3)\n",
    "\n",
    "import matplotlib.pyplot as plt\n",
    "\n",
    "plt.figure()\n",
    "plt.plot(Hs/1e3, sigma_exact, '-', label=\"Exact\")\n",
    "plt.plot(Hs/1e3, sigma_approximation, '--', label=\"Approximation\")\n",
    "plt.legend();\n",
    "plt.title('Exact and Approximate Sigma Corrections')\n",
    "plt.xlabel('Altitude in km')\n",
    "plt.ylabel('$\\\\sqrt{\\\\frac{\\\\rho}{\\\\rho_{sl}}}$');"
   ]
  },
  {
   "cell_type": "markdown",
   "metadata": {},
   "source": [
    "### Why use EAS?\n",
    "\n",
    "Equivalent airspeed is actually very useful (though pilots tend not to actually use it, annoyingly). We tend to define $q_\\infty$ as $\\tfrac{1}{2}\\rho_{SL}V_e^2$, which means that aerodynamic coefficients remain the same for a given $V_e$ and $\\alpha/\\beta$.\n",
    "\n",
    "It is useful to see that the Equivalent Air Speed (EAS) for a given flight condition, $V_e$, is the **speed which if flown at standard sea level density ($\\rho_{sl} \\sim 1.225 kg\\cdot m^{-3}$) would give the same aerodynamic loads, for the same aerodynamic configuration, constant $C_L$**.\n",
    "\n",
    "This is useful for simplicity of calculations, but is also useful for ease of flight - stall will always occur at the same angle, for the same EAS, regardless of flight altitude. Structural limits are always defined in EAS for the same reason, as the loads are constant at any altitude for the same EAS."
   ]
  },
  {
   "cell_type": "markdown",
   "metadata": {},
   "source": [
    "## Summary of Corrections\n",
    "\n",
    "We can remember the order of corrections by the mnemonic \"ICE-T\", with the relative magnitudes of the velocities given by the shape that loosely looks like a square root - \n",
    "\n",
    "```{figure} ../Images/IceT.png\n",
    "---\n",
    "height: 300px\n",
    "name: IceT\n",
    "---\n",
    "Airspeed Corrections\n",
    "```\n",
    "\n"
   ]
  },
  {
   "cell_type": "markdown",
   "metadata": {},
   "source": [
    "## Problems:"
   ]
  },
  {
   "cell_type": "markdown",
   "metadata": {},
   "source": [
    "Below are a range of numerical and theoretical questions. Some of the numerical questions have random numbers that change each time the notes get updated - so you're not going crazy if you thought it was different last time.\n",
    "\n",
    "Try and go through the questions on your own before looking at the solutions - questions you'll face in tests/exams will be _similar_ but not exactly the same, so you need to be able to understand the *why* of the solution rather than just following an algorithm."
   ]
  },
  {
   "cell_type": "code",
   "execution_count": 8,
   "metadata": {
    "execution": {
     "iopub.execute_input": "2020-08-22T13:42:24.608270Z",
     "iopub.status.busy": "2020-08-22T13:42:24.607717Z",
     "iopub.status.idle": "2020-08-22T13:42:25.554703Z",
     "shell.execute_reply": "2020-08-22T13:42:25.555185Z"
    },
    "tags": [
     "remove-input",
     "remove-outputs",
     "remove-output",
     "thebe-init"
    ]
   },
   "outputs": [
    {
     "data": {
      "text/plain": [
       "40000"
      ]
     },
     "metadata": {
      "scrapbook": {
       "mime_prefix": "application/papermill.record/",
       "name": "altitude"
      }
     },
     "output_type": "display_data"
    },
    {
     "data": {
      "text/plain": [
       "210"
      ]
     },
     "metadata": {
      "scrapbook": {
       "mime_prefix": "application/papermill.record/",
       "name": "vc"
      }
     },
     "output_type": "display_data"
    },
    {
     "data": {
      "text/plain": [
       "12"
      ]
     },
     "metadata": {
      "scrapbook": {
       "mime_prefix": "application/papermill.record/",
       "name": "Vt"
      }
     },
     "output_type": "display_data"
    },
    {
     "data": {
      "text/plain": [
       "12"
      ]
     },
     "metadata": {
      "scrapbook": {
       "mime_prefix": "application/papermill.record/",
       "name": "Vtabs"
      }
     },
     "output_type": "display_data"
    },
    {
     "data": {
      "text/plain": [
       "'tailwind'"
      ]
     },
     "metadata": {
      "scrapbook": {
       "mime_prefix": "application/papermill.record/",
       "name": "wind"
      }
     },
     "output_type": "display_data"
    },
    {
     "data": {
      "text/plain": [
       "'added to'"
      ]
     },
     "metadata": {
      "scrapbook": {
       "mime_prefix": "application/papermill.record/",
       "name": "winddir"
      }
     },
     "output_type": "display_data"
    }
   ],
   "source": [
    "from myst_nb import glue\n",
    "from random import seed\n",
    "from random import randint\n",
    "\n",
    "# Make altitudes\n",
    "alts = np.arange(15000, 50000, 5000)\n",
    "vcs = np.arange(125, 300, 5)\n",
    "Vts = np.arange(-20, 20, 2)\n",
    "Vts[Vts == 0] = 3\n",
    "\n",
    "# seed(randseed)\n",
    "\n",
    "\n",
    "alt = alts[randint(0, len(alts)-1)]\n",
    "vc = vcs[randint(0, len(vcs)-1)]\n",
    "Vt = Vts[randint(0, len(Vts)-1)]\n",
    "if Vt > 0:\n",
    "    wind = 'tailwind'\n",
    "    winddir = 'added to'\n",
    "else:\n",
    "    wind = 'headwind'\n",
    "    winddir = 'subtracted from'\n",
    "\n",
    "\n",
    "\n",
    "# my_variable = \"here is some text!\"\n",
    "glue(\"altitude\", (alt), display=False);\n",
    "glue(\"vc\", (vc), display=False);\n",
    "glue(\"Vt\", (Vt), display=False);\n",
    "glue(\"Vtabs\", abs(Vt), display=False);\n",
    "glue(\"wind\", (wind), display=False);\n",
    "glue(\"winddir\", (winddir), display=False);"
   ]
  },
  {
   "cell_type": "markdown",
   "metadata": {},
   "source": [
    "### Problem 1.1 - Conversion between airspeeds\n",
    "\n",
    "An aircraft is flying at an altitude of {glue:text}`altitude`ft, with a calibrated airspeed of {glue:text}`vc`kn, with a {glue:text}`Vtabs`kn {glue:text}`wind`:\n",
    "\n",
    "a) How long will it take to cover 100 miles?\n",
    "\n",
    "b) How long will it take to cover 200km?\n",
    "\n",
    "c) If instead of $V_C$ = {glue:text}`vc`kn, you have $V_I$ = {glue:text}`vc`kn, with a position error of $\\Delta V_P=+2kn$, what do the above answers change to?"
   ]
  },
  {
   "cell_type": "markdown",
   "metadata": {},
   "source": [
    "Try and tackle the problem yourself before you see the solution below. The numbers in this problem will change each time the notes are updated. "
   ]
  },
  {
   "cell_type": "code",
   "execution_count": 9,
   "metadata": {
    "execution": {
     "iopub.execute_input": "2020-08-22T13:42:25.571782Z",
     "iopub.status.busy": "2020-08-22T13:42:25.571065Z",
     "iopub.status.idle": "2020-08-22T13:42:25.591207Z",
     "shell.execute_reply": "2020-08-22T13:42:25.591524Z"
    },
    "tags": [
     "remove-input",
     "remove-output"
    ]
   },
   "outputs": [
    {
     "data": {
      "text/plain": [
       "0.953"
      ]
     },
     "metadata": {
      "scrapbook": {
       "mime_prefix": "application/papermill.record/",
       "name": "press_correction"
      }
     },
     "output_type": "display_data"
    },
    {
     "data": {
      "text/plain": [
       "0.247077125183351"
      ]
     },
     "metadata": {
      "scrapbook": {
       "mime_prefix": "application/papermill.record/",
       "name": "dens_correction"
      }
     },
     "output_type": "display_data"
    },
    {
     "data": {
      "text/plain": [
       "200.13"
      ]
     },
     "metadata": {
      "scrapbook": {
       "mime_prefix": "application/papermill.record/",
       "name": "Ve"
      }
     },
     "output_type": "display_data"
    },
    {
     "data": {
      "text/plain": [
       "402.6205387109849"
      ]
     },
     "metadata": {
      "scrapbook": {
       "mime_prefix": "application/papermill.record/",
       "name": "V"
      }
     },
     "output_type": "display_data"
    },
    {
     "data": {
      "text/plain": [
       "414.6205387109849"
      ]
     },
     "metadata": {
      "scrapbook": {
       "mime_prefix": "application/papermill.record/",
       "name": "Vg"
      }
     },
     "output_type": "display_data"
    },
    {
     "data": {
      "text/plain": [
       "213.2992325081531"
      ]
     },
     "metadata": {
      "scrapbook": {
       "mime_prefix": "application/papermill.record/",
       "name": "Vms"
      }
     },
     "output_type": "display_data"
    },
    {
     "data": {
      "text/plain": [
       "160934.0"
      ]
     },
     "metadata": {
      "scrapbook": {
       "mime_prefix": "application/papermill.record/",
       "name": "dist1"
      }
     },
     "output_type": "display_data"
    },
    {
     "data": {
      "text/plain": [
       "200000.0"
      ]
     },
     "metadata": {
      "scrapbook": {
       "mime_prefix": "application/papermill.record/",
       "name": "dist2"
      }
     },
     "output_type": "display_data"
    },
    {
     "data": {
      "text/plain": [
       "754.498729824771"
      ]
     },
     "metadata": {
      "scrapbook": {
       "mime_prefix": "application/papermill.record/",
       "name": "time1"
      }
     },
     "output_type": "display_data"
    },
    {
     "data": {
      "text/plain": [
       "937.6498811000422"
      ]
     },
     "metadata": {
      "scrapbook": {
       "mime_prefix": "application/papermill.record/",
       "name": "time2"
      }
     },
     "output_type": "display_data"
    },
    {
     "data": {
      "text/plain": [
       "'12 minutes, 34 seconds'"
      ]
     },
     "metadata": {
      "scrapbook": {
       "mime_prefix": "application/papermill.record/",
       "name": "text_time1"
      }
     },
     "output_type": "display_data"
    },
    {
     "data": {
      "text/plain": [
       "'15 minutes, 37 seconds'"
      ]
     },
     "metadata": {
      "scrapbook": {
       "mime_prefix": "application/papermill.record/",
       "name": "text_time2"
      }
     },
     "output_type": "display_data"
    },
    {
     "data": {
      "text/plain": [
       "212"
      ]
     },
     "metadata": {
      "scrapbook": {
       "mime_prefix": "application/papermill.record/",
       "name": "Vc2"
      }
     },
     "output_type": "display_data"
    },
    {
     "data": {
      "text/plain": [
       "201.8664"
      ]
     },
     "metadata": {
      "scrapbook": {
       "mime_prefix": "application/papermill.record/",
       "name": "Ve2"
      }
     },
     "output_type": "display_data"
    },
    {
     "data": {
      "text/plain": [
       "406.1138195954987"
      ]
     },
     "metadata": {
      "scrapbook": {
       "mime_prefix": "application/papermill.record/",
       "name": "V2"
      }
     },
     "output_type": "display_data"
    },
    {
     "data": {
      "text/plain": [
       "418.1138195954987"
      ]
     },
     "metadata": {
      "scrapbook": {
       "mime_prefix": "application/papermill.record/",
       "name": "Vg2"
      }
     },
     "output_type": "display_data"
    },
    {
     "data": {
      "text/plain": [
       "215.09633145052263"
      ]
     },
     "metadata": {
      "scrapbook": {
       "mime_prefix": "application/papermill.record/",
       "name": "Vms2"
      }
     },
     "output_type": "display_data"
    },
    {
     "data": {
      "text/plain": [
       "748.1950013499822"
      ]
     },
     "metadata": {
      "scrapbook": {
       "mime_prefix": "application/papermill.record/",
       "name": "time1_2"
      }
     },
     "output_type": "display_data"
    },
    {
     "data": {
      "text/plain": [
       "929.8159510730886"
      ]
     },
     "metadata": {
      "scrapbook": {
       "mime_prefix": "application/papermill.record/",
       "name": "time2_2"
      }
     },
     "output_type": "display_data"
    },
    {
     "data": {
      "text/plain": [
       "'12 minutes, 28 seconds'"
      ]
     },
     "metadata": {
      "scrapbook": {
       "mime_prefix": "application/papermill.record/",
       "name": "text_time1_2"
      }
     },
     "output_type": "display_data"
    },
    {
     "data": {
      "text/plain": [
       "'15 minutes, 29 seconds'"
      ]
     },
     "metadata": {
      "scrapbook": {
       "mime_prefix": "application/papermill.record/",
       "name": "text_time2_2"
      }
     },
     "output_type": "display_data"
    },
    {
     "data": {
      "text/plain": [
       "'6 seconds'"
      ]
     },
     "metadata": {
      "scrapbook": {
       "mime_prefix": "application/papermill.record/",
       "name": "dT1"
      }
     },
     "output_type": "display_data"
    },
    {
     "data": {
      "text/plain": [
       "'7 seconds'"
      ]
     },
     "metadata": {
      "scrapbook": {
       "mime_prefix": "application/papermill.record/",
       "name": "dT2"
      }
     },
     "output_type": "display_data"
    },
    {
     "data": {
      "text/plain": [
       "'faster'"
      ]
     },
     "metadata": {
      "scrapbook": {
       "mime_prefix": "application/papermill.record/",
       "name": "time_text"
      }
     },
     "output_type": "display_data"
    }
   ],
   "source": [
    "import math\n",
    "\n",
    "def hms(s):\n",
    "    s = abs(s)\n",
    "    hours = math.floor(s/3600)\n",
    "    minutes = math.floor((s - hours*3600)/60)\n",
    "    seconds = math.floor((s - hours*3600 - minutes*60))\n",
    "    \n",
    "    if hours > 0:\n",
    "        textstr = f\"{hours:1.0f} hours, {minutes:1.0f} minutes, {seconds:1.0f} seconds\"\n",
    "    elif minutes > 0:\n",
    "        textstr = f\"{minutes:1.0f} minutes, {seconds:1.0f} seconds\"\n",
    "    else:\n",
    "        textstr = f\"{seconds:1.0f} seconds\"\n",
    "    \n",
    "    \n",
    "    return textstr\n",
    "\n",
    "\n",
    "### Solution work\n",
    "press_correction = f_correction(VC=vc, h=alt)\n",
    "dens_correction = sigma_density(alt*0.3048)[0]\n",
    "\n",
    "\n",
    "\n",
    "Ve = press_correction * vc\n",
    "V = Ve * np.sqrt(1/dens_correction)\n",
    "\n",
    "\n",
    "glue(\"press_correction\", press_correction, display=False);\n",
    "glue(\"dens_correction\", dens_correction, display=False);\n",
    "glue(\"Ve\", (Ve), display=False);\n",
    "glue(\"V\", (V), display=False);\n",
    "\n",
    "Vtabs = abs(Vt)\n",
    "\n",
    "if wind == \"tailwind\":\n",
    "    Vg = V + Vtabs\n",
    "elif wind == \"headwind\":\n",
    "    Vg = V - Vtabs\n",
    "    \n",
    "# V to SI\n",
    "Vms = Vg * 0.514444444\n",
    "    \n",
    "# Miles to m\n",
    "dist = 100 * 1609.34\n",
    "\n",
    "time1 = dist / Vms\n",
    "\n",
    "# 200km \n",
    "time2 = 200 * 1e3 / Vms\n",
    "\n",
    "glue(\"Vg\", Vg, display=False);\n",
    "glue(\"Vms\", Vms, display=False);\n",
    "glue(\"dist1\", dist, display=False);\n",
    "glue(\"dist2\", 200 * 1e3, display=False);\n",
    "glue(\"time1\", time1, display=False);\n",
    "glue(\"time2\", time2, display=False);\n",
    "\n",
    "glue(\"text_time1\", hms(time1), display=False);\n",
    "glue(\"text_time2\", hms(time2), display=False);\n",
    "\n",
    "\n",
    "\n",
    "# Position error\n",
    "vc = vc + 2\n",
    "\n",
    "press_correction = f_correction(VC=vc, h=alt)\n",
    "dens_correction = sigma_density(alt*0.3048)[0]\n",
    "\n",
    "Ve = press_correction * vc\n",
    "V = Ve * np.sqrt(1/dens_correction)\n",
    "\n",
    "\n",
    "if wind == \"tailwind\":\n",
    "    Vg = V + Vt\n",
    "elif wind == \"headwind\":\n",
    "    Vg = V - Vt\n",
    "\n",
    "# V to SI\n",
    "Vms = Vg * 0.514444444    \n",
    "    \n",
    "glue(\"Vc2\", vc, display=False);\n",
    "glue(\"Ve2\", Ve, display=False);\n",
    "glue(\"V2\", V, display=False);\n",
    "glue(\"Vg2\", Vg, display=False);\n",
    "glue(\"Vms2\", Vms, display=False);\n",
    "    \n",
    "# Miles to m\n",
    "dist = 100 * 1609.34\n",
    "\n",
    "time1_2 = dist / Vms\n",
    "\n",
    "\n",
    "# 200km \n",
    "time2_2 = 200 * 1e3 / Vms\n",
    "\n",
    "glue(\"time1_2\", time1_2, display=False);\n",
    "glue(\"time2_2\", time2_2, display=False);\n",
    "\n",
    "glue(\"text_time1_2\", hms(time1_2), display=False);\n",
    "glue(\"text_time2_2\", hms(time2_2), display=False);\n",
    "\n",
    "# Time deltas\n",
    "dT1 = time1_2 - time1\n",
    "dT2 = time2_2 - time2\n",
    "if dT1 > 0:\n",
    "    time_text = 'slower'\n",
    "else:\n",
    "    time_text = 'faster'\n",
    "    \n",
    "glue(\"dT1\", hms(dT1), display=False);\n",
    "glue(\"dT2\", hms(dT2), display=False);\n",
    "\n",
    "glue(\"time_text\", time_text, display=False);\n",
    "\n",
    "    \n"
   ]
  },
  {
   "cell_type": "markdown",
   "metadata": {},
   "source": []
  },
  {
   "cell_type": "markdown",
   "metadata": {},
   "source": [
    "```{admonition} Click to show the solution... \n",
    ":class: dropdown \n",
    "\n",
    "The first step is to take Vc to Ve via the pressure correction.\n",
    "\n",
    "For the altitude of {glue:text}`altitude`ft, with a calibrated airspeed of {glue:text}`vc`kn, the pressure correction can be interpolated from table using the function created earlier with syntax press_correction = f_correction({glue:text}`altitude`, {glue:text}`vc`).\n",
    "\n",
    "This gives a value of {glue:text}`press_correction:1.3f` for the pressure correction, and this determination pf the equivalent airspeed from $V_e = V_c\\cdot f$ so, $V_e=${glue:text}`Ve:1.3f`kn.\n",
    "\n",
    "For EAS to TAS, the density ratio is required - $\\sigma=\\frac{\\rho}{\\rho_{sl}}$, and this is found to be $\\sigma=${glue:text}`dens_correction:1.3f`kn. Since this is an altitude _above_ sea level, this has to be a number smaller than one - if it's not, then you've done something wrong.\n",
    "\n",
    "True airspeed is obtained from the relationship $V=V_e\\cdot\\sigma^{-\\frac{1}{2}}$ which yields $V$={glue:text}`V:1.3f`kn.\n",
    "\n",
    "Note that at no point have the units had to be converted into SI to make the corrections - that's the smart part of the density and pressure corrections; they are both non-dimensional corrections. If you have velocity in knots, you use them and get velocity in knots out.\n",
    "\n",
    "Since the wind is a {glue:text}`wind`, this is {glue:text}`winddir` the value above to yield the groundspeed in knots as {glue:text}`Vg:1.3f`kn. This gives the speed of the aircraft relative to the ground, and hence the speed we require for distance/time calculations.\n",
    "\n",
    "With the velocity in knots it may be easily converted to m/s by multiplying by 0.5144444 which yields $V$={glue:text}`Vms:1.3f`m/s. \n",
    "\n",
    "100 miles is 160,934m, and hence this is covered in {glue:text}`time1:1.1f`s or {glue:text}`text_time1`\n",
    "\n",
    "200 km is 200,000, and hence this is covered in {glue:text}`time2:1.1f`s or {glue:text}`text_time2`\n",
    "\n",
    "----\n",
    "\n",
    "For the last part of the question, this is solved by recalling that $V_c = V_I + \\Delta V_p$ and hence the speeds calculated are now:\n",
    "\n",
    "$V_c$ = {glue:text}`Vc2:1.3f`kn\n",
    "\n",
    "$V_e$ = {glue:text}`Ve2:1.3f`kn\n",
    "\n",
    "$V$ = {glue:text}`V2:1.3f`kn\n",
    "\n",
    "$V_g$ = {glue:text}`Vg2:1.3f`kn = {glue:text}`Vms2:1.3f`m/s \n",
    "\n",
    "The times taken are found to be {glue:text}`text_time1_2` and  {glue:text}`text_time2_2`, for a respective  {glue:text}`dT1` and  {glue:text}`dT2` {glue:text}`time_text`.\n",
    "\n",
    "```"
   ]
  },
  {
   "cell_type": "markdown",
   "metadata": {},
   "source": [
    "### Problem 1.2 - Theory\n",
    "\n",
    "a) When converting between different airspeeds, how can you 'sense check' your numbers?\n",
    "\n",
    "```{admonition} Click to show the solution... \n",
    ":class: dropdown \n",
    "\n",
    "Look at the square-root symbol for ICE-T {ref}`IceT`. This shows the respective magnitude of the velocities you should expect to find.\n",
    "\n",
    "Once you have the true airspeed, you should also compare it to the type of aircraft listed (if one is). The speed of sound is about 340m/s at sea-level - so if you've been given a light commuter aircraft, and you've found a true airspeed of 500m/s then something is wrong. (You probably got the knots to metre/s conversion wrong - [see here](https://www.google.com/search?q=how+do+i+convert+knots+to+metres+per+second&rlz=1C5CHFA_enUS892US892&oq=how+do+i+convert+knots+to+metres+per+second&aqs=chrome..69i57j6.5772j1j7&sourceid=chrome&ie=UTF-8)\n",
    "\n",
    "```\n",
    "\n",
    "b) What is the significance of \"equivalent airspeed\", and why is it preferable to use when defining limiting speeds for aircraft\n",
    "\n",
    "```{admonition} Click to show the solution... \n",
    ":class: dropdown \n",
    "\n",
    "For a given angle of attack, the dimensional lift on a given aircraft will be the same for constant $V_e$ at *any* altitude. This is not the same for any of the other airspeeds.\n",
    "\n",
    "Hence - the *stall speed* (which we will calculate soon) is *constant* with altitude when defined in EAS, as is the \"never exceed\" speed (provided $V_{ne}$ has been defined due to aerodymamic structural limitations.\n",
    "\n",
    "```\n",
    "\n",
    "c) In what cases could you find that your true airspeed is *less* than your calibrated airspeed? \n",
    "\n",
    "```{admonition} Click to show the solution... \n",
    ":class: dropdown \n",
    "\n",
    "Flight below sea-level, or if you've made a mistake.\n",
    "\n",
    "```\n",
    "\n",
    "d) For what conditions is EAS equivalent to TAS?\n",
    "\n",
    "\n",
    "```{admonition} Click to show the solution... \n",
    ":class: dropdown \n",
    "\n",
    "Flight at sea-level.\n",
    "\n",
    "```\n"
   ]
  },
  {
   "cell_type": "code",
   "execution_count": null,
   "metadata": {},
   "outputs": [],
   "source": []
  }
 ],
 "metadata": {
  "celltoolbar": "Tags",
  "kernelspec": {
   "display_name": "Python 3",
   "language": "python",
   "name": "python3"
  },
  "language_info": {
   "codemirror_mode": {
    "name": "ipython",
    "version": 3
   },
   "file_extension": ".py",
   "mimetype": "text/x-python",
   "name": "python",
   "nbconvert_exporter": "python",
   "pygments_lexer": "ipython3",
   "version": "3.8.3"
  }
 },
 "nbformat": 4,
 "nbformat_minor": 4
}