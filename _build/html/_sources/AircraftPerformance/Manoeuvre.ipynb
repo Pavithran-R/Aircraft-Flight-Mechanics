{
 "cells": [
  {
   "cell_type": "markdown",
   "metadata": {},
   "source": [
    "*(Note: the US spelling is maneuver, but it took me years of muscle memory training to spell manoeuvre correctly, and I won't be losing it easily.)*\n",
    "\n",
    "# Manoeuvres\n",
    "\n",
    "Manoeuvre will be broken down into horizontal and vertical manoeuvres, comprising curvilinear motion. Such manoeuvres are the result of a force *perpendicular* to the flight path, giving a normal acceleration.\n",
    "\n",
    "Vertical Manoeuvres:\n",
    "- Loop, pull-up, push-over, outside loop\n",
    "\n",
    "Horizontal Manoeuvres:\n",
    "- Banked Turn\n",
    "\n",
    "All of the manoevures discussed are the result of a **variation in lift**, which can be *large*. Consider that the dynamic pressure rises with the square of the forward speed, so a five-fold speed increase results in twenty-five times the aerodynamic forces.\n",
    "\n",
    "## Load Factor\n",
    "\n",
    "The load that can be safely taken through an aircraft dictates the load limits on an aircraft - for this the **load factor** is introduced as a non-dimensional measure of the load variation.\n",
    "\n",
    "```{math}\n",
    ":label: LoadFactor\n",
    "n\\triangleeq\\frac{L}{W}\n",
    "````\n",
    "\n",
    "\n",
    "\n",
    "```{admonition} So - *what is the load factor for steady level flight?*\n",
    "An example of an admonition with a title.\n",
    "```\n",
    "\n"
   ]
  },
  {
   "cell_type": "code",
   "execution_count": null,
   "metadata": {},
   "outputs": [],
   "source": []
  }
 ],
 "metadata": {
  "kernelspec": {
   "display_name": "Python 3",
   "language": "python",
   "name": "python3"
  },
  "language_info": {
   "codemirror_mode": {
    "name": "ipython",
    "version": 3
   },
   "file_extension": ".py",
   "mimetype": "text/x-python",
   "name": "python",
   "nbconvert_exporter": "python",
   "pygments_lexer": "ipython3",
   "version": "3.8.3"
  }
 },
 "nbformat": 4,
 "nbformat_minor": 4
}
