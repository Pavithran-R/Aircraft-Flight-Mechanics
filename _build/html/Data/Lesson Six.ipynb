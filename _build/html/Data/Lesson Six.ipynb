{
 "cells": [
  {
   "cell_type": "markdown",
   "metadata": {},
   "source": [
    "# NACA 4 Digit Series\n",
    "\n",
    "A NACA 4 digit series has four numbers that describe it\n",
    "\n",
    "$$naca4 = m\\,p\\,tt$$\n",
    "\n",
    "where\n",
    "\n",
    "$m$ is the maximum camber (in percent)\n",
    "$p$ is the location of maximum camber (in tenths of chord)\n",
    "$tt$ is the thickness/chord ratio (in percent)\n",
    "\n",
    "the camber line is given by the equation\n",
    "\n",
    "$$y_c =\\left\\{\\begin{split} m\\frac{x}{p^2}\\left(2\\,p-\\frac{x}{c}\\right),\\,\\,\\,\\,\\,\\,0\\leq x\\leq p\\,c \\\\ m\\frac{c-x}{\\left(1-p\\right)^2}\\left(1 + \\frac{x}{c}-2\\,p\\right),\\,\\,\\,\\,\\,\\,p\\,c\\leq x\\leq c\\end{split} \\right.$$\n",
    "\n",
    "the angle of the camber line is given by $\\theta$,\n",
    "\n",
    "$$\\theta=\\arctan\\frac{\\text{d}y_c}{\\text{d}x}$$\n",
    "$$\\frac{\\text{d}y_c}{\\text{d}x}=\\left\\{\\begin{split} \\frac{2\\,m}{p^2}\\left(2\\,p-\\frac{x}{c}\\right),\\,\\,\\,\\,\\,\\,0\\leq x\\leq p\\,c \\\\\\frac{2\\,m}{\\left(1-p\\right)^2}\\left(p-\\frac{x}{c}\\right),\\,\\,\\,\\,\\,\\,p\\,c\\leq x\\leq c\\end{split} \\right.$$\n",
    "\n",
    "and the thickness is given by\n",
    "\n",
    "$$y_t = 5\\,t\\,c\\left[0.2969\\left(\\frac{x}{c}\\right)^\\frac{1}{2}-0.1260\\left(\\frac{x}{c}\\right)+0.3516\\left(\\frac{x}{c}\\right)^2+0.2843\\left(\\frac{x}{c}\\right)^3-0.1015\\left(\\frac{x}{c}\\right)^4\\right]$$\n",
    "\n",
    "and the upper and lower surfaces are given by\n",
    "\n",
    "$$x_u = x - y_t\\sin\\theta$$\n",
    "$$x_l = x + y_t\\sin\\theta$$\n",
    "\n",
    "$$y_u = y_c + y_t\\cos\\theta$$\n",
    "$$y_l = y_c - y_t\\cos\\theta$$"
   ]
  },
  {
   "cell_type": "code",
   "execution_count": null,
   "metadata": {},
   "outputs": [],
   "source": []
  }
 ],
 "metadata": {
  "kernelspec": {
   "display_name": "Python 3",
   "language": "python",
   "name": "python3"
  },
  "language_info": {
   "codemirror_mode": {
    "name": "ipython",
    "version": 3
   },
   "file_extension": ".py",
   "mimetype": "text/x-python",
   "name": "python",
   "nbconvert_exporter": "python",
   "pygments_lexer": "ipython3",
   "version": "3.8.5"
  }
 },
 "nbformat": 4,
 "nbformat_minor": 4
}
